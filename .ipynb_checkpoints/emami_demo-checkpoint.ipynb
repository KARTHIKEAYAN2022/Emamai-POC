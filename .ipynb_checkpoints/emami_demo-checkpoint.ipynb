{
 "cells": [
  {
   "cell_type": "code",
   "execution_count": 2,
   "id": "73fc3560-a6eb-4ad1-a80c-473089408cc3",
   "metadata": {},
   "outputs": [],
   "source": [
    "# pip install autoviz"
   ]
  },
  {
   "cell_type": "code",
   "execution_count": 83,
   "id": "b35e8214-8a80-4946-a54d-b4f2a48dcef5",
   "metadata": {},
   "outputs": [],
   "source": [
    "from hana_ml.dataframe import ConnectionContext, DataFrame, create_dataframe_from_pandas\n",
    "from hana_ml.algorithms.apl.clustering import AutoUnsupervisedClustering\n",
    "from hana_ml.visualizers.dataset_report import DatasetReportBuilder\n",
    "import pandas as pd\n",
    "# from pandas_profiling import ProfileReport\n",
    "import sweetviz as sv\n",
    "import os"
   ]
  },
  {
   "cell_type": "code",
   "execution_count": 84,
   "id": "9bd44bcd-d241-459f-96d9-0b99d158959f",
   "metadata": {},
   "outputs": [],
   "source": [
    "url = os.environ['URL']\n",
    "user_name = os.environ['user_name']\n",
    "# pwd = os.environ['pwd']\n",
    "\n",
    "pwd = '9Ta`RN<|!sg60oN_%yWM5`K7zkLY8xg0'"
   ]
  },
  {
   "cell_type": "code",
   "execution_count": 85,
   "id": "c8b76b37-0b2d-452b-b8f0-b1a4c40d85ca",
   "metadata": {},
   "outputs": [
    {
     "data": {
      "text/plain": [
       "('f42ab6f3-9791-4348-b397-ab8561b78c8a.hana.prod-ap10.hanacloud.ondemand.com',\n",
       " 'EMAMI_DS_POC#DBUSER')"
      ]
     },
     "execution_count": 85,
     "metadata": {},
     "output_type": "execute_result"
    }
   ],
   "source": [
    "url, user_name"
   ]
  },
  {
   "cell_type": "code",
   "execution_count": 86,
   "id": "29b16713-8eb3-4c13-9d01-fb23a4a09182",
   "metadata": {},
   "outputs": [],
   "source": [
    "CONN = ConnectionContext(url, 443,\n",
    "                         user_name, pwd)"
   ]
  },
  {
   "cell_type": "code",
   "execution_count": 87,
   "id": "6b78954f-15ca-469a-9fb5-b1fa682230f5",
   "metadata": {},
   "outputs": [
    {
     "data": {
      "text/plain": [
       "Index(['Retailer Channel', '0MATERIAL', '0MATERIAL__0DIVISION',\n",
       "       '0MATERIAL__ZSALEBRND', '0MATERIAL__ZSKUGROUP', '4ZBIL_M02-ZBRNDCODE',\n",
       "       '4ZBIL_M02-ZSKUGRCRS', 'Product Batch', '4ZBIL_M02-0PLANT',\n",
       "       '4ZBIL_M02-ZDIST_CTY', 'DISTRIBUTOR AREA CODE', 'Distributor Code',\n",
       "       'DISTRIBUTOR HEAD QUA', 'DISTRIBUTOR REGION C', 'customer uid',\n",
       "       'CP Group1', 'Retailer Name', 'Retailer Class', 'RETAILER CATEGORY 1',\n",
       "       'RETAILER CATEGORY 2', 'Retailer Subchannel', 'Bill Number',\n",
       "       'Goods Type', 'Secondary Doc Type', 'BEAT UID', 'Sales Document No',\n",
       "       'FIP DocNo', 'SALESMAN UID', 'Indicator: Data to Be Canceled',\n",
       "       'Invoice Status', 'Calendar day', 'Calendar month', 'Calendar year',\n",
       "       'Fiscal year / period', 'Currency key', 'Customer group',\n",
       "       'Unit of measure', 'ZKF_PRATE', 'ZADT_AMT', 'adt_perc', 'ZCESS_PER',\n",
       "       'cess_tax', 'Debit Note', 'ZDISC_AMT', 'ZKNTRT', 'ZPRAMT', 'ZPRD_GANT',\n",
       "       'ZPRD_MRP', 'ZPRD_RATE', 'ZPRICE_CR', 'ZPRIM_TRD', 'ZRT_MAR',\n",
       "       'ZSEC_QTY', 'ZSEC_SAL', 'ZSPEC_AMT', 'ZSSALTGTQ', 'ZTAX_AMNT',\n",
       "       'ZTOT_DAMT', 'ZTPRAMT', 'ZUBD_ROF', 'ZVAT_PERC', '0INFOPROV', 'Flag',\n",
       "       '/BIC/ZDIS_STT', '/BIC/ZDMCPGRP2', 'FISCVARNT', '/BIC/ZDMCPGUID',\n",
       "       'GJAHR', 'ZDIS_DCHH'],\n",
       "      dtype='object')"
      ]
     },
     "execution_count": 87,
     "metadata": {},
     "output_type": "execute_result"
    }
   ],
   "source": [
    "hana_df = DataFrame(CONN, 'select distinct * from EMAMI_DS_POC.ZBLI_M02 limit 5')\n",
    "hana_df.collect().columns"
   ]
  },
  {
   "cell_type": "code",
   "execution_count": 88,
   "id": "b06f0ee4-bfad-41b3-bc87-6d888fd5ac66",
   "metadata": {},
   "outputs": [
    {
     "data": {
      "text/html": [
       "<div>\n",
       "<style scoped>\n",
       "    .dataframe tbody tr th:only-of-type {\n",
       "        vertical-align: middle;\n",
       "    }\n",
       "\n",
       "    .dataframe tbody tr th {\n",
       "        vertical-align: top;\n",
       "    }\n",
       "\n",
       "    .dataframe thead th {\n",
       "        text-align: right;\n",
       "    }\n",
       "</style>\n",
       "<table border=\"1\" class=\"dataframe\">\n",
       "  <thead>\n",
       "    <tr style=\"text-align: right;\">\n",
       "      <th></th>\n",
       "      <th>Retailer Name</th>\n",
       "    </tr>\n",
       "  </thead>\n",
       "  <tbody>\n",
       "    <tr>\n",
       "      <th>0</th>\n",
       "      <td></td>\n",
       "    </tr>\n",
       "    <tr>\n",
       "      <th>1</th>\n",
       "      <td>A P KM</td>\n",
       "    </tr>\n",
       "    <tr>\n",
       "      <th>2</th>\n",
       "      <td>AADINATH COSMETICS</td>\n",
       "    </tr>\n",
       "    <tr>\n",
       "      <th>3</th>\n",
       "      <td>AADITYA KIRANA</td>\n",
       "    </tr>\n",
       "    <tr>\n",
       "      <th>4</th>\n",
       "      <td>AAINATH PROVISION</td>\n",
       "    </tr>\n",
       "  </tbody>\n",
       "</table>\n",
       "</div>"
      ],
      "text/plain": [
       "        Retailer Name\n",
       "0                    \n",
       "1              A P KM\n",
       "2  AADINATH COSMETICS\n",
       "3      AADITYA KIRANA\n",
       "4   AAINATH PROVISION"
      ]
     },
     "execution_count": 88,
     "metadata": {},
     "output_type": "execute_result"
    }
   ],
   "source": [
    "hana_df = DataFrame(CONN, 'select distinct \"Retailer Name\" from EMAMI_DS_POC.ZBLI_M02')\n",
    "hana_df.collect().head()"
   ]
  },
  {
   "cell_type": "code",
   "execution_count": 89,
   "id": "91986da3-8e74-412b-a34a-8ae39fa34552",
   "metadata": {},
   "outputs": [
    {
     "data": {
      "text/html": [
       "<div>\n",
       "<style scoped>\n",
       "    .dataframe tbody tr th:only-of-type {\n",
       "        vertical-align: middle;\n",
       "    }\n",
       "\n",
       "    .dataframe tbody tr th {\n",
       "        vertical-align: top;\n",
       "    }\n",
       "\n",
       "    .dataframe thead th {\n",
       "        text-align: right;\n",
       "    }\n",
       "</style>\n",
       "<table border=\"1\" class=\"dataframe\">\n",
       "  <thead>\n",
       "    <tr style=\"text-align: right;\">\n",
       "      <th></th>\n",
       "      <th>Retailer Name</th>\n",
       "    </tr>\n",
       "  </thead>\n",
       "  <tbody>\n",
       "    <tr>\n",
       "      <th>0</th>\n",
       "      <td></td>\n",
       "    </tr>\n",
       "    <tr>\n",
       "      <th>1</th>\n",
       "      <td>A P KM</td>\n",
       "    </tr>\n",
       "    <tr>\n",
       "      <th>2</th>\n",
       "      <td>AADINATH COSMETICS</td>\n",
       "    </tr>\n",
       "    <tr>\n",
       "      <th>3</th>\n",
       "      <td>AADITYA KIRANA</td>\n",
       "    </tr>\n",
       "    <tr>\n",
       "      <th>4</th>\n",
       "      <td>AAINATH PROVISION</td>\n",
       "    </tr>\n",
       "    <tr>\n",
       "      <th>...</th>\n",
       "      <td>...</td>\n",
       "    </tr>\n",
       "    <tr>\n",
       "      <th>1561</th>\n",
       "      <td>Y~SAMPATH KIRANAM</td>\n",
       "    </tr>\n",
       "    <tr>\n",
       "      <th>1562</th>\n",
       "      <td>ZAHOOR PROV STORE</td>\n",
       "    </tr>\n",
       "    <tr>\n",
       "      <th>1563</th>\n",
       "      <td>ZAKIR KIRANAM</td>\n",
       "    </tr>\n",
       "    <tr>\n",
       "      <th>1564</th>\n",
       "      <td>ZIYA KIRANAM</td>\n",
       "    </tr>\n",
       "    <tr>\n",
       "      <th>1565</th>\n",
       "      <td>None</td>\n",
       "    </tr>\n",
       "  </tbody>\n",
       "</table>\n",
       "<p>1566 rows × 1 columns</p>\n",
       "</div>"
      ],
      "text/plain": [
       "           Retailer Name\n",
       "0                       \n",
       "1                 A P KM\n",
       "2     AADINATH COSMETICS\n",
       "3         AADITYA KIRANA\n",
       "4      AAINATH PROVISION\n",
       "...                  ...\n",
       "1561   Y~SAMPATH KIRANAM\n",
       "1562   ZAHOOR PROV STORE\n",
       "1563       ZAKIR KIRANAM\n",
       "1564        ZIYA KIRANAM\n",
       "1565                None\n",
       "\n",
       "[1566 rows x 1 columns]"
      ]
     },
     "execution_count": 89,
     "metadata": {},
     "output_type": "execute_result"
    }
   ],
   "source": [
    "retailer_df = hana_df.collect()\n",
    "retailer_df"
   ]
  },
  {
   "cell_type": "code",
   "execution_count": 91,
   "id": "a6c9b960-95d7-480c-8af9-804af7cc9c88",
   "metadata": {
    "scrolled": true
   },
   "outputs": [
    {
     "name": "stdout",
     "output_type": "stream",
     "text": [
      "A P KM\n",
      "AADINATH COSMETICS\n",
      "AADITYA KIRANA\n",
      "AAINATH PROVISION\n",
      "AAKASH ENTERPRISES\n",
      "AB TRADERS\n",
      "ABBAS BROTHERS\n",
      "ABDUL MAJEED SHAH\n",
      "ABHISEK MEDICAL HALL\n",
      "ABILASH MEDICAL HALL\n",
      "ABRAR PHARMACY\n",
      "AB~ AHAD SONS\n",
      "ACHUTA MEDICAL~\n",
      "ACME STATIONERY GI\n",
      "ADI BANERJEE BHANDAR\n",
      "ADITHYA MEDICAL\n",
      "ADITI ENTERPRISES\n",
      "AGARWAL FARMA\n",
      "AGRA KIRANAM\n",
      "AHANGAR ENTERPRISES\n",
      "AISHA HEALTH CARE\n",
      "AITHA SUBBAIAH GENER\n",
      "AJAZ PROV STORE\n",
      "AKIF ZEHGEER\n",
      "AKMALIA TRADERS\n",
      "AKRAM KIRANAM\n",
      "AL BARAHAQ\n",
      "ALAFA KM\n",
      "ALANKAR\n",
      "ALBA RETAIL\n",
      "ALI STORES\n",
      "ALMASS DEPT~STORE\n",
      "ALOK DAS\n",
      "ALOM MEDICAL\n",
      "ALTAF PROV STORE\n",
      "ALTAF TRADERS\n",
      "AL~AMIN UNANI AYURVE\n",
      "AL~HAMZA DEPT~STORE\n",
      "AL~SHABIR MEDICATE\n",
      "AMAN DRUG HOUSE\n",
      "AMAR KIRANA\n",
      "AMAR M P S M GENERA\n",
      "AMBE ENTERPRISES\n",
      "AMBICA DISTRIBUTORS\n",
      "AMBICA FANCY\n",
      "AMBICA KIRANA GENERA\n",
      "AMBICA TRADERS\n",
      "AMBIKA KIRANAM\n",
      "AMBIKA PROVISION\n",
      "AMIN CO\n",
      "AMIT PAN STALL\n",
      "AMOL TRADERS\n",
      "AMRITA CONFECTIONERY\n",
      "AMRUTHA FANCY\n",
      "AMULYA KIRANAM\n",
      "ANAMIKA\n",
      "ANAND GENERAL STORE\n",
      "ANAND MEDICAL\n",
      "ANANDA MEDICAL HALL\n",
      "ANANDAMOYEE ENTERPRISE\n",
      "ANANTHA SAI MEDICALS\n",
      "ANCHAL COSMETICS\n",
      "ANDRABI PROVISION ST\n",
      "ANIL MEDICAL\n",
      "ANIMA STORE\n",
      "ANJALI MEDICAL\n",
      "ANKULE PROVISION\n",
      "ANNA VENKATESWAR KIR\n",
      "ANNAPURNA BHANDER\n",
      "ANNAPURNA KIRAN STOR\n",
      "ANNAPURNA MEDICAL STORE\n",
      "ANNAPURNA MEDICALS\n",
      "ANNAPURNA MEDICINE STORE\n",
      "ANNAPURNA STORES~\n",
      "ANOL KIRANA\n",
      "ANSAB MEDICATE\n",
      "ANU MEDICALSTORE\n",
      "ANUSUYA PHARMACEUTICALS\n",
      "APARUPA\n",
      "APOLLO CLINIC\n",
      "APOLO MEDICAL\n",
      "APPASWAMI MEDICAL\n",
      "APPELO DRUGS\n",
      "ARACHANA LADIES EMPO\n",
      "ARAGAYA AYURVEDIC\n",
      "ARATI DISTRIBUTOR\n",
      "ARATI MEDICAL\n",
      "ARATI MEDICAL STORE\n",
      "ARATI STORE\n",
      "ARATI STORES\n",
      "ARIHANT DISTRIBUTORS\n",
      "ARNAPURNA MEDICINE STORE\n",
      "ARNAPURNA MEDICOS\n",
      "ARNAV MEDICO\n",
      "AROGYA\n",
      "AROGYA MEDICAL STORE\n",
      "ARPAN\n",
      "ARPAN SUPPLIERS\n",
      "ARPITA\n",
      "ARSHI NEVER ENDS\n",
      "ARUN KIRANAM\n",
      "ARUNAPROL STORES\n",
      "ARVIND MEDICAL STORE\n",
      "ASBA ASSOCIATES\n",
      "ASHA MEDICOS\n",
      "ASHES V~ STORES~\n",
      "ASHFAR MEDICAL HALL\n",
      "ASHIMA VARITIES STOR\n",
      "ASHIRBAD MEDICINE STORE\n",
      "ASHIRVAD MEDICAL HALL\n",
      "ASHIRWAD PROVISION\n",
      "ASHISH ENTERPRISERS\n",
      "ASHOK KIRANA\n",
      "ASHOK KIRANA GENER\n",
      "ASHOK KIRANAM\n",
      "ASHOK LOHANI\n",
      "ASIF IQBAL PROV STOR\n",
      "ASIM DAS\n",
      "ASLAM KIRANAM\n",
      "ASSAM MEDICAL\n",
      "ASSAM PHARMACEUTICALS\n",
      "AVINASH KIRANA\n",
      "AYAZ FANCY STORE\n",
      "AYEMI MEDICAL\n",
      "AYODYA PROVISION\n",
      "AYURBED BHANDER\n",
      "AYURVEDA MEDICINE CENTRE\n",
      "AZZEEZIA MEDICALS\n",
      "A~ R~ ETERPRISES\n",
      "A~BHASKAR KIRNA STOR\n",
      "A~JAGADISHWAR KIRANA\n",
      "A~K~ MEDICAL\n",
      "A~RAJAIAH KIRANA STO\n",
      "B M HOSIERY\n",
      "BABA NATIONAL DRUG S\n",
      "BABLU DUTTA\n",
      "BABUL DAS\n",
      "BADRI MEDICAL HALL\n",
      "BAGHDAD BEAUTIES\n",
      "BAJAJ MEDICAL STORE\n",
      "BAJARANGI MEDICARE\n",
      "BAJARANGI PHARMACEUTICAL AGENCY\n",
      "BAJEPROTAPPUR MEDICAL (UNIT=2)\n",
      "BALAJI COSMETIC\n",
      "BALAJI FANCY STORES\n",
      "BALAJI GENERAL STORE\n",
      "BALAJI KIRANA GEN\n",
      "BALAJI KIRANA STORES\n",
      "BALAJI KIRANAM\n",
      "BALAJI MEDICAL\n",
      "BALAJI MH\n",
      "BALAJI PROVISION STO\n",
      "BALALJI KIRANA\n",
      "BALUNKESWAR MEDICAL STORE\n",
      "BANERJEE STORE (GOUTAM BNAERJEE)\n",
      "BANERJEE SUPERMARKET PRIVATE LIMITED\n",
      "BANERJEE VARITIES\n",
      "BANGO JANNI\n",
      "BANU GENERAL STORE\n",
      "BAPI SHAW\n",
      "BARDHAMAN THANA CO~O\n",
      "BARE KIRANA\n",
      "BARI BROTHERS\n",
      "BARMAN DRUGS\n",
      "BARSHA COSMETICS\n",
      "BARSHA MEDICAL STORE\n",
      "BASANTA SHAW\n",
      "BASANTI MATA MEDICAL\n",
      "BASANTI MEDICINE STORE\n",
      "BASHIR AHMED BALLA\n",
      "BASHIR PROV STORE\n",
      "BEAUTY 2\n",
      "BEAUTY BUZZ\n",
      "BEAUTY COLLECTION\n",
      "BEAUTY STORE\n",
      "BEIGH GEN STORE\n",
      "BEIGH MEDICATE\n",
      "BEIGH PROV STORE\n",
      "BELA STORES\n",
      "BENERJEES\n",
      "BENGAL MEDICAL HALL\n",
      "BENGAL STATIONERS~\n",
      "BEST CHOICE\n",
      "BHAGABATI BHANDER\n",
      "BHAGHYA LADIES EMPOR\n",
      "BHAGYA LAXMI GENERAL\n",
      "BHAGYA LAXMI KM\n",
      "BHAGYA SRI GENERAL S\n",
      "BHAGYALAXMI KIRANA G\n",
      "BHAI BHAI IMITATION\n",
      "BHANDARI KIRANA\n",
      "BHARABI MEDICLA STORE\n",
      "BHARATH TRADERS\n",
      "BHARATHI LADIES EMPO\n",
      "BHARGAVA MEDICAL HAL\n",
      "BHAT GEN STORE\n",
      "BHAT PROV~ STORE I\n",
      "BHAT TRADITIONAL\n",
      "BHAVANI ENTERPRISES\n",
      "BHAVANI KIRANAM\n",
      "BHAVANI SHANKAR KIRN\n",
      "BHOKARE GOLI BHANDAR\n",
      "BHOLANATH STORE\n",
      "BHURAJI MEDICAL\n",
      "BHUSAN BARMAN\n",
      "BHUVANESHWARI MATHA\n",
      "BIJAY KUMAR SAH\n",
      "BILAL AHMAD AHANGER\n",
      "BILAL AHMAD MIR\n",
      "BILAL AHMED BEIGH\n",
      "BILAL COSMATICS\n",
      "BILAL GEN STORE\n",
      "BIMAL MEDICAL\n",
      "BIN TARIQ BUSINESS\n",
      "BINAPANI MEDICAL HAL\n",
      "BINOD BHAKAT\n",
      "BISHNUPRIYA MEDICINE STORE\n",
      "BISMILLAH PROV STORE\n",
      "BISWADEV AGENCIES\n",
      "BIVASH MEDICAL\n",
      "BOMBAY FANCY STORE\n",
      "BOOMERANG DEPT~STORE\n",
      "BOROMA VARIETY STORE\n",
      "BRAMARAMBIKA MEDICAL\n",
      "BROADWAY PHARMACY AND CLINIC\n",
      "BUDDHA STORES\n",
      "BUDDHODEB STORES\n",
      "BUKKA RAMULU KIRANAM\n",
      "BURDWAN SURGICAL HOUSE\n",
      "BURHAN BEAUTY\n",
      "BURMAN STORES\n",
      "B~ SREENIVASULU GENE\n",
      "B~N~BHAKAT\n",
      "B~PARAMESHWARA KIRNA\n",
      "B~PRASHANTH KIRANA S\n",
      "B~RAMESH\n",
      "B~R~PHARMA\n",
      "B~SHANKEER KIRNA STO\n",
      "CAMELIA\n",
      "CAPITAL PHARMA\n",
      "CARE PLUS PHARMA\n",
      "CENTRAL PHARMACY\n",
      "CH RAMBABU FANCY G\n",
      "CH SRINIVASA KIRANA\n",
      "CHAKA RAMA LINGAIAH\n",
      "CHAKADOLA MED~ STORE\n",
      "CHALOO PROV STORE\n",
      "CHAMANA KIRANAM\n",
      "CHAND PAN STALL\n",
      "CHANDA MEDICAL HALL\n",
      "CHANDA PHAMACY\n",
      "CHANDINI FANCY STORE\n",
      "CHANDNI\n",
      "CHANDOLU MALLIKARJUN\n",
      "CHANDRA MOULI KIRANA\n",
      "CHANDRASEKHAR GENERA\n",
      "CHANDU KIRANAM\n",
      "CHANDU MEDICAL STORE\n",
      "CHATTERJEE MEDICAL H\n",
      "CHAYAN BHANDER\n",
      "CHEDI SHOW\n",
      "CHINAR PROV STORE\n",
      "CHINTAMANI MEDICAL STORE\n",
      "CHITTARANJAN BANERJE\n",
      "CHOPAN GEN STORE\n",
      "CHOUDHRY GENERAL STO\n",
      "CHOUDHRY MEDICAL STORE\n",
      "CHOUDHURY GROUP\n",
      "CHOWDHURI ENTREPRISE\n",
      "CHUMKI PHARMACY\n",
      "CH~BAKKAIAH KIRANA S\n",
      "CH~NAGABHUSHANAM KIR\n",
      "CH~NAGARAJU KIRNA GE\n",
      "CH~VENKASHAM KIRANA\n",
      "CITY PHARMA\n",
      "CITY TOP\n",
      "COLLEGE BEAUTY\n",
      "COOL POINT\n",
      "CRESCENT MEDICAL SHO\n",
      "CURE ALL MEDICAL\n",
      "CURE WELL MEDICATE\n",
      "CURE~N~CARE\n",
      "CUTE KEMP\n",
      "D SRINIVASULU FANCY\n",
      "D V MOHANA RAO KIRAN\n",
      "DANISH MEDICATE\n",
      "DAR PROV~ STORE\n",
      "DARA SHOPING MALL\n",
      "DARZI PROV STORE\n",
      "DAS ENTERPRISE\n",
      "DAS MEDICAL STORES\n",
      "DASH PHARMACEUTICAL AGENCIES\n",
      "DASTGEER PROV STORE\n",
      "DATTA FANCY GENERA\n",
      "DAVI GENERAL STORES\n",
      "DAWOOD MEDICAL STORE\n",
      "DAYAMYE STORES\n",
      "DEB STORES\n",
      "DEBAMATA MEDICAL & GEN STORE\n",
      "DEBASIS DEY\n",
      "DEBASIS DUTTA\n",
      "DEBLINA\n",
      "DEBNATH MEDICAL\n",
      "DEEPA FANCY STORE\n",
      "DEEPAK MEDICAL\n",
      "DEEPAK MEDICAL HALL\n",
      "DELIGHT GENERAL STOR\n",
      "DELIGHTFUL (SAFA KAD\n",
      "DESI DAWAKHANA\n",
      "DEV MEDICAL STORE\n",
      "DEVI DRUGS\n",
      "DEWAN MEDICAL HALL\n",
      "DEY'S DRUG DISTRIBUTOR\n",
      "DEY'S MEDICAL STORES\n",
      "DEYS VARITIES\n",
      "DHANA LAXMI KIRANAM\n",
      "DHANA LAXMI MEDICAL\n",
      "DHANALAKSHMI PROVISI\n",
      "DHANALASHMI GENERAL\n",
      "DHANANJENEYA KIRANAM\n",
      "DHANUSHYA KIRANA GE\n",
      "DHANVATHARI AURVEDIC\n",
      "DHARA SUPER MART\n",
      "DIL BAHAR PAN STALL\n",
      "DILEEP KIRANAM\n",
      "DILIP SHAW\n",
      "DIPALI\n",
      "DIVYA MEDICAL\n",
      "DIVYA MEDICAL HALL\n",
      "DIWANJEE MEDICAL\n",
      "DOGIPARTHI SURYANARA\n",
      "DOLI STORES\n",
      "DOLPHIN\n",
      "DULAL PAKRASI\n",
      "DURGA BHAKAT\n",
      "DURGA FANCY\n",
      "DURGA GENERAL STORE\n",
      "DURGA KIRANA\n",
      "DURGA KIRANA STORE\n",
      "DURGAMATA STORES~\n",
      "DUTTA BHANDER\n",
      "DUTTA BROTHERS\n",
      "DUTTA MEDICAL\n",
      "DUTTA MEDICINE\n",
      "DUTTA VARIETY\n",
      "DUTTA VARITIES\n",
      "DWARAKANATH GENERAL\n",
      "DY'S MEDICAL\n",
      "D~LYTE PHARMACY\n",
      "D~NARAAIANA KIRNA ST\n",
      "ECONOMIC TRADERS\n",
      "ELAHI BHANDER\n",
      "ESHWAR COMPANY\n",
      "ESWARI MEDICALS\n",
      "FAROOQ ENTERPRISES\n",
      "FAROOQ MEDICATE\n",
      "FAROOQ PROV STORE\n",
      "FASHION BEAUTIES\n",
      "FASHION JEWALLARY\n",
      "FASHION JEWELLERY\n",
      "FASHION PLAZA\n",
      "FASHION SECRET\n",
      "FASHION TOUCH\n",
      "FAYAZ ATTACHI HOUSE\n",
      "FAZILI MEDICATE\n",
      "FIROZ KIRANA\n",
      "FIZA GEN STORE\n",
      "FUTURE WIZ ADVERTISING PVT LTD\n",
      "G S MART\n",
      "G SHANKHAR KIRANAM\n",
      "G VENKATESWARLU KIRA\n",
      "GAGROO PROV STORE\n",
      "GAJANAN MEDICAL\n",
      "GAJANAND PROVISION\n",
      "GANAPATHI KIRNA GENE\n",
      "GANESH BHANDER~\n",
      "GANESH MEDICAL HALL\n",
      "GANESH TRADES\n",
      "GANGADHAR KIRANAM\n",
      "GANGAPRASAD KIRANA\n",
      "GAURI GENRAL\n",
      "GAURI MEDICAL HALL\n",
      "GAWANDE KIRANA\n",
      "GAYATHRI LADIES EMPO\n",
      "GAYATHRI MEDICAL\n",
      "GAYATRI KIRANA GENER\n",
      "GAYATRI MEDICAL HALL\n",
      "GAYATRI MED~ STORE\n",
      "GEETHA CUT MIT GENER\n",
      "GELLI RAVI GENERAL\n",
      "GH AHMAD ZEHGEER\n",
      "GHULAM NABI SHAH\n",
      "GIFT HOUSE\n",
      "GIRIJA KIRANA GENERA\n",
      "GIRISH PROVISION\n",
      "GIRISH TRADERS\n",
      "GODAWARI MEDICAL\n",
      "GODWIN FANCY\n",
      "GOEL TARADERS\n",
      "GOKUL GENERALS\n",
      "GOOD HEALTH MEDICAL\n",
      "GOODHELTH MEDICAL\n",
      "GOODLUCK AGENCIES\n",
      "GOPAL BROTHERS\n",
      "GOPAL KRISHNA GENARA\n",
      "GOPAL MARKETING\n",
      "GOPAL STORES\n",
      "GOPALA KRISHNA FANCY\n",
      "GOPI BOOK STALL\n",
      "GOPI GENERAL STORE\n",
      "GOPIKRISHNA GENERAL\n",
      "GOPINATH MEDICAL\n",
      "GOUR GOPAL BHANDER\n",
      "GOURANGA STORE\n",
      "GOURI AGENCY\n",
      "GOURI KM\n",
      "GOURI SHANKAR KIRANA\n",
      "GOURIPRASAD MEDICAL STORE\n",
      "GOURIPRIYA GENERAL\n",
      "GOUSIA KHANYAR\n",
      "GOVINDRAJ TRADERS\n",
      "GOWRI SHANKAR FANCY\n",
      "GRACE MEDICO\n",
      "GRAND DEPT STORE\n",
      "GRAND FASHION\n",
      "GRANDI SILA VENKATES\n",
      "GUDU MEDICAL STORE\n",
      "GUJRAT GENERAL STORE\n",
      "GULL ADIL\n",
      "GUPTA AGENCY\n",
      "GUPTA MEDICAL\n",
      "GUPTA M~HALL\n",
      "GUPTA STORES\n",
      "GURUKRUPA MEDECAL\n",
      "GYANA SARASWATHY KIR\n",
      "G~ KRISHNA KIRANAM\n",
      "G~C~ PHARMA\n",
      "G~HANUMANTHAIAH GENE\n",
      "G~KISTAIAH KIRNA STO\n",
      "G~N~PROV STORE\n",
      "H M IBRAHIM\n",
      "HAMDARD DAWAKHANA\n",
      "HAMDARD GEN~ STORE\n",
      "HAMPESWARA GENERAL S\n",
      "HANKY PANKY BEAUTIES\n",
      "HANSA STORES\n",
      "HANUMAN AGENCIES\n",
      "HANUMAN FANCY STORE\n",
      "HANUMAN KIRANA\n",
      "HANUMAN KIRANA GEN\n",
      "HANUMAN KIRANA STORE\n",
      "HANUMAN MEDICALS\n",
      "HANUMAN PROVISION\n",
      "HARADHAN DUTTA\n",
      "HARALAL DAS SONS\n",
      "HARI BANSA\n",
      "HARI HARA KM\n",
      "HARI HARA MEDICAL HALL\n",
      "HARI HARA STORE\n",
      "HARI KRUPA MEDICAL H\n",
      "HARI MEDICALS\n",
      "HARI NATHA KM\n",
      "HARIBANSA DUTTA & SONS\n",
      "HARIBANSHA\n",
      "HARIBANSHA DUTTA & SONS\n",
      "HARIBANSHA DUTTA S\n",
      "HARIOM MEDICAL STORE\n",
      "HARISHANKAR KIRANAM\n",
      "HARSIL DRUGS\n",
      "HASHAM SONS\n",
      "HEALTH CARE (J~C)\n",
      "HEALTH CARE MEDICAL\n",
      "HEMA MEDICALS\n",
      "HEMAMBIKA MEDICALS\n",
      "HIRANMAYEE MEDICOS\n",
      "HMV MEDICAL\n",
      "HOQUE STORE\n",
      "HYDERABAD BEAUTY CEN\n",
      "H~ CHISHI PHARMACY\n",
      "IBNI SANA\n",
      "IDEAL CHEMIST\n",
      "IMRAN ENTERPRISES\n",
      "IMRAN GENERAL STORE\n",
      "INAYAT MEDICATE\n",
      "INDU PHARMECY\n",
      "IQBAL GEN STORE\n",
      "IRSHAD MEDICATE\n",
      "ISLAM MEDICAL\n",
      "I~A~PROV STORE\n",
      "I~H~GHANI\n",
      "JAGA KALIA MEDICAL & GEN STORE\n",
      "JAGADAMBA MEDICAL AGENCIES\n",
      "JAGADAMBA MEDICALS\n",
      "JAGADAMBHA GENERAL S\n",
      "JAGADISH KIRANAM\n",
      "JAGANNATH MED STORE(BAND CHAK)\n",
      "JAGANNATH MED STORE(NEW)\n",
      "JAGANNATH MEDICAL & GENERAL STORE\n",
      "JAHANGIR MEDICAL\n",
      "JAI ARBUDA FANCY GEN\n",
      "JAI SANTHOSH KIRANA\n",
      "JAI SANTHOSHMATHA KI\n",
      "JAIMAA MANGALA AYURVEDIC BHANDAR\n",
      "JAIN MEDICOS\n",
      "JALARAM KIRANAM\n",
      "JAN PROV STORE\n",
      "JANANI MEDICAL STORE\n",
      "JANATA MEDICAL STORES\n",
      "JANATA PHARMACEUTICALS\n",
      "JANNAT LAKE COSMETIC\n",
      "JAVEED KIRANAM\n",
      "JAVVAJI KRISHNAIAH\n",
      "JAY GURU MEDICAL STORE\n",
      "JAY JIVAN MEDICAL\n",
      "JAY SRI KRISHNA MEDICAL STORE\n",
      "JAYA SRI SUPER MARKET\n",
      "JAYA VARITIES\n",
      "JAYALAKSHMI FANCY ST\n",
      "JAYANTHI KISTAIAH G\n",
      "JAYASHANKAR KIRAN ST\n",
      "JAYASRI\n",
      "JEANS PHARMACY\n",
      "JEEVAN JYOTI MEDICAL & GEN STORE\n",
      "JENA MEDCINE\n",
      "JHARNA MEDICAL\n",
      "JHUM GROCERY\n",
      "JIBAN BHANDER\n",
      "JIBAN JYOTI MEDICAL\n",
      "JITEN MISRA\n",
      "JK MEDICOS\n",
      "JOHN'S MEDICAL HALL\n",
      "JOLOJOG\n",
      "JOY DURGA CHANDI BHA\n",
      "JOY GURU BHANDER~\n",
      "JOY MAA TARA VARITY STORE\n",
      "JOY TEA STALL\n",
      "JOY VARATIES STORES\n",
      "JOY VARIETY STORES\n",
      "JOYA STORE\n",
      "JOYANTA STORES\n",
      "JULLAWAR KIRANA\n",
      "JYOTHI GENERAL STORE\n",
      "JYOTHI KIRANA STORE\n",
      "JYOTHI MEDICAL HALL\n",
      "JYOTI MEDICAL\n",
      "J~ N~ DAR (KHAYAM)\n",
      "J~K PHARMACY\n",
      "K KAASIPATHI KIRANA\n",
      "K KRISHNA MURTHI KIR\n",
      "K KRISHNAIAH KIRANA\n",
      "KACHROO PROV~ STORE\n",
      "KAILASH MEDICINE STORE\n",
      "KAIM ENTERPRISE\n",
      "KAINATH AYURVEDIC AUSHADHALAYA\n",
      "KAKOTI MEDICAL\n",
      "KALANGI VENKATESWARL\n",
      "KALANJALI FANCY STOR\n",
      "KALI MATA STORES~\n",
      "KALI STORE\n",
      "KALIMATA STORES\n",
      "KALU PAN STALL\n",
      "KALYANI\n",
      "KAMAKSHI SUPER MARKE\n",
      "KAMALA PHARMACY\n",
      "KAMALNATH GENERAL ST\n",
      "KAMDAR MEDICAL\n",
      "KANAILAL SHAW\n",
      "KANAKA DURGA KIRANA\n",
      "KANAKARAJU GENERAL S\n",
      "KANDE SUBBARAO GEN S\n",
      "KAPIL BOOK STALL\n",
      "KAPIL STORE\n",
      "KARTHIKEYA FANCY\n",
      "KARUNA LADIES EMPORI\n",
      "KASHANI ENTERPRISES\n",
      "KASINATH NAG\n",
      "KENNETH MEDICAL\n",
      "KESHOB SHAW\n",
      "KGN MEDICALS\n",
      "KHAN COSMETICS\n",
      "KHAN KIRANA\n",
      "KHAN PROVISION STORE\n",
      "KHAN UTILITY\n",
      "KHATOOR KIRANAM\n",
      "KHURSHEED MEDICAL HA\n",
      "KHUSHI MEDICAL\n",
      "KING KINGDOM\n",
      "KIRAN MEDICAL HALL\n",
      "KIRTI EMPORIYAM\n",
      "KISHOLOY\n",
      "KMC NOVELTIES\n",
      "KOHINOOR GENERAL STO\n",
      "KOPPARAPU SATHYANARA\n",
      "KOUNDOO BROTHERS\n",
      "KRISHNA MEDICAL HALL\n",
      "KRISHNA MEDICALS\n",
      "KRISHNA SAI (KSKM) K\n",
      "KRISHNA SAI MEDICAL\n",
      "KRISHNA VENI KIRNA\n",
      "KRUPAKAR MEDICAL\n",
      "KULDEVI MARKETING\n",
      "KUMARASWAMY GENERAL\n",
      "KUNDU TRADERS\n",
      "KUNDU TREDAS (RAHUL BABA)\n",
      "K~ PADMANABAIAH GENA\n",
      "K~ RANGANAYA KULU GE\n",
      "K~ SESHACHALAPATHI G\n",
      "K~ SUDHAKAR GENERAL\n",
      "K~ VAIKUNTAM KIRANAM\n",
      "K~ VINOD KIRANAM\n",
      "K~GOURAIAH KIRANA GE\n",
      "K~G~N~PAN GENERAL ST\n",
      "K~K~TRADERS\n",
      "K~RAJESHAM KIRANA GE\n",
      "K~RAMBABU GENERAL\n",
      "K~RAVI (J~K) GENERAL\n",
      "K~SRINIVAS K/M<RK> G\n",
      "K~SUDHAKER KIRANA ST\n",
      "K~VERASHAM KABEER KI\n",
      "LABANI STORES\n",
      "LADY CHOICE\n",
      "LADY HUT\n",
      "LAHA VERITY\n",
      "LAKSHMI CHENNAKESAWA\n",
      "LAKSHMI GANAPATHI\n",
      "LAKSHMI MEDICALS\n",
      "LAKSHMI PHARMA\n",
      "LAKSHMI SAI FANCY\n",
      "LAKSHMI SAI MEDICAL\n",
      "LAKSHMIDEVI GENERAL\n",
      "LAKSHMIRANGA GENERAL\n",
      "LAL KHAN PROVISION S\n",
      "LALIT KIRANA\n",
      "LALITH FANCY STORE\n",
      "LALITHA BHAVANI MEDICAL HALL\n",
      "LALITHA BHAVANI MH\n",
      "LALITHA KIRANA GENER\n",
      "LAXMI ANNAPURNA KIRA\n",
      "LAXMI AYURVEDIC CENTRE\n",
      "LAXMI BHANDER\n",
      "LAXMI EMPORIYAM\n",
      "LAXMI MEDICAL\n",
      "LAXMI MEDICALS\n",
      "LAXMI NARAYAN BHANDE\n",
      "LAXMI NARAYAN STORES\n",
      "LAXMI PHARMA\n",
      "LAXMI PRASANNA KIRAN\n",
      "LAXMI PROVISION\n",
      "LAXMI STORES\n",
      "LAXMI SUGAND CENTER\n",
      "LAXMI VENKATESHWARA\n",
      "LEPAKSHI MEDICALS\n",
      "LIFE CARE DRUGS\n",
      "LIFE CARE MEDICAL (T~K)\n",
      "LIFE CARE MEDICAL HA\n",
      "LIFE GARD MEDICAL\n",
      "LIFE GUARD MEDICOS\n",
      "LIFE LINE DRUG\n",
      "LIFE LINE MEDICAL\n",
      "LIFE LINE PHARMACY\n",
      "LIFE PHARMA (K)\n",
      "LIFE STYLE\n",
      "LIFELINE MEDICOS\n",
      "LIFETIME~ MEDICAL HALL\n",
      "LILA PHARMACY\n",
      "LILA PHARMACY~\n",
      "LINGA MURTHI KIRANAM\n",
      "LINGAIAH KIRANAM\n",
      "LINGESHWARA KIRANAM\n",
      "LISA MEDICARE\n",
      "LOHITH KM\n",
      "LOKENATH BHANDER\n",
      "LOKENATH PHARMACUTICAL\n",
      "LOKNATH BHANDER\n",
      "LOKNATH DRUG\n",
      "LOTUS ENTERPRISES\n",
      "LOYA MEDICAL\n",
      "LOYA MEDICAL STORE\n",
      "LUIT MEDICAL\n",
      "L~K~ MEDICOS\n",
      "L~N~ MEDICOS\n",
      "M K MEDICINE STORE\n",
      "M M SHEIKH PROV STOR\n",
      "M RAMARAO KIRANA G\n",
      "M SRINIVASULU KIRANA\n",
      "M ZONE SUPER MARKET\n",
      "M/S KANAK AGENCY\n",
      "M/S NAYEK DRUG AGENCY\n",
      "M/S PAUL SURGICAL\n",
      "MA JASADA\n",
      "MA KALI BHANDER\n",
      "MA KAMALA STORES\n",
      "MA LAXMI BEAUTI STOR\n",
      "MA MANASA BHANDER\n",
      "MA MEDICAL\n",
      "MA MEDICAL HALL\n",
      "MA SARADA PHARMACY\n",
      "MA SARADA STORES\n",
      "MA SHAYAMA BHANDER\n",
      "MA SHYAMA BHANDER\n",
      "MA SHYAMA STORES\n",
      "MA TARA BHANDER\n",
      "MA TARA STORE\n",
      "MAA BANJARUNI MEDICAL STORE\n",
      "MAA BANKESWARI MEDICOS\n",
      "MAA CONFECTIONARY\n",
      "MAA DURGA IMITATION AND COSMETIC\n",
      "MAA MALI MEDICAL\n",
      "MAA MANGALA PHARMACEUTICALS\n",
      "MAA MEDICAL\n",
      "MAA MEDICAL HALL\n",
      "MAA PODUMONI PHARMA\n",
      "MAA PUSHPA MEDICAL\n",
      "MAA SARADA DRUG DISTRIBUTOR\n",
      "MAA SARASWOTI MEDICINE STORE\n",
      "MAA SITALA SANKHA BH\n",
      "MAA TARA DRUG\n",
      "MAALAXMI DRUGS\n",
      "MADEENA MEDICALS\n",
      "MADHEV KIRANA\n",
      "MADHURI FANCY\n",
      "MADINA MEDICOS\n",
      "MAFUZA PHARMACEUTICALS\n",
      "MAHA LAXMI MEDICAL H\n",
      "MAHA PRABHU BHANDER\n",
      "MAHA RANI TOBACO SHO\n",
      "MAHADAV GENERAL STOR\n",
      "MAHADEV KIRANAM\n",
      "MAHADEVA MEDECAL\n",
      "MAHAJAN TRADERS\n",
      "MAHALAXMI MEDICAL ST\n",
      "MAHANANDA ENTERPRISE\n",
      "MAHAVEER KIRANAM\n",
      "MAHAVEER PRSAD ASAWA\n",
      "MAHESH FANCY GENER\n",
      "MAHESH MEDICAL HALL\n",
      "MAHESHPROL GENERAL S\n",
      "MAHESHWAR MEDICAL HA\n",
      "MAHESWARI MEDICAL HALL\n",
      "MAHVEER MEDICAL\n",
      "MAJANI MEDICAL\n",
      "MAJEED GARMENTS\n",
      "MAJEED KIRANAM\n",
      "MAKROO SPICES\n",
      "MALANCHA\n",
      "MALLI KARJUNA KIRANA\n",
      "MALLIKARJUNA MEDICAL\n",
      "MANAB JYOTI MED STORE\n",
      "MANAI\n",
      "MANASA MEDICAL STORE\n",
      "MANIK SUR\n",
      "MANIKANTA COOL DRINK\n",
      "MANIKANTA GENERAL ST\n",
      "MANIKANTA KIRANA GEN\n",
      "MANIKANTA KIRANAM\n",
      "MANIKANTA MEDICAL HA\n",
      "MANIKANTA MEDICALS\n",
      "MANJU DRUGS\n",
      "MANJU GENERAL STORE\n",
      "MANJU STORE\n",
      "MANJUNATHA FANCY\n",
      "MANJUNATHA MH\n",
      "MANKALA SUNDRAIAH GE\n",
      "MANOJWALA MH\n",
      "MANTU DUTTA\n",
      "MANUJUNATHA MEDICAL\n",
      "MANZOOR PROV STORE\n",
      "MANZOOR PROVISIONI S\n",
      "MAQBOOL PROVISION ST\n",
      "MAQBOOL SHOP\n",
      "MARAMI MEDICAL\n",
      "MARUTHI GENERAL STOR\n",
      "MARUTHI MEDICALS\n",
      "MARY MEDICAL\n",
      "MARY MEDICAL (KIPHIRE)\n",
      "MASCOT MEDICAL\n",
      "MASTER BEAUTY (SAFAK\n",
      "MATESHWARI KIRANAM\n",
      "MATHA MEDICAL HALL\n",
      "MATHA TRADERS\n",
      "MATHURA DEBNATH\n",
      "MATRI BHANDER\n",
      "MATRI STORES\n",
      "MATRI STORES~\n",
      "MATRIKAS CORPORATION\n",
      "MAULI KIRANA\n",
      "MAULI MEDICAL\n",
      "MAULI PROVISION\n",
      "MAUSAM MEDICOS\n",
      "MAYA DRUG DISTRIBUTOR\n",
      "MAYA IMITATION\n",
      "MAZUMDER MEDICAL\n",
      "MAZUMDER MEDICAL STORE\n",
      "MD HALEE KIRANA GE\n",
      "MD WAHEED KIRANAM\n",
      "MEDA FANCY GEN STO\n",
      "MEDI LIFE\n",
      "MEDI SCIENCE\n",
      "MEDICARE\n",
      "MEDICINE CENTRE\n",
      "MEDICINE HOUSE\n",
      "MEE CARE PHARMACY\n",
      "MEEKOSAM FANCY CON\n",
      "MEHJOOR BEAUTY STORE\n",
      "MINAKSHI STORES\n",
      "MINATI STORES\n",
      "MIR COLD DRINK\n",
      "MIR MEDICATE\n",
      "MIR PROV STORE\n",
      "MIR PROVISION STORE\n",
      "MISHRA PHARMACEUTICALS\n",
      "MITINJOY STORES\n",
      "MITRA DRUG\n",
      "MITTAL MEDICAL HALL\n",
      "MODALA SUBBARAO GENE\n",
      "MOHAN COSMETICS\n",
      "MOHANSAI MEDICALS\n",
      "MOHAVEER MEDICINE STORE(COLLEGE SQRE)\n",
      "MOHD YOUSF MALLA\n",
      "MOHINI\n",
      "MOLOY DUTTA\n",
      "MONDAL ENTERPRISE\n",
      "MONDAL TEA\n",
      "MONDAL TRADER\n",
      "MONDAL VARITYA STORE\n",
      "MOON LIGHT\n",
      "MORR MEDICAL HALL\n",
      "MOUSUMI BHANDER\n",
      "MRIGAYA COSMETICS\n",
      "MRITYUNJAY MAJI\n",
      "MRITYUNJOY STORE\n",
      "MUKHERJEE GENERAL STORE\n",
      "MUKHERJEE MEDICIN CENTER\n",
      "MUNNA MOBILE\n",
      "MURALI MEDICAL HALL\n",
      "MURALIDHAR KIRANAM\n",
      "MURTHY BOOK FANCY\n",
      "MURTHYTRADERS\n",
      "MUSHTAQ BEAUTY\n",
      "MUSHTAQ PROV STORE\n",
      "MUSHTAQ SON\n",
      "MUSKAN FANCY STORE\n",
      "MUSKAN GENRAL\n",
      "MUVVELA VENKATESWARA\n",
      "MUZAFFER PROV STORE\n",
      "M~A~PROV STORE\n",
      "M~D~PRASAD\n",
      "M~KONDAIAH GENERAL S\n",
      "M~K~ MEDICAL\n",
      "M~PREMRAJ GENERAL ST\n",
      "M~S GUPTA MEDICAL ST\n",
      "M~STORES\n",
      "M~S~CO\n",
      "M~S~PROVISION STORE\n",
      "N CH CHENNIAH KIRANA\n",
      "N CH SUBBARAO GENERA\n",
      "NABAGRAHA BHANDER\n",
      "NABARUPA~\n",
      "NAGARI PANDUSA STORE\n",
      "NAGARI RAJANSA STORE\n",
      "NAGENDRA LEDIES EMPO\n",
      "NAGNATH LINGPAA\n",
      "NAI KI CHAI KI STORE\n",
      "NANDI MEDICINE STORE\n",
      "NANDI VARIETY STORES\n",
      "NANDINI FANCY STORE\n",
      "NANDINI MEDICAL HAL\n",
      "NANDY VARITY STORE\n",
      "NANI COOL DRINKS\n",
      "NANI STORES~\n",
      "NARAYAN BHANDER\n",
      "NARAYAN MEDICAL\n",
      "NARAYANI STORES\n",
      "NARENDER MEDICAL STO\n",
      "NARGISH MEDICINE STORE\n",
      "NATHINADA BHANDER\n",
      "NATHMAL KIRANAM\n",
      "NATIONAL MEDICAL HALL\n",
      "NATRAJ KIRANAM GENE\n",
      "NATUKULA VEERAIAH\n",
      "NAVA JYOTHI LEDIES E\n",
      "NAVARATHNA LEDIES EM\n",
      "NAVEEN KIRANAM GENRAL\n",
      "NAZIR PROVISION STOR\n",
      "NEELADRI MEDICAL STORE\n",
      "NEELAKSHI FANCY\n",
      "NEELAKSHMI FANCY G\n",
      "NEHA KIRANAM\n",
      "NEW ANAMIKA\n",
      "NEW APSARA\n",
      "NEW ASHIRBAD DRUG HOUSE\n",
      "NEW AZAD MEDICAL\n",
      "NEW BANARASI JARDA~\n",
      "NEW BHAT PROVISION S\n",
      "NEW CHANDRA STORES\n",
      "NEW CHOICE\n",
      "NEW GANESH KIRANA GE\n",
      "NEW GUHA MEDICAL AND\n",
      "NEW KALI MATA STORE\n",
      "NEW KALPANA MEDICAL\n",
      "NEW KAMALA STORES\n",
      "NEW LIFE LINE PHARMA\n",
      "NEW MAA TARA VARITY STORE\n",
      "NEW MALIKARJUNA KIRA\n",
      "NEW MALLESH MEDICAL HALL\n",
      "NEW MAMTA GENRAL\n",
      "NEW MATRI STORES\n",
      "NEW MEDICAL STORE\n",
      "NEW MEDICINE STORE\n",
      "NEW NABARUPA\n",
      "NEW NETAJI DISTRIBUT\n",
      "NEW PAENSHANWAE GENR\n",
      "NEW PURNIMA MEDICAL\n",
      "NEW RAJ LAXMI STORES\n",
      "NEW RAKAMARI STORE\n",
      "NEW REBA STORES~\n",
      "NEW ROY BROTHERS\n",
      "NEW SHOVANA MEDICAL HALL\n",
      "NEW STORES~\n",
      "NEW TEHAR KIRANAM\n",
      "NEW TUHINA DISTRIBUT\n",
      "NEW URBASHI\n",
      "NEW VASAVI KIRANA GE\n",
      "NEW VENKATA SAI MEDI\n",
      "NEW VENKATESHWARA KI\n",
      "NIBEDAN\n",
      "NICE GIRLS POINT\n",
      "NIDHA PROVISION\n",
      "NIGAR MEDICAL HALL\n",
      "NIHAR MEDICAL\n",
      "NILADRI MEDICINE STORE\n",
      "NIRANJAN KUMAR DEY\n",
      "NIRMALA MEDICINE\n",
      "NISA V~ STORES~\n",
      "NISHIKANTA MADICAL H\n",
      "NIYAMAT MEDICAL HALL\n",
      "NIZAM MEDICAL HALL\n",
      "NOBLE MEDICAL HALL\n",
      "NOBORUPA\n",
      "NONIGOPAL MEDICAL\n",
      "NOOR DRUG\n",
      "NOORI BEAUTIES\n",
      "NOORI HAMDARD\n",
      "NOVA MEDICAL STORE\n",
      "NO~1 MADINA\n",
      "NRUSIHA KIRANA\n",
      "NSR FANCY\n",
      "NUR VARIETY STORES\n",
      "N~CHANDHRAIAH LADIES\n",
      "N~K~ BANDAIAH GENERA\n",
      "N~K~ DRUG DISTRIBUTOR\n",
      "OM GENRAL\n",
      "OM NAMAH SHIVAY ENTERPRISE\n",
      "OM PRAKASH KIRANAM\n",
      "OM PRASAD MEDICAL STORE\n",
      "OM SAI MEDICINES\n",
      "OM SAI RAM\n",
      "OM SHIVA GENREAL STO\n",
      "OMKAR MEDICAL\n",
      "OM~SAI KM\n",
      "OSIA\n",
      "OSMI\n",
      "P KOTESWARARAO GENER\n",
      "P RATHNAMAIAH FANCY\n",
      "PACK MORE DEP STORE\n",
      "PADMA AGENCIES\n",
      "PADMA KIRANA GENERRA\n",
      "PADMAVATHI ENTERPISES ( FEELKHANA )\n",
      "PADMAVATHI GENERAL S\n",
      "PADMAVATHI MEDICAL\n",
      "PADMAVATHI TRADERS\n",
      "PADMAVATHI TRADERS ( INDER BAGH)\n",
      "PADMAWATI PHARMA\n",
      "PAIDIMARRI VENKATESW\n",
      "PAL BROTHERS\n",
      "PANDA MEDICALS\n",
      "PANDHURANG MEDICAL\n",
      "PANKAJ COSMETICS\n",
      "PARAMA COSMETICS\n",
      "PARAMESHWARCOSMETICS\n",
      "PARAMESHWARE GENERAL\n",
      "PARBATI V~STORES\n",
      "PAREEK ENTERPRISE\n",
      "PARIS PERFUME WORLD\n",
      "PARVATHI PARAMESHWAR\n",
      "PARVIN MEDICAL\n",
      "PATANJALI\n",
      "PATANJALI CENTRE\n",
      "PATEL KIRANA\n",
      "PATRO MEDICAL STORE\n",
      "PAUL MEDICINE\n",
      "PAUL PHARMACY\n",
      "PAVAN ENTERPRISES\n",
      "PAVAN GENERAL STORE\n",
      "PAVAN LADIES CORNER\n",
      "PAVAN SAI MEDICALS\n",
      "PAVAN SWEETS\n",
      "PAVANA PUTRA KM\n",
      "PAWAN MEDICAL\n",
      "PAYAL\n",
      "PAYEL\n",
      "PENSHANWAR KIRANA\n",
      "PHARMA STREET\n",
      "PHARMACY HEALTH CARE\n",
      "PHARMACY LIFE CARE\n",
      "PHARMACY MANKIND\n",
      "PHARMACY VISION\n",
      "PINKI PATANJALI\n",
      "POLICE LINE CO OPERA\n",
      "POOJA COSMETICS\n",
      "POOJA FANCY STORE\n",
      "POOJA MEDICAL\n",
      "POPULAR PHARMACY\n",
      "PRABHA MEDICAL\n",
      "PRABHA MEDICAL & GEN STORE\n",
      "PRABHAKAR KIRANAM\n",
      "PRABHAT MEDICAL\n",
      "PRABHU KIRNA STORE\n",
      "PRAGATI ENTERPRISES\n",
      "PRAHALLAD PRASAD\n",
      "PRAKASH AGENCIES\n",
      "PRAKASH KIRANA STORE\n",
      "PRAKASH STORE\n",
      "PRAKESH MEDICAL\n",
      "PRAKESH PROVISION\n",
      "PRASAD MEDICAL\n",
      "PRASURAM SYAMSUNDAR\n",
      "PRATAP GENERAL STORE\n",
      "PRATHIK COSMITIC\n",
      "PRAVEEN ENTERPRISES\n",
      "PREETAM COSMETICS\n",
      "PREM AGENCY\n",
      "PRINCE MEDICATE\n",
      "PRITY GENRAL\n",
      "PRIYANATH CHATTERJEE\n",
      "PRIYANKA COSMETICS\n",
      "PRIYANKA MEDICAL\n",
      "PROKASH STORES~\n",
      "PRONIT KUMAR KUNDU\n",
      "PROSAD CONFECTIONERY\n",
      "PROSAD STORES\n",
      "PROTIMA STORES\n",
      "PROVISION STREAM\n",
      "PROYJONY\n",
      "P~ DUTTA~\n",
      "P~ NAGABHUISHANAM GE\n",
      "P~ VISWANATHAM GENAR\n",
      "P~JOGAL KISHORE KIRA\n",
      "P~P~ DRUG\n",
      "P~RAJAIAH KIRANA GEN\n",
      "QUICK CARE\n",
      "R K ENTERPRISES\n",
      "R S GUPTA\n",
      "RADHA GOBINDA AYURVEDIC\n",
      "RADHA KRISHNA STORE\n",
      "RADHAKRISHNA GENERAL\n",
      "RADIKA DRUGS N DISTRIBUTER\n",
      "RAGAVENDRA SWAMY GEN\n",
      "RAGHAVENDRA FANCY ST\n",
      "RAGHU TRADES\n",
      "RAGHUNATH SAH\n",
      "RAHMAN DRUG\n",
      "RAI S~RAI\n",
      "RAINBOW PROV~ STORE\n",
      "RAJ & RAJ SURGICAL HOUSE\n",
      "RAJ GENERAL\n",
      "RAJ GUPTA AYURVEDA\n",
      "RAJ IMITATION\n",
      "RAJ KUMAR SHAW\n",
      "RAJ LAXMI BHANDER\n",
      "RAJ LAXMI STORES\n",
      "RAJ MEDICAL\n",
      "RAJ TRADERS\n",
      "RAJA RAJESHWARA KM\n",
      "RAJA RAJESWARI MEDIC\n",
      "RAJA ZARDA\n",
      "RAJANI STORES\n",
      "RAJARAJAASHWARA KIRA\n",
      "RAJARAJESHWARI KIRAN\n",
      "RAJARAM KIRANA\n",
      "RAJASTAN CUTLURY MAR\n",
      "RAJDEEP FANCY\n",
      "RAJENDRA KIRANAM\n",
      "RAJENDRA MEDICAL HALL\n",
      "RAJENDRA STORE\n",
      "RAJESH DUTTA\n",
      "RAJESH MEDICAL STORE\n",
      "RAJESHWAR GOLI BHAND\n",
      "RAJESTAN FANCY STORE\n",
      "RAJLAXMI BHANDER\n",
      "RAJU MEDICAL\n",
      "RAKAMARI\n",
      "RAKESH AND COMPANY\n",
      "RAKHI MEDICAL\n",
      "RAM GUPTA STORES\n",
      "RAM KRISHNA VAR STOR\n",
      "RAM PRASAD SARBAT LA\n",
      "RAMA KRISHNA GENERAL\n",
      "RAMANA GENERAL STORE\n",
      "RAMESH <VSK> KIRAN\n",
      "RAMESH KIRANA GENERA\n",
      "RAMESH TRADERS\n",
      "RAMESWAR PHARMACEUTICAL(RAHANDIA)\n",
      "RAMJAN MEDICAL\n",
      "RAMKRISHNA BHANDER\n",
      "RAMKRISHNA MEDICO\n",
      "RAMKRISHNA PHARMACY\n",
      "RAMKRISHNA VARIETY~\n",
      "RANGA RAO KIRANAM\n",
      "RANGA SAI FANCY\n",
      "RANGANAYAKA <RPL> M\n",
      "RANGAPAN GENERAL STO\n",
      "RANGHAR DRUGS\n",
      "RATNARAJ TRADING\n",
      "RATNITRADE N AGENCY'S\n",
      "RAVI TEJA KIRANAM\n",
      "RAYEES ENTERPRISES\n",
      "RAZA PROVISION\n",
      "REBA STORES\n",
      "REKHA ENTERPRISES\n",
      "REKHA STORES\n",
      "RELIEF SURGICAL ONE\n",
      "REMADY MEDICAL\n",
      "RENUKA MEDICAL\n",
      "RESHI GEN STORE\n",
      "RESHMI IMITATION\n",
      "RIMA MEDICAL\n",
      "RITIKA MEDICAL\n",
      "RIYA BENGAL\n",
      "RIYAZ ENTERPRISES\n",
      "ROHINI MEDICAL\n",
      "ROHITH COSMETICS\n",
      "ROHITH MEDICAL HALL\n",
      "ROOP SINGAR FANCY\n",
      "ROSHAN KIRANAM\n",
      "ROUF PROV STORE\n",
      "ROY S\n",
      "ROYAL GENERAL STORE\n",
      "ROYAL MEDICAL STORES\n",
      "RSS MEDICINE SURGI\n",
      "RUKMANI\n",
      "RUMA MEDICAL\n",
      "RUPANJOLI~\n",
      "RUPASHREE\n",
      "RUPASI IMITATION\n",
      "RUPDAN\n",
      "RUPKATHA~\n",
      "RUPLAGI\n",
      "RUPMA IMITATION\n",
      "RUSHAB AGENCIES\n",
      "R~BHANDARI\n",
      "R~D~MURTHY KIRANA ST\n",
      "R~GOPAL KRISHNA GENE\n",
      "R~LAKSHMI DEVAMMA GE\n",
      "R~M~GENERAL STORES\n",
      "R~M~S DRUGS\n",
      "R~M~S~ DRUGS\n",
      "R~NARAYANASETTY GENE\n",
      "R~N~BHANDER\n",
      "R~N~JADAB\n",
      "R~S~ENTERPRISES\n",
      "R~S~PHARMACEUTICAL\n",
      "R~VISHWANATHAM KIRAN\n",
      "S KAASI REDDY FANCY\n",
      "S M ENTERPRISES\n",
      "S P PHARMA\n",
      "S R M KM\n",
      "SAAKSHA\n",
      "SABA COLLECTION\n",
      "SABITRI MEDICINE\n",
      "SADHANA AUSHADHALAYA\n",
      "SAGAR GENRAL\n",
      "SAHA MEDICAL\n",
      "SAHEB MART\n",
      "SAHITHI KIRANAM\n",
      "SAI BALAJI KIRANA ST\n",
      "SAI BALAJI MEDICAL H\n",
      "SAI BHAVANI MEDICAL\n",
      "SAI DURGA FANCY GE\n",
      "SAI FANCY GENERAL\n",
      "SAI GOURISHANKAR KIR\n",
      "SAI KIRANA GENERAL S\n",
      "SAI KIRANAM\n",
      "SAI KRISHNA FANCY\n",
      "SAI KRISHNA MEDICALS\n",
      "SAI KRUPA MEDICAL HA\n",
      "SAI LAXMI MED STORE(NANGA MAHAL)\n",
      "SAI MEDICALS\n",
      "SAI NEHAL MEDICAL ST\n",
      "SAI POOJITA COOL DRI\n",
      "SAI RAM GENERAL STOR\n",
      "SAI RAM KIRANA GEN\n",
      "SAI RAM KIRANA STORE\n",
      "SAI RAM MEDICAL\n",
      "SAI SANTHOSH KIRANA\n",
      "SAI SRADHA MEDICINE STORE\n",
      "SAI SRI MEDICAL\n",
      "SAI SRINIVASA DEPART\n",
      "SAI SRINIVASA KIRANA\n",
      "SAI SRINIVASA MEDICA\n",
      "SAI VIJAYA MEDICAL H\n",
      "SAIDATTA GENERAL STO\n",
      "SAIKRISHNA MEDICAL H\n",
      "SAJ GHAR\n",
      "SAJAD MEDICATE\n",
      "SAKUNTALA\n",
      "SALEEM KIRANAM\n",
      "SALIM V~ STORES~\n",
      "SAMBHU STORES\n",
      "SAME SAME DIFFERENT\n",
      "SAMIR DUTTA~\n",
      "SAMPATH KIRANAM\n",
      "SANAA MEDICALS\n",
      "SANANDA\n",
      "SANCHAYANI VARITY\n",
      "SANDEEP PAN STALL\n",
      "SANDEEP TRADERS\n",
      "SANGEETHA MEDICAL ST\n",
      "SANJAY KIRANA\n",
      "SANJAY KIRANA STORE\n",
      "SANJIBINI MEDICAL HALL\n",
      "SANJIVANEE DRUGS\n",
      "SANJIVANI MEDICAL HA\n",
      "SANJOY M~HALL\n",
      "SANKAR STORES~\n",
      "SANNIDI SOMASEKHAR\n",
      "SANTHOSH <SRKM> KIRA\n",
      "SANTHOSH KIRANA GENE\n",
      "SANTHOSH KIRANAM\n",
      "SANTOSH GENERAL STOR\n",
      "SAPTHAGIRI MEDICAL HALL\n",
      "SARADA BHANDER\n",
      "SARADA DEPTERMONTAR\n",
      "SARADA PHARMACY~\n",
      "SARADA STORE\n",
      "SARBOMONGOLA BHANDER\n",
      "SARTAJ PROV STORE\n",
      "SASHI MEDICAL\n",
      "SATGURU MEDICAL\n",
      "SATGURU PROVISION\n",
      "SATHISH CONFECTIONAR\n",
      "SATHISH KIRANAM\n",
      "SATTYADIP\n",
      "SATYA KM\n",
      "SATYA NARAYAN STORES\n",
      "SATYA NARAYANA KIRAN\n",
      "SATYA SAI MEDICAL\n",
      "SATYANARAYAN MEDICAL\n",
      "SATYANARAYAN STORES~\n",
      "SATYASA MEDICAL HALL\n",
      "SAUKIN\n",
      "SAWBHAGYA GENRAL\n",
      "SAYAM BHANDER\n",
      "SAYONAI\n",
      "SEN MEDICAL\n",
      "SHAH ENTERPRISES\n",
      "SHAH MEDICATE\n",
      "SHAH PROV STORE\n",
      "SHAHI MEDICAL HALL\n",
      "SHAIK BABU KIRANAM\n",
      "SHAKAR MEDICAL\n",
      "SHAKEEL PROV STORE\n",
      "SHAKTHI BANGELS\n",
      "SHANKAR AYURVEDA\n",
      "SHANKAR MEDICAL\n",
      "SHANKAR STORES\n",
      "SHANKER KIRANA STORE\n",
      "SHANMUGA GENERAL STO\n",
      "SHANTI MEDICINE STORE\n",
      "SHARDA GENRAL\n",
      "SHARMA DRUGS AND HOUSE\n",
      "SHASHI MEDICAL HALL\n",
      "SHEIKH MEDICAL\n",
      "SHIB SAKTI STORES\n",
      "SHIB SHANKAR MEDICAL\n",
      "SHIBNATH SEN\n",
      "SHIFA MEDICAL STORE\n",
      "SHIKA TRADERS\n",
      "SHIKWAL COSMETICS\n",
      "SHILA RANI HALDER\n",
      "SHIVA GANESH MEDICAL HALL\n",
      "SHIVA MEDICAL HALL\n",
      "SHIVA SAI KIRANA GEN\n",
      "SHIVAJI DRUG\n",
      "SHIVAM MEDICAL\n",
      "SHIVAM MEDICAL HALL\n",
      "SHIVAMALLESHAM KIRAN\n",
      "SHIVANI MEDICAL HALL\n",
      "SHIVASHANKAR GENERAL\n",
      "SHIVKRUPA PROVISION\n",
      "SHOBARANI KIRANAM\n",
      "SHOPAN GEN STORE\n",
      "SHOWKAT PROV STORE\n",
      "SHREE GANESH ENTERPRISE\n",
      "SHREE GANESH MEDICAL HALL\n",
      "SHREE MEDICAL\n",
      "SHREE MOHABIR BHANDE\n",
      "SHREE STORES\n",
      "SHREHAN CORNFLECTIONARY\n",
      "SHRI NARAYAN BHANDER\n",
      "SHRIDI SAI GENERAL S\n",
      "SHYAMSUDDIN KIRANAM\n",
      "SHYAMSUNDER KIRANAM\n",
      "SIFA MEDICAL STORE\n",
      "SINGH MEDICALS\n",
      "SINHA DRUG ENTERPRISE\n",
      "SINHA ENTERPRISE\n",
      "SIRI SM\n",
      "SIVA MEDICAL HALL\n",
      "SIVANANDA AYURVED BH\n",
      "SK~ SUKUR\n",
      "SLN PROVISION\n",
      "SMART GARMENTS\n",
      "SOFI GEN STORE\n",
      "SOFI PROV~ STORE\n",
      "SOHYAL DRUG\n",
      "SOURA MEDICATE\n",
      "SOVA STORES\n",
      "SOVA STORES~\n",
      "SOWMIKA MEDICALS\n",
      "SRAVANTHI KIRANA GEN\n",
      "SREE BALAJI GENERAL\n",
      "SREE KIRANAM & GENERAL\n",
      "SREE MAHADEV G S (FE\n",
      "SREE SANJEEV MEDICAL\n",
      "SREENIDHI LADIES COR\n",
      "SREENIVASA GENERAL S\n",
      "SREENIVASA MEDICAL H\n",
      "SREESAILA MEDICAL HA\n",
      "SREEVENKATESWARA PRO\n",
      "SRI AKHANDALAMNI MEDICINE STORE\n",
      "SRI BALAJI BOOKS GEA\n",
      "SRI DURGA STORES\n",
      "SRI GANESH GENERAL S\n",
      "SRI GOPAL STORES\n",
      "SRI GURU BHANDER\n",
      "SRI HANUMAN GENERAL\n",
      "SRI HANUMAN KIRANAM\n",
      "SRI HARI CLINIC\n",
      "SRI HARI STORES\n",
      "SRI KIRANA GENERAL S\n",
      "SRI KRISHAN MEDICAL\n",
      "SRI KRISHANA TRADERS\n",
      "SRI KRISHNA GENERAL\n",
      "SRI KRISNHA MEDICAL\n",
      "SRI LAKSHMI NARASIMH\n",
      "SRI LAKSMI GENERAL S\n",
      "SRI LAXMI KIRANAM\n",
      "SRI LAXMI KM\n",
      "SRI LAXMIMATHA KIRAN\n",
      "SRI MAHESHWARI KIRAN\n",
      "SRI MARUTHI PROVISIO\n",
      "SRI PADMAVATHI MEDIC\n",
      "SRI RAMA GENERAL STO\n",
      "SRI RAMA KIRANA GENE\n",
      "SRI RAMA MEDICAL F\n",
      "SRI RAMA SUPER MARKE\n",
      "SRI RAMA TRADERS\n",
      "SRI RINIVASA KM\n",
      "SRI SAI BALAJI KM\n",
      "SRI SAI KIRANAM\n",
      "SRI SAI MEDICAL HALL\n",
      "SRI SAI RAMA MEDICAL\n",
      "SRI SAI VENKATA LAKSHMI TRADERS\n",
      "SRI SAIDEBA\n",
      "SRI SAROJ AGENCY\n",
      "SRI SHIVASANKAR MEDI\n",
      "SRI SHYAM GENERAL STORES\n",
      "SRI VENKATARAGHAVEND\n",
      "SRI VENKATESWARA GEN\n",
      "SRI VIDYA BOKKS GENE\n",
      "SRIDHAR FANCY STORES\n",
      "SRIDHAR KIRANAM\n",
      "SRIKANTH FANCY GEN\n",
      "SRINIDHI MEDICAL HAL\n",
      "SRINIKETAN BHANDER\n",
      "SRINIVAS KIRANAM\n",
      "SRINIVAS MEDICAL STO\n",
      "SRINIVASA BOOK FAN\n",
      "SRINIVASA KIRANA STO\n",
      "SRINIVASA KIRNA STOR\n",
      "SRINIVASA KM SRI\n",
      "SRINIVASA TRADING\n",
      "SRIYA PHARMA\n",
      "SSS MEDICALS\n",
      "SUBAL BHANDER\n",
      "SUBHAM HEALTH CARE\n",
      "SUBHO SHIV STORES\n",
      "SUDHA MEDICAL HALL\n",
      "SUHAIL AHMED\n",
      "SUKANTA SUPPLIERS\n",
      "SUMAN DRUGS\n",
      "SUMAN PHARMACEUTICAL\n",
      "SUN ENTERPRISE\n",
      "SUN GLOW GENTAL\n",
      "SUNIL TRADERS\n",
      "SUPER KIRANA GENERAL\n",
      "SUPRIYA KIRANA GENER\n",
      "SURE CHANDRAIAH FANC\n",
      "SURENDER AGENCIES\n",
      "SURENDRA KIRANA\n",
      "SURESH GENERAL STORE\n",
      "SURESH KIRANAM\n",
      "SURESH MEDICAL HALL\n",
      "SURESH MEDICALS\n",
      "SURESH NILAWAR KIRAN\n",
      "SURYA MEDICAL\n",
      "SURYA MH\n",
      "SURYANARAYANA KIRANA\n",
      "SUVIDHA SUPER MARKET\n",
      "SWASTIVIVA\n",
      "SWATHISUPERMARKET\n",
      "SWEFT DEPT~ STORE\n",
      "S~ HANUMATHAIAH GENE\n",
      "S~K~DEY\n",
      "S~L~V~ENTERPRISES GE\n",
      "S~M~MEDICAL\n",
      "S~S MEDICAL HALL\n",
      "S~S~R~MEDICAL HALL\n",
      "S~V~G TRADERS\n",
      "S~V~S LADIES CORNER\n",
      "S~V~SUPER MARKET\n",
      "TABINDA GEN STORE\n",
      "TAJ MAJEED\n",
      "TAJ MEDICATE\n",
      "TANGUTURI SRINIVASUL\n",
      "TANGUTURI SUBBARAO\n",
      "TANTRAY PROVISION ST\n",
      "TAPAS STORES\n",
      "TARA MA STORE\n",
      "TARAK PAUL\n",
      "TARALA MALLESHAM KIR\n",
      "TARANG COMMUNICATION\n",
      "TARINI MEDICINE STORE\n",
      "TARINI MEDICINE STORE(RAHANDIA)\n",
      "TARIQ GEN~ STORE\n",
      "TARIQ MEDICATE\n",
      "TAWHEED MEDICAL HALL\n",
      "TEA GARDEN~\n",
      "TEJRAJ FANCY\n",
      "TELI COSMETICS\n",
      "THAHAR KIRANAM\n",
      "THAKUR PROV STORE\n",
      "THAVAKAL KIRANAM\n",
      "THE ASHA MEDICAL\n",
      "THE DRUG HOUSE\n",
      "THE DRUGS\n",
      "THE LIFE MEDICINE\n",
      "THE MEDICINE\n",
      "THE MEDICINE HOUSE\n",
      "THE SRIPATI CHARAN SADHU & SONS\n",
      "THE UNITED MEDICINE & SURGICAL\n",
      "THIRUMALA GENERAL ST\n",
      "THIRUMALA MEDICAL ST\n",
      "THIRUMALA SAI KIRANA\n",
      "THIRUPATHI LADIS EMPORIUM\n",
      "TINKU PAN STALL\n",
      "TINSUKIA MEDICAL HALL\n",
      "TIRUMALA MEDICALS\n",
      "TIRUMALLA TRADERS\n",
      "TIRUPATHI FANCY STOR\n",
      "TIRUPATI PHARMACY~\n",
      "TITLY\n",
      "TOP SHOP\n",
      "TOWN MEDICAL HALL\n",
      "TRI NATH DRUG\n",
      "TRINA MEDICAL\n",
      "TRINATH AYURVEDIC AUSHADHALAYA\n",
      "TRUSTED MEDICATE\n",
      "TWO SWEET\n",
      "T~MALLASHAM KIRANA G\n",
      "T~MURALII KIRANA GEN\n",
      "T~SANTHOSH KIRANA GE\n",
      "UJJAL STORES\n",
      "UJWAL MEDICAL HALL\n",
      "UMA BHANDER\n",
      "UMA GENERAL STORES\n",
      "UMA MAHESHWARI KIRAN\n",
      "UMA MAHESWARI KIRANAM\n",
      "UMA MEDICAL\n",
      "UMA MEHESHWAR MEDICA\n",
      "UMA STORES\n",
      "UMER CUTE COLLECTION\n",
      "UMER ENTERPRISES\n",
      "UNIK\n",
      "UNIQUE COLLECTION\n",
      "UNITED MEDICATE\n",
      "UPAKAR NOVELTIES\n",
      "USHA MEDICAL HALL\n",
      "UTTAM BHAKAT\n",
      "UTTAM DEBNATH\n",
      "VAIBHAV KIRANA\n",
      "VAIKUNTHA PHARMA\n",
      "VAISHNAVI GENERAL ST\n",
      "VAISHNAVI MATHA KIRA\n",
      "VANKATA SAI MEDICAL\n",
      "VANKATESHWARA KIRANA\n",
      "VARASIDDIVINAYAKA GE\n",
      "VARDHAMAN BEAUTY COL\n",
      "VARITIES STORE\n",
      "VASAVI KIRANA GENERA\n",
      "VASUNDARA LADIES EMP\n",
      "VASVAVI GENERAL STOR\n",
      "VAYNKATESH MEDICAL\n",
      "VEERA BHRADHA KIRANA\n",
      "VEERABHADRA CUT MIT\n",
      "VEERABHADRA GENERAL\n",
      "VEMULASURENDRANATH G\n",
      "VENKAT RAJAM KIRANAM\n",
      "VENKATA SAI FANCY\n",
      "VENKATA SAI KIRANAM\n",
      "VENKATA SOUMYA KIRAN\n",
      "VENKATARAMANA FANCY\n",
      "VENKATASAI FANCY G\n",
      "VENKATASAI KIRAN MED\n",
      "VENKATASAI MEDICALS\n",
      "VENKATESHWAR KIRANAM\n",
      "VENKATESHWARA KIRANA\n",
      "VENKATESWARA GENERAL\n",
      "VENKATESWARLU GENERA\n",
      "VENKI FANCY LADIES\n",
      "VENU KIRANA\n",
      "VENU KIRANAM\n",
      "VENUGOPAL MEDICAL HA\n",
      "VIJATHA MEDICAL HALL\n",
      "VIJAYALAKSHIMI GENER\n",
      "VIJAYALAKSHMI FANCY\n",
      "VIJAYESWARI FANCY\n",
      "VIJAYESWARI GENERAL\n",
      "VIMAL TRADES\n",
      "VINAYAKA TRADERS\n",
      "VISHNAVI SM\n",
      "VISHNU FANCY STORE\n",
      "VISHNU GENERAL STORE\n",
      "VISHNU SAI MEDICALS\n",
      "VISION MEDICATE\n",
      "VISWANATH PROVISION\n",
      "VITAL PRASANNA KIRAN\n",
      "VIVEKANANDA PHARMANC\n",
      "VOWAL MEDICAL\n",
      "VYAVARE KIRANA\n",
      "V~ RAJAIAH KIRANAM\n",
      "V~B RAVIKUMAR KIRANA\n",
      "V~B~R GENERAL STORE\n",
      "V~B~R SONS KIRANAM\n",
      "V~B~RAMULU MEDICAL S\n",
      "V~GALAIAH KIRANA GEN\n",
      "V~KISTAIAH KIRANA GE\n",
      "V~P RAMAN\n",
      "V~RAJESHAM GENERAL S\n",
      "V~RAMASESHU GUPTA GE\n",
      "WADA PROV STORE\n",
      "WAHEED KIRANAM\n",
      "WANI PROV STORE\n",
      "YAIM KIRANAM\n",
      "YAMUNA MEDICALS\n",
      "YASVI DAWAKHANA\n",
      "YOUNIQUE\n",
      "YOUSUF MEDICATE\n",
      "Y~RAMULU KIRANAM\n",
      "Y~SAMPATH KIRANAM\n",
      "ZAHOOR PROV STORE\n",
      "ZAKIR KIRANAM\n",
      "ZIYA KIRANAM\n",
      "        Retailer Name  Total Sales Value  Average Bucket Value  \\\n",
      "0              A P KM           30027.80           5004.633333   \n",
      "0   AADINATH COSMETIC         3493361.48         205491.851765   \n",
      "0      AADITYA KIRANA           28685.60           2048.971429   \n",
      "0   AAINATH PROVISION           37356.64           2490.442667   \n",
      "0   AAKASH ENTERPRISE          996000.04          99600.004000   \n",
      "..                ...                ...                   ...   \n",
      "0    Y~RAMULU KIRANAM           23165.76           7721.920000   \n",
      "0   Y~SAMPATH KIRANAM           23923.32           3987.220000   \n",
      "0   ZAHOOR PROV STORE           21121.68           1920.152727   \n",
      "0       ZAKIR KIRANAM           15967.24           3991.810000   \n",
      "0        ZIYA KIRANAM           33285.68           4755.097143   \n",
      "\n",
      "    Average Product Count Apperance Plant Distributor Code CP Group1  \\\n",
      "0               10.666667         6  DP10             1056      None   \n",
      "0                3.294118        17  DP10             1073      None   \n",
      "0                6.428571        14  DP17            10143      None   \n",
      "0                8.000000        15  DP17            10143      None   \n",
      "0                3.400000        10  DP10             1073      None   \n",
      "..                    ...       ...   ...              ...       ...   \n",
      "0                6.666667         3  DP10             1030      None   \n",
      "0                5.666667         6  DP10             1030      None   \n",
      "0                5.272727        11  DP02            10176      None   \n",
      "0                5.500000         4  DP10             1030      None   \n",
      "0                5.714286         7  DP10             1030      None   \n",
      "\n",
      "              ZRT_CT1 RETAILER CATEGORY 2          ZRT_SCH  \n",
      "0              Retail             Grocery  Rural Marketing  \n",
      "0           Wholesale                  WS    General Trade  \n",
      "0              Retail             Grocery    General Trade  \n",
      "0              Retail             Grocery    General Trade  \n",
      "0   Wholesale Loyalty   Wholesale Loyalty    General Trade  \n",
      "..                ...                 ...              ...  \n",
      "0              Retail             Grocery    General Trade  \n",
      "0              Retail             Grocery    General Trade  \n",
      "0              Retail       General Store    General Trade  \n",
      "0              Retail             Grocery    General Trade  \n",
      "0              Retail             Grocery    General Trade  \n",
      "\n",
      "[1564 rows x 11 columns]\n"
     ]
    }
   ],
   "source": [
    "columns = ['Retailer Name', 'Total Sales Value', 'Average Bucket Value', 'Average Product Count', 'Apperance', 'Plant', 'Distributor Code', 'CP Group1', \n",
    "                'ZRT_CT1', 'RETAILER CATEGORY 2', 'ZRT_SCH']\n",
    "\n",
    "df = pd.DataFrame(columns = columns)\n",
    "\n",
    "\n",
    "for i in retailer_df['Retailer Name']:\n",
    "    if i != None and i != retailer_df['Retailer Name'][0] and i != list(retailer_df['Retailer Name'])[-1]:\n",
    "        print(i)\n",
    "        i = i.replace(\"'\", \"''\")\n",
    "        sql_query = f\"\"\"\n",
    "        SELECT \"Bill Number\", \"Retailer Name\", \"ZSEC_SAL\", \"ZTOT_DAMT\", \"4ZBIL_M02-0PLANT\", \"Distributor Code\", \n",
    "               \"CP Group1\", \"RETAILER CATEGORY 1\", \"RETAILER CATEGORY 2\", \"Retailer Subchannel\" \n",
    "        FROM EMAMI_DS_POC.ZBLI_M02 \n",
    "        WHERE \"Retailer Name\" = '{i}'\n",
    "        \"\"\"\n",
    "        x_df = DataFrame(CONN, sql_query).collect()\n",
    "\n",
    "        fields = ['Distributor Code', 'CP Group1']\n",
    "\n",
    "        for i in fields:\n",
    "            x_df[i] = x_df[i].str.lstrip('0')\n",
    "            # df[i] = df[i].str.rstrip('S')\n",
    "        \n",
    "        x_df['Retailer Name'] = x_df['Retailer Name'].str.rstrip('S')\n",
    "\n",
    "        \n",
    "\n",
    "        \n",
    "        fields = ['ZSEC_SAL', 'ZTOT_DAMT', '4ZBIL_M02-0PLANT', 'Distributor Code', 'CP Group1', 'RETAILER CATEGORY 1', 'RETAILER CATEGORY 2', 'Retailer Subchannel']\n",
    "\n",
    "        for i in fields[2:]:\n",
    "            x_df[i] = x_df[i].astype(str)\n",
    "        x_df[['ZSEC_SAL', 'ZTOT_DAMT']] = x_df[['ZSEC_SAL', 'ZTOT_DAMT']].astype(float)\n",
    "        # print(x_df.head(5))\n",
    "        # print(x_df.dtypes)\n",
    "\n",
    "        agg_function = {i : 'max' for i in fields}\n",
    "        agg_function['ZSEC_SAL'] = 'sum'\n",
    "        agg_function['ZTOT_DAMT'] = 'count'\n",
    "        \n",
    "        \n",
    "        x_df = x_df.groupby(['Bill Number','Retailer Name'])[fields].agg(agg_function).reset_index()\n",
    "        \n",
    "        # agg_function = {i : 'max' for i in fields}\n",
    "        agg_function['ZSEC_SAL'] = ['sum','mean']\n",
    "        agg_function['ZTOT_DAMT'] = ['mean', 'count']\n",
    "        x_df = x_df.groupby('Retailer Name')[fields].agg(agg_function).reset_index()\n",
    "        \n",
    "        \n",
    "        x_df.columns = columns\n",
    "        \n",
    "        x_df = x_df.dropna(axis=1)\n",
    "        df = pd.concat([df, x_df], axis=0)\n",
    "        # print(x_df)\n",
    "        \n",
    "\n",
    "print(df)"
   ]
  },
  {
   "cell_type": "code",
   "execution_count": null,
   "id": "3f8fb4ac-62a9-4e4f-a0dc-ab3f8cb2571d",
   "metadata": {},
   "outputs": [],
   "source": [
    "# columns = ['Retailer Name', 'Total Sales Value', 'Average Bucket Value', 'Average Product Count', 'Apperance', 'Plant', 'Distributor Code', 'CP Group1', \n",
    "#                 'ZRT_CT1', 'RETAILER CATEGORY 2', 'ZRT_SCH']\n",
    "\n",
    "# df = pd.DataFrame(columns = columns)\n",
    "\n",
    "# batch_size = 50\n",
    "# for i in range(0, len(retailer_names), batch_size):\n",
    "#     batch = retailer_names[i:i + batch_size]\n",
    "#     placeholders = ', '.join('?' for _ in batch)\n",
    "#     sql_query = f\"\"\"\n",
    "#     SELECT \"Bill Number\", \"Retailer Name\", \"ZSEC_SAL\", \"ZTOT_DAMT\", \"4ZBIL_M02-0PLANT\", \"Distributor Code\", \n",
    "#            \"CP Group1\", \"RETAILER CATEGORY 1\", \"RETAILER CATEGORY 2\", \"Retailer Subchannel\" \n",
    "#     FROM EMAMI_DS_POC.ZBLI_M02 \n",
    "#     WHERE \"Retailer Name\" IN ({placeholders})\n",
    "#     \"\"\"\n",
    "#     x_df = DataFrame(CONN, sql_query).collect()\n",
    "\n",
    "#     fields = ['Distributor Code', 'CP Group1']\n",
    "\n",
    "#     for i in fields:\n",
    "#         x_df[i] = x_df[i].str.lstrip('0')\n",
    "#         # df[i] = df[i].str.rstrip('S')\n",
    "    \n",
    "#     x_df['Retailer Name'] = x_df['Retailer Name'].str.rstrip('S')\n",
    "\n",
    "    \n",
    "\n",
    "    \n",
    "#     fields = ['ZSEC_SAL', 'ZTOT_DAMT', '4ZBIL_M02-0PLANT', 'Distributor Code', 'CP Group1', 'RETAILER CATEGORY 1', 'RETAILER CATEGORY 2', 'Retailer Subchannel']\n",
    "\n",
    "#     for i in fields[2:]:\n",
    "#         x_df[i] = x_df[i].astype(str)\n",
    "#     x_df[['ZSEC_SAL', 'ZTOT_DAMT']] = x_df[['ZSEC_SAL', 'ZTOT_DAMT']].astype(float)\n",
    "#     # print(x_df.head(5))\n",
    "#     # print(x_df.dtypes)\n",
    "\n",
    "#     agg_function = {i : 'max' for i in fields}\n",
    "#     agg_function['ZSEC_SAL'] = 'sum'\n",
    "#     agg_function['ZTOT_DAMT'] = 'count'\n",
    "    \n",
    "    \n",
    "#     x_df = x_df.groupby(['Bill Number','Retailer Name'])[fields].agg(agg_function).reset_index()\n",
    "    \n",
    "#     # agg_function = {i : 'max' for i in fields}\n",
    "#     agg_function['ZSEC_SAL'] = ['sum','mean']\n",
    "#     agg_function['ZTOT_DAMT'] = ['mean', 'count']\n",
    "#     x_df = x_df.groupby('Retailer Name')[fields].agg(agg_function).reset_index()\n",
    "    \n",
    "    \n",
    "#     x_df.columns = columns\n",
    "    \n",
    "#     x_df = x_df.dropna(axis=1)\n",
    "#     df = pd.concat([df, x_df], axis=0)\n",
    "\n",
    "# print(df)\n",
    "    "
   ]
  },
  {
   "cell_type": "code",
   "execution_count": 92,
   "id": "f55ec440-9738-404c-87db-d1bf4d3f579d",
   "metadata": {},
   "outputs": [
    {
     "data": {
      "text/html": [
       "<div>\n",
       "<style scoped>\n",
       "    .dataframe tbody tr th:only-of-type {\n",
       "        vertical-align: middle;\n",
       "    }\n",
       "\n",
       "    .dataframe tbody tr th {\n",
       "        vertical-align: top;\n",
       "    }\n",
       "\n",
       "    .dataframe thead th {\n",
       "        text-align: right;\n",
       "    }\n",
       "</style>\n",
       "<table border=\"1\" class=\"dataframe\">\n",
       "  <thead>\n",
       "    <tr style=\"text-align: right;\">\n",
       "      <th></th>\n",
       "      <th>Retailer Name</th>\n",
       "      <th>Total Sales Value</th>\n",
       "      <th>Average Bucket Value</th>\n",
       "      <th>Average Product Count</th>\n",
       "      <th>Apperance</th>\n",
       "      <th>Plant</th>\n",
       "      <th>Distributor Code</th>\n",
       "      <th>CP Group1</th>\n",
       "      <th>ZRT_CT1</th>\n",
       "      <th>RETAILER CATEGORY 2</th>\n",
       "      <th>ZRT_SCH</th>\n",
       "    </tr>\n",
       "  </thead>\n",
       "  <tbody>\n",
       "    <tr>\n",
       "      <th>0</th>\n",
       "      <td>A P KM</td>\n",
       "      <td>30027.80</td>\n",
       "      <td>5004.633333</td>\n",
       "      <td>10.666667</td>\n",
       "      <td>6</td>\n",
       "      <td>DP10</td>\n",
       "      <td>1056</td>\n",
       "      <td>None</td>\n",
       "      <td>Retail</td>\n",
       "      <td>Grocery</td>\n",
       "      <td>Rural Marketing</td>\n",
       "    </tr>\n",
       "    <tr>\n",
       "      <th>0</th>\n",
       "      <td>AADINATH COSMETIC</td>\n",
       "      <td>3493361.48</td>\n",
       "      <td>205491.851765</td>\n",
       "      <td>3.294118</td>\n",
       "      <td>17</td>\n",
       "      <td>DP10</td>\n",
       "      <td>1073</td>\n",
       "      <td>None</td>\n",
       "      <td>Wholesale</td>\n",
       "      <td>WS</td>\n",
       "      <td>General Trade</td>\n",
       "    </tr>\n",
       "    <tr>\n",
       "      <th>0</th>\n",
       "      <td>AADITYA KIRANA</td>\n",
       "      <td>28685.60</td>\n",
       "      <td>2048.971429</td>\n",
       "      <td>6.428571</td>\n",
       "      <td>14</td>\n",
       "      <td>DP17</td>\n",
       "      <td>10143</td>\n",
       "      <td>None</td>\n",
       "      <td>Retail</td>\n",
       "      <td>Grocery</td>\n",
       "      <td>General Trade</td>\n",
       "    </tr>\n",
       "    <tr>\n",
       "      <th>0</th>\n",
       "      <td>AAINATH PROVISION</td>\n",
       "      <td>37356.64</td>\n",
       "      <td>2490.442667</td>\n",
       "      <td>8.000000</td>\n",
       "      <td>15</td>\n",
       "      <td>DP17</td>\n",
       "      <td>10143</td>\n",
       "      <td>None</td>\n",
       "      <td>Retail</td>\n",
       "      <td>Grocery</td>\n",
       "      <td>General Trade</td>\n",
       "    </tr>\n",
       "    <tr>\n",
       "      <th>0</th>\n",
       "      <td>AAKASH ENTERPRISE</td>\n",
       "      <td>996000.04</td>\n",
       "      <td>99600.004000</td>\n",
       "      <td>3.400000</td>\n",
       "      <td>10</td>\n",
       "      <td>DP10</td>\n",
       "      <td>1073</td>\n",
       "      <td>None</td>\n",
       "      <td>Wholesale Loyalty</td>\n",
       "      <td>Wholesale Loyalty</td>\n",
       "      <td>General Trade</td>\n",
       "    </tr>\n",
       "    <tr>\n",
       "      <th>...</th>\n",
       "      <td>...</td>\n",
       "      <td>...</td>\n",
       "      <td>...</td>\n",
       "      <td>...</td>\n",
       "      <td>...</td>\n",
       "      <td>...</td>\n",
       "      <td>...</td>\n",
       "      <td>...</td>\n",
       "      <td>...</td>\n",
       "      <td>...</td>\n",
       "      <td>...</td>\n",
       "    </tr>\n",
       "    <tr>\n",
       "      <th>0</th>\n",
       "      <td>Y~RAMULU KIRANAM</td>\n",
       "      <td>23165.76</td>\n",
       "      <td>7721.920000</td>\n",
       "      <td>6.666667</td>\n",
       "      <td>3</td>\n",
       "      <td>DP10</td>\n",
       "      <td>1030</td>\n",
       "      <td>None</td>\n",
       "      <td>Retail</td>\n",
       "      <td>Grocery</td>\n",
       "      <td>General Trade</td>\n",
       "    </tr>\n",
       "    <tr>\n",
       "      <th>0</th>\n",
       "      <td>Y~SAMPATH KIRANAM</td>\n",
       "      <td>23923.32</td>\n",
       "      <td>3987.220000</td>\n",
       "      <td>5.666667</td>\n",
       "      <td>6</td>\n",
       "      <td>DP10</td>\n",
       "      <td>1030</td>\n",
       "      <td>None</td>\n",
       "      <td>Retail</td>\n",
       "      <td>Grocery</td>\n",
       "      <td>General Trade</td>\n",
       "    </tr>\n",
       "    <tr>\n",
       "      <th>0</th>\n",
       "      <td>ZAHOOR PROV STORE</td>\n",
       "      <td>21121.68</td>\n",
       "      <td>1920.152727</td>\n",
       "      <td>5.272727</td>\n",
       "      <td>11</td>\n",
       "      <td>DP02</td>\n",
       "      <td>10176</td>\n",
       "      <td>None</td>\n",
       "      <td>Retail</td>\n",
       "      <td>General Store</td>\n",
       "      <td>General Trade</td>\n",
       "    </tr>\n",
       "    <tr>\n",
       "      <th>0</th>\n",
       "      <td>ZAKIR KIRANAM</td>\n",
       "      <td>15967.24</td>\n",
       "      <td>3991.810000</td>\n",
       "      <td>5.500000</td>\n",
       "      <td>4</td>\n",
       "      <td>DP10</td>\n",
       "      <td>1030</td>\n",
       "      <td>None</td>\n",
       "      <td>Retail</td>\n",
       "      <td>Grocery</td>\n",
       "      <td>General Trade</td>\n",
       "    </tr>\n",
       "    <tr>\n",
       "      <th>0</th>\n",
       "      <td>ZIYA KIRANAM</td>\n",
       "      <td>33285.68</td>\n",
       "      <td>4755.097143</td>\n",
       "      <td>5.714286</td>\n",
       "      <td>7</td>\n",
       "      <td>DP10</td>\n",
       "      <td>1030</td>\n",
       "      <td>None</td>\n",
       "      <td>Retail</td>\n",
       "      <td>Grocery</td>\n",
       "      <td>General Trade</td>\n",
       "    </tr>\n",
       "  </tbody>\n",
       "</table>\n",
       "<p>1564 rows × 11 columns</p>\n",
       "</div>"
      ],
      "text/plain": [
       "        Retailer Name  Total Sales Value  Average Bucket Value  \\\n",
       "0              A P KM           30027.80           5004.633333   \n",
       "0   AADINATH COSMETIC         3493361.48         205491.851765   \n",
       "0      AADITYA KIRANA           28685.60           2048.971429   \n",
       "0   AAINATH PROVISION           37356.64           2490.442667   \n",
       "0   AAKASH ENTERPRISE          996000.04          99600.004000   \n",
       "..                ...                ...                   ...   \n",
       "0    Y~RAMULU KIRANAM           23165.76           7721.920000   \n",
       "0   Y~SAMPATH KIRANAM           23923.32           3987.220000   \n",
       "0   ZAHOOR PROV STORE           21121.68           1920.152727   \n",
       "0       ZAKIR KIRANAM           15967.24           3991.810000   \n",
       "0        ZIYA KIRANAM           33285.68           4755.097143   \n",
       "\n",
       "    Average Product Count Apperance Plant Distributor Code CP Group1  \\\n",
       "0               10.666667         6  DP10             1056      None   \n",
       "0                3.294118        17  DP10             1073      None   \n",
       "0                6.428571        14  DP17            10143      None   \n",
       "0                8.000000        15  DP17            10143      None   \n",
       "0                3.400000        10  DP10             1073      None   \n",
       "..                    ...       ...   ...              ...       ...   \n",
       "0                6.666667         3  DP10             1030      None   \n",
       "0                5.666667         6  DP10             1030      None   \n",
       "0                5.272727        11  DP02            10176      None   \n",
       "0                5.500000         4  DP10             1030      None   \n",
       "0                5.714286         7  DP10             1030      None   \n",
       "\n",
       "              ZRT_CT1 RETAILER CATEGORY 2          ZRT_SCH  \n",
       "0              Retail             Grocery  Rural Marketing  \n",
       "0           Wholesale                  WS    General Trade  \n",
       "0              Retail             Grocery    General Trade  \n",
       "0              Retail             Grocery    General Trade  \n",
       "0   Wholesale Loyalty   Wholesale Loyalty    General Trade  \n",
       "..                ...                 ...              ...  \n",
       "0              Retail             Grocery    General Trade  \n",
       "0              Retail             Grocery    General Trade  \n",
       "0              Retail       General Store    General Trade  \n",
       "0              Retail             Grocery    General Trade  \n",
       "0              Retail             Grocery    General Trade  \n",
       "\n",
       "[1564 rows x 11 columns]"
      ]
     },
     "execution_count": 92,
     "metadata": {},
     "output_type": "execute_result"
    }
   ],
   "source": [
    "df"
   ]
  },
  {
   "cell_type": "code",
   "execution_count": 290,
   "id": "28fb275c-0286-42cd-82ac-bab4115c1ec6",
   "metadata": {},
   "outputs": [],
   "source": [
    "# report = sv.analyze(df)\n",
    "# report.show_html('sweetviz_report.html')"
   ]
  },
  {
   "cell_type": "code",
   "execution_count": 293,
   "id": "3d1f3ff0-cdcb-49da-ae40-6640b1a9b908",
   "metadata": {},
   "outputs": [],
   "source": [
    "# fields = ['Distributor Code', 'DISTRIBUTOR HEAD QUA', 'CP Group1']\n",
    "\n",
    "# for i in fields:\n",
    "#     df[i] = df[i].str.lstrip('0')\n",
    "#     # df[i] = df[i].str.rstrip('S')\n",
    "\n",
    "# df['Retailer Name'] = df['Retailer Name'].str.rstrip('S')"
   ]
  },
  {
   "cell_type": "code",
   "execution_count": 294,
   "id": "ae3ea90b-bb4a-4262-b239-79f338f0d436",
   "metadata": {},
   "outputs": [],
   "source": [
    "# df['DISTRIBUTOR AREA CODE']"
   ]
  },
  {
   "cell_type": "code",
   "execution_count": 93,
   "id": "3286ae60-715b-4f2b-a310-8e4cb5a22118",
   "metadata": {},
   "outputs": [],
   "source": [
    "# bill_level_df = df.groupby(['Bill Number'])['ZSEC_SAL'].mean().reset_index()\n",
    "# df.groupby('Retailer Name')['Plant'].max()"
   ]
  },
  {
   "cell_type": "code",
   "execution_count": 296,
   "id": "fa9a7224-1f88-4754-b9a2-5189babbd69e",
   "metadata": {},
   "outputs": [
    {
     "data": {
      "text/html": [
       "<div>\n",
       "<style scoped>\n",
       "    .dataframe tbody tr th:only-of-type {\n",
       "        vertical-align: middle;\n",
       "    }\n",
       "\n",
       "    .dataframe tbody tr th {\n",
       "        vertical-align: top;\n",
       "    }\n",
       "\n",
       "    .dataframe thead th {\n",
       "        text-align: right;\n",
       "    }\n",
       "</style>\n",
       "<table border=\"1\" class=\"dataframe\">\n",
       "  <thead>\n",
       "    <tr style=\"text-align: right;\">\n",
       "      <th></th>\n",
       "      <th>Retailer Name</th>\n",
       "      <th>Total Sales Value</th>\n",
       "      <th>Average Bucket Value</th>\n",
       "      <th>Average Product Count</th>\n",
       "      <th>Apperance</th>\n",
       "      <th>Plant</th>\n",
       "      <th>Distributor Code</th>\n",
       "      <th>CP Group1</th>\n",
       "      <th>ZRT_CT1</th>\n",
       "      <th>RETAILER CATEGORY 2</th>\n",
       "      <th>ZRT_SCH</th>\n",
       "    </tr>\n",
       "  </thead>\n",
       "  <tbody>\n",
       "    <tr>\n",
       "      <th>0</th>\n",
       "      <td></td>\n",
       "      <td>31027.34</td>\n",
       "      <td>31027.34</td>\n",
       "      <td>9.000000</td>\n",
       "      <td>1</td>\n",
       "      <td>DP01</td>\n",
       "      <td>8570</td>\n",
       "      <td>35</td>\n",
       "      <td>Sub Stockist</td>\n",
       "      <td>Substockist Khoj</td>\n",
       "      <td>Super Stockist</td>\n",
       "    </tr>\n",
       "    <tr>\n",
       "      <th>1</th>\n",
       "      <td>ABHAYA MATA MEDICAL HALL</td>\n",
       "      <td>1185.15</td>\n",
       "      <td>395.05</td>\n",
       "      <td>2.000000</td>\n",
       "      <td>3</td>\n",
       "      <td>DP15</td>\n",
       "      <td>25946</td>\n",
       "      <td>10</td>\n",
       "      <td>Retail IQ</td>\n",
       "      <td>Chemist IQ</td>\n",
       "      <td>General Trade</td>\n",
       "    </tr>\n",
       "    <tr>\n",
       "      <th>2</th>\n",
       "      <td>ADI BANERJEE BHANDAR</td>\n",
       "      <td>997.71</td>\n",
       "      <td>332.57</td>\n",
       "      <td>2.000000</td>\n",
       "      <td>3</td>\n",
       "      <td>DP15</td>\n",
       "      <td>25946</td>\n",
       "      <td>10</td>\n",
       "      <td>Retail</td>\n",
       "      <td>Grocers</td>\n",
       "      <td>General Trade</td>\n",
       "    </tr>\n",
       "    <tr>\n",
       "      <th>3</th>\n",
       "      <td>ADI KALIMATA MEDICAL HALL</td>\n",
       "      <td>680.09</td>\n",
       "      <td>226.696667</td>\n",
       "      <td>1.666667</td>\n",
       "      <td>3</td>\n",
       "      <td>DP15</td>\n",
       "      <td>25946</td>\n",
       "      <td>10</td>\n",
       "      <td>Retail IQ</td>\n",
       "      <td>Chemist IQ</td>\n",
       "      <td>General Trade</td>\n",
       "    </tr>\n",
       "    <tr>\n",
       "      <th>4</th>\n",
       "      <td>ADITHYA MEDICAL</td>\n",
       "      <td>1803.03</td>\n",
       "      <td>300.505</td>\n",
       "      <td>4.000000</td>\n",
       "      <td>6</td>\n",
       "      <td>DP10</td>\n",
       "      <td>27720</td>\n",
       "      <td>10</td>\n",
       "      <td>Retail</td>\n",
       "      <td>Chemists</td>\n",
       "      <td>General Trade</td>\n",
       "    </tr>\n",
       "    <tr>\n",
       "      <th>...</th>\n",
       "      <td>...</td>\n",
       "      <td>...</td>\n",
       "      <td>...</td>\n",
       "      <td>...</td>\n",
       "      <td>...</td>\n",
       "      <td>...</td>\n",
       "      <td>...</td>\n",
       "      <td>...</td>\n",
       "      <td>...</td>\n",
       "      <td>...</td>\n",
       "      <td>...</td>\n",
       "    </tr>\n",
       "    <tr>\n",
       "      <th>751</th>\n",
       "      <td>V~P RAMAN</td>\n",
       "      <td>2588.74</td>\n",
       "      <td>287.637778</td>\n",
       "      <td>4.000000</td>\n",
       "      <td>9</td>\n",
       "      <td>DP10</td>\n",
       "      <td>27720</td>\n",
       "      <td>10</td>\n",
       "      <td>Retail</td>\n",
       "      <td>Fancy Store</td>\n",
       "      <td>General Trade</td>\n",
       "    </tr>\n",
       "    <tr>\n",
       "      <th>752</th>\n",
       "      <td>YAMUNA MEDICAL</td>\n",
       "      <td>841.62</td>\n",
       "      <td>280.54</td>\n",
       "      <td>4.333333</td>\n",
       "      <td>3</td>\n",
       "      <td>DP10</td>\n",
       "      <td>27720</td>\n",
       "      <td>10</td>\n",
       "      <td>Retail</td>\n",
       "      <td>Chemists</td>\n",
       "      <td>General Trade</td>\n",
       "    </tr>\n",
       "    <tr>\n",
       "      <th>753</th>\n",
       "      <td>YOUNIQUE</td>\n",
       "      <td>612.25</td>\n",
       "      <td>204.083333</td>\n",
       "      <td>1.333333</td>\n",
       "      <td>3</td>\n",
       "      <td>DP15</td>\n",
       "      <td>25946</td>\n",
       "      <td>10</td>\n",
       "      <td>Retail</td>\n",
       "      <td>General Store</td>\n",
       "      <td>General Trade</td>\n",
       "    </tr>\n",
       "    <tr>\n",
       "      <th>754</th>\n",
       "      <td>YUMNA TRADERS (SAVLI</td>\n",
       "      <td>588238.84</td>\n",
       "      <td>45249.141538</td>\n",
       "      <td>6.153846</td>\n",
       "      <td>13</td>\n",
       "      <td>DP01</td>\n",
       "      <td>8570</td>\n",
       "      <td>35</td>\n",
       "      <td>Sub Stockist Loyalty</td>\n",
       "      <td>Service to Trade Loyalty</td>\n",
       "      <td>Super Stockist</td>\n",
       "    </tr>\n",
       "    <tr>\n",
       "      <th>755</th>\n",
       "      <td>ZARA TEA TRADER</td>\n",
       "      <td>48508.36</td>\n",
       "      <td>16169.453333</td>\n",
       "      <td>4.000000</td>\n",
       "      <td>3</td>\n",
       "      <td>DP09</td>\n",
       "      <td>25643</td>\n",
       "      <td>35</td>\n",
       "      <td>Sub Stockist</td>\n",
       "      <td>Substockist Khoj</td>\n",
       "      <td>Super Stockist</td>\n",
       "    </tr>\n",
       "  </tbody>\n",
       "</table>\n",
       "<p>756 rows × 11 columns</p>\n",
       "</div>"
      ],
      "text/plain": [
       "                 Retailer Name Total Sales Value Average Bucket Value  \\\n",
       "0                                       31027.34             31027.34   \n",
       "1     ABHAYA MATA MEDICAL HALL           1185.15               395.05   \n",
       "2         ADI BANERJEE BHANDAR            997.71               332.57   \n",
       "3    ADI KALIMATA MEDICAL HALL            680.09           226.696667   \n",
       "4              ADITHYA MEDICAL           1803.03              300.505   \n",
       "..                         ...               ...                  ...   \n",
       "751                  V~P RAMAN           2588.74           287.637778   \n",
       "752             YAMUNA MEDICAL            841.62               280.54   \n",
       "753                   YOUNIQUE            612.25           204.083333   \n",
       "754       YUMNA TRADERS (SAVLI         588238.84         45249.141538   \n",
       "755            ZARA TEA TRADER          48508.36         16169.453333   \n",
       "\n",
       "     Average Product Count  Apperance Plant Distributor Code CP Group1  \\\n",
       "0                 9.000000          1  DP01             8570        35   \n",
       "1                 2.000000          3  DP15            25946        10   \n",
       "2                 2.000000          3  DP15            25946        10   \n",
       "3                 1.666667          3  DP15            25946        10   \n",
       "4                 4.000000          6  DP10            27720        10   \n",
       "..                     ...        ...   ...              ...       ...   \n",
       "751               4.000000          9  DP10            27720        10   \n",
       "752               4.333333          3  DP10            27720        10   \n",
       "753               1.333333          3  DP15            25946        10   \n",
       "754               6.153846         13  DP01             8570        35   \n",
       "755               4.000000          3  DP09            25643        35   \n",
       "\n",
       "                  ZRT_CT1       RETAILER CATEGORY 2         ZRT_SCH  \n",
       "0            Sub Stockist          Substockist Khoj  Super Stockist  \n",
       "1               Retail IQ                Chemist IQ   General Trade  \n",
       "2                  Retail                   Grocers   General Trade  \n",
       "3               Retail IQ                Chemist IQ   General Trade  \n",
       "4                  Retail                  Chemists   General Trade  \n",
       "..                    ...                       ...             ...  \n",
       "751                Retail               Fancy Store   General Trade  \n",
       "752                Retail                  Chemists   General Trade  \n",
       "753                Retail             General Store   General Trade  \n",
       "754  Sub Stockist Loyalty  Service to Trade Loyalty  Super Stockist  \n",
       "755          Sub Stockist          Substockist Khoj  Super Stockist  \n",
       "\n",
       "[756 rows x 11 columns]"
      ]
     },
     "execution_count": 296,
     "metadata": {},
     "output_type": "execute_result"
    }
   ],
   "source": [
    "# fields = ['ZSEC_SAL', 'ZTOT_DAMT', 'Plant', 'Distributor Code', 'CP Group1', 'ZRT_CT1', 'RETAILER CATEGORY 2', 'ZRT_SCH',]\n",
    "\n",
    "# agg_function = {i : 'max' for i in fields}\n",
    "# agg_function['ZSEC_SAL'] = 'sum'\n",
    "# agg_function['ZTOT_DAMT'] = 'count'\n",
    "\n",
    "\n",
    "# x_df = df.groupby(['Bill Number','Retailer Name'])[fields].agg(agg_function).reset_index()\n",
    "\n",
    "# # agg_function = {i : 'max' for i in fields}\n",
    "# agg_function['ZSEC_SAL'] = ['sum','mean']\n",
    "# agg_function['ZTOT_DAMT'] = ['mean', 'count']\n",
    "# x_df = x_df.groupby('Retailer Name')[fields].agg(agg_function).reset_index()\n",
    "\n",
    "# columns = ['Retailer Name', 'Total Sales Value', 'Average Bucket Value', 'Average Product Count', 'Apperance', 'Plant', 'Distributor Code', 'CP Group1', \n",
    "#         'ZRT_CT1', 'RETAILER CATEGORY 2', 'ZRT_SCH']\n",
    "# x_df.columns = columns\n",
    "\n",
    "# x_df = x_df.dropna(axis=1)\n",
    "# x_df"
   ]
  },
  {
   "cell_type": "code",
   "execution_count": 297,
   "id": "dea64115-457b-4648-bcee-e30e7e043e89",
   "metadata": {},
   "outputs": [],
   "source": [
    "# x_df['Retailer Name'].value_counts()"
   ]
  },
  {
   "cell_type": "code",
   "execution_count": 298,
   "id": "ec34bc3e-d125-41fe-ba32-6ae79990abf7",
   "metadata": {},
   "outputs": [],
   "source": [
    "# df.groupby(['Retailer Name', 'ZBRNDCODE'])['ZSEC_SAL'].mean().reset_index()\n",
    "# x_df[['Total Sales Value', 'Average Bucket Value', 'Average Product Count', 'Apperance']] = x_df[['Total Sales Value', 'Average Bucket Value', 'Average Product Count', 'Apperance']].astype(float)"
   ]
  },
  {
   "cell_type": "code",
   "execution_count": 94,
   "id": "d59f4737-bd2f-47b4-b4eb-dc91a9f475f6",
   "metadata": {},
   "outputs": [
    {
     "name": "stderr",
     "output_type": "stream",
     "text": [
      "100%|████████████████████████████████████████████████████████████████████████████████████| 1/1 [00:00<00:00,  1.03it/s]\n"
     ]
    },
    {
     "data": {
      "text/plain": [
       "<hana_ml.dataframe.DataFrame at 0x20ff3d8ede0>"
      ]
     },
     "execution_count": 94,
     "metadata": {},
     "output_type": "execute_result"
    }
   ],
   "source": [
    "# push data into db\n",
    "\n",
    "create_dataframe_from_pandas(\n",
    "        CONN,\n",
    "        df,\n",
    "        \"TEST_RETAIL_CLUSTER_TRAIN\",\n",
    "        \"EMAMI_DS_POC#DBUSER\",\n",
    "        force=True,\n",
    "        replace=True,\n",
    "        drop_exist_tab=True\n",
    "    )"
   ]
  },
  {
   "cell_type": "code",
   "execution_count": 95,
   "id": "a08ac94d-9cda-4a24-87a4-b9b3ed96b9d5",
   "metadata": {},
   "outputs": [
    {
     "data": {
      "text/plain": [
       "Retailer Name             object\n",
       "Total Sales Value        float64\n",
       "Average Bucket Value     float64\n",
       "Average Product Count    float64\n",
       "Apperance                  int64\n",
       "Plant                     object\n",
       "Distributor Code          object\n",
       "CP Group1                 object\n",
       "ZRT_CT1                   object\n",
       "RETAILER CATEGORY 2       object\n",
       "ZRT_SCH                   object\n",
       "dtype: object"
      ]
     },
     "execution_count": 95,
     "metadata": {},
     "output_type": "execute_result"
    }
   ],
   "source": [
    "x_df.dtypes"
   ]
  },
  {
   "cell_type": "code",
   "execution_count": null,
   "id": "2e04ab11-a7fe-43a5-9b5c-dcba7223f522",
   "metadata": {},
   "outputs": [],
   "source": []
  },
  {
   "cell_type": "code",
   "execution_count": null,
   "id": "6e37b2e4-123a-40da-b748-dfa25c42b136",
   "metadata": {},
   "outputs": [],
   "source": []
  },
  {
   "cell_type": "code",
   "execution_count": null,
   "id": "efaf26b1-77e5-48c6-a02c-b4e3573df176",
   "metadata": {},
   "outputs": [],
   "source": []
  },
  {
   "cell_type": "code",
   "execution_count": null,
   "id": "01e9ddfb-5f63-4a2e-86ed-cb7baa9c957d",
   "metadata": {},
   "outputs": [],
   "source": []
  },
  {
   "cell_type": "code",
   "execution_count": null,
   "id": "d5538b5d-d948-473b-8308-f308676278a4",
   "metadata": {},
   "outputs": [],
   "source": []
  },
  {
   "cell_type": "code",
   "execution_count": 96,
   "id": "9d21a3e9-c01a-4d2e-95d1-6ace8182f81b",
   "metadata": {
    "scrolled": true
   },
   "outputs": [
    {
     "data": {
      "text/html": [
       "<div>\n",
       "<style scoped>\n",
       "    .dataframe tbody tr th:only-of-type {\n",
       "        vertical-align: middle;\n",
       "    }\n",
       "\n",
       "    .dataframe tbody tr th {\n",
       "        vertical-align: top;\n",
       "    }\n",
       "\n",
       "    .dataframe thead th {\n",
       "        text-align: right;\n",
       "    }\n",
       "</style>\n",
       "<table border=\"1\" class=\"dataframe\">\n",
       "  <thead>\n",
       "    <tr style=\"text-align: right;\">\n",
       "      <th></th>\n",
       "      <th>Retailer Name</th>\n",
       "      <th>Total Sales Value</th>\n",
       "      <th>Average Bucket Value</th>\n",
       "      <th>Average Product Count</th>\n",
       "      <th>Apperance</th>\n",
       "      <th>Plant</th>\n",
       "      <th>Distributor Code</th>\n",
       "      <th>CP Group1</th>\n",
       "      <th>ZRT_CT1</th>\n",
       "      <th>RETAILER CATEGORY 2</th>\n",
       "      <th>ZRT_SCH</th>\n",
       "    </tr>\n",
       "  </thead>\n",
       "  <tbody>\n",
       "    <tr>\n",
       "      <th>0</th>\n",
       "      <td>A P KM</td>\n",
       "      <td>30027.80</td>\n",
       "      <td>5004.633333</td>\n",
       "      <td>10.666667</td>\n",
       "      <td>6</td>\n",
       "      <td>DP10</td>\n",
       "      <td>1056</td>\n",
       "      <td>None</td>\n",
       "      <td>Retail</td>\n",
       "      <td>Grocery</td>\n",
       "      <td>Rural Marketing</td>\n",
       "    </tr>\n",
       "    <tr>\n",
       "      <th>1</th>\n",
       "      <td>AADINATH COSMETIC</td>\n",
       "      <td>3493361.48</td>\n",
       "      <td>205491.851765</td>\n",
       "      <td>3.294118</td>\n",
       "      <td>17</td>\n",
       "      <td>DP10</td>\n",
       "      <td>1073</td>\n",
       "      <td>None</td>\n",
       "      <td>Wholesale</td>\n",
       "      <td>WS</td>\n",
       "      <td>General Trade</td>\n",
       "    </tr>\n",
       "    <tr>\n",
       "      <th>2</th>\n",
       "      <td>AADITYA KIRANA</td>\n",
       "      <td>28685.60</td>\n",
       "      <td>2048.971429</td>\n",
       "      <td>6.428571</td>\n",
       "      <td>14</td>\n",
       "      <td>DP17</td>\n",
       "      <td>10143</td>\n",
       "      <td>None</td>\n",
       "      <td>Retail</td>\n",
       "      <td>Grocery</td>\n",
       "      <td>General Trade</td>\n",
       "    </tr>\n",
       "    <tr>\n",
       "      <th>3</th>\n",
       "      <td>AAINATH PROVISION</td>\n",
       "      <td>37356.64</td>\n",
       "      <td>2490.442667</td>\n",
       "      <td>8.000000</td>\n",
       "      <td>15</td>\n",
       "      <td>DP17</td>\n",
       "      <td>10143</td>\n",
       "      <td>None</td>\n",
       "      <td>Retail</td>\n",
       "      <td>Grocery</td>\n",
       "      <td>General Trade</td>\n",
       "    </tr>\n",
       "    <tr>\n",
       "      <th>4</th>\n",
       "      <td>AAKASH ENTERPRISE</td>\n",
       "      <td>996000.04</td>\n",
       "      <td>99600.004000</td>\n",
       "      <td>3.400000</td>\n",
       "      <td>10</td>\n",
       "      <td>DP10</td>\n",
       "      <td>1073</td>\n",
       "      <td>None</td>\n",
       "      <td>Wholesale Loyalty</td>\n",
       "      <td>Wholesale Loyalty</td>\n",
       "      <td>General Trade</td>\n",
       "    </tr>\n",
       "    <tr>\n",
       "      <th>...</th>\n",
       "      <td>...</td>\n",
       "      <td>...</td>\n",
       "      <td>...</td>\n",
       "      <td>...</td>\n",
       "      <td>...</td>\n",
       "      <td>...</td>\n",
       "      <td>...</td>\n",
       "      <td>...</td>\n",
       "      <td>...</td>\n",
       "      <td>...</td>\n",
       "      <td>...</td>\n",
       "    </tr>\n",
       "    <tr>\n",
       "      <th>1559</th>\n",
       "      <td>Y~RAMULU KIRANAM</td>\n",
       "      <td>23165.76</td>\n",
       "      <td>7721.920000</td>\n",
       "      <td>6.666667</td>\n",
       "      <td>3</td>\n",
       "      <td>DP10</td>\n",
       "      <td>1030</td>\n",
       "      <td>None</td>\n",
       "      <td>Retail</td>\n",
       "      <td>Grocery</td>\n",
       "      <td>General Trade</td>\n",
       "    </tr>\n",
       "    <tr>\n",
       "      <th>1560</th>\n",
       "      <td>Y~SAMPATH KIRANAM</td>\n",
       "      <td>23923.32</td>\n",
       "      <td>3987.220000</td>\n",
       "      <td>5.666667</td>\n",
       "      <td>6</td>\n",
       "      <td>DP10</td>\n",
       "      <td>1030</td>\n",
       "      <td>None</td>\n",
       "      <td>Retail</td>\n",
       "      <td>Grocery</td>\n",
       "      <td>General Trade</td>\n",
       "    </tr>\n",
       "    <tr>\n",
       "      <th>1561</th>\n",
       "      <td>ZAHOOR PROV STORE</td>\n",
       "      <td>21121.68</td>\n",
       "      <td>1920.152727</td>\n",
       "      <td>5.272727</td>\n",
       "      <td>11</td>\n",
       "      <td>DP02</td>\n",
       "      <td>10176</td>\n",
       "      <td>None</td>\n",
       "      <td>Retail</td>\n",
       "      <td>General Store</td>\n",
       "      <td>General Trade</td>\n",
       "    </tr>\n",
       "    <tr>\n",
       "      <th>1562</th>\n",
       "      <td>ZAKIR KIRANAM</td>\n",
       "      <td>15967.24</td>\n",
       "      <td>3991.810000</td>\n",
       "      <td>5.500000</td>\n",
       "      <td>4</td>\n",
       "      <td>DP10</td>\n",
       "      <td>1030</td>\n",
       "      <td>None</td>\n",
       "      <td>Retail</td>\n",
       "      <td>Grocery</td>\n",
       "      <td>General Trade</td>\n",
       "    </tr>\n",
       "    <tr>\n",
       "      <th>1563</th>\n",
       "      <td>ZIYA KIRANAM</td>\n",
       "      <td>33285.68</td>\n",
       "      <td>4755.097143</td>\n",
       "      <td>5.714286</td>\n",
       "      <td>7</td>\n",
       "      <td>DP10</td>\n",
       "      <td>1030</td>\n",
       "      <td>None</td>\n",
       "      <td>Retail</td>\n",
       "      <td>Grocery</td>\n",
       "      <td>General Trade</td>\n",
       "    </tr>\n",
       "  </tbody>\n",
       "</table>\n",
       "<p>1564 rows × 11 columns</p>\n",
       "</div>"
      ],
      "text/plain": [
       "          Retailer Name  Total Sales Value  Average Bucket Value  \\\n",
       "0                A P KM           30027.80           5004.633333   \n",
       "1     AADINATH COSMETIC         3493361.48         205491.851765   \n",
       "2        AADITYA KIRANA           28685.60           2048.971429   \n",
       "3     AAINATH PROVISION           37356.64           2490.442667   \n",
       "4     AAKASH ENTERPRISE          996000.04          99600.004000   \n",
       "...                 ...                ...                   ...   \n",
       "1559   Y~RAMULU KIRANAM           23165.76           7721.920000   \n",
       "1560  Y~SAMPATH KIRANAM           23923.32           3987.220000   \n",
       "1561  ZAHOOR PROV STORE           21121.68           1920.152727   \n",
       "1562      ZAKIR KIRANAM           15967.24           3991.810000   \n",
       "1563       ZIYA KIRANAM           33285.68           4755.097143   \n",
       "\n",
       "      Average Product Count Apperance Plant Distributor Code CP Group1  \\\n",
       "0                 10.666667         6  DP10             1056      None   \n",
       "1                  3.294118        17  DP10             1073      None   \n",
       "2                  6.428571        14  DP17            10143      None   \n",
       "3                  8.000000        15  DP17            10143      None   \n",
       "4                  3.400000        10  DP10             1073      None   \n",
       "...                     ...       ...   ...              ...       ...   \n",
       "1559               6.666667         3  DP10             1030      None   \n",
       "1560               5.666667         6  DP10             1030      None   \n",
       "1561               5.272727        11  DP02            10176      None   \n",
       "1562               5.500000         4  DP10             1030      None   \n",
       "1563               5.714286         7  DP10             1030      None   \n",
       "\n",
       "                ZRT_CT1 RETAILER CATEGORY 2          ZRT_SCH  \n",
       "0                Retail             Grocery  Rural Marketing  \n",
       "1             Wholesale                  WS    General Trade  \n",
       "2                Retail             Grocery    General Trade  \n",
       "3                Retail             Grocery    General Trade  \n",
       "4     Wholesale Loyalty   Wholesale Loyalty    General Trade  \n",
       "...                 ...                 ...              ...  \n",
       "1559             Retail             Grocery    General Trade  \n",
       "1560             Retail             Grocery    General Trade  \n",
       "1561             Retail       General Store    General Trade  \n",
       "1562             Retail             Grocery    General Trade  \n",
       "1563             Retail             Grocery    General Trade  \n",
       "\n",
       "[1564 rows x 11 columns]"
      ]
     },
     "execution_count": 96,
     "metadata": {},
     "output_type": "execute_result"
    }
   ],
   "source": [
    "train_df =  DataFrame(CONN, 'select * from EMAMI_DS_POC#DBUSER.TEST_RETAIL_CLUSTER_TRAIN')\n",
    "train_df.collect()"
   ]
  },
  {
   "cell_type": "code",
   "execution_count": 97,
   "id": "ca468d69-54be-4751-9b3c-64fd58e8d32a",
   "metadata": {},
   "outputs": [
    {
     "data": {
      "text/plain": [
       "Retailer Name\n",
       "ARATI STORE             2\n",
       "LAXMI MEDICAL           2\n",
       "V~P RAMAN               1\n",
       "V~KISTAIAH KIRANA GE    1\n",
       "ABRAR PHARMACY          1\n",
       "                       ..\n",
       "V~B~R GENERAL STORE     1\n",
       "V~B~R SONS KIRANAM      1\n",
       "V~B~RAMULU MEDICAL      1\n",
       "V~GALAIAH KIRANA GEN    1\n",
       "AKRAM KIRANAM           1\n",
       "Name: count, Length: 1562, dtype: int64"
      ]
     },
     "execution_count": 97,
     "metadata": {},
     "output_type": "execute_result"
    }
   ],
   "source": [
    "train_df.collect()['Retailer Name'].value_counts()"
   ]
  },
  {
   "cell_type": "code",
   "execution_count": 98,
   "id": "6900505b-1baf-427d-929e-226539f60431",
   "metadata": {},
   "outputs": [
    {
     "data": {
      "text/plain": [
       "[('Retailer Name', 'NVARCHAR', 5000, 5000, 5000, 0),\n",
       " ('Total Sales Value', 'DOUBLE', 15, 15, 15, 0),\n",
       " ('Average Bucket Value', 'DOUBLE', 15, 15, 15, 0),\n",
       " ('Average Product Count', 'DOUBLE', 15, 15, 15, 0),\n",
       " ('Apperance', 'NVARCHAR', 5000, 5000, 5000, 0),\n",
       " ('Plant', 'NVARCHAR', 5000, 5000, 5000, 0),\n",
       " ('Distributor Code', 'NVARCHAR', 5000, 5000, 5000, 0),\n",
       " ('CP Group1', 'NVARCHAR', 5000, 5000, 5000, 0),\n",
       " ('ZRT_CT1', 'NVARCHAR', 5000, 5000, 5000, 0),\n",
       " ('RETAILER CATEGORY 2', 'NVARCHAR', 5000, 5000, 5000, 0),\n",
       " ('ZRT_SCH', 'NVARCHAR', 5000, 5000, 5000, 0)]"
      ]
     },
     "execution_count": 98,
     "metadata": {},
     "output_type": "execute_result"
    }
   ],
   "source": [
    "train_df.dtypes()"
   ]
  },
  {
   "cell_type": "code",
   "execution_count": 99,
   "id": "f6d8f2c9-1d92-4113-b015-732e4ca329e6",
   "metadata": {},
   "outputs": [],
   "source": [
    "# from hana_ml.visualizers.dataset_report import DatasetReportBuilder\n",
    "# datasetReportBuilder = DatasetReportBuilder()\n",
    "# datasetReportBuilder.build(train_df, key=\"Retailer Name\")\n",
    "# datasetReportBuilder.generate_notebook_iframe_report()"
   ]
  },
  {
   "cell_type": "code",
   "execution_count": 136,
   "id": "1e6dff89-347c-454f-9c18-8105c941abf1",
   "metadata": {},
   "outputs": [
    {
     "data": {
      "text/html": [
       "<div>\n",
       "<style scoped>\n",
       "    .dataframe tbody tr th:only-of-type {\n",
       "        vertical-align: middle;\n",
       "    }\n",
       "\n",
       "    .dataframe tbody tr th {\n",
       "        vertical-align: top;\n",
       "    }\n",
       "\n",
       "    .dataframe thead th {\n",
       "        text-align: right;\n",
       "    }\n",
       "</style>\n",
       "<table border=\"1\" class=\"dataframe\">\n",
       "  <thead>\n",
       "    <tr style=\"text-align: right;\">\n",
       "      <th></th>\n",
       "      <th>Retailer Name</th>\n",
       "      <th>Total Sales Value</th>\n",
       "      <th>Average Bucket Value</th>\n",
       "      <th>Average Product Count</th>\n",
       "      <th>Apperance</th>\n",
       "    </tr>\n",
       "  </thead>\n",
       "  <tbody>\n",
       "    <tr>\n",
       "      <th>0</th>\n",
       "      <td>A P KM</td>\n",
       "      <td>30027.80</td>\n",
       "      <td>5004.633333</td>\n",
       "      <td>10.666667</td>\n",
       "      <td>6</td>\n",
       "    </tr>\n",
       "    <tr>\n",
       "      <th>1</th>\n",
       "      <td>AADINATH COSMETIC</td>\n",
       "      <td>3493361.48</td>\n",
       "      <td>205491.851765</td>\n",
       "      <td>3.294118</td>\n",
       "      <td>17</td>\n",
       "    </tr>\n",
       "    <tr>\n",
       "      <th>2</th>\n",
       "      <td>AADITYA KIRANA</td>\n",
       "      <td>28685.60</td>\n",
       "      <td>2048.971429</td>\n",
       "      <td>6.428571</td>\n",
       "      <td>14</td>\n",
       "    </tr>\n",
       "    <tr>\n",
       "      <th>3</th>\n",
       "      <td>AAINATH PROVISION</td>\n",
       "      <td>37356.64</td>\n",
       "      <td>2490.442667</td>\n",
       "      <td>8.000000</td>\n",
       "      <td>15</td>\n",
       "    </tr>\n",
       "    <tr>\n",
       "      <th>4</th>\n",
       "      <td>AAKASH ENTERPRISE</td>\n",
       "      <td>996000.04</td>\n",
       "      <td>99600.004000</td>\n",
       "      <td>3.400000</td>\n",
       "      <td>10</td>\n",
       "    </tr>\n",
       "    <tr>\n",
       "      <th>...</th>\n",
       "      <td>...</td>\n",
       "      <td>...</td>\n",
       "      <td>...</td>\n",
       "      <td>...</td>\n",
       "      <td>...</td>\n",
       "    </tr>\n",
       "    <tr>\n",
       "      <th>1559</th>\n",
       "      <td>Y~RAMULU KIRANAM</td>\n",
       "      <td>23165.76</td>\n",
       "      <td>7721.920000</td>\n",
       "      <td>6.666667</td>\n",
       "      <td>3</td>\n",
       "    </tr>\n",
       "    <tr>\n",
       "      <th>1560</th>\n",
       "      <td>Y~SAMPATH KIRANAM</td>\n",
       "      <td>23923.32</td>\n",
       "      <td>3987.220000</td>\n",
       "      <td>5.666667</td>\n",
       "      <td>6</td>\n",
       "    </tr>\n",
       "    <tr>\n",
       "      <th>1561</th>\n",
       "      <td>ZAHOOR PROV STORE</td>\n",
       "      <td>21121.68</td>\n",
       "      <td>1920.152727</td>\n",
       "      <td>5.272727</td>\n",
       "      <td>11</td>\n",
       "    </tr>\n",
       "    <tr>\n",
       "      <th>1562</th>\n",
       "      <td>ZAKIR KIRANAM</td>\n",
       "      <td>15967.24</td>\n",
       "      <td>3991.810000</td>\n",
       "      <td>5.500000</td>\n",
       "      <td>4</td>\n",
       "    </tr>\n",
       "    <tr>\n",
       "      <th>1563</th>\n",
       "      <td>ZIYA KIRANAM</td>\n",
       "      <td>33285.68</td>\n",
       "      <td>4755.097143</td>\n",
       "      <td>5.714286</td>\n",
       "      <td>7</td>\n",
       "    </tr>\n",
       "  </tbody>\n",
       "</table>\n",
       "<p>1564 rows × 5 columns</p>\n",
       "</div>"
      ],
      "text/plain": [
       "          Retailer Name  Total Sales Value  Average Bucket Value  \\\n",
       "0                A P KM           30027.80           5004.633333   \n",
       "1     AADINATH COSMETIC         3493361.48         205491.851765   \n",
       "2        AADITYA KIRANA           28685.60           2048.971429   \n",
       "3     AAINATH PROVISION           37356.64           2490.442667   \n",
       "4     AAKASH ENTERPRISE          996000.04          99600.004000   \n",
       "...                 ...                ...                   ...   \n",
       "1559   Y~RAMULU KIRANAM           23165.76           7721.920000   \n",
       "1560  Y~SAMPATH KIRANAM           23923.32           3987.220000   \n",
       "1561  ZAHOOR PROV STORE           21121.68           1920.152727   \n",
       "1562      ZAKIR KIRANAM           15967.24           3991.810000   \n",
       "1563       ZIYA KIRANAM           33285.68           4755.097143   \n",
       "\n",
       "      Average Product Count Apperance  \n",
       "0                 10.666667         6  \n",
       "1                  3.294118        17  \n",
       "2                  6.428571        14  \n",
       "3                  8.000000        15  \n",
       "4                  3.400000        10  \n",
       "...                     ...       ...  \n",
       "1559               6.666667         3  \n",
       "1560               5.666667         6  \n",
       "1561               5.272727        11  \n",
       "1562               5.500000         4  \n",
       "1563               5.714286         7  \n",
       "\n",
       "[1564 rows x 5 columns]"
      ]
     },
     "execution_count": 136,
     "metadata": {},
     "output_type": "execute_result"
    }
   ],
   "source": [
    "train_fields = ['Retailer Name', 'Total Sales Value', 'Average Bucket Value', 'Average Product Count', 'Apperance']\n",
    "train_df[train_fields].collect()"
   ]
  },
  {
   "cell_type": "code",
   "execution_count": 137,
   "id": "7c72f836-2c67-4198-a1db-0a64bfaac3ac",
   "metadata": {},
   "outputs": [],
   "source": [
    "# train_df.collect()"
   ]
  },
  {
   "cell_type": "code",
   "execution_count": 138,
   "id": "fd0a1780-2ccc-423b-b75b-6143d973ab9c",
   "metadata": {},
   "outputs": [
    {
     "data": {
      "text/plain": [
       "<hana_ml.algorithms.apl.clustering.AutoUnsupervisedClustering at 0x20ff743c950>"
      ]
     },
     "execution_count": 138,
     "metadata": {},
     "output_type": "execute_result"
    }
   ],
   "source": [
    "model = AutoUnsupervisedClustering(CONN, nb_clusters=4)\n",
    "model.fit(data=train_df[train_fields], key='Retailer Name')\n",
    "# model.fit(data=train_df, key='Retailer Name')"
   ]
  },
  {
   "cell_type": "code",
   "execution_count": 139,
   "id": "696fe724-c216-4c0d-83e9-b111b0ba015e",
   "metadata": {},
   "outputs": [
    {
     "data": {
      "text/plain": [
       "{'SimplifiedSilhouette': {1: np.float64(0.3752215214470933),\n",
       "  2: np.float64(0.30546181721620075),\n",
       "  3: np.float64(0.43050235777862556),\n",
       "  4: np.float64(0.41828181772242595)},\n",
       " 'RSS': {1: np.float64(35.08747667278605),\n",
       "  2: np.float64(36.690394053562336),\n",
       "  3: np.float64(43.713550403796),\n",
       "  4: np.float64(26.321691581904062)},\n",
       " 'IntraInertia': {1: np.float64(0.36172656363696964),\n",
       "  2: np.float64(0.35970974562316016),\n",
       "  3: np.float64(0.3262205254014627),\n",
       "  4: np.float64(0.2713576451742687)},\n",
       " 'Frequency': {1: np.float64(0.21781305114638447),\n",
       "  2: np.float64(0.23192239858906524),\n",
       "  3: np.float64(0.3298059964726631),\n",
       "  4: np.float64(0.2204585537918871)},\n",
       " 'KL': {np.int64(1): OrderedDict([('Total Sales Value', 0.8970358267045748),\n",
       "               ('Apperance', 0.6966719072847237),\n",
       "               ('Average Bucket Value', 0.6122373586729706),\n",
       "               ('Average Product Count', 0.11429511312104236)]),\n",
       "  np.int64(2): OrderedDict([('Average Product Count', 0.2880534551025739),\n",
       "               ('Apperance', 0.277148854839877),\n",
       "               ('Average Bucket Value', 0.22273274992846193),\n",
       "               ('Total Sales Value', 0.19756949728619075)]),\n",
       "  np.int64(3): OrderedDict([('Average Product Count', 0.5501060501480394),\n",
       "               ('Total Sales Value', 0.5031091607231916),\n",
       "               ('Average Bucket Value', 0.39178864396242774),\n",
       "               ('Apperance', 0.27913359743976085)]),\n",
       "  np.int64(4): OrderedDict([('Average Bucket Value', 0.6176342560724987),\n",
       "               ('Apperance', 0.4818568209694022),\n",
       "               ('Average Product Count', 0.46696356059749244),\n",
       "               ('Total Sales Value', 0.43812929545868784)])}}"
      ]
     },
     "execution_count": 139,
     "metadata": {},
     "output_type": "execute_result"
    }
   ],
   "source": [
    "model.get_metrics()"
   ]
  },
  {
   "cell_type": "code",
   "execution_count": 140,
   "id": "eb9da1c5-1d65-4f1e-b40d-8d30f146ca99",
   "metadata": {},
   "outputs": [],
   "source": [
    "pred_df = model.predict(train_df)\n",
    "#pred_df.collect()"
   ]
  },
  {
   "cell_type": "code",
   "execution_count": 141,
   "id": "43705b9d-197e-4eb7-b6a1-2a5519d32487",
   "metadata": {},
   "outputs": [],
   "source": [
    "# print(CONN.)\n",
    "# model.get_predict_execute_statement()"
   ]
  },
  {
   "cell_type": "code",
   "execution_count": 142,
   "id": "5447fa74-634e-4cf1-9dd1-5d3d63e50663",
   "metadata": {},
   "outputs": [],
   "source": [
    "pred_pandas_df = pred_df.collect()"
   ]
  },
  {
   "cell_type": "code",
   "execution_count": 143,
   "id": "f9dc12bd-526f-4f8a-8bfb-157899a866eb",
   "metadata": {},
   "outputs": [
    {
     "data": {
      "text/html": [
       "<div>\n",
       "<style scoped>\n",
       "    .dataframe tbody tr th:only-of-type {\n",
       "        vertical-align: middle;\n",
       "    }\n",
       "\n",
       "    .dataframe tbody tr th {\n",
       "        vertical-align: top;\n",
       "    }\n",
       "\n",
       "    .dataframe thead th {\n",
       "        text-align: right;\n",
       "    }\n",
       "</style>\n",
       "<table border=\"1\" class=\"dataframe\">\n",
       "  <thead>\n",
       "    <tr style=\"text-align: right;\">\n",
       "      <th></th>\n",
       "      <th>Retailer Name</th>\n",
       "      <th>CLOSEST_CLUSTER_1</th>\n",
       "      <th>DISTANCE_TO_CLOSEST_CENTROID_1</th>\n",
       "    </tr>\n",
       "  </thead>\n",
       "  <tbody>\n",
       "    <tr>\n",
       "      <th>0</th>\n",
       "      <td>A P KM</td>\n",
       "      <td>4</td>\n",
       "      <td>0.379448</td>\n",
       "    </tr>\n",
       "    <tr>\n",
       "      <th>1</th>\n",
       "      <td>AADINATH COSMETIC</td>\n",
       "      <td>1</td>\n",
       "      <td>0.820639</td>\n",
       "    </tr>\n",
       "    <tr>\n",
       "      <th>2</th>\n",
       "      <td>AADITYA KIRANA</td>\n",
       "      <td>2</td>\n",
       "      <td>0.469642</td>\n",
       "    </tr>\n",
       "    <tr>\n",
       "      <th>3</th>\n",
       "      <td>AAINATH PROVISION</td>\n",
       "      <td>2</td>\n",
       "      <td>0.421180</td>\n",
       "    </tr>\n",
       "    <tr>\n",
       "      <th>4</th>\n",
       "      <td>AAKASH ENTERPRISE</td>\n",
       "      <td>1</td>\n",
       "      <td>0.808117</td>\n",
       "    </tr>\n",
       "    <tr>\n",
       "      <th>...</th>\n",
       "      <td>...</td>\n",
       "      <td>...</td>\n",
       "      <td>...</td>\n",
       "    </tr>\n",
       "    <tr>\n",
       "      <th>1559</th>\n",
       "      <td>Y~RAMULU KIRANAM</td>\n",
       "      <td>4</td>\n",
       "      <td>0.765742</td>\n",
       "    </tr>\n",
       "    <tr>\n",
       "      <th>1560</th>\n",
       "      <td>Y~SAMPATH KIRANAM</td>\n",
       "      <td>3</td>\n",
       "      <td>0.545126</td>\n",
       "    </tr>\n",
       "    <tr>\n",
       "      <th>1561</th>\n",
       "      <td>ZAHOOR PROV STORE</td>\n",
       "      <td>2</td>\n",
       "      <td>0.807152</td>\n",
       "    </tr>\n",
       "    <tr>\n",
       "      <th>1562</th>\n",
       "      <td>ZAKIR KIRANAM</td>\n",
       "      <td>3</td>\n",
       "      <td>0.546228</td>\n",
       "    </tr>\n",
       "    <tr>\n",
       "      <th>1563</th>\n",
       "      <td>ZIYA KIRANAM</td>\n",
       "      <td>3</td>\n",
       "      <td>0.732718</td>\n",
       "    </tr>\n",
       "  </tbody>\n",
       "</table>\n",
       "<p>1564 rows × 3 columns</p>\n",
       "</div>"
      ],
      "text/plain": [
       "          Retailer Name  CLOSEST_CLUSTER_1  DISTANCE_TO_CLOSEST_CENTROID_1\n",
       "0                A P KM                  4                        0.379448\n",
       "1     AADINATH COSMETIC                  1                        0.820639\n",
       "2        AADITYA KIRANA                  2                        0.469642\n",
       "3     AAINATH PROVISION                  2                        0.421180\n",
       "4     AAKASH ENTERPRISE                  1                        0.808117\n",
       "...                 ...                ...                             ...\n",
       "1559   Y~RAMULU KIRANAM                  4                        0.765742\n",
       "1560  Y~SAMPATH KIRANAM                  3                        0.545126\n",
       "1561  ZAHOOR PROV STORE                  2                        0.807152\n",
       "1562      ZAKIR KIRANAM                  3                        0.546228\n",
       "1563       ZIYA KIRANAM                  3                        0.732718\n",
       "\n",
       "[1564 rows x 3 columns]"
      ]
     },
     "execution_count": 143,
     "metadata": {},
     "output_type": "execute_result"
    }
   ],
   "source": [
    "pred_pandas_df "
   ]
  },
  {
   "cell_type": "code",
   "execution_count": 144,
   "id": "ccad710f-bcd5-43a1-a690-edffe230f7db",
   "metadata": {},
   "outputs": [
    {
     "data": {
      "text/html": [
       "<div>\n",
       "<style scoped>\n",
       "    .dataframe tbody tr th:only-of-type {\n",
       "        vertical-align: middle;\n",
       "    }\n",
       "\n",
       "    .dataframe tbody tr th {\n",
       "        vertical-align: top;\n",
       "    }\n",
       "\n",
       "    .dataframe thead th {\n",
       "        text-align: right;\n",
       "    }\n",
       "</style>\n",
       "<table border=\"1\" class=\"dataframe\">\n",
       "  <thead>\n",
       "    <tr style=\"text-align: right;\">\n",
       "      <th></th>\n",
       "      <th>Retailer Name</th>\n",
       "      <th>CLOSEST_CLUSTER_1</th>\n",
       "      <th>DISTANCE_TO_CLOSEST_CENTROID_1</th>\n",
       "      <th>Total Sales Value</th>\n",
       "      <th>Average Bucket Value</th>\n",
       "      <th>Average Product Count</th>\n",
       "      <th>Apperance</th>\n",
       "      <th>Plant</th>\n",
       "      <th>Distributor Code</th>\n",
       "      <th>CP Group1</th>\n",
       "      <th>ZRT_CT1</th>\n",
       "      <th>RETAILER CATEGORY 2</th>\n",
       "      <th>ZRT_SCH</th>\n",
       "    </tr>\n",
       "  </thead>\n",
       "  <tbody>\n",
       "    <tr>\n",
       "      <th>0</th>\n",
       "      <td>A P KM</td>\n",
       "      <td>4</td>\n",
       "      <td>0.379448</td>\n",
       "      <td>30027.80</td>\n",
       "      <td>5004.633333</td>\n",
       "      <td>10.666667</td>\n",
       "      <td>6</td>\n",
       "      <td>DP10</td>\n",
       "      <td>1056</td>\n",
       "      <td>None</td>\n",
       "      <td>Retail</td>\n",
       "      <td>Grocery</td>\n",
       "      <td>Rural Marketing</td>\n",
       "    </tr>\n",
       "    <tr>\n",
       "      <th>1</th>\n",
       "      <td>AADINATH COSMETIC</td>\n",
       "      <td>1</td>\n",
       "      <td>0.820639</td>\n",
       "      <td>3493361.48</td>\n",
       "      <td>205491.851765</td>\n",
       "      <td>3.294118</td>\n",
       "      <td>17</td>\n",
       "      <td>DP10</td>\n",
       "      <td>1073</td>\n",
       "      <td>None</td>\n",
       "      <td>Wholesale</td>\n",
       "      <td>WS</td>\n",
       "      <td>General Trade</td>\n",
       "    </tr>\n",
       "    <tr>\n",
       "      <th>2</th>\n",
       "      <td>AADITYA KIRANA</td>\n",
       "      <td>2</td>\n",
       "      <td>0.469642</td>\n",
       "      <td>28685.60</td>\n",
       "      <td>2048.971429</td>\n",
       "      <td>6.428571</td>\n",
       "      <td>14</td>\n",
       "      <td>DP17</td>\n",
       "      <td>10143</td>\n",
       "      <td>None</td>\n",
       "      <td>Retail</td>\n",
       "      <td>Grocery</td>\n",
       "      <td>General Trade</td>\n",
       "    </tr>\n",
       "    <tr>\n",
       "      <th>3</th>\n",
       "      <td>AAINATH PROVISION</td>\n",
       "      <td>2</td>\n",
       "      <td>0.421180</td>\n",
       "      <td>37356.64</td>\n",
       "      <td>2490.442667</td>\n",
       "      <td>8.000000</td>\n",
       "      <td>15</td>\n",
       "      <td>DP17</td>\n",
       "      <td>10143</td>\n",
       "      <td>None</td>\n",
       "      <td>Retail</td>\n",
       "      <td>Grocery</td>\n",
       "      <td>General Trade</td>\n",
       "    </tr>\n",
       "    <tr>\n",
       "      <th>4</th>\n",
       "      <td>AAKASH ENTERPRISE</td>\n",
       "      <td>1</td>\n",
       "      <td>0.808117</td>\n",
       "      <td>996000.04</td>\n",
       "      <td>99600.004000</td>\n",
       "      <td>3.400000</td>\n",
       "      <td>10</td>\n",
       "      <td>DP10</td>\n",
       "      <td>1073</td>\n",
       "      <td>None</td>\n",
       "      <td>Wholesale Loyalty</td>\n",
       "      <td>Wholesale Loyalty</td>\n",
       "      <td>General Trade</td>\n",
       "    </tr>\n",
       "    <tr>\n",
       "      <th>...</th>\n",
       "      <td>...</td>\n",
       "      <td>...</td>\n",
       "      <td>...</td>\n",
       "      <td>...</td>\n",
       "      <td>...</td>\n",
       "      <td>...</td>\n",
       "      <td>...</td>\n",
       "      <td>...</td>\n",
       "      <td>...</td>\n",
       "      <td>...</td>\n",
       "      <td>...</td>\n",
       "      <td>...</td>\n",
       "      <td>...</td>\n",
       "    </tr>\n",
       "    <tr>\n",
       "      <th>1563</th>\n",
       "      <td>Y~RAMULU KIRANAM</td>\n",
       "      <td>4</td>\n",
       "      <td>0.765742</td>\n",
       "      <td>23165.76</td>\n",
       "      <td>7721.920000</td>\n",
       "      <td>6.666667</td>\n",
       "      <td>3</td>\n",
       "      <td>DP10</td>\n",
       "      <td>1030</td>\n",
       "      <td>None</td>\n",
       "      <td>Retail</td>\n",
       "      <td>Grocery</td>\n",
       "      <td>General Trade</td>\n",
       "    </tr>\n",
       "    <tr>\n",
       "      <th>1564</th>\n",
       "      <td>Y~SAMPATH KIRANAM</td>\n",
       "      <td>3</td>\n",
       "      <td>0.545126</td>\n",
       "      <td>23923.32</td>\n",
       "      <td>3987.220000</td>\n",
       "      <td>5.666667</td>\n",
       "      <td>6</td>\n",
       "      <td>DP10</td>\n",
       "      <td>1030</td>\n",
       "      <td>None</td>\n",
       "      <td>Retail</td>\n",
       "      <td>Grocery</td>\n",
       "      <td>General Trade</td>\n",
       "    </tr>\n",
       "    <tr>\n",
       "      <th>1565</th>\n",
       "      <td>ZAHOOR PROV STORE</td>\n",
       "      <td>2</td>\n",
       "      <td>0.807152</td>\n",
       "      <td>21121.68</td>\n",
       "      <td>1920.152727</td>\n",
       "      <td>5.272727</td>\n",
       "      <td>11</td>\n",
       "      <td>DP02</td>\n",
       "      <td>10176</td>\n",
       "      <td>None</td>\n",
       "      <td>Retail</td>\n",
       "      <td>General Store</td>\n",
       "      <td>General Trade</td>\n",
       "    </tr>\n",
       "    <tr>\n",
       "      <th>1566</th>\n",
       "      <td>ZAKIR KIRANAM</td>\n",
       "      <td>3</td>\n",
       "      <td>0.546228</td>\n",
       "      <td>15967.24</td>\n",
       "      <td>3991.810000</td>\n",
       "      <td>5.500000</td>\n",
       "      <td>4</td>\n",
       "      <td>DP10</td>\n",
       "      <td>1030</td>\n",
       "      <td>None</td>\n",
       "      <td>Retail</td>\n",
       "      <td>Grocery</td>\n",
       "      <td>General Trade</td>\n",
       "    </tr>\n",
       "    <tr>\n",
       "      <th>1567</th>\n",
       "      <td>ZIYA KIRANAM</td>\n",
       "      <td>3</td>\n",
       "      <td>0.732718</td>\n",
       "      <td>33285.68</td>\n",
       "      <td>4755.097143</td>\n",
       "      <td>5.714286</td>\n",
       "      <td>7</td>\n",
       "      <td>DP10</td>\n",
       "      <td>1030</td>\n",
       "      <td>None</td>\n",
       "      <td>Retail</td>\n",
       "      <td>Grocery</td>\n",
       "      <td>General Trade</td>\n",
       "    </tr>\n",
       "  </tbody>\n",
       "</table>\n",
       "<p>1568 rows × 13 columns</p>\n",
       "</div>"
      ],
      "text/plain": [
       "          Retailer Name  CLOSEST_CLUSTER_1  DISTANCE_TO_CLOSEST_CENTROID_1  \\\n",
       "0                A P KM                  4                        0.379448   \n",
       "1     AADINATH COSMETIC                  1                        0.820639   \n",
       "2        AADITYA KIRANA                  2                        0.469642   \n",
       "3     AAINATH PROVISION                  2                        0.421180   \n",
       "4     AAKASH ENTERPRISE                  1                        0.808117   \n",
       "...                 ...                ...                             ...   \n",
       "1563   Y~RAMULU KIRANAM                  4                        0.765742   \n",
       "1564  Y~SAMPATH KIRANAM                  3                        0.545126   \n",
       "1565  ZAHOOR PROV STORE                  2                        0.807152   \n",
       "1566      ZAKIR KIRANAM                  3                        0.546228   \n",
       "1567       ZIYA KIRANAM                  3                        0.732718   \n",
       "\n",
       "      Total Sales Value  Average Bucket Value  Average Product Count  \\\n",
       "0              30027.80           5004.633333              10.666667   \n",
       "1            3493361.48         205491.851765               3.294118   \n",
       "2              28685.60           2048.971429               6.428571   \n",
       "3              37356.64           2490.442667               8.000000   \n",
       "4             996000.04          99600.004000               3.400000   \n",
       "...                 ...                   ...                    ...   \n",
       "1563           23165.76           7721.920000               6.666667   \n",
       "1564           23923.32           3987.220000               5.666667   \n",
       "1565           21121.68           1920.152727               5.272727   \n",
       "1566           15967.24           3991.810000               5.500000   \n",
       "1567           33285.68           4755.097143               5.714286   \n",
       "\n",
       "     Apperance Plant Distributor Code CP Group1            ZRT_CT1  \\\n",
       "0            6  DP10             1056      None             Retail   \n",
       "1           17  DP10             1073      None          Wholesale   \n",
       "2           14  DP17            10143      None             Retail   \n",
       "3           15  DP17            10143      None             Retail   \n",
       "4           10  DP10             1073      None  Wholesale Loyalty   \n",
       "...        ...   ...              ...       ...                ...   \n",
       "1563         3  DP10             1030      None             Retail   \n",
       "1564         6  DP10             1030      None             Retail   \n",
       "1565        11  DP02            10176      None             Retail   \n",
       "1566         4  DP10             1030      None             Retail   \n",
       "1567         7  DP10             1030      None             Retail   \n",
       "\n",
       "     RETAILER CATEGORY 2          ZRT_SCH  \n",
       "0                Grocery  Rural Marketing  \n",
       "1                     WS    General Trade  \n",
       "2                Grocery    General Trade  \n",
       "3                Grocery    General Trade  \n",
       "4      Wholesale Loyalty    General Trade  \n",
       "...                  ...              ...  \n",
       "1563             Grocery    General Trade  \n",
       "1564             Grocery    General Trade  \n",
       "1565       General Store    General Trade  \n",
       "1566             Grocery    General Trade  \n",
       "1567             Grocery    General Trade  \n",
       "\n",
       "[1568 rows x 13 columns]"
      ]
     },
     "execution_count": 144,
     "metadata": {},
     "output_type": "execute_result"
    }
   ],
   "source": [
    "final_df = pd.merge(pred_pandas_df, train_df.collect(), on = 'Retailer Name')\n",
    "save_df = final_df.copy()\n",
    "final_df"
   ]
  },
  {
   "cell_type": "code",
   "execution_count": 145,
   "id": "3dee48ab-d0a7-4f86-aed2-6d435126d7f9",
   "metadata": {},
   "outputs": [],
   "source": [
    "from sklearn.preprocessing import LabelEncoder\n",
    "\n",
    "label_encoder = LabelEncoder()\n",
    "for i in ['ZRT_CT1', 'RETAILER CATEGORY 2', 'ZRT_SCH', 'Plant']:\n",
    "    final_df[i] = label_encoder.fit_transform(final_df[i])\n",
    "\n",
    "for i in ['Distributor Code', 'CP Group1']:\n",
    "    final_df[i] = final_df[i].str.replace('', '0')"
   ]
  },
  {
   "cell_type": "code",
   "execution_count": 146,
   "id": "6218d1bc-34af-4818-8c80-be9256eed7c7",
   "metadata": {},
   "outputs": [
    {
     "data": {
      "text/plain": [
       "Retailer Name                      object\n",
       "CLOSEST_CLUSTER_1                   int64\n",
       "DISTANCE_TO_CLOSEST_CENTROID_1    float64\n",
       "Total Sales Value                 float64\n",
       "Average Bucket Value              float64\n",
       "Average Product Count             float64\n",
       "Apperance                          object\n",
       "Plant                               int64\n",
       "Distributor Code                   object\n",
       "CP Group1                          object\n",
       "ZRT_CT1                             int64\n",
       "RETAILER CATEGORY 2                 int64\n",
       "ZRT_SCH                             int64\n",
       "dtype: object"
      ]
     },
     "execution_count": 146,
     "metadata": {},
     "output_type": "execute_result"
    }
   ],
   "source": [
    "final_df.dtypes"
   ]
  },
  {
   "cell_type": "code",
   "execution_count": null,
   "id": "3be8babc-f464-4203-974e-f067b624defd",
   "metadata": {},
   "outputs": [],
   "source": []
  },
  {
   "cell_type": "code",
   "execution_count": 147,
   "id": "30c832df-2ff0-49da-8c83-01700f1be018",
   "metadata": {},
   "outputs": [
    {
     "data": {
      "image/png": "[encoded data removed]",
      "text/plain": [
       "<Figure size 640x480 with 2 Axes>"
      ]
     },
     "metadata": {},
     "output_type": "display_data"
    }
   ],
   "source": [
    "import seaborn as sns\n",
    "import matplotlib.pyplot as plt\n",
    "\n",
    "final_df[['Retailer Name', 'Apperance', 'Distributor Code', 'CP Group1']] = final_df[['Retailer Name', 'Apperance', 'Distributor Code', 'CP Group1']].astype(str)\n",
    "corr_matrix = final_df.drop(['Retailer Name', 'CP Group1'], axis = 1).corr()\n",
    "sns.heatmap(corr_matrix, annot=True, cmap='coolwarm')\n",
    "plt.show()\n"
   ]
  },
  {
   "cell_type": "code",
   "execution_count": 148,
   "id": "8e07df68-8687-48de-8580-78b5e1b45806",
   "metadata": {},
   "outputs": [
    {
     "data": {
      "text/plain": [
       "Retailer Name                      object\n",
       "CLOSEST_CLUSTER_1                   int64\n",
       "DISTANCE_TO_CLOSEST_CENTROID_1    float64\n",
       "Total Sales Value                 float64\n",
       "Average Bucket Value              float64\n",
       "Average Product Count             float64\n",
       "Apperance                          object\n",
       "Plant                               int64\n",
       "Distributor Code                   object\n",
       "CP Group1                          object\n",
       "ZRT_CT1                             int64\n",
       "RETAILER CATEGORY 2                 int64\n",
       "ZRT_SCH                             int64\n",
       "dtype: object"
      ]
     },
     "execution_count": 148,
     "metadata": {},
     "output_type": "execute_result"
    }
   ],
   "source": [
    "final_df.dtypes"
   ]
  },
  {
   "cell_type": "code",
   "execution_count": 149,
   "id": "df299a0d-42d0-4c84-ae4a-6aabffcffaa4",
   "metadata": {},
   "outputs": [],
   "source": [
    "final_df['Total Sales Value'] = final_df['Total Sales Value'].astype(float)\n",
    "final_df['Average Bucket Value'] = final_df['Average Bucket Value'].astype(float)\n",
    "final_df['CLOSEST_CLUSTER_1'] = final_df['CLOSEST_CLUSTER_1'].astype(str)"
   ]
  },
  {
   "cell_type": "code",
   "execution_count": 150,
   "id": "a84d4219-e606-4493-b1be-8d182aac0636",
   "metadata": {},
   "outputs": [
    {
     "data": {
      "application/vnd.plotly.v1+json": {
       "config": {
        "plotlyServerURL": "https://plot.ly"
       },
       "data": [
        {
         "customdata": [
          [
           "A P KM"
          ],
          [
           "ADI BANERJEE BHANDAR"
          ],
          [
           "ADITI ENTERPRISE"
          ],
          [
           "ALAFA KM"
          ],
          [
           "ALTAF TRADER"
          ],
          [
           "AMAR M P S M GENERA"
          ],
          [
           "ANNAPURNA KIRAN STOR"
          ],
          [
           "APOLLO CLINIC"
          ],
          [
           "ARACHANA LADIES EMPO"
          ],
          [
           "ARNAPURNA MEDICINE STORE"
          ],
          [
           "ASHISH ENTERPRISER"
          ],
          [
           "ASHOK LOHANI"
          ],
          [
           "AYODYA PROVISION"
          ],
          [
           "A~BHASKAR KIRNA STOR"
          ],
          [
           "A~JAGADISHWAR KIRANA"
          ],
          [
           "A~RAJAIAH KIRANA STO"
          ],
          [
           "BAGHDAD BEAUTIE"
          ],
          [
           "BAJAJ MEDICAL STORE"
          ],
          [
           "BALAJI FANCY STORE"
          ],
          [
           "BALAJI GENERAL STORE"
          ],
          [
           "BALAJI MH"
          ],
          [
           "BANERJEE VARITIE"
          ],
          [
           "BARMAN DRUG"
          ],
          [
           "BHAGHYA LADIES EMPOR"
          ],
          [
           "BHAGYA LAXMI KM"
          ],
          [
           "BHAGYA SRI GENERAL "
          ],
          [
           "BHAGYALAXMI KIRANA G"
          ],
          [
           "BHARATHI LADIES EMPO"
          ],
          [
           "BHARGAVA MEDICAL HAL"
          ],
          [
           "BHAVANI SHANKAR KIRN"
          ],
          [
           "BHUVANESHWARI MATHA"
          ],
          [
           "BISHNUPRIYA MEDICINE STORE"
          ],
          [
           "BROADWAY PHARMACY AND CLINIC"
          ],
          [
           "BUDDHODEB STORE"
          ],
          [
           "BUKKA RAMULU KIRANAM"
          ],
          [
           "B~PARAMESHWARA KIRNA"
          ],
          [
           "B~PRASHANTH KIRANA "
          ],
          [
           "B~R~PHARMA"
          ],
          [
           "B~SHANKEER KIRNA STO"
          ],
          [
           "CAPITAL PHARMA"
          ],
          [
           "CHANDINI FANCY STORE"
          ],
          [
           "CHANDU KIRANAM"
          ],
          [
           "CHOWDHURI ENTREPRISE"
          ],
          [
           "CH~BAKKAIAH KIRANA "
          ],
          [
           "CH~NAGABHUSHANAM KIR"
          ],
          [
           "CH~NAGARAJU KIRNA GE"
          ],
          [
           "CH~VENKASHAM KIRANA"
          ],
          [
           "CITY PHARMA"
          ],
          [
           "COLLEGE BEAUTY"
          ],
          [
           "CRESCENT MEDICAL SHO"
          ],
          [
           "CURE~N~CARE"
          ],
          [
           "DAS MEDICAL STORE"
          ],
          [
           "DELIGHT GENERAL STOR"
          ],
          [
           "DEVI DRUG"
          ],
          [
           "DHANA LAXMI KIRANAM"
          ],
          [
           "DHANA LAXMI MEDICAL"
          ],
          [
           "DHANUSHYA KIRANA GE"
          ],
          [
           "DHANVATHARI AURVEDIC"
          ],
          [
           "DIVYA MEDICAL HALL"
          ],
          [
           "DURGA FANCY"
          ],
          [
           "DURGA KIRANA STORE"
          ],
          [
           "D~LYTE PHARMACY"
          ],
          [
           "D~NARAAIANA KIRNA ST"
          ],
          [
           "FASHION TOUCH"
          ],
          [
           "G SHANKHAR KIRANAM"
          ],
          [
           "GANAPATHI KIRNA GENE"
          ],
          [
           "GAYATHRI LADIES EMPO"
          ],
          [
           "GAYATRI KIRANA GENER"
          ],
          [
           "GAYATRI MEDICAL HALL"
          ],
          [
           "GAYATRI MED~ STORE"
          ],
          [
           "GEETHA CUT MIT GENER"
          ],
          [
           "GODWIN FANCY"
          ],
          [
           "GOPAL KRISHNA GENARA"
          ],
          [
           "GOPALA KRISHNA FANCY"
          ],
          [
           "GOPI BOOK STALL"
          ],
          [
           "GOPINATH MEDICAL"
          ],
          [
           "GOURI AGENCY"
          ],
          [
           "GOURI KM"
          ],
          [
           "GOURI SHANKAR KIRANA"
          ],
          [
           "GOURIPRIYA GENERAL"
          ],
          [
           "GOWRI SHANKAR FANCY"
          ],
          [
           "GUPTA MEDICAL"
          ],
          [
           "GYANA SARASWATHY KIR"
          ],
          [
           "G~C~ PHARMA"
          ],
          [
           "G~KISTAIAH KIRNA STO"
          ],
          [
           "H M IBRAHIM"
          ],
          [
           "HAMDARD DAWAKHANA"
          ],
          [
           "HANUMAN KIRANA STORE"
          ],
          [
           "HARADHAN DUTTA"
          ],
          [
           "HARI HARA MEDICAL HALL"
          ],
          [
           "HARI KRUPA MEDICAL H"
          ],
          [
           "HARI NATHA KM"
          ],
          [
           "HARISHANKAR KIRANAM"
          ],
          [
           "HEALTH CARE (J~C)"
          ],
          [
           "HEALTH CARE MEDICAL"
          ],
          [
           "H~ CHISHI PHARMACY"
          ],
          [
           "JAGADAMBHA GENERAL "
          ],
          [
           "JAGADISH KIRANAM"
          ],
          [
           "JAGANNATH MED STORE(BAND CHAK)"
          ],
          [
           "JAI ARBUDA FANCY GEN"
          ],
          [
           "JAI SANTHOSH KIRANA"
          ],
          [
           "JAI SANTHOSHMATHA KI"
          ],
          [
           "JAIMAA MANGALA AYURVEDIC BHANDAR"
          ],
          [
           "JAVEED KIRANAM"
          ],
          [
           "JAYASHANKAR KIRAN ST"
          ],
          [
           "JEANS PHARMACY"
          ],
          [
           "JOHN'S MEDICAL HALL"
          ],
          [
           "JYOTHI KIRANA STORE"
          ],
          [
           "JYOTHI MEDICAL HALL"
          ],
          [
           "J~K PHARMACY"
          ],
          [
           "K KRISHNA MURTHI KIR"
          ],
          [
           "KAILASH MEDICINE STORE"
          ],
          [
           "KAMAKSHI SUPER MARKE"
          ],
          [
           "KAMALNATH GENERAL ST"
          ],
          [
           "KARUNA LADIES EMPORI"
          ],
          [
           "KENNETH MEDICAL"
          ],
          [
           "KHAN COSMETIC"
          ],
          [
           "KHATOOR KIRANAM"
          ],
          [
           "KRISHNA SAI MEDICAL"
          ],
          [
           "KUMARASWAMY GENERAL"
          ],
          [
           "K~ VAIKUNTAM KIRANAM"
          ],
          [
           "K~GOURAIAH KIRANA GE"
          ],
          [
           "K~K~TRADER"
          ],
          [
           "K~RAJESHAM KIRANA GE"
          ],
          [
           "K~RAVI (J~K) GENERAL"
          ],
          [
           "K~SRINIVAS K/M<RK> G"
          ],
          [
           "K~SUDHAKER KIRANA ST"
          ],
          [
           "K~VERASHAM KABEER KI"
          ],
          [
           "LABANI STORE"
          ],
          [
           "LAKSHMI CHENNAKESAWA"
          ],
          [
           "LALITHA BHAVANI MEDICAL HALL"
          ],
          [
           "LALITHA BHAVANI MH"
          ],
          [
           "LALITHA KIRANA GENER"
          ],
          [
           "LAXMI ANNAPURNA KIRA"
          ],
          [
           "LAXMI MEDICAL"
          ],
          [
           "LAXMI MEDICAL"
          ],
          [
           "LAXMI PRASANNA KIRAN"
          ],
          [
           "LAXMI VENKATESHWARA"
          ],
          [
           "LIFE CARE MEDICAL (T~K)"
          ],
          [
           "LIFE CARE MEDICAL HA"
          ],
          [
           "LIFE LINE DRUG"
          ],
          [
           "LIFE LINE PHARMACY"
          ],
          [
           "LIFE PHARMA (K)"
          ],
          [
           "LINGA MURTHI KIRANAM"
          ],
          [
           "LINGAIAH KIRANAM"
          ],
          [
           "LOHITH KM"
          ],
          [
           "LUIT MEDICAL"
          ],
          [
           "L~K~ MEDICO"
          ],
          [
           "M K MEDICINE STORE"
          ],
          [
           "MA SHYAMA BHANDER"
          ],
          [
           "MA SHYAMA STORE"
          ],
          [
           "MAA DURGA IMITATION AND COSMETIC"
          ],
          [
           "MAA PUSHPA MEDICAL"
          ],
          [
           "MAHA LAXMI MEDICAL H"
          ],
          [
           "MAHA PRABHU BHANDER"
          ],
          [
           "MAHADAV GENERAL STOR"
          ],
          [
           "MAHADEV KIRANAM"
          ],
          [
           "MAHALAXMI MEDICAL ST"
          ],
          [
           "MAHESHWAR MEDICAL HA"
          ],
          [
           "MAHESWARI MEDICAL HALL"
          ],
          [
           "MAJEED KIRANAM"
          ],
          [
           "MALLI KARJUNA KIRANA"
          ],
          [
           "MALLIKARJUNA MEDICAL"
          ],
          [
           "MANAB JYOTI MED STORE"
          ],
          [
           "MANIKANTA KIRANA GEN"
          ],
          [
           "MANIKANTA KIRANAM"
          ],
          [
           "MANJUNATHA FANCY"
          ],
          [
           "MANJUNATHA MH"
          ],
          [
           "MANKALA SUNDRAIAH GE"
          ],
          [
           "MANOJWALA MH"
          ],
          [
           "MARY MEDICAL (KIPHIRE)"
          ],
          [
           "MATHA MEDICAL HALL"
          ],
          [
           "MEDA FANCY GEN STO"
          ],
          [
           "MEEKOSAM FANCY CON"
          ],
          [
           "MISHRA PHARMACEUTICAL"
          ],
          [
           "MITINJOY STORE"
          ],
          [
           "MITTAL MEDICAL HALL"
          ],
          [
           "MORR MEDICAL HALL"
          ],
          [
           "MRITYUNJOY STORE"
          ],
          [
           "MUVVELA VENKATESWARA"
          ],
          [
           "NAGENDRA LEDIES EMPO"
          ],
          [
           "NANDINI FANCY STORE"
          ],
          [
           "NANDINI MEDICAL HAL"
          ],
          [
           "NATHMAL KIRANAM"
          ],
          [
           "NATRAJ KIRANAM GENE"
          ],
          [
           "NAVA JYOTHI LEDIES E"
          ],
          [
           "NAVARATHNA LEDIES EM"
          ],
          [
           "NAVEEN KIRANAM GENRAL"
          ],
          [
           "NEW GANESH KIRANA GE"
          ],
          [
           "NEW KAMALA STORE"
          ],
          [
           "NEW MAA TARA VARITY STORE"
          ],
          [
           "NEW MALLESH MEDICAL HALL"
          ],
          [
           "NEW MEDICINE STORE"
          ],
          [
           "NEW STORES~"
          ],
          [
           "NEW TEHAR KIRANAM"
          ],
          [
           "NEW VASAVI KIRANA GE"
          ],
          [
           "NEW VENKATA SAI MEDI"
          ],
          [
           "NEW VENKATESHWARA KI"
          ],
          [
           "NILADRI MEDICINE STORE"
          ],
          [
           "NIRANJAN KUMAR DEY"
          ],
          [
           "NIYAMAT MEDICAL HALL"
          ],
          [
           "N~CHANDHRAIAH LADIE"
          ],
          [
           "OM~SAI KM"
          ],
          [
           "PADMA KIRANA GENERRA"
          ],
          [
           "PADMAVATHI ENTERPISES ( FEELKHANA )"
          ],
          [
           "PADMAVATHI TRADERS ( INDER BAGH)"
          ],
          [
           "PARVATHI PARAMESHWAR"
          ],
          [
           "PAVANA PUTRA KM"
          ],
          [
           "PAYEL"
          ],
          [
           "PHARMA STREET"
          ],
          [
           "POLICE LINE CO OPERA"
          ],
          [
           "PRABHAKAR KIRANAM"
          ],
          [
           "PRABHU KIRNA STORE"
          ],
          [
           "PRAKASH KIRANA STORE"
          ],
          [
           "PRASURAM SYAMSUNDAR"
          ],
          [
           "PROSAD CONFECTIONERY"
          ],
          [
           "P~ VISWANATHAM GENAR"
          ],
          [
           "P~RAJAIAH KIRANA GEN"
          ],
          [
           "R S GUPTA"
          ],
          [
           "RADHA GOBINDA AYURVEDIC"
          ],
          [
           "RAJ IMITATION"
          ],
          [
           "RAJ MEDICAL"
          ],
          [
           "RAJ TRADER"
          ],
          [
           "RAJA RAJESHWARA KM"
          ],
          [
           "RAJARAJAASHWARA KIRA"
          ],
          [
           "RAJESH MEDICAL STORE"
          ],
          [
           "RAM KRISHNA VAR STOR"
          ],
          [
           "RAMESH <VSK> KIRAN"
          ],
          [
           "RAMESH KIRANA GENERA"
          ],
          [
           "RANGA SAI FANCY"
          ],
          [
           "RANGANAYAKA <RPL> M"
          ],
          [
           "REBA STORE"
          ],
          [
           "RESHMI IMITATION"
          ],
          [
           "RIYA BENGAL"
          ],
          [
           "ROHITH MEDICAL HALL"
          ],
          [
           "R~D~MURTHY KIRANA ST"
          ],
          [
           "R~VISHWANATHAM KIRAN"
          ],
          [
           "S R M KM"
          ],
          [
           "SABITRI MEDICINE"
          ],
          [
           "SAI BALAJI KIRANA ST"
          ],
          [
           "SAI BALAJI MEDICAL H"
          ],
          [
           "SAI BHAVANI MEDICAL"
          ],
          [
           "SAI FANCY GENERAL"
          ],
          [
           "SAI GOURISHANKAR KIR"
          ],
          [
           "SAI KIRANA GENERAL "
          ],
          [
           "SAI KRUPA MEDICAL HA"
          ],
          [
           "SAI LAXMI MED STORE(NANGA MAHAL)"
          ],
          [
           "SAI RAM GENERAL STOR"
          ],
          [
           "SAI RAM KIRANA STORE"
          ],
          [
           "SAI SANTHOSH KIRANA"
          ],
          [
           "SAI SRINIVASA KIRANA"
          ],
          [
           "SAI VIJAYA MEDICAL H"
          ],
          [
           "SANDEEP PAN STALL"
          ],
          [
           "SANJIVANI MEDICAL HA"
          ],
          [
           "SANTHOSH <SRKM> KIRA"
          ],
          [
           "SANTHOSH KIRANA GENE"
          ],
          [
           "SANTHOSH KIRANAM"
          ],
          [
           "SAPTHAGIRI MEDICAL HALL"
          ],
          [
           "SATHISH CONFECTIONAR"
          ],
          [
           "SATHISH KIRANAM"
          ],
          [
           "SATYA KM"
          ],
          [
           "SATYA NARAYANA KIRAN"
          ],
          [
           "SAYONAI"
          ],
          [
           "SHAKTHI BANGEL"
          ],
          [
           "SHANKER KIRANA STORE"
          ],
          [
           "SHANTI MEDICINE STORE"
          ],
          [
           "SHIVA GANESH MEDICAL HALL"
          ],
          [
           "SHIVA MEDICAL HALL"
          ],
          [
           "SHIVA SAI KIRANA GEN"
          ],
          [
           "SHIVAMALLESHAM KIRAN"
          ],
          [
           "SHIVANI MEDICAL HALL"
          ],
          [
           "SHOBARANI KIRANAM"
          ],
          [
           "SHYAMSUDDIN KIRANAM"
          ],
          [
           "SIFA MEDICAL STORE"
          ],
          [
           "SIRI SM"
          ],
          [
           "SOHYAL DRUG"
          ],
          [
           "SRAVANTHI KIRANA GEN"
          ],
          [
           "SREE KIRANAM & GENERAL"
          ],
          [
           "SREE SANJEEV MEDICAL"
          ],
          [
           "SRI BALAJI BOOKS GEA"
          ],
          [
           "SRI HANUMAN GENERAL"
          ],
          [
           "SRI HARI CLINIC"
          ],
          [
           "SRI KIRANA GENERAL "
          ],
          [
           "SRI LAXMI KIRANAM"
          ],
          [
           "SRI LAXMI KM"
          ],
          [
           "SRI MAHESHWARI KIRAN"
          ],
          [
           "SRI RAMA GENERAL STO"
          ],
          [
           "SRI RAMA KIRANA GENE"
          ],
          [
           "SRI RAMA SUPER MARKE"
          ],
          [
           "SRI RINIVASA KM"
          ],
          [
           "SRI SAI BALAJI KM"
          ],
          [
           "SRI SAI MEDICAL HALL"
          ],
          [
           "SRIDHAR FANCY STORE"
          ],
          [
           "SRIDHAR KIRANAM"
          ],
          [
           "SRINIDHI MEDICAL HAL"
          ],
          [
           "SRINIVASA KIRANA STO"
          ],
          [
           "SRINIVASA KIRNA STOR"
          ],
          [
           "SRINIVASA KM SRI"
          ],
          [
           "SUBHAM HEALTH CARE"
          ],
          [
           "SUNIL TRADER"
          ],
          [
           "SUPER KIRANA GENERAL"
          ],
          [
           "SUPRIYA KIRANA GENER"
          ],
          [
           "SURESH GENERAL STORE"
          ],
          [
           "SURESH KIRANAM"
          ],
          [
           "SURYA MH"
          ],
          [
           "SURYANARAYANA KIRANA"
          ],
          [
           "S~S MEDICAL HALL"
          ],
          [
           "S~S~R~MEDICAL HALL"
          ],
          [
           "S~V~SUPER MARKET"
          ],
          [
           "TARALA MALLESHAM KIR"
          ],
          [
           "TARINI MEDICINE STORE"
          ],
          [
           "THAVAKAL KIRANAM"
          ],
          [
           "THE DRUG HOUSE"
          ],
          [
           "THE DRUG"
          ],
          [
           "THE MEDICINE"
          ],
          [
           "THIRUMALA GENERAL ST"
          ],
          [
           "THIRUMALA SAI KIRANA"
          ],
          [
           "THIRUPATHI LADIS EMPORIUM"
          ],
          [
           "TIRUPATHI FANCY STOR"
          ],
          [
           "T~MALLASHAM KIRANA G"
          ],
          [
           "T~MURALII KIRANA GEN"
          ],
          [
           "T~SANTHOSH KIRANA GE"
          ],
          [
           "UJWAL MEDICAL HALL"
          ],
          [
           "UMA MAHESHWARI KIRAN"
          ],
          [
           "UMA MAHESWARI KIRANAM"
          ],
          [
           "UMA MEHESHWAR MEDICA"
          ],
          [
           "UNIK"
          ],
          [
           "USHA MEDICAL HALL"
          ],
          [
           "VAISHNAVI MATHA KIRA"
          ],
          [
           "VANKATA SAI MEDICAL"
          ],
          [
           "VANKATESHWARA KIRANA"
          ],
          [
           "VASAVI KIRANA GENERA"
          ],
          [
           "VASUNDARA LADIES EMP"
          ],
          [
           "VEERA BHRADHA KIRANA"
          ],
          [
           "VEERABHADRA CUT MIT"
          ],
          [
           "VENKATESHWARA KIRANA"
          ],
          [
           "VENU KIRANAM"
          ],
          [
           "VIJATHA MEDICAL HALL"
          ],
          [
           "VIJAYALAKSHIMI GENER"
          ],
          [
           "VISHNAVI SM"
          ],
          [
           "VISHNU FANCY STORE"
          ],
          [
           "VISHNU GENERAL STORE"
          ],
          [
           "V~ RAJAIAH KIRANAM"
          ],
          [
           "V~B~RAMULU MEDICAL "
          ],
          [
           "V~GALAIAH KIRANA GEN"
          ],
          [
           "V~KISTAIAH KIRANA GE"
          ],
          [
           "V~RAJESHAM GENERAL "
          ],
          [
           "Y~RAMULU KIRANAM"
          ]
         ],
         "hovertemplate": "CLOSEST_CLUSTER_1=4<br>Average Bucket Value=%{x}<br>Total Sales Value=%{y}<br>Retailer Name=%{customdata[0]}<extra></extra>",
         "legendgroup": "4",
         "marker": {
          "color": "#636efa",
          "symbol": "circle"
         },
         "mode": "markers",
         "name": "4",
         "showlegend": true,
         "type": "scattergl",
         "x": [
          5004.633333333333,
          4233.1375,
          35376.82571428571,
          6046.7555555555555,
          9095.275555555556,
          4871.62,
          6495.657142857142,
          4214.2080000000005,
          5037.586666666666,
          3841.1520000000005,
          103056.98857142856,
          3557.645,
          2846.713333333333,
          4533.555,
          4970.406666666667,
          4964.0599999999995,
          2950.1133333333332,
          5578.866666666667,
          2735.6857142857143,
          6041.88,
          6821.965714285715,
          7727.360000000001,
          6382.33,
          5128.425,
          5076.213333333333,
          5181.41,
          5502.102222222222,
          4642.071111111111,
          6910.2080000000005,
          6699.746666666667,
          5539.94,
          3293.937142857143,
          6893.954285714286,
          7951.679999999999,
          6400.88,
          4977.777777777777,
          5205.01,
          9605.66,
          5682.4914285714285,
          6366.593333333333,
          4869.488,
          5228.424999999999,
          96789.29333333333,
          5111.955,
          5833.405,
          5328.745,
          5925.06,
          8579.9,
          5625.235,
          6372.784000000001,
          4352.235,
          28881.829999999998,
          7163.6849999999995,
          3357.5533333333333,
          5855.9400000000005,
          6893.89,
          1828.8685714285714,
          4405.08,
          6118.034285714285,
          5538.2844444444445,
          6543.331428571429,
          7089.993333333333,
          6249.155,
          5250.92,
          3956.56,
          6344.419999999999,
          5405.39,
          6842.024,
          4714.685714285714,
          3826.5919999999996,
          11110.808,
          8776,
          178016.85,
          3280.0444444444447,
          6094.51,
          4810.064,
          7955.12,
          6000.568888888889,
          5176.05,
          3366.21,
          2228.7371428571428,
          4931.26,
          5287.46,
          5718.039999999999,
          5833.095,
          4133.291428571428,
          4205.195,
          6110.455,
          3127.7999999999997,
          6180.7733333333335,
          5449.22,
          4662.826666666667,
          6498.3550000000005,
          7757.3099999999995,
          5724.928,
          6287.626666666667,
          98704.15666666666,
          5381.41,
          6310.49,
          96828.28,
          5403.288888888888,
          5263.768888888889,
          16597.373333333333,
          5979.530000000001,
          6417.026666666667,
          5312.968,
          6128.66,
          5462.12,
          5082.63,
          5319.52,
          164438.755,
          3915.226666666667,
          7353.5542857142855,
          5165.851428571428,
          4843.845714285714,
          6544.44,
          13061.945,
          6322.782857142856,
          6293.714285714285,
          4878.2266666666665,
          65728.376,
          5368.246666666667,
          3355.35,
          4741.422857142857,
          5765.255999999999,
          6008.333333333333,
          4660.926666666667,
          5176.513333333333,
          7696.977777777778,
          2322.937142857143,
          6792.102857142857,
          4556.5257142857145,
          5670.032,
          5896.845714285714,
          6822.148571428572,
          3253.56,
          6128.406666666667,
          6673.565714285714,
          5114.264,
          5888.472,
          10719.503999999999,
          5036.360000000001,
          7565.0960000000005,
          6365.666666666667,
          5164.91,
          5749.775,
          8584.599999999999,
          6345.506666666667,
          4101.3279999999995,
          5239.428571428572,
          9151.422857142858,
          3269.7428571428572,
          4919.872,
          6822.71,
          2982.605,
          9202.85,
          5949.92,
          5252.371428571429,
          6687.965,
          6666.375,
          5259.946666666667,
          4284.88,
          6035.83,
          3301.1066666666666,
          6460.4,
          6541.536,
          4382.88,
          5501.373333333333,
          5039.835,
          5482.925,
          5969.8,
          5298.457777777778,
          159826.93333333332,
          2508.16,
          3214.5066666666667,
          8230.58285714286,
          57098.537142857145,
          5316.8099999999995,
          9818.56,
          2009.5714285714287,
          5282.625,
          4919.257777777778,
          6074.46,
          4558,
          4815.2,
          4853.31,
          4761.06,
          4809.994285714286,
          6017.435,
          8414.025000000001,
          4099.597142857143,
          5228.155,
          5975.72,
          7777.125714285714,
          5685.32,
          5120.88,
          6526.46,
          5499.548,
          3539.2000000000003,
          3235.715,
          9686.8,
          5104.63,
          4924.804444444444,
          4417.022857142857,
          184344.84000000003,
          146476.06285714285,
          5133.308,
          6121.688888888889,
          5383.902222222223,
          9183.274285714286,
          14522.1,
          6543.228571428571,
          5008.217142857143,
          4722.125,
          7055.053333333333,
          3880.4875,
          105147.90400000001,
          6161.4514285714295,
          5058.76,
          115749.15333333334,
          3869.68,
          124094.6,
          15716.78,
          5322.393333333333,
          5570.76,
          4387.023999999999,
          3071.0950000000003,
          4473.265,
          6552.63,
          7625.78,
          6240.64,
          3515.34,
          4553.280000000001,
          16460.896,
          4819.9,
          5775.135,
          6031.125,
          5578.594285714286,
          3969.528,
          5337.771428571429,
          6556.13,
          5260.325714285714,
          2366.7885714285717,
          5328.79,
          4811.055,
          5748.331428571429,
          4302.496,
          4386.535,
          5677.76,
          4781.28,
          5730.005,
          6938.668,
          4932.4400000000005,
          5208.771428571429,
          5339.199999999999,
          5330.015,
          6003.382857142858,
          5477.415,
          6552.400000000001,
          5596.71,
          4465.095,
          5531.262222222223,
          7641.042857142857,
          1816.4285714285713,
          4890.3822222222225,
          3592.468571428571,
          5225.95,
          5621.908571428571,
          4992.084,
          4521.55,
          6383.32,
          4461.92,
          5377.74,
          3813.4466666666667,
          6079.88,
          6718.129999999999,
          4782.6720000000005,
          4485.093333333334,
          6177.764444444444,
          7280.693333333333,
          5758.84,
          3931.066666666667,
          5084.028571428571,
          5994.96,
          5376.553333333333,
          6458.375,
          4039.505,
          5112.11,
          7641.856,
          6052.428571428572,
          4571.01,
          5675.177142857143,
          1829.965714285714,
          5386.262857142857,
          4932.245714285715,
          6284.984,
          4818.33,
          4620.754285714285,
          3202.2666666666664,
          77426.82,
          5608.291428571429,
          5406.0199999999995,
          5516.919999999999,
          5913.1900000000005,
          5037.028571428571,
          4246.18,
          6378.754285714285,
          6459.68,
          7221.714285714285,
          5627.8,
          3864.696,
          4603.4800000000005,
          7037.92,
          3578.04,
          3397.306666666667,
          104672.2,
          5073.93,
          4707.76,
          5143.313333333333,
          5147.145,
          5240.765714285714,
          4936.5142857142855,
          5483.068571428571,
          6470.62,
          5015.573333333333,
          5932.42,
          4345.98,
          3545.4666666666667,
          4637.67,
          5783.137142857143,
          5204.028571428571,
          4503.891428571428,
          5350.937142857144,
          5534.52,
          20618.85714285714,
          7068.985,
          5572.41,
          6928.192,
          3937,
          11152.015,
          8526.102222222222,
          5583.274285714286,
          6895.286666666667,
          5607.866666666667,
          6323.7266666666665,
          4097.548571428571,
          6645.193333333334,
          7721.920000000001
         ],
         "xaxis": "x",
         "y": [
          30027.8,
          33865.1,
          247637.78,
          54420.8,
          81857.48,
          38972.96,
          45469.6,
          21071.04,
          45338.28,
          19205.760000000002,
          721398.9199999999,
          28461.16,
          17080.28,
          36268.44,
          29822.44,
          39712.479999999996,
          17700.68,
          50209.8,
          19149.8,
          54376.92,
          47753.76,
          23182.08,
          25529.32,
          41027.4,
          45685.92,
          41451.28,
          49518.92,
          41778.64,
          34551.04,
          40198.48,
          33239.64,
          23057.56,
          48257.68,
          15903.359999999999,
          32004.4,
          44800,
          41640.08,
          57633.96,
          39777.44,
          38199.56,
          24347.440000000002,
          41827.399999999994,
          871103.64,
          40895.64,
          46667.24,
          42629.96,
          35550.36,
          51479.4,
          45001.88,
          31863.920000000002,
          34817.88,
          115527.31999999999,
          57309.479999999996,
          20145.32,
          46847.520000000004,
          55151.12,
          12802.08,
          26430.48,
          42826.24,
          49844.56,
          45803.32,
          42539.96,
          49993.24,
          31505.52,
          27695.92,
          38066.52,
          43243.12,
          34210.12,
          33002.8,
          19132.96,
          55554.04,
          61432,
          2136202.2,
          29520.4,
          24378.04,
          24050.32,
          47730.72,
          54005.12,
          41408.4,
          26929.68,
          15601.16,
          19725.04,
          52874.6,
          28590.199999999997,
          46664.76,
          28933.039999999997,
          33641.56,
          48883.64,
          18766.8,
          55626.96,
          43593.76,
          27976.96,
          51986.840000000004,
          62058.479999999996,
          28624.64,
          37725.76,
          1184449.88,
          21525.64,
          25241.96,
          677797.96,
          48629.6,
          47373.92,
          99584.23999999999,
          47836.240000000005,
          57753.24,
          26564.84,
          36771.96,
          38234.84,
          40661.04,
          21278.08,
          1315510.04,
          23491.36,
          51474.88,
          36160.96,
          33906.92,
          39266.64,
          104495.56,
          44259.479999999996,
          44056,
          43904.04,
          328641.88,
          32209.48,
          26842.8,
          33189.96,
          28826.28,
          18025,
          27965.56,
          31059.08,
          69272.8,
          16260.560000000001,
          47544.72,
          31895.68,
          56700.32,
          41277.92,
          47755.04,
          3253.56,
          36770.44,
          46714.96,
          25571.32,
          29442.36,
          53597.52,
          20145.440000000002,
          37825.48,
          19097,
          20659.64,
          45998.2,
          17169.199999999997,
          19036.52,
          20506.64,
          36676,
          64059.96000000001,
          22888.2,
          24599.36,
          54581.68,
          23860.84,
          73622.8,
          41649.44,
          36766.6,
          53503.72,
          53331,
          31559.68,
          29994.16,
          48286.64,
          19806.64,
          51683.2,
          32707.68,
          35063.04,
          33008.24,
          40318.68,
          43863.4,
          23879.2,
          47686.12,
          1917923.2,
          20065.28,
          19287.04,
          57614.08000000001,
          399689.76,
          42534.479999999996,
          78548.48,
          14067,
          42261,
          44273.32,
          48595.68,
          22790,
          38521.6,
          38826.48,
          38088.48,
          33669.96,
          48139.48,
          67312.20000000001,
          28697.18,
          41825.24,
          29878.600000000002,
          54439.88,
          17055.96,
          25604.4,
          52211.68,
          54995.479999999996,
          21235.2,
          25885.72,
          19373.6,
          40837.04,
          44323.24,
          30919.16,
          1290413.8800000001,
          1025332.44,
          51333.08,
          55095.2,
          48455.12,
          64282.92,
          58088.4,
          45802.6,
          35057.52,
          37777,
          21165.16,
          31043.9,
          525739.52,
          43130.16,
          35411.32,
          694494.92,
          30957.44,
          620473,
          31433.56,
          31934.36,
          27853.800000000003,
          21935.12,
          24568.760000000002,
          35786.12,
          52421.04,
          61006.24,
          49925.12,
          28122.72,
          40979.520000000004,
          164608.96,
          38559.2,
          46201.08,
          48249,
          39050.16,
          19847.64,
          37364.4,
          52449.04,
          36822.28,
          16567.52,
          42630.32,
          38488.44,
          40238.32,
          21512.48,
          35092.28,
          39744.32,
          33468.96,
          45840.04,
          69386.68,
          34527.08,
          36461.4,
          37374.399999999994,
          42640.12,
          42023.68,
          43819.32,
          39314.4,
          44773.68,
          35720.76,
          49781.36,
          53487.3,
          12715,
          44013.44,
          25147.28,
          41807.6,
          39353.36,
          49920.84,
          36172.4,
          38299.92,
          22309.6,
          43021.92,
          22880.68,
          36479.28,
          26872.519999999997,
          23913.36,
          40365.840000000004,
          55599.88,
          21842.079999999998,
          23035.36,
          23586.4,
          35588.2,
          35969.76,
          32259.32,
          51667,
          32316.04,
          40896.88,
          38209.28,
          42367,
          36568.08,
          39726.24,
          12809.759999999998,
          37703.84,
          34525.72,
          62849.840000000004,
          38546.64,
          32345.28,
          19213.6,
          619414.56,
          39258.04,
          43248.159999999996,
          33101.52,
          47305.520000000004,
          35259.2,
          33969.44,
          44651.28,
          45217.76,
          50552,
          45022.4,
          19323.48,
          23017.4,
          14075.84,
          25046.28,
          20383.84,
          628033.2,
          40591.44,
          37662.08,
          30859.879999999997,
          41177.16,
          36685.36,
          34555.6,
          38381.479999999996,
          38823.72,
          45140.159999999996,
          47459.36,
          34767.84,
          21272.8,
          37101.36,
          40481.96,
          36428.2,
          31527.239999999998,
          37456.560000000005,
          44276.16,
          144332,
          56551.88,
          22289.64,
          34640.96,
          35433,
          89216.12,
          76734.92,
          39082.92,
          41371.72,
          50470.8,
          37942.36,
          28682.84,
          39871.16,
          23165.760000000002
         ],
         "yaxis": "y"
        },
        {
         "customdata": [
          [
           "AADINATH COSMETIC"
          ],
          [
           "AAKASH ENTERPRISE"
          ],
          [
           "AB TRADER"
          ],
          [
           "ABDUL MAJEED SHAH"
          ],
          [
           "ABHISEK MEDICAL HALL"
          ],
          [
           "ABILASH MEDICAL HALL"
          ],
          [
           "ACHUTA MEDICAL~"
          ],
          [
           "AGRA KIRANAM"
          ],
          [
           "AKIF ZEHGEER"
          ],
          [
           "AKMALIA TRADER"
          ],
          [
           "AKRAM KIRANAM"
          ],
          [
           "AL BARAHAQ"
          ],
          [
           "ALTAF PROV STORE"
          ],
          [
           "AMAR KIRANA"
          ],
          [
           "AMBE ENTERPRISE"
          ],
          [
           "AMBICA DISTRIBUTOR"
          ],
          [
           "AMBICA TRADER"
          ],
          [
           "AMIN CO"
          ],
          [
           "ANAND GENERAL STORE"
          ],
          [
           "ANAND MEDICAL"
          ],
          [
           "ARATI STORE"
          ],
          [
           "ARATI STORE"
          ],
          [
           "ARIHANT DISTRIBUTOR"
          ],
          [
           "ARPAN SUPPLIER"
          ],
          [
           "ARUNAPROL STORE"
          ],
          [
           "AYURVEDA MEDICINE CENTRE"
          ],
          [
           "AZZEEZIA MEDICAL"
          ],
          [
           "B M HOSIERY"
          ],
          [
           "BABUL DA"
          ],
          [
           "BADRI MEDICAL HALL"
          ],
          [
           "BAJEPROTAPPUR MEDICAL (UNIT=2)"
          ],
          [
           "BALAJI COSMETIC"
          ],
          [
           "BALAJI KIRANA STORE"
          ],
          [
           "BALAJI KIRANAM"
          ],
          [
           "BANERJEE SUPERMARKET PRIVATE LIMITED"
          ],
          [
           "BANU GENERAL STORE"
          ],
          [
           "BARDHAMAN THANA CO~O"
          ],
          [
           "BEAUTY 2"
          ],
          [
           "BEIGH PROV STORE"
          ],
          [
           "BHAGYA LAXMI GENERAL"
          ],
          [
           "BHARATH TRADER"
          ],
          [
           "BHAT GEN STORE"
          ],
          [
           "BHAVANI ENTERPRISE"
          ],
          [
           "BHAVANI KIRANAM"
          ],
          [
           "BHOKARE GOLI BHANDAR"
          ],
          [
           "BIJAY KUMAR SAH"
          ],
          [
           "BILAL AHMAD AHANGER"
          ],
          [
           "BILAL AHMAD MIR"
          ],
          [
           "BILAL AHMED BEIGH"
          ],
          [
           "BINAPANI MEDICAL HAL"
          ],
          [
           "BURDWAN SURGICAL HOUSE"
          ],
          [
           "B~ SREENIVASULU GENE"
          ],
          [
           "B~RAMESH"
          ],
          [
           "CARE PLUS PHARMA"
          ],
          [
           "CHAMANA KIRANAM"
          ],
          [
           "CHANDA MEDICAL HALL"
          ],
          [
           "CHANDRASEKHAR GENERA"
          ],
          [
           "CHOUDHRY GENERAL STO"
          ],
          [
           "CHOUDHURY GROUP"
          ],
          [
           "CITY TOP"
          ],
          [
           "DANISH MEDICATE"
          ],
          [
           "DARA SHOPING MALL"
          ],
          [
           "DASH PHARMACEUTICAL AGENCIE"
          ],
          [
           "DAVI GENERAL STORE"
          ],
          [
           "DEY'S DRUG DISTRIBUTOR"
          ],
          [
           "DEY'S MEDICAL STORE"
          ],
          [
           "DHANALAKSHMI PROVISI"
          ],
          [
           "DHANALASHMI GENERAL"
          ],
          [
           "DULAL PAKRASI"
          ],
          [
           "DURGA GENERAL STORE"
          ],
          [
           "DWARAKANATH GENERAL"
          ],
          [
           "ESHWAR COMPANY"
          ],
          [
           "FAROOQ ENTERPRISE"
          ],
          [
           "FASHION SECRET"
          ],
          [
           "FUTURE WIZ ADVERTISING PVT LTD"
          ],
          [
           "G S MART"
          ],
          [
           "GANESH MEDICAL HALL"
          ],
          [
           "GANESH TRADE"
          ],
          [
           "GAWANDE KIRANA"
          ],
          [
           "GIRIJA KIRANA GENERA"
          ],
          [
           "GODAWARI MEDICAL"
          ],
          [
           "GOEL TARADER"
          ],
          [
           "GOKUL GENERAL"
          ],
          [
           "GOODHELTH MEDICAL"
          ],
          [
           "GOODLUCK AGENCIE"
          ],
          [
           "GOPAL MARKETING"
          ],
          [
           "GOUR GOPAL BHANDER"
          ],
          [
           "GRAND FASHION"
          ],
          [
           "GUJRAT GENERAL STORE"
          ],
          [
           "GULL ADIL"
          ],
          [
           "GUPTA AGENCY"
          ],
          [
           "G~HANUMANTHAIAH GENE"
          ],
          [
           "HAMPESWARA GENERAL "
          ],
          [
           "HANUMAN AGENCIE"
          ],
          [
           "HANUMAN KIRANA"
          ],
          [
           "HANUMAN PROVISION"
          ],
          [
           "HARI BANSA"
          ],
          [
           "HARI HARA KM"
          ],
          [
           "HARI HARA STORE"
          ],
          [
           "HARIBANSA DUTTA & SON"
          ],
          [
           "HARIBANSHA"
          ],
          [
           "HARIBANSHA DUTTA & SON"
          ],
          [
           "HARIBANSHA DUTTA "
          ],
          [
           "HARSIL DRUG"
          ],
          [
           "HASHAM SON"
          ],
          [
           "HYDERABAD BEAUTY CEN"
          ],
          [
           "IQBAL GEN STORE"
          ],
          [
           "IRSHAD MEDICATE"
          ],
          [
           "JALARAM KIRANAM"
          ],
          [
           "JAYA SRI SUPER MARKET"
          ],
          [
           "JAYALAKSHMI FANCY ST"
          ],
          [
           "JHUM GROCERY"
          ],
          [
           "JULLAWAR KIRANA"
          ],
          [
           "JYOTHI GENERAL STORE"
          ],
          [
           "KAMALA PHARMACY"
          ],
          [
           "KANAILAL SHAW"
          ],
          [
           "KANAKARAJU GENERAL "
          ],
          [
           "KGN MEDICAL"
          ],
          [
           "KIRTI EMPORIYAM"
          ],
          [
           "KRISHNA MEDICAL HALL"
          ],
          [
           "KRISHNA SAI (KSKM) K"
          ],
          [
           "KRUPAKAR MEDICAL"
          ],
          [
           "KULDEVI MARKETING"
          ],
          [
           "K~ RANGANAYA KULU GE"
          ],
          [
           "K~ SUDHAKAR GENERAL"
          ],
          [
           "K~G~N~PAN GENERAL ST"
          ],
          [
           "LAKSHMIRANGA GENERAL"
          ],
          [
           "LAXMI SUGAND CENTER"
          ],
          [
           "LINGESHWARA KIRANAM"
          ],
          [
           "LOKENATH PHARMACUTICAL"
          ],
          [
           "LOKNATH BHANDER"
          ],
          [
           "LOKNATH DRUG"
          ],
          [
           "M M SHEIKH PROV STOR"
          ],
          [
           "M ZONE SUPER MARKET"
          ],
          [
           "M/S NAYEK DRUG AGENCY"
          ],
          [
           "M/S PAUL SURGICAL"
          ],
          [
           "MA SARADA PHARMACY"
          ],
          [
           "MA SARADA STORE"
          ],
          [
           "MAA MEDICAL"
          ],
          [
           "MAA MEDICAL HALL"
          ],
          [
           "MAA PODUMONI PHARMA"
          ],
          [
           "MAA TARA DRUG"
          ],
          [
           "MADHURI FANCY"
          ],
          [
           "MAFUZA PHARMACEUTICAL"
          ],
          [
           "MAHANANDA ENTERPRISE"
          ],
          [
           "MAHESH MEDICAL HALL"
          ],
          [
           "MAHESHPROL GENERAL "
          ],
          [
           "MALANCHA"
          ],
          [
           "MANAI"
          ],
          [
           "MANIKANTA GENERAL ST"
          ],
          [
           "MANIKANTA MEDICAL HA"
          ],
          [
           "MANJU DRUG"
          ],
          [
           "MANUJUNATHA MEDICAL"
          ],
          [
           "MARUTHI GENERAL STOR"
          ],
          [
           "MARUTHI MEDICAL"
          ],
          [
           "MATHA TRADER"
          ],
          [
           "MATRI BHANDER"
          ],
          [
           "MATRIKAS CORPORATION"
          ],
          [
           "MEE CARE PHARMACY"
          ],
          [
           "MOHAN COSMETIC"
          ],
          [
           "MUKHERJEE GENERAL STORE"
          ],
          [
           "MURALI MEDICAL HALL"
          ],
          [
           "MURALIDHAR KIRANAM"
          ],
          [
           "MUSHTAQ BEAUTY"
          ],
          [
           "M~D~PRASAD"
          ],
          [
           "M~KONDAIAH GENERAL "
          ],
          [
           "M~PREMRAJ GENERAL ST"
          ],
          [
           "N CH SUBBARAO GENERA"
          ],
          [
           "NAGARI PANDUSA STORE"
          ],
          [
           "NAGARI RAJANSA STORE"
          ],
          [
           "NARAYAN BHANDER"
          ],
          [
           "NEW ASHIRBAD DRUG HOUSE"
          ],
          [
           "NEW AZAD MEDICAL"
          ],
          [
           "NEW MALIKARJUNA KIRA"
          ],
          [
           "NEW MATRI STORE"
          ],
          [
           "NEW RAKAMARI STORE"
          ],
          [
           "NEW ROY BROTHER"
          ],
          [
           "NIGAR MEDICAL HALL"
          ],
          [
           "NIZAM MEDICAL HALL"
          ],
          [
           "NONIGOPAL MEDICAL"
          ],
          [
           "NSR FANCY"
          ],
          [
           "OM PRAKASH KIRANAM"
          ],
          [
           "OM SHIVA GENREAL STO"
          ],
          [
           "PADMA AGENCIE"
          ],
          [
           "PADMAVATHI GENERAL "
          ],
          [
           "PADMAVATHI TRADER"
          ],
          [
           "PANKAJ COSMETIC"
          ],
          [
           "PARAMESHWARCOSMETIC"
          ],
          [
           "PARAMESHWARE GENERAL"
          ],
          [
           "PAREEK ENTERPRISE"
          ],
          [
           "PARIS PERFUME WORLD"
          ],
          [
           "PAUL PHARMACY"
          ],
          [
           "PAVAN ENTERPRISE"
          ],
          [
           "PAVAN GENERAL STORE"
          ],
          [
           "PAVAN LADIES CORNER"
          ],
          [
           "PAVAN SWEET"
          ],
          [
           "PINKI PATANJALI"
          ],
          [
           "POOJA COSMETIC"
          ],
          [
           "POOJA FANCY STORE"
          ],
          [
           "PRABHA MEDICAL"
          ],
          [
           "PRAGATI ENTERPRISE"
          ],
          [
           "PRAHALLAD PRASAD"
          ],
          [
           "PRAKASH AGENCIE"
          ],
          [
           "PRAKASH STORE"
          ],
          [
           "PRATHIK COSMITIC"
          ],
          [
           "PREETAM COSMETIC"
          ],
          [
           "PREM AGENCY"
          ],
          [
           "PRINCE MEDICATE"
          ],
          [
           "PRIYANKA COSMETIC"
          ],
          [
           "PROTIMA STORE"
          ],
          [
           "P~ DUTTA~"
          ],
          [
           "P~ NAGABHUISHANAM GE"
          ],
          [
           "P~JOGAL KISHORE KIRA"
          ],
          [
           "QUICK CARE"
          ],
          [
           "RADHAKRISHNA GENERAL"
          ],
          [
           "RADIKA DRUGS N DISTRIBUTER"
          ],
          [
           "RAGAVENDRA SWAMY GEN"
          ],
          [
           "RAGHAVENDRA FANCY ST"
          ],
          [
           "RAGHU TRADE"
          ],
          [
           "RAJ & RAJ SURGICAL HOUSE"
          ],
          [
           "RAJ GENERAL"
          ],
          [
           "RAJARAM KIRANA"
          ],
          [
           "RAJASTAN CUTLURY MAR"
          ],
          [
           "RAKESH AND COMPANY"
          ],
          [
           "RAMA KRISHNA GENERAL"
          ],
          [
           "RAMANA GENERAL STORE"
          ],
          [
           "RAMESH TRADER"
          ],
          [
           "RAMKRISHNA MEDICO"
          ],
          [
           "RANGA RAO KIRANAM"
          ],
          [
           "RANGAPAN GENERAL STO"
          ],
          [
           "RANGHAR DRUG"
          ],
          [
           "RATNARAJ TRADING"
          ],
          [
           "RAYEES ENTERPRISE"
          ],
          [
           "REKHA ENTERPRISE"
          ],
          [
           "RELIEF SURGICAL ONE"
          ],
          [
           "RIMA MEDICAL"
          ],
          [
           "ROHITH COSMETIC"
          ],
          [
           "ROSHAN KIRANAM"
          ],
          [
           "ROYAL MEDICAL STORE"
          ],
          [
           "RUKMANI"
          ],
          [
           "RUSHAB AGENCIE"
          ],
          [
           "R~BHANDARI"
          ],
          [
           "R~M~GENERAL STORE"
          ],
          [
           "R~M~S~ DRUG"
          ],
          [
           "R~NARAYANASETTY GENE"
          ],
          [
           "R~N~BHANDER"
          ],
          [
           "R~S~ENTERPRISE"
          ],
          [
           "R~S~PHARMACEUTICAL"
          ],
          [
           "SADHANA AUSHADHALAYA"
          ],
          [
           "SAHEB MART"
          ],
          [
           "SAI RAM MEDICAL"
          ],
          [
           "SAI SRINIVASA MEDICA"
          ],
          [
           "SAIKRISHNA MEDICAL H"
          ],
          [
           "SALEEM KIRANAM"
          ],
          [
           "SAMIR DUTTA~"
          ],
          [
           "SANDEEP TRADER"
          ],
          [
           "SANGEETHA MEDICAL ST"
          ],
          [
           "SANJAY KIRANA"
          ],
          [
           "SANJAY KIRANA STORE"
          ],
          [
           "SANTOSH GENERAL STOR"
          ],
          [
           "SARADA PHARMACY~"
          ],
          [
           "SASHI MEDICAL"
          ],
          [
           "SATGURU MEDICAL"
          ],
          [
           "SATYA NARAYAN STORE"
          ],
          [
           "SATYA SAI MEDICAL"
          ],
          [
           "SATYANARAYAN MEDICAL"
          ],
          [
           "SATYASA MEDICAL HALL"
          ],
          [
           "SHAHI MEDICAL HALL"
          ],
          [
           "SHAIK BABU KIRANAM"
          ],
          [
           "SHANMUGA GENERAL STO"
          ],
          [
           "SHASHI MEDICAL HALL"
          ],
          [
           "SHIKA TRADER"
          ],
          [
           "SHIKWAL COSMETIC"
          ],
          [
           "SHIVAJI DRUG"
          ],
          [
           "SHIVASHANKAR GENERAL"
          ],
          [
           "SHREE GANESH ENTERPRISE"
          ],
          [
           "SHREE GANESH MEDICAL HALL"
          ],
          [
           "SHREE STORE"
          ],
          [
           "SHRIDI SAI GENERAL "
          ],
          [
           "SINHA DRUG ENTERPRISE"
          ],
          [
           "SIVA MEDICAL HALL"
          ],
          [
           "SOVA STORE"
          ],
          [
           "SREE BALAJI GENERAL"
          ],
          [
           "SREE MAHADEV G S (FE"
          ],
          [
           "SREENIDHI LADIES COR"
          ],
          [
           "SREENIVASA GENERAL "
          ],
          [
           "SREESAILA MEDICAL HA"
          ],
          [
           "SREEVENKATESWARA PRO"
          ],
          [
           "SRI KRISHAN MEDICAL"
          ],
          [
           "SRI MARUTHI PROVISIO"
          ],
          [
           "SRI PADMAVATHI MEDIC"
          ],
          [
           "SRI RAMA TRADER"
          ],
          [
           "SRI SAROJ AGENCY"
          ],
          [
           "SRI SHIVASANKAR MEDI"
          ],
          [
           "SRI SHYAM GENERAL STORE"
          ],
          [
           "SRI VENKATARAGHAVEND"
          ],
          [
           "SRI VENKATESWARA GEN"
          ],
          [
           "SRIKANTH FANCY GEN"
          ],
          [
           "SUDHA MEDICAL HALL"
          ],
          [
           "SUHAIL AHMED"
          ],
          [
           "SUKANTA SUPPLIER"
          ],
          [
           "SUMAN DRUG"
          ],
          [
           "SURENDER AGENCIE"
          ],
          [
           "SURESH MEDICAL HALL"
          ],
          [
           "SURESH NILAWAR KIRAN"
          ],
          [
           "SUVIDHA SUPER MARKET"
          ],
          [
           "SWASTIVIVA"
          ],
          [
           "SWEFT DEPT~ STORE"
          ],
          [
           "S~ HANUMATHAIAH GENE"
          ],
          [
           "S~L~V~ENTERPRISES GE"
          ],
          [
           "S~V~S LADIES CORNER"
          ],
          [
           "TABINDA GEN STORE"
          ],
          [
           "THE MEDICINE HOUSE"
          ],
          [
           "THE UNITED MEDICINE & SURGICAL"
          ],
          [
           "THIRUMALA MEDICAL ST"
          ],
          [
           "TIRUMALA MEDICAL"
          ],
          [
           "TRI NATH DRUG"
          ],
          [
           "TRINATH AYURVEDIC AUSHADHALAYA"
          ],
          [
           "TRUSTED MEDICATE"
          ],
          [
           "UMA GENERAL STORE"
          ],
          [
           "UMA MEDICAL"
          ],
          [
           "VAIKUNTHA PHARMA"
          ],
          [
           "VAISHNAVI GENERAL ST"
          ],
          [
           "VARASIDDIVINAYAKA GE"
          ],
          [
           "VARDHAMAN BEAUTY COL"
          ],
          [
           "VASVAVI GENERAL STOR"
          ],
          [
           "VAYNKATESH MEDICAL"
          ],
          [
           "VEERABHADRA GENERAL"
          ],
          [
           "VENKAT RAJAM KIRANAM"
          ],
          [
           "VENKATA SAI KIRANAM"
          ],
          [
           "VENKATESHWAR KIRANAM"
          ],
          [
           "VENKATESWARLU GENERA"
          ],
          [
           "VENU KIRANA"
          ],
          [
           "VENUGOPAL MEDICAL HA"
          ],
          [
           "VIJAYALAKSHMI FANCY"
          ],
          [
           "VIJAYESWARI FANCY"
          ],
          [
           "VIJAYESWARI GENERAL"
          ],
          [
           "VINAYAKA TRADER"
          ],
          [
           "VISWANATH PROVISION"
          ],
          [
           "VITAL PRASANNA KIRAN"
          ],
          [
           "V~B RAVIKUMAR KIRANA"
          ],
          [
           "V~B~R GENERAL STORE"
          ],
          [
           "V~B~R SONS KIRANAM"
          ],
          [
           "YAIM KIRANAM"
          ],
          [
           "YOUSUF MEDICATE"
          ]
         ],
         "hovertemplate": "CLOSEST_CLUSTER_1=1<br>Average Bucket Value=%{x}<br>Total Sales Value=%{y}<br>Retailer Name=%{customdata[0]}<extra></extra>",
         "legendgroup": "1",
         "marker": {
          "color": "#EF553B",
          "symbol": "circle"
         },
         "mode": "markers",
         "name": "1",
         "showlegend": true,
         "type": "scattergl",
         "x": [
          205491.85176470588,
          99600.004,
          83102.36,
          12818.029999999999,
          21708.48,
          3229.4775,
          5705.837777777778,
          5223.144,
          20965.967500000002,
          24784.866666666665,
          4918.888888888889,
          2416.266666666667,
          4114.496666666667,
          7089.207058823529,
          195880.13333333333,
          213667.18,
          166208.61466666666,
          6551.34,
          3939.341333333333,
          5288.0650000000005,
          2648.96,
          62848.31083333333,
          48916.44,
          18976.503999999997,
          4488.609333333333,
          12026.744,
          12020.006153846152,
          12344.370666666666,
          3860.1085714285714,
          6237.804210526316,
          2977.2676923076924,
          167390.7808695652,
          6557.418461538462,
          5448.608,
          3224.3450000000003,
          3447.83,
          3378.9485714285715,
          5713.444444444445,
          14808.863999999998,
          282156.51684210525,
          138817.6,
          2772.0400000000004,
          272647.3626666667,
          4893.768571428572,
          3436.9538461538464,
          16933.48,
          15771.7,
          12862.99,
          4414.523999999999,
          9363.182,
          17601.494545454545,
          3625.3766666666666,
          4146.163076923077,
          7320.32,
          5781.903333333333,
          3413.816,
          3784.205,
          338460.7387096774,
          7190.496190476191,
          4100.8953846153845,
          6215.104,
          11054.501818181818,
          36143.380000000005,
          176440.14105263157,
          28527.800000000003,
          46402.96,
          3266.1936,
          3392.855,
          3384.661666666667,
          3321.5051851851854,
          3628.9733333333334,
          446058.55727272725,
          25032.325,
          3387.6186666666667,
          18531.74,
          3692.308,
          5390.343703703704,
          3608.7615384615387,
          4439.005714285714,
          11573.04,
          3307.6228571428574,
          259521.2325925926,
          5653.441333333333,
          8975.266666666666,
          14979.05666666667,
          149678.756,
          6750.373333333333,
          7920.452,
          217791.872,
          22014.88923076923,
          66228.33263157895,
          3637.555,
          8328.492307692308,
          145403.7288888889,
          23318.44,
          3805.7433333333333,
          4457.478260869565,
          5426.07,
          215178.368,
          3545.472222222222,
          8080.397551020408,
          3375.961111111111,
          7301.4592,
          17289.719999999998,
          287219.1213333334,
          104760.23999999999,
          4722.077142857143,
          3668.773333333333,
          5974.071111111111,
          30990.088,
          19658.053333333333,
          8325.376363636364,
          193172.72727272726,
          165498.24857142856,
          3899.156,
          4433.164444444444,
          3367.0917647058823,
          3402.6685714285713,
          3628.425,
          8846.683333333332,
          24268.38,
          4143.428888888889,
          77823.37,
          3683.8706666666667,
          3740.9111111111106,
          3890.7742857142853,
          3315.4188235294114,
          3636.9033333333336,
          5749.577777777778,
          8395.864444444444,
          2518.248,
          31631.28,
          4791.776,
          10121.762666666667,
          7472.516363636364,
          4333.502222222222,
          12639.37,
          2855.7927272727275,
          8640.14,
          3607.816666666666,
          9772.448,
          69141.38666666667,
          3973.936,
          93424.31999999999,
          33498.86666666667,
          4267.2519999999995,
          3589.0533333333333,
          4373.828888888889,
          161201.0553846154,
          3520.434285714285,
          4416.04,
          4992.4,
          5242.090666666667,
          3523.8278787878785,
          8271.966153846153,
          5448.351578947368,
          3336.9013333333337,
          451235.286,
          8516.084444444445,
          274278.9914285714,
          2616.2571428571428,
          4747.995,
          6124.606666666667,
          3884.0166666666664,
          5473.280000000001,
          3807.5946666666664,
          3693.74,
          188347.62933333332,
          146194.79157894736,
          258719.16444444444,
          4159.84,
          3884.156,
          7751.586666666666,
          4729.9800000000005,
          5735.721818181818,
          16684.916666666668,
          5531.876363636364,
          3259.3529411764707,
          3791.5075,
          4520.448888888889,
          18528.182857142856,
          5993.244000000001,
          187495.45,
          129324.57142857143,
          3847.0266666666666,
          110992.91733333333,
          218181.3633333333,
          294548.51333333337,
          3452.3777777777777,
          11752.380606060606,
          152289.664,
          8585.848,
          326530.61677419354,
          2781.2983783783784,
          5272.327272727272,
          197533.49538461538,
          39989.24,
          617249.4068965517,
          5580.37,
          6239.872,
          96122.90181818181,
          8389.493333333334,
          375269.7485714286,
          12228.916,
          160722.356,
          370615.89023255813,
          162600.00666666668,
          3702.7927272727275,
          398544.66285714286,
          15581.52411764706,
          13425.210000000001,
          24193.299999999996,
          5172.276666666667,
          4744.6213333333335,
          3913.5542857142855,
          30706.72,
          3153.908888888889,
          6826.516666666666,
          45940.36,
          9994.675294117647,
          233108.30307692307,
          23803.5,
          123354.31333333332,
          193045.15652173912,
          3738.4314285714286,
          3613.8942857142856,
          472725.772,
          6562.454117647059,
          4976.388,
          3664.6933333333336,
          41022.64,
          162705.19,
          3676.8399999999997,
          168980.74285714285,
          21289.513333333332,
          6114.49,
          140655.03999999998,
          5021.044,
          5228.031111111111,
          31071.4,
          152068.676,
          105057.29333333333,
          248922.07515151514,
          11892.800000000001,
          4023.4599999999996,
          4468.783333333334,
          231347.93904761903,
          111951.90000000001,
          31431.071999999996,
          12937.583999999999,
          5591.536,
          3569.9873684210525,
          4715.567741935484,
          5130.693333333334,
          4734.2699999999995,
          142465.70133333333,
          5443.916666666667,
          3792.458181818182,
          18967.221818181817,
          121811.59999999999,
          55473.32666666667,
          3471.5226666666663,
          6029.178181818183,
          3514.22,
          3756.728695652174,
          5293.299999999999,
          3704.0492307692307,
          5360.794,
          6225.952,
          3706.5685714285714,
          5491.477647058823,
          264178.4061538461,
          88922.70000000001,
          60545.759999999995,
          3666.7599999999998,
          4870.148,
          8562.039999999999,
          502088.2967441861,
          3286.5133333333333,
          6910.938666666667,
          8555.806153846155,
          9239.886666666667,
          3788.8981818181815,
          211468.9546666667,
          10535.743333333334,
          3608.7952,
          3653.8914285714286,
          3717.3226666666665,
          3706.6471428571426,
          3286.4075,
          3511.02,
          3685.194285714286,
          187610.1417142857,
          4117.268571428572,
          163325.0511111111,
          3805.3971428571426,
          3761.74,
          89397.10181818182,
          4606.504615384615,
          32390.424,
          46289.48666666667,
          6968.61,
          147171.94476190474,
          6072.1578947368425,
          3436.1057142857144,
          21421.821333333333,
          34885.68,
          5695.377777777778,
          3464.6657142857143,
          24186.78,
          3369.1636363636367,
          4554.837894736842,
          2254.12,
          4053.2533333333336,
          6465.885714285714,
          27175.626666666667,
          5510.29,
          25099.739999999998,
          2910.2038095238095,
          199759.96615384615,
          3549.4466666666667,
          36604.520000000004,
          3897.015,
          4843.881333333334,
          99753.512,
          3663.8484210526312,
          5166.79,
          3601.0457142857144,
          5598.1466666666665,
          6378.59,
          5425.056,
          4144.046666666666,
          5265.104,
          5437.568888888888,
          12447.627692307693,
          3844.949090909091,
          3521.1093333333333,
          269677.2182857143,
          3534.071111111111,
          5204.435555555556,
          6103.16,
          6295.3099999999995,
          5255.826666666667,
          5177.18,
          4280.400000000001
         ],
         "xaxis": "x",
         "y": [
          3493361.48,
          996000.04,
          249307.08000000002,
          153816.36,
          43416.96,
          51671.64,
          102705.08,
          52231.44,
          335455.48000000004,
          371773,
          44270,
          36244,
          148121.88,
          120516.52,
          2938202,
          427334.36,
          2493129.2199999997,
          26205.36,
          59090.119999999995,
          84609.04000000001,
          18542.72,
          1508359.46,
          48916.44,
          94882.51999999999,
          134658.28,
          180401.16,
          156260.08,
          185165.56,
          54041.52,
          118518.28,
          38704.48,
          3849987.96,
          170492.88,
          54486.08,
          64486.9,
          55165.28,
          47305.28,
          51421.00000000001,
          148088.63999999998,
          10721947.64,
          1943446.4,
          60984.880000000005,
          4089710.44,
          68512.76000000001,
          44680.4,
          33866.96,
          63086.8,
          51451.96,
          44145.24,
          187263.64,
          193616.44,
          43504.52,
          53900.119999999995,
          117125.12,
          69382.84,
          34138.159999999996,
          60547.28,
          10492282.9,
          302000.84,
          53311.64,
          93226.56,
          121599.52,
          72286.76000000001,
          3352362.68,
          28527.800000000003,
          139208.88,
          81654.84,
          54285.68,
          40615.94,
          89680.64,
          43547.68,
          19626576.52,
          400517.2,
          50814.28,
          37063.48,
          36923.08,
          145539.28,
          93827.8,
          62146.08,
          46292.16,
          46306.72,
          7007073.28,
          169603.24,
          26925.8,
          179748.68000000002,
          2993575.1199999996,
          60753.36,
          79204.52,
          3266878.08,
          286193.56,
          1258338.32,
          58200.88,
          108270.4,
          1308633.56,
          46636.88,
          45668.92,
          102522,
          65112.84,
          3227675.52,
          63818.5,
          395939.48,
          60767.3,
          182536.48,
          51869.159999999996,
          8616573.64,
          628561.44,
          66109.08,
          55031.6,
          53766.64,
          619801.76,
          353844.96,
          91579.14,
          2124900,
          2316975.48,
          38991.56,
          39898.479999999996,
          57240.56,
          47637.36,
          58054.8,
          106160.2,
          48536.76,
          74581.72,
          933880.44,
          110516.12,
          67336.4,
          54470.84,
          56362.119999999995,
          43642.840000000004,
          51746.2,
          151125.56,
          37773.72,
          126525.12,
          47917.759999999995,
          151826.44,
          82197.68000000001,
          39001.520000000004,
          75836.22,
          31413.72,
          17280.28,
          43293.799999999996,
          48862.240000000005,
          207424.16,
          59609.04,
          186848.63999999998,
          100496.6,
          42672.52,
          43068.64,
          78728.92,
          2095613.7200000002,
          49286.079999999994,
          75072.68,
          49924,
          78631.36,
          116286.31999999999,
          107535.56,
          103518.68,
          100107.04000000001,
          18049411.44,
          153289.52,
          7679811.76,
          36627.6,
          113951.88,
          73495.28,
          46608.2,
          54732.8,
          57113.92,
          66487.31999999999,
          2825214.44,
          2777701.04,
          4656944.96,
          45758.24,
          38841.56,
          23254.76,
          47299.8,
          63092.939999999995,
          200219,
          60850.64,
          55409,
          60664.12,
          40684.04,
          259394.56,
          59932.44,
          3749909,
          1810544,
          46164.32,
          1664893.76,
          5236352.72,
          7069164.32,
          62142.799999999996,
          387828.56,
          3807241.6,
          42929.24,
          10122449.12,
          102908.04,
          57995.6,
          2567935.44,
          359903.16,
          35800465.6,
          66964.44,
          31199.36,
          1057351.92,
          25168.480000000003,
          15761329.44,
          122289.15999999999,
          2410835.34,
          15936483.28,
          975600.04,
          40730.72,
          16738875.84,
          529771.8200000001,
          53700.840000000004,
          48386.59999999999,
          62067.32,
          71169.32,
          54789.759999999995,
          61413.44,
          56770.36,
          81918.2,
          45940.36,
          169909.48,
          6060815.88,
          47607,
          1850314.7,
          4440038.6,
          52338.04,
          50594.52,
          14181773.16,
          111561.72,
          49763.88,
          54970.4,
          82045.28,
          1952462.28,
          33091.56,
          2365730.4,
          383211.24,
          24457.96,
          2953755.84,
          50210.44,
          47052.28,
          31071.4,
          2281030.14,
          630343.76,
          8214428.4799999995,
          202177.6,
          48281.52,
          53625.4,
          4858306.72,
          223903.80000000002,
          314310.72,
          258751.68,
          27957.68,
          67829.76,
          146182.6,
          46176.240000000005,
          47342.7,
          2136985.52,
          65327,
          41717.04,
          208639.44,
          1705362.4,
          665679.92,
          52072.84,
          66320.96,
          35142.2,
          86404.76,
          95279.4,
          48152.64,
          107215.88,
          31129.760000000002,
          51891.96,
          93355.12,
          6868638.56,
          355690.80000000005,
          121091.51999999999,
          55001.399999999994,
          48701.48,
          77058.35999999999,
          21589796.76,
          59157.24,
          103664.08,
          111225.48000000001,
          110878.64,
          41677.88,
          3172034.3200000003,
          126428.92,
          90219.88,
          51154.48,
          55759.84,
          103786.12,
          52582.52,
          56176.32,
          51592.72,
          6566354.96,
          57641.76,
          1469925.46,
          53275.56,
          45140.88,
          983368.12,
          59884.56,
          161952.12,
          138868.46000000002,
          27874.44,
          3090610.84,
          115371,
          48105.48,
          321327.32,
          34885.68,
          51258.4,
          48505.32,
          48373.56,
          74121.6,
          86541.92,
          31557.68,
          48639.04,
          90522.4,
          407634.4,
          22041.16,
          50199.479999999996,
          61114.28,
          5193759.12,
          42593.36,
          36604.520000000004,
          62352.24,
          145316.44,
          1496302.68,
          69613.12,
          82668.64,
          50414.64,
          50383.32,
          25514.36,
          54250.56,
          49728.56,
          52651.04,
          97876.23999999999,
          161819.16,
          42294.44,
          52816.64,
          9438702.64,
          63613.28,
          46839.92,
          24412.64,
          25181.239999999998,
          63069.92,
          51771.8,
          51364.8
         ],
         "yaxis": "y"
        },
        {
         "customdata": [
          [
           "AADITYA KIRANA"
          ],
          [
           "AAINATH PROVISION"
          ],
          [
           "ABBAS BROTHER"
          ],
          [
           "ABRAR PHARMACY"
          ],
          [
           "AB~ AHAD SON"
          ],
          [
           "ADITHYA MEDICAL"
          ],
          [
           "AITHA SUBBAIAH GENER"
          ],
          [
           "AL~AMIN UNANI AYURVE"
          ],
          [
           "AL~HAMZA DEPT~STORE"
          ],
          [
           "AL~SHABIR MEDICATE"
          ],
          [
           "AMAN DRUG HOUSE"
          ],
          [
           "AMBICA FANCY"
          ],
          [
           "AMBICA KIRANA GENERA"
          ],
          [
           "AMBIKA PROVISION"
          ],
          [
           "AMOL TRADER"
          ],
          [
           "AMULYA KIRANAM"
          ],
          [
           "ANANDAMOYEE ENTERPRISE"
          ],
          [
           "ANANTHA SAI MEDICAL"
          ],
          [
           "ANIL MEDICAL"
          ],
          [
           "ANJALI MEDICAL"
          ],
          [
           "ANKULE PROVISION"
          ],
          [
           "ANNA VENKATESWAR KIR"
          ],
          [
           "ANNAPURNA MEDICAL STORE"
          ],
          [
           "ANNAPURNA MEDICINE STORE"
          ],
          [
           "ANNAPURNA STORES~"
          ],
          [
           "ANOL KIRANA"
          ],
          [
           "ANU MEDICALSTORE"
          ],
          [
           "ANUSUYA PHARMACEUTICAL"
          ],
          [
           "APPASWAMI MEDICAL"
          ],
          [
           "ARATI DISTRIBUTOR"
          ],
          [
           "AROGYA MEDICAL STORE"
          ],
          [
           "ARSHI NEVER END"
          ],
          [
           "ARVIND MEDICAL STORE"
          ],
          [
           "ASBA ASSOCIATE"
          ],
          [
           "ASHIRBAD MEDICINE STORE"
          ],
          [
           "ASHIRWAD PROVISION"
          ],
          [
           "ASHOK KIRANA"
          ],
          [
           "ASLAM KIRANAM"
          ],
          [
           "AVINASH KIRANA"
          ],
          [
           "AYEMI MEDICAL"
          ],
          [
           "BAJARANGI PHARMACEUTICAL AGENCY"
          ],
          [
           "BALAJI KIRANA GEN"
          ],
          [
           "BALAJI MEDICAL"
          ],
          [
           "BALAJI PROVISION STO"
          ],
          [
           "BALALJI KIRANA"
          ],
          [
           "BALUNKESWAR MEDICAL STORE"
          ],
          [
           "BARE KIRANA"
          ],
          [
           "BARSHA MEDICAL STORE"
          ],
          [
           "BASANTI MEDICINE STORE"
          ],
          [
           "BASHIR AHMED BALLA"
          ],
          [
           "BASHIR PROV STORE"
          ],
          [
           "BEAUTY STORE"
          ],
          [
           "BENGAL MEDICAL HALL"
          ],
          [
           "BHANDARI KIRANA"
          ],
          [
           "BHARABI MEDICLA STORE"
          ],
          [
           "BHAT PROV~ STORE I"
          ],
          [
           "BHAT TRADITIONAL"
          ],
          [
           "BHURAJI MEDICAL"
          ],
          [
           "BHUSAN BARMAN"
          ],
          [
           "BILAL COSMATIC"
          ],
          [
           "BILAL GEN STORE"
          ],
          [
           "BIVASH MEDICAL"
          ],
          [
           "BOMBAY FANCY STORE"
          ],
          [
           "BOOMERANG DEPT~STORE"
          ],
          [
           "BRAMARAMBIKA MEDICAL"
          ],
          [
           "CH RAMBABU FANCY G"
          ],
          [
           "CH SRINIVASA KIRANA"
          ],
          [
           "CHAKA RAMA LINGAIAH"
          ],
          [
           "CHAKADOLA MED~ STORE"
          ],
          [
           "CHANDOLU MALLIKARJUN"
          ],
          [
           "CHANDRA MOULI KIRANA"
          ],
          [
           "CHANDU MEDICAL STORE"
          ],
          [
           "CHINAR PROV STORE"
          ],
          [
           "CHINTAMANI MEDICAL STORE"
          ],
          [
           "CHOUDHRY MEDICAL STORE"
          ],
          [
           "CHUMKI PHARMACY"
          ],
          [
           "CUTE KEMP"
          ],
          [
           "D V MOHANA RAO KIRAN"
          ],
          [
           "DARZI PROV STORE"
          ],
          [
           "DATTA FANCY GENERA"
          ],
          [
           "DEBAMATA MEDICAL & GEN STORE"
          ],
          [
           "DEBNATH MEDICAL"
          ],
          [
           "DEEPA FANCY STORE"
          ],
          [
           "DEEPAK MEDICAL"
          ],
          [
           "DHARA SUPER MART"
          ],
          [
           "DILEEP KIRANAM"
          ],
          [
           "DIVYA MEDICAL"
          ],
          [
           "DOGIPARTHI SURYANARA"
          ],
          [
           "DURGA KIRANA"
          ],
          [
           "DUTTA BROTHER"
          ],
          [
           "ELAHI BHANDER"
          ],
          [
           "FAZILI MEDICATE"
          ],
          [
           "FIROZ KIRANA"
          ],
          [
           "G VENKATESWARLU KIRA"
          ],
          [
           "GAJANAN MEDICAL"
          ],
          [
           "GAJANAND PROVISION"
          ],
          [
           "GANGAPRASAD KIRANA"
          ],
          [
           "GAURI GENRAL"
          ],
          [
           "GAYATHRI MEDICAL"
          ],
          [
           "GELLI RAVI GENERAL"
          ],
          [
           "GIRISH PROVISION"
          ],
          [
           "GIRISH TRADER"
          ],
          [
           "GOOD HEALTH MEDICAL"
          ],
          [
           "GOPI GENERAL STORE"
          ],
          [
           "GOPIKRISHNA GENERAL"
          ],
          [
           "GOURIPRASAD MEDICAL STORE"
          ],
          [
           "GOVINDRAJ TRADER"
          ],
          [
           "GRACE MEDICO"
          ],
          [
           "GRANDI SILA VENKATE"
          ],
          [
           "GUDU MEDICAL STORE"
          ],
          [
           "GUPTA STORE"
          ],
          [
           "GURUKRUPA MEDECAL"
          ],
          [
           "HANUMAN FANCY STORE"
          ],
          [
           "HANUMAN KIRANA GEN"
          ],
          [
           "HANUMAN MEDICAL"
          ],
          [
           "HARI MEDICAL"
          ],
          [
           "HARIOM MEDICAL STORE"
          ],
          [
           "HEMA MEDICAL"
          ],
          [
           "HIRANMAYEE MEDICO"
          ],
          [
           "HMV MEDICAL"
          ],
          [
           "IMRAN ENTERPRISE"
          ],
          [
           "ISLAM MEDICAL"
          ],
          [
           "I~H~GHANI"
          ],
          [
           "JAGA KALIA MEDICAL & GEN STORE"
          ],
          [
           "JAGADAMBA MEDICAL AGENCIE"
          ],
          [
           "JAGADAMBA MEDICAL"
          ],
          [
           "JAGANNATH MEDICAL & GENERAL STORE"
          ],
          [
           "JAHANGIR MEDICAL"
          ],
          [
           "JAIN MEDICO"
          ],
          [
           "JANANI MEDICAL STORE"
          ],
          [
           "JANATA MEDICAL STORE"
          ],
          [
           "JAY GURU MEDICAL STORE"
          ],
          [
           "JAY JIVAN MEDICAL"
          ],
          [
           "JAY SRI KRISHNA MEDICAL STORE"
          ],
          [
           "JAYANTHI KISTAIAH G"
          ],
          [
           "JEEVAN JYOTI MEDICAL & GEN STORE"
          ],
          [
           "JENA MEDCINE"
          ],
          [
           "JIBAN BHANDER"
          ],
          [
           "JK MEDICO"
          ],
          [
           "JOLOJOG"
          ],
          [
           "JOY MAA TARA VARITY STORE"
          ],
          [
           "JOY VARATIES STORE"
          ],
          [
           "J~ N~ DAR (KHAYAM)"
          ],
          [
           "K KAASIPATHI KIRANA"
          ],
          [
           "KALANGI VENKATESWARL"
          ],
          [
           "KALANJALI FANCY STOR"
          ],
          [
           "KANAKA DURGA KIRANA"
          ],
          [
           "KANDE SUBBARAO GEN "
          ],
          [
           "KAPIL BOOK STALL"
          ],
          [
           "KARTHIKEYA FANCY"
          ],
          [
           "KASHANI ENTERPRISE"
          ],
          [
           "KHAN KIRANA"
          ],
          [
           "KHAN PROVISION STORE"
          ],
          [
           "KMC NOVELTIE"
          ],
          [
           "KOPPARAPU SATHYANARA"
          ],
          [
           "KOUNDOO BROTHER"
          ],
          [
           "KRISHNA MEDICAL"
          ],
          [
           "KRISHNA VENI KIRNA"
          ],
          [
           "K~ SESHACHALAPATHI G"
          ],
          [
           "K~ VINOD KIRANAM"
          ],
          [
           "K~RAMBABU GENERAL"
          ],
          [
           "LADY CHOICE"
          ],
          [
           "LAKSHMI GANAPATHI"
          ],
          [
           "LAKSHMI MEDICAL"
          ],
          [
           "LAKSHMI SAI FANCY"
          ],
          [
           "LAKSHMI SAI MEDICAL"
          ],
          [
           "LAKSHMIDEVI GENERAL"
          ],
          [
           "LAL KHAN PROVISION "
          ],
          [
           "LALIT KIRANA"
          ],
          [
           "LALITH FANCY STORE"
          ],
          [
           "LAXMI EMPORIYAM"
          ],
          [
           "LAXMI MEDICAL"
          ],
          [
           "LAXMI MEDICAL"
          ],
          [
           "LAXMI PROVISION"
          ],
          [
           "LEPAKSHI MEDICAL"
          ],
          [
           "LIFE GARD MEDICAL"
          ],
          [
           "LIFELINE MEDICO"
          ],
          [
           "LILA PHARMACY~"
          ],
          [
           "LISA MEDICARE"
          ],
          [
           "L~N~ MEDICO"
          ],
          [
           "M RAMARAO KIRANA G"
          ],
          [
           "M SRINIVASULU KIRANA"
          ],
          [
           "MA KALI BHANDER"
          ],
          [
           "MAA BANJARUNI MEDICAL STORE"
          ],
          [
           "MAA BANKESWARI MEDICO"
          ],
          [
           "MAA CONFECTIONARY"
          ],
          [
           "MAA MANGALA PHARMACEUTICAL"
          ],
          [
           "MAA SARASWOTI MEDICINE STORE"
          ],
          [
           "MADEENA MEDICAL"
          ],
          [
           "MADINA MEDICO"
          ],
          [
           "MAHADEVA MEDECAL"
          ],
          [
           "MAHAJAN TRADER"
          ],
          [
           "MAHESH FANCY GENER"
          ],
          [
           "MAHVEER MEDICAL"
          ],
          [
           "MAKROO SPICE"
          ],
          [
           "MANASA MEDICAL STORE"
          ],
          [
           "MANIKANTA MEDICAL"
          ],
          [
           "MANJU GENERAL STORE"
          ],
          [
           "MANZOOR PROV STORE"
          ],
          [
           "MASCOT MEDICAL"
          ],
          [
           "MASTER BEAUTY (SAFAK"
          ],
          [
           "MAULI KIRANA"
          ],
          [
           "MAULI MEDICAL"
          ],
          [
           "MAULI PROVISION"
          ],
          [
           "MD HALEE KIRANA GE"
          ],
          [
           "MD WAHEED KIRANAM"
          ],
          [
           "MEDI SCIENCE"
          ],
          [
           "MIR MEDICATE"
          ],
          [
           "MIR PROV STORE"
          ],
          [
           "MODALA SUBBARAO GENE"
          ],
          [
           "MOHANSAI MEDICAL"
          ],
          [
           "MOHAVEER MEDICINE STORE(COLLEGE SQRE)"
          ],
          [
           "MONDAL TRADER"
          ],
          [
           "MUKHERJEE MEDICIN CENTER"
          ],
          [
           "MURTHY BOOK FANCY"
          ],
          [
           "MURTHYTRADER"
          ],
          [
           "MUSKAN FANCY STORE"
          ],
          [
           "MUSKAN GENRAL"
          ],
          [
           "M~A~PROV STORE"
          ],
          [
           "M~K~ MEDICAL"
          ],
          [
           "M~S GUPTA MEDICAL ST"
          ],
          [
           "M~S~PROVISION STORE"
          ],
          [
           "N CH CHENNIAH KIRANA"
          ],
          [
           "NAGNATH LINGPAA"
          ],
          [
           "NANDI MEDICINE STORE"
          ],
          [
           "NANDI VARIETY STORE"
          ],
          [
           "NARENDER MEDICAL STO"
          ],
          [
           "NARGISH MEDICINE STORE"
          ],
          [
           "NATIONAL MEDICAL HALL"
          ],
          [
           "NATUKULA VEERAIAH"
          ],
          [
           "NEELADRI MEDICAL STORE"
          ],
          [
           "NEELAKSHI FANCY"
          ],
          [
           "NEELAKSHMI FANCY G"
          ],
          [
           "NEW BHAT PROVISION "
          ],
          [
           "NEW MAMTA GENRAL"
          ],
          [
           "NEW MEDICAL STORE"
          ],
          [
           "NEW PAENSHANWAE GENR"
          ],
          [
           "NIDHA PROVISION"
          ],
          [
           "NOOR DRUG"
          ],
          [
           "NRUSIHA KIRANA"
          ],
          [
           "N~K~ BANDAIAH GENERA"
          ],
          [
           "N~K~ DRUG DISTRIBUTOR"
          ],
          [
           "OM GENRAL"
          ],
          [
           "OM PRASAD MEDICAL STORE"
          ],
          [
           "OM SAI MEDICINE"
          ],
          [
           "OMKAR MEDICAL"
          ],
          [
           "OSIA"
          ],
          [
           "OSMI"
          ],
          [
           "P KOTESWARARAO GENER"
          ],
          [
           "PACK MORE DEP STORE"
          ],
          [
           "PADMAVATHI MEDICAL"
          ],
          [
           "PAIDIMARRI VENKATESW"
          ],
          [
           "PANDA MEDICAL"
          ],
          [
           "PANDHURANG MEDICAL"
          ],
          [
           "PARVIN MEDICAL"
          ],
          [
           "PATEL KIRANA"
          ],
          [
           "PATRO MEDICAL STORE"
          ],
          [
           "PAWAN MEDICAL"
          ],
          [
           "PAYAL"
          ],
          [
           "PENSHANWAR KIRANA"
          ],
          [
           "PRABHA MEDICAL & GEN STORE"
          ],
          [
           "PRABHAT MEDICAL"
          ],
          [
           "PRAKESH MEDICAL"
          ],
          [
           "PRAKESH PROVISION"
          ],
          [
           "PRATAP GENERAL STORE"
          ],
          [
           "PRITY GENRAL"
          ],
          [
           "RAJA RAJESWARI MEDIC"
          ],
          [
           "RAJDEEP FANCY"
          ],
          [
           "RAJESTAN FANCY STORE"
          ],
          [
           "RAMESWAR PHARMACEUTICAL(RAHANDIA)"
          ],
          [
           "RATNITRADE N AGENCY'"
          ],
          [
           "RAZA PROVISION"
          ],
          [
           "RENUKA MEDICAL"
          ],
          [
           "RITIKA MEDICAL"
          ],
          [
           "RIYAZ ENTERPRISE"
          ],
          [
           "ROHINI MEDICAL"
          ],
          [
           "ROOP SINGAR FANCY"
          ],
          [
           "RUPMA IMITATION"
          ],
          [
           "R~GOPAL KRISHNA GENE"
          ],
          [
           "R~LAKSHMI DEVAMMA GE"
          ],
          [
           "S KAASI REDDY FANCY"
          ],
          [
           "S M ENTERPRISE"
          ],
          [
           "SAGAR GENRAL"
          ],
          [
           "SAHITHI KIRANAM"
          ],
          [
           "SAI DURGA FANCY GE"
          ],
          [
           "SAI KRISHNA FANCY"
          ],
          [
           "SAI KRISHNA MEDICAL"
          ],
          [
           "SAI MEDICAL"
          ],
          [
           "SAI SRADHA MEDICINE STORE"
          ],
          [
           "SAI SRI MEDICAL"
          ],
          [
           "SAI SRINIVASA DEPART"
          ],
          [
           "SAIDATTA GENERAL STO"
          ],
          [
           "SAJAD MEDICATE"
          ],
          [
           "SAMPATH KIRANAM"
          ],
          [
           "SANAA MEDICAL"
          ],
          [
           "SANJOY M~HALL"
          ],
          [
           "SANNIDI SOMASEKHAR"
          ],
          [
           "SATGURU PROVISION"
          ],
          [
           "SATTYADIP"
          ],
          [
           "SAWBHAGYA GENRAL"
          ],
          [
           "SEN MEDICAL"
          ],
          [
           "SHAH MEDICATE"
          ],
          [
           "SHAH PROV STORE"
          ],
          [
           "SHARDA GENRAL"
          ],
          [
           "SHIVAM MEDICAL"
          ],
          [
           "SHIVAM MEDICAL HALL"
          ],
          [
           "SHIVKRUPA PROVISION"
          ],
          [
           "SHOPAN GEN STORE"
          ],
          [
           "SHREE MEDICAL"
          ],
          [
           "SHRI NARAYAN BHANDER"
          ],
          [
           "SINGH MEDICAL"
          ],
          [
           "SLN PROVISION"
          ],
          [
           "SMART GARMENT"
          ],
          [
           "SOWMIKA MEDICAL"
          ],
          [
           "SREENIVASA MEDICAL H"
          ],
          [
           "SRI AKHANDALAMNI MEDICINE STORE"
          ],
          [
           "SRI GANESH GENERAL "
          ],
          [
           "SRI HANUMAN KIRANAM"
          ],
          [
           "SRI LAKSHMI NARASIMH"
          ],
          [
           "SRI LAKSMI GENERAL "
          ],
          [
           "SRI LAXMIMATHA KIRAN"
          ],
          [
           "SRI RAMA MEDICAL F"
          ],
          [
           "SRI SAI KIRANAM"
          ],
          [
           "SRI SAI VENKATA LAKSHMI TRADER"
          ],
          [
           "SRINIVAS MEDICAL STO"
          ],
          [
           "SRINIVASA TRADING"
          ],
          [
           "SRIYA PHARMA"
          ],
          [
           "SSS MEDICAL"
          ],
          [
           "SUMAN PHARMACEUTICAL"
          ],
          [
           "SUN GLOW GENTAL"
          ],
          [
           "SURE CHANDRAIAH FANC"
          ],
          [
           "SURENDRA KIRANA"
          ],
          [
           "SURESH MEDICAL"
          ],
          [
           "SURYA MEDICAL"
          ],
          [
           "SWATHISUPERMARKET"
          ],
          [
           "S~K~DEY"
          ],
          [
           "S~V~G TRADER"
          ],
          [
           "TAJ MAJEED"
          ],
          [
           "TANGUTURI SUBBARAO"
          ],
          [
           "TANTRAY PROVISION ST"
          ],
          [
           "TARINI MEDICINE STORE(RAHANDIA)"
          ],
          [
           "THAHAR KIRANAM"
          ],
          [
           "THAKUR PROV STORE"
          ],
          [
           "THE LIFE MEDICINE"
          ],
          [
           "TIRUMALLA TRADER"
          ],
          [
           "UMA STORE"
          ],
          [
           "UMER CUTE COLLECTION"
          ],
          [
           "UPAKAR NOVELTIE"
          ],
          [
           "VAIBHAV KIRANA"
          ],
          [
           "VARITIES STORE"
          ],
          [
           "VEMULASURENDRANATH G"
          ],
          [
           "VENKATA SAI FANCY"
          ],
          [
           "VENKATA SOUMYA KIRAN"
          ],
          [
           "VENKATARAMANA FANCY"
          ],
          [
           "VENKATASAI FANCY G"
          ],
          [
           "VENKATASAI MEDICAL"
          ],
          [
           "VENKATESWARA GENERAL"
          ],
          [
           "VENKI FANCY LADIE"
          ],
          [
           "VIMAL TRADE"
          ],
          [
           "VISHNU SAI MEDICAL"
          ],
          [
           "VISION MEDICATE"
          ],
          [
           "V~P RAMAN"
          ],
          [
           "V~RAMASESHU GUPTA GE"
          ],
          [
           "WADA PROV STORE"
          ],
          [
           "WANI PROV STORE"
          ],
          [
           "ZAHOOR PROV STORE"
          ]
         ],
         "hovertemplate": "CLOSEST_CLUSTER_1=2<br>Average Bucket Value=%{x}<br>Total Sales Value=%{y}<br>Retailer Name=%{customdata[0]}<extra></extra>",
         "legendgroup": "2",
         "marker": {
          "color": "#00cc96",
          "symbol": "circle"
         },
         "mode": "markers",
         "name": "2",
         "showlegend": true,
         "type": "scattergl",
         "x": [
          2048.9714285714285,
          2490.442666666667,
          3100.38,
          2369.2213333333334,
          1941.8222222222223,
          1495.6879999999999,
          1809.056,
          2740.406666666667,
          2479.9476923076923,
          2762.6030769230765,
          3663.96,
          3162.13,
          3390.369230769231,
          2210.4061538461538,
          2668.706666666667,
          5132.860000000001,
          6267.046666666666,
          1644.0600000000002,
          2605.7866666666664,
          8228.96,
          2248.7457142857143,
          1785.314285714286,
          3082.16,
          2278.5200000000004,
          3352.3355555555554,
          2380.688888888889,
          3614.24,
          4033.2200000000003,
          2860.1240000000003,
          3626.6800000000003,
          2980.368,
          3209.4061538461538,
          3041.73,
          1928.54,
          2384.86,
          2053.8888888888887,
          2494.8778947368423,
          5625.53,
          2483.2,
          6569.68,
          8256.12,
          1716.48,
          2532.4525,
          3340.9630769230766,
          2522.8153846153846,
          2709.04,
          2542.5066666666667,
          4372.26,
          3613.496,
          2755.0355555555557,
          2654.592727272727,
          1987.3999999999999,
          2420.109090909091,
          2650.1753846153847,
          3619.9300000000003,
          1590.3854545454544,
          2930.9911111111114,
          2862.1292307692306,
          5102.639999999999,
          2275.369230769231,
          2199.96,
          4031.84,
          5304.88,
          1568.776,
          1672.5633333333335,
          1578.5466666666669,
          1717.5933333333332,
          1643.94,
          3674.1000000000004,
          2005.968,
          5517.51,
          2758.2533333333336,
          1828.2857142857142,
          3221.56,
          2823.62,
          6266.46,
          2162.2618181818184,
          1465.66,
          2612.1040000000003,
          1593.5199999999998,
          2889.16,
          9608.519999999999,
          2507.68,
          4501.013333333333,
          6198.163636363636,
          5645.706666666666,
          5211.02,
          1376.936,
          2754.4423529411765,
          2890.345,
          3853.306666666667,
          2128.566153846154,
          2748.7415384615383,
          1668.36,
          2451.8475,
          2632.66,
          2446.193333333333,
          2442.6675,
          1745.444,
          1367.1680000000001,
          2360.362666666667,
          2674.248,
          3910.96,
          3842.58,
          3524.5833333333335,
          3925.69,
          3533.8123076923075,
          4698.4,
          1269.1533333333334,
          4077.3,
          2802.4133333333334,
          2771.92,
          5314.34,
          1797.7388235294115,
          1453.4866666666667,
          1580.9933333333336,
          2752.7599999999998,
          1664.4436363636364,
          2688.4933333333333,
          3434.6133333333332,
          1924.1709090909092,
          3977.76,
          1915.2945454545452,
          3925.2000000000003,
          4455.34,
          1458.96,
          3273.82,
          5244.36,
          4438.66,
          4221.57,
          5486.506666666667,
          3761.17,
          2419.6646153846154,
          2611.88,
          3361.141818181818,
          3729.0266666666666,
          3781.54,
          2805.8280000000004,
          4080.71,
          4522,
          2352.5272727272727,
          4037.94,
          2328.014285714286,
          1578.99,
          1806.632,
          1825.6266666666668,
          1354.2466666666667,
          1843.9094736842105,
          4329.696,
          1692.9066666666668,
          2406.9927272727273,
          2405.4117647058824,
          3096.2000000000003,
          3238.432727272727,
          1236.8,
          2140.4666666666667,
          2293.8327272727274,
          1302.368,
          3188.9866666666667,
          4345.6900000000005,
          3382.293333333333,
          2138.76,
          1811.525,
          1494.685,
          1978.1777777777777,
          1612.91,
          3714.924,
          2805.6763636363635,
          2293.33,
          5425.7733333333335,
          2292.746666666667,
          6822.148571428572,
          3253.56,
          2238.7253333333333,
          1541.775,
          6084.96,
          3622.36,
          3968.1672727272726,
          5580.52,
          4547.280000000001,
          1554.72,
          1561.515294117647,
          1869.6285714285714,
          3998.2,
          4028.13,
          4890.62,
          3896.3,
          3043.6879999999996,
          1600.1133333333335,
          3181.1400000000003,
          2193.5692307692307,
          2705.248,
          1904.8533333333332,
          2733.989090909091,
          2306.942222222222,
          3853.8133333333335,
          2251.5733333333333,
          3461.264,
          1713.764705882353,
          5008.1866666666665,
          3055.593333333333,
          2253.308,
          2267.686666666667,
          2576.833846153846,
          1705.148,
          4735.128,
          2298.6457142857143,
          2210.095,
          1759.05,
          1126.68,
          1470.532,
          3694.2160000000003,
          3423.124444444444,
          2127.423076923077,
          1529.7266666666667,
          3676.457777777777,
          4199.78,
          2229.5741176470588,
          1673.6233333333332,
          5107.24,
          2706.2263636363637,
          2092.656,
          1717.7485714285715,
          2595.2066666666665,
          3627.2479999999996,
          2132.245454545455,
          4029.01,
          3128.7400000000002,
          3927.5199999999995,
          1373.944,
          3673.064,
          1550.493333333333,
          2045.46,
          2568.024,
          2744.32,
          4407.06,
          2273.7400000000002,
          2852.7576470588233,
          5558.848,
          2322.162857142857,
          3088.349333333333,
          5811.280000000001,
          2317.2213333333334,
          3495.1200000000003,
          4391.4800000000005,
          2569.086153846154,
          66086.54000000001,
          1540.84,
          1981.0199999999998,
          1837.9781818181816,
          1826.86,
          1246.4199999999998,
          2912.46,
          2942.409230769231,
          4288.786666666667,
          2409.1857142857143,
          2852.12,
          2648.109090909091,
          2150.7905882352943,
          2951.3199999999997,
          3261.656,
          4516.8,
          2609.1306666666665,
          2541.9925,
          2993.1138461538458,
          2666.802857142857,
          3020.0533333333333,
          2037.58,
          5492.92,
          3604.5333333333333,
          4492.368,
          2305.0866666666666,
          2424.936,
          3503.3333333333335,
          2314.168888888889,
          1732.5733333333335,
          1841.94,
          2924.4466666666667,
          3592.7555555555555,
          3123.7644444444445,
          1747.08,
          2194.17,
          2660.8933333333334,
          4693.84,
          1682.6666666666667,
          1869.136,
          1427.9399999999998,
          1646.4066666666668,
          4136.74,
          1402.8,
          1479.6866666666665,
          3235.3454545454547,
          2502.032,
          5756.6,
          1687.24,
          2055.4084210526316,
          3719.789090909091,
          2430.911111111111,
          4527.955555555555,
          2347.4625,
          3675.5600000000004,
          1916.4145454545455,
          1745.7835294117647,
          2521.2968421052633,
          2463.7272727272725,
          4635.72,
          2657.9661538461537,
          2450.4533333333334,
          2455.52,
          2849.4300000000003,
          1379.72,
          3836.0545454545454,
          1779.0545454545454,
          1810.0361904761905,
          3219.6861538461535,
          3842.03,
          3833.309090909091,
          5155.911999999999,
          3345.5533333333333,
          3482.9127272727274,
          4005.77,
          1806.0761904761905,
          5316.904,
          1468.22,
          4154.306666666666,
          8757.8,
          3888.8,
          1460.6466666666668,
          3684.0559999999996,
          2445.9546666666665,
          1667.696,
          2648.7975,
          1528.8866666666665,
          2235.076,
          7883.042352941176,
          3024.3906666666667,
          4579.372,
          1897.5946666666669,
          1479.4133333333332,
          2636.5866666666666,
          3751.8959999999997,
          4717.2266666666665,
          2610.0246153846156,
          3138.9600000000005,
          4606.9353846153845,
          2394.8945454545456,
          2104.0564705882352,
          3657.4109090909087,
          2422.8106666666667,
          5293.02,
          3752.344,
          2207.0699999999997,
          1785.3466666666666,
          2060.5333333333333,
          2213.29,
          1307.1699999999998,
          5273.22,
          1545.6866666666667,
          3762.4218181818183,
          1304.5200000000002,
          2246.3766666666666,
          1495.2105263157894,
          3954,
          1529.530909090909,
          2270.610909090909,
          1920.1527272727274
         ],
         "xaxis": "x",
         "y": [
          28685.600000000002,
          37356.64,
          31003.8,
          35538.32,
          17476.4,
          14956.88,
          18090.56,
          32884.880000000005,
          32239.32,
          35913.84,
          3663.96,
          12648.52,
          44074.8,
          28735.28,
          24018.36,
          30797.160000000003,
          75204.56,
          32881.200000000004,
          31269.44,
          8228.96,
          31482.440000000002,
          24994.4,
          9246.48,
          4557.040000000001,
          30171.02,
          42852.4,
          14456.96,
          8066.4400000000005,
          28601.24,
          18133.4,
          14901.84,
          41722.28,
          12166.92,
          11571.24,
          4769.72,
          36970,
          47402.68,
          22502.12,
          39731.2,
          6569.68,
          8256.12,
          36046.08,
          40519.24,
          43432.52,
          32796.6,
          10836.16,
          38137.6,
          17489.04,
          18067.48,
          24795.32,
          29200.52,
          27823.6,
          26621.2,
          34452.28,
          14479.720000000001,
          17494.239999999998,
          26378.920000000002,
          37207.68,
          10205.279999999999,
          29579.8,
          19799.64,
          4031.84,
          10609.76,
          7843.88,
          20070.760000000002,
          9471.28,
          10305.56,
          13151.52,
          14696.400000000001,
          40119.36,
          22070.04,
          8274.76,
          25596,
          12886.24,
          11294.48,
          12532.92,
          23784.88,
          5862.64,
          26121.04,
          9561.119999999999,
          11556.64,
          9608.519999999999,
          12538.4,
          13503.04,
          68179.8,
          33874.24,
          10422.04,
          6884.679999999999,
          46825.520000000004,
          46245.52,
          34679.76,
          27671.36,
          35733.64,
          5005.08,
          39229.56,
          31591.92,
          29354.32,
          39082.68,
          17454.44,
          6835.84,
          35405.44,
          26742.48,
          3910.96,
          15370.32,
          42295,
          15702.76,
          45939.56,
          18793.6,
          7614.92,
          8154.6,
          33628.96,
          41578.8,
          31886.04,
          30561.559999999998,
          8720.92,
          9485.960000000001,
          11011.039999999999,
          18308.88,
          8065.48,
          41215.36,
          21165.88,
          3977.76,
          21068.239999999998,
          3925.2000000000003,
          8910.68,
          11671.68,
          13095.28,
          15733.08,
          8877.32,
          16886.28,
          16459.52,
          15044.68,
          31455.64,
          7835.64,
          36972.56,
          11187.08,
          15126.16,
          28058.280000000002,
          16322.84,
          4522,
          25877.8,
          16151.76,
          32592.2,
          6315.96,
          9033.16,
          10953.76,
          8125.48,
          35034.28,
          21648.48,
          10157.44,
          26476.920000000002,
          40892,
          43346.8,
          35622.759999999995,
          6184,
          12842.8,
          25232.16,
          6511.84,
          28700.88,
          17382.760000000002,
          40587.52,
          23526.36,
          14492.2,
          11957.48,
          17803.6,
          12903.28,
          37149.24,
          30862.44,
          36693.28,
          16277.32,
          20634.72,
          47755.04,
          3253.56,
          33580.88,
          12334.2,
          12169.92,
          10867.08,
          43649.84,
          16741.56,
          9094.560000000001,
          9328.32,
          26545.76,
          26174.8,
          7996.4,
          16112.52,
          19562.48,
          15585.2,
          15218.439999999999,
          9600.68,
          6362.280000000001,
          28516.4,
          40578.72,
          11429.119999999999,
          30073.88,
          20762.48,
          11561.44,
          27018.879999999997,
          34612.64,
          29134,
          15024.56,
          36667.119999999995,
          45066.159999999996,
          27212.24,
          33498.84,
          17051.48,
          23675.64,
          32181.04,
          17680.76,
          21108.6,
          6760.08,
          14705.32,
          18471.08,
          30808.12,
          27656.5,
          9178.36,
          33088.119999999995,
          16799.12,
          37902.76,
          20083.48,
          10214.48,
          59536.979999999996,
          20926.559999999998,
          12024.24,
          15571.24,
          18136.239999999998,
          23454.7,
          16116.04,
          12514.960000000001,
          3927.5199999999995,
          6869.72,
          18365.32,
          9302.96,
          12272.76,
          25680.239999999998,
          38420.48,
          17628.24,
          13642.44,
          48496.88,
          27794.239999999998,
          32510.28,
          46325.24,
          5811.280000000001,
          34758.32,
          13980.480000000001,
          13174.44,
          33398.12,
          528692.3200000001,
          7704.2,
          11886.119999999999,
          20217.76,
          7307.44,
          7478.5199999999995,
          11649.84,
          38251.32,
          12866.36,
          33728.6,
          11408.48,
          29129.2,
          36563.44,
          35415.84,
          16308.28,
          9033.6,
          39136.96,
          40671.88,
          38910.479999999996,
          37335.24,
          36240.64,
          8150.32,
          5492.92,
          10813.6,
          22461.84,
          27661.04,
          36374.04,
          10510,
          20827.52,
          10395.44,
          18419.4,
          35093.36,
          32334.8,
          28113.88,
          10482.48,
          26330.04,
          31930.72,
          4693.84,
          10096,
          18691.36,
          8567.64,
          9878.44,
          16546.96,
          4208.4,
          8878.119999999999,
          35588.8,
          25020.32,
          5756.6,
          35432.04,
          39052.76,
          81835.36,
          21878.2,
          40751.6,
          37559.4,
          3675.5600000000004,
          21080.56,
          29678.32,
          47904.64,
          27101,
          13907.16,
          34553.56,
          14702.72,
          22099.68,
          34193.16,
          16556.64,
          42196.6,
          19569.6,
          38010.76,
          41855.92,
          15368.12,
          42166.4,
          25779.559999999998,
          40146.64,
          38312.04,
          16023.08,
          37927.6,
          26584.52,
          5872.88,
          12462.919999999998,
          8757.8,
          15555.2,
          8763.880000000001,
          18420.28,
          36689.32,
          8338.48,
          42380.76,
          9173.32,
          22350.760000000002,
          134011.72,
          45365.86,
          45793.72,
          28463.920000000002,
          8876.48,
          23729.28,
          18759.48,
          14151.68,
          33930.32,
          9416.880000000001,
          59890.16,
          26343.84,
          35768.96,
          40231.52,
          36342.16,
          21172.08,
          37523.44,
          8828.279999999999,
          10712.08,
          12363.2,
          17706.32,
          15686.039999999999,
          21092.88,
          9274.12,
          41386.64,
          3913.5600000000004,
          26956.52,
          28409,
          39540,
          16824.84,
          24976.72,
          21121.68
         ],
         "yaxis": "y"
        },
        {
         "customdata": [
          [
           "ACME STATIONERY GI"
          ],
          [
           "AGARWAL FARMA"
          ],
          [
           "AHANGAR ENTERPRISE"
          ],
          [
           "AISHA HEALTH CARE"
          ],
          [
           "AJAZ PROV STORE"
          ],
          [
           "ALANKAR"
          ],
          [
           "ALBA RETAIL"
          ],
          [
           "ALI STORE"
          ],
          [
           "ALMASS DEPT~STORE"
          ],
          [
           "ALOK DA"
          ],
          [
           "ALOM MEDICAL"
          ],
          [
           "AMBIKA KIRANAM"
          ],
          [
           "AMIT PAN STALL"
          ],
          [
           "AMRITA CONFECTIONERY"
          ],
          [
           "AMRUTHA FANCY"
          ],
          [
           "ANAMIKA"
          ],
          [
           "ANANDA MEDICAL HALL"
          ],
          [
           "ANCHAL COSMETIC"
          ],
          [
           "ANDRABI PROVISION ST"
          ],
          [
           "ANIMA STORE"
          ],
          [
           "ANNAPURNA BHANDER"
          ],
          [
           "ANNAPURNA MEDICAL"
          ],
          [
           "ANSAB MEDICATE"
          ],
          [
           "APARUPA"
          ],
          [
           "APOLO MEDICAL"
          ],
          [
           "APPELO DRUG"
          ],
          [
           "ARAGAYA AYURVEDIC"
          ],
          [
           "ARATI MEDICAL"
          ],
          [
           "ARATI MEDICAL STORE"
          ],
          [
           "ARATI STORE"
          ],
          [
           "ARATI STORE"
          ],
          [
           "ARNAPURNA MEDICO"
          ],
          [
           "ARNAV MEDICO"
          ],
          [
           "AROGYA"
          ],
          [
           "ARPAN"
          ],
          [
           "ARPITA"
          ],
          [
           "ARUN KIRANAM"
          ],
          [
           "ASHA MEDICO"
          ],
          [
           "ASHES V~ STORES~"
          ],
          [
           "ASHFAR MEDICAL HALL"
          ],
          [
           "ASHIMA VARITIES STOR"
          ],
          [
           "ASHIRVAD MEDICAL HALL"
          ],
          [
           "ASHOK KIRANA GENER"
          ],
          [
           "ASHOK KIRANAM"
          ],
          [
           "ASIF IQBAL PROV STOR"
          ],
          [
           "ASIM DA"
          ],
          [
           "ASSAM MEDICAL"
          ],
          [
           "ASSAM PHARMACEUTICAL"
          ],
          [
           "AYAZ FANCY STORE"
          ],
          [
           "AYURBED BHANDER"
          ],
          [
           "A~ R~ ETERPRISE"
          ],
          [
           "A~K~ MEDICAL"
          ],
          [
           "BABA NATIONAL DRUG "
          ],
          [
           "BABLU DUTTA"
          ],
          [
           "BAJARANGI MEDICARE"
          ],
          [
           "BANERJEE STORE (GOUTAM BNAERJEE)"
          ],
          [
           "BANGO JANNI"
          ],
          [
           "BAPI SHAW"
          ],
          [
           "BARI BROTHER"
          ],
          [
           "BARSHA COSMETIC"
          ],
          [
           "BASANTA SHAW"
          ],
          [
           "BASANTI MATA MEDICAL"
          ],
          [
           "BEAUTY BUZZ"
          ],
          [
           "BEAUTY COLLECTION"
          ],
          [
           "BEIGH GEN STORE"
          ],
          [
           "BEIGH MEDICATE"
          ],
          [
           "BELA STORE"
          ],
          [
           "BENERJEE"
          ],
          [
           "BENGAL STATIONERS~"
          ],
          [
           "BEST CHOICE"
          ],
          [
           "BHAGABATI BHANDER"
          ],
          [
           "BHAI BHAI IMITATION"
          ],
          [
           "BHOLANATH STORE"
          ],
          [
           "BIMAL MEDICAL"
          ],
          [
           "BIN TARIQ BUSINE"
          ],
          [
           "BINOD BHAKAT"
          ],
          [
           "BISMILLAH PROV STORE"
          ],
          [
           "BISWADEV AGENCIE"
          ],
          [
           "BOROMA VARIETY STORE"
          ],
          [
           "BUDDHA STORE"
          ],
          [
           "BURHAN BEAUTY"
          ],
          [
           "BURMAN STORE"
          ],
          [
           "B~N~BHAKAT"
          ],
          [
           "CAMELIA"
          ],
          [
           "CENTRAL PHARMACY"
          ],
          [
           "CHALOO PROV STORE"
          ],
          [
           "CHAND PAN STALL"
          ],
          [
           "CHANDA PHAMACY"
          ],
          [
           "CHANDNI"
          ],
          [
           "CHATTERJEE MEDICAL H"
          ],
          [
           "CHAYAN BHANDER"
          ],
          [
           "CHEDI SHOW"
          ],
          [
           "CHITTARANJAN BANERJE"
          ],
          [
           "CHOPAN GEN STORE"
          ],
          [
           "COOL POINT"
          ],
          [
           "CURE ALL MEDICAL"
          ],
          [
           "CURE WELL MEDICATE"
          ],
          [
           "D SRINIVASULU FANCY"
          ],
          [
           "DAR PROV~ STORE"
          ],
          [
           "DAS ENTERPRISE"
          ],
          [
           "DASTGEER PROV STORE"
          ],
          [
           "DAWOOD MEDICAL STORE"
          ],
          [
           "DAYAMYE STORE"
          ],
          [
           "DEB STORE"
          ],
          [
           "DEBASIS DEY"
          ],
          [
           "DEBASIS DUTTA"
          ],
          [
           "DEBLINA"
          ],
          [
           "DEEPAK MEDICAL HALL"
          ],
          [
           "DELIGHTFUL (SAFA KAD"
          ],
          [
           "DESI DAWAKHANA"
          ],
          [
           "DEV MEDICAL STORE"
          ],
          [
           "DEWAN MEDICAL HALL"
          ],
          [
           "DEYS VARITIE"
          ],
          [
           "DHANANJENEYA KIRANAM"
          ],
          [
           "DIL BAHAR PAN STALL"
          ],
          [
           "DILIP SHAW"
          ],
          [
           "DIPALI"
          ],
          [
           "DIWANJEE MEDICAL"
          ],
          [
           "DOLI STORE"
          ],
          [
           "DOLPHIN"
          ],
          [
           "DURGA BHAKAT"
          ],
          [
           "DURGAMATA STORES~"
          ],
          [
           "DUTTA BHANDER"
          ],
          [
           "DUTTA MEDICAL"
          ],
          [
           "DUTTA MEDICINE"
          ],
          [
           "DUTTA VARIETY"
          ],
          [
           "DUTTA VARITIE"
          ],
          [
           "DY'S MEDICAL"
          ],
          [
           "ECONOMIC TRADER"
          ],
          [
           "ESWARI MEDICAL"
          ],
          [
           "FAROOQ MEDICATE"
          ],
          [
           "FAROOQ PROV STORE"
          ],
          [
           "FASHION BEAUTIE"
          ],
          [
           "FASHION JEWALLARY"
          ],
          [
           "FASHION JEWELLERY"
          ],
          [
           "FASHION PLAZA"
          ],
          [
           "FAYAZ ATTACHI HOUSE"
          ],
          [
           "FIZA GEN STORE"
          ],
          [
           "GAGROO PROV STORE"
          ],
          [
           "GANESH BHANDER~"
          ],
          [
           "GANGADHAR KIRANAM"
          ],
          [
           "GAURI MEDICAL HALL"
          ],
          [
           "GH AHMAD ZEHGEER"
          ],
          [
           "GHULAM NABI SHAH"
          ],
          [
           "GIFT HOUSE"
          ],
          [
           "GOPAL BROTHER"
          ],
          [
           "GOPAL STORE"
          ],
          [
           "GOURANGA STORE"
          ],
          [
           "GOUSIA KHANYAR"
          ],
          [
           "GRAND DEPT STORE"
          ],
          [
           "GUPTA M~HALL"
          ],
          [
           "G~ KRISHNA KIRANAM"
          ],
          [
           "G~N~PROV STORE"
          ],
          [
           "HAMDARD GEN~ STORE"
          ],
          [
           "HANKY PANKY BEAUTIE"
          ],
          [
           "HANSA STORE"
          ],
          [
           "HARALAL DAS SON"
          ],
          [
           "HEMAMBIKA MEDICAL"
          ],
          [
           "HOQUE STORE"
          ],
          [
           "IBNI SANA"
          ],
          [
           "IDEAL CHEMIST"
          ],
          [
           "IMRAN GENERAL STORE"
          ],
          [
           "INAYAT MEDICATE"
          ],
          [
           "INDU PHARMECY"
          ],
          [
           "I~A~PROV STORE"
          ],
          [
           "JAGANNATH MED STORE(NEW)"
          ],
          [
           "JAN PROV STORE"
          ],
          [
           "JANATA PHARMACEUTICAL"
          ],
          [
           "JANNAT LAKE COSMETIC"
          ],
          [
           "JAVVAJI KRISHNAIAH"
          ],
          [
           "JAYA VARITIE"
          ],
          [
           "JAYASRI"
          ],
          [
           "JHARNA MEDICAL"
          ],
          [
           "JIBAN JYOTI MEDICAL"
          ],
          [
           "JITEN MISRA"
          ],
          [
           "JOY DURGA CHANDI BHA"
          ],
          [
           "JOY GURU BHANDER~"
          ],
          [
           "JOY TEA STALL"
          ],
          [
           "JOY VARIETY STORE"
          ],
          [
           "JOYA STORE"
          ],
          [
           "JOYANTA STORE"
          ],
          [
           "JYOTI MEDICAL"
          ],
          [
           "K KRISHNAIAH KIRANA"
          ],
          [
           "KACHROO PROV~ STORE"
          ],
          [
           "KAIM ENTERPRISE"
          ],
          [
           "KAINATH AYURVEDIC AUSHADHALAYA"
          ],
          [
           "KAKOTI MEDICAL"
          ],
          [
           "KALI MATA STORES~"
          ],
          [
           "KALI STORE"
          ],
          [
           "KALIMATA STORE"
          ],
          [
           "KALU PAN STALL"
          ],
          [
           "KALYANI"
          ],
          [
           "KAMDAR MEDICAL"
          ],
          [
           "KAPIL STORE"
          ],
          [
           "KASINATH NAG"
          ],
          [
           "KESHOB SHAW"
          ],
          [
           "KHAN UTILITY"
          ],
          [
           "KHURSHEED MEDICAL HA"
          ],
          [
           "KHUSHI MEDICAL"
          ],
          [
           "KING KINGDOM"
          ],
          [
           "KIRAN MEDICAL HALL"
          ],
          [
           "KISHOLOY"
          ],
          [
           "KOHINOOR GENERAL STO"
          ],
          [
           "KUNDU TRADER"
          ],
          [
           "KUNDU TREDAS (RAHUL BABA)"
          ],
          [
           "K~ PADMANABAIAH GENA"
          ],
          [
           "LADY HUT"
          ],
          [
           "LAHA VERITY"
          ],
          [
           "LAKSHMI PHARMA"
          ],
          [
           "LAXMI AYURVEDIC CENTRE"
          ],
          [
           "LAXMI BHANDER"
          ],
          [
           "LAXMI NARAYAN BHANDE"
          ],
          [
           "LAXMI NARAYAN STORE"
          ],
          [
           "LAXMI PHARMA"
          ],
          [
           "LAXMI STORE"
          ],
          [
           "LIFE CARE DRUG"
          ],
          [
           "LIFE GUARD MEDICO"
          ],
          [
           "LIFE LINE MEDICAL"
          ],
          [
           "LIFE STYLE"
          ],
          [
           "LIFETIME~ MEDICAL HALL"
          ],
          [
           "LILA PHARMACY"
          ],
          [
           "LOKENATH BHANDER"
          ],
          [
           "LOTUS ENTERPRISE"
          ],
          [
           "LOYA MEDICAL"
          ],
          [
           "LOYA MEDICAL STORE"
          ],
          [
           "M/S KANAK AGENCY"
          ],
          [
           "MA JASADA"
          ],
          [
           "MA KAMALA STORE"
          ],
          [
           "MA LAXMI BEAUTI STOR"
          ],
          [
           "MA MANASA BHANDER"
          ],
          [
           "MA MEDICAL"
          ],
          [
           "MA MEDICAL HALL"
          ],
          [
           "MA SHAYAMA BHANDER"
          ],
          [
           "MA TARA BHANDER"
          ],
          [
           "MA TARA STORE"
          ],
          [
           "MAA MALI MEDICAL"
          ],
          [
           "MAA SARADA DRUG DISTRIBUTOR"
          ],
          [
           "MAA SITALA SANKHA BH"
          ],
          [
           "MAALAXMI DRUG"
          ],
          [
           "MADHEV KIRANA"
          ],
          [
           "MAHA RANI TOBACO SHO"
          ],
          [
           "MAHAVEER KIRANAM"
          ],
          [
           "MAHAVEER PRSAD ASAWA"
          ],
          [
           "MAJANI MEDICAL"
          ],
          [
           "MAJEED GARMENT"
          ],
          [
           "MANIK SUR"
          ],
          [
           "MANIKANTA COOL DRINK"
          ],
          [
           "MANJU STORE"
          ],
          [
           "MANTU DUTTA"
          ],
          [
           "MANZOOR PROVISIONI "
          ],
          [
           "MAQBOOL PROVISION ST"
          ],
          [
           "MAQBOOL SHOP"
          ],
          [
           "MARAMI MEDICAL"
          ],
          [
           "MARY MEDICAL"
          ],
          [
           "MATESHWARI KIRANAM"
          ],
          [
           "MATHURA DEBNATH"
          ],
          [
           "MATRI STORE"
          ],
          [
           "MATRI STORES~"
          ],
          [
           "MAUSAM MEDICO"
          ],
          [
           "MAYA DRUG DISTRIBUTOR"
          ],
          [
           "MAYA IMITATION"
          ],
          [
           "MAZUMDER MEDICAL"
          ],
          [
           "MAZUMDER MEDICAL STORE"
          ],
          [
           "MEDI LIFE"
          ],
          [
           "MEDICARE"
          ],
          [
           "MEDICINE CENTRE"
          ],
          [
           "MEDICINE HOUSE"
          ],
          [
           "MEHJOOR BEAUTY STORE"
          ],
          [
           "MINAKSHI STORE"
          ],
          [
           "MINATI STORE"
          ],
          [
           "MIR COLD DRINK"
          ],
          [
           "MIR PROVISION STORE"
          ],
          [
           "MITRA DRUG"
          ],
          [
           "MOHD YOUSF MALLA"
          ],
          [
           "MOHINI"
          ],
          [
           "MOLOY DUTTA"
          ],
          [
           "MONDAL ENTERPRISE"
          ],
          [
           "MONDAL TEA"
          ],
          [
           "MONDAL VARITYA STORE"
          ],
          [
           "MOON LIGHT"
          ],
          [
           "MOUSUMI BHANDER"
          ],
          [
           "MRIGAYA COSMETIC"
          ],
          [
           "MRITYUNJAY MAJI"
          ],
          [
           "MUNNA MOBILE"
          ],
          [
           "MUSHTAQ PROV STORE"
          ],
          [
           "MUSHTAQ SON"
          ],
          [
           "MUZAFFER PROV STORE"
          ],
          [
           "M~STORE"
          ],
          [
           "M~S~CO"
          ],
          [
           "NABAGRAHA BHANDER"
          ],
          [
           "NABARUPA~"
          ],
          [
           "NAI KI CHAI KI STORE"
          ],
          [
           "NANDY VARITY STORE"
          ],
          [
           "NANI COOL DRINK"
          ],
          [
           "NANI STORES~"
          ],
          [
           "NARAYAN MEDICAL"
          ],
          [
           "NARAYANI STORE"
          ],
          [
           "NATHINADA BHANDER"
          ],
          [
           "NAZIR PROVISION STOR"
          ],
          [
           "NEHA KIRANAM"
          ],
          [
           "NEW ANAMIKA"
          ],
          [
           "NEW APSARA"
          ],
          [
           "NEW BANARASI JARDA~"
          ],
          [
           "NEW CHANDRA STORE"
          ],
          [
           "NEW CHOICE"
          ],
          [
           "NEW GUHA MEDICAL AND"
          ],
          [
           "NEW KALI MATA STORE"
          ],
          [
           "NEW KALPANA MEDICAL"
          ],
          [
           "NEW LIFE LINE PHARMA"
          ],
          [
           "NEW NABARUPA"
          ],
          [
           "NEW NETAJI DISTRIBUT"
          ],
          [
           "NEW PURNIMA MEDICAL"
          ],
          [
           "NEW RAJ LAXMI STORE"
          ],
          [
           "NEW REBA STORES~"
          ],
          [
           "NEW SHOVANA MEDICAL HALL"
          ],
          [
           "NEW TUHINA DISTRIBUT"
          ],
          [
           "NEW URBASHI"
          ],
          [
           "NIBEDAN"
          ],
          [
           "NICE GIRLS POINT"
          ],
          [
           "NIHAR MEDICAL"
          ],
          [
           "NIRMALA MEDICINE"
          ],
          [
           "NISA V~ STORES~"
          ],
          [
           "NISHIKANTA MADICAL H"
          ],
          [
           "NOBLE MEDICAL HALL"
          ],
          [
           "NOBORUPA"
          ],
          [
           "NOORI BEAUTIE"
          ],
          [
           "NOORI HAMDARD"
          ],
          [
           "NOVA MEDICAL STORE"
          ],
          [
           "NO~1 MADINA"
          ],
          [
           "NUR VARIETY STORE"
          ],
          [
           "OM NAMAH SHIVAY ENTERPRISE"
          ],
          [
           "OM SAI RAM"
          ],
          [
           "P RATHNAMAIAH FANCY"
          ],
          [
           "PADMAWATI PHARMA"
          ],
          [
           "PAL BROTHER"
          ],
          [
           "PARAMA COSMETIC"
          ],
          [
           "PARBATI V~STORE"
          ],
          [
           "PATANJALI"
          ],
          [
           "PATANJALI CENTRE"
          ],
          [
           "PAUL MEDICINE"
          ],
          [
           "PAVAN SAI MEDICAL"
          ],
          [
           "PHARMACY HEALTH CARE"
          ],
          [
           "PHARMACY LIFE CARE"
          ],
          [
           "PHARMACY MANKIND"
          ],
          [
           "PHARMACY VISION"
          ],
          [
           "POOJA MEDICAL"
          ],
          [
           "POPULAR PHARMACY"
          ],
          [
           "PRASAD MEDICAL"
          ],
          [
           "PRAVEEN ENTERPRISE"
          ],
          [
           "PRIYANATH CHATTERJEE"
          ],
          [
           "PRIYANKA MEDICAL"
          ],
          [
           "PROKASH STORES~"
          ],
          [
           "PRONIT KUMAR KUNDU"
          ],
          [
           "PROSAD STORE"
          ],
          [
           "PROVISION STREAM"
          ],
          [
           "PROYJONY"
          ],
          [
           "P~P~ DRUG"
          ],
          [
           "R K ENTERPRISE"
          ],
          [
           "RADHA KRISHNA STORE"
          ],
          [
           "RAGHUNATH SAH"
          ],
          [
           "RAHMAN DRUG"
          ],
          [
           "RAI S~RAI"
          ],
          [
           "RAINBOW PROV~ STORE"
          ],
          [
           "RAJ GUPTA AYURVEDA"
          ],
          [
           "RAJ KUMAR SHAW"
          ],
          [
           "RAJ LAXMI BHANDER"
          ],
          [
           "RAJ LAXMI STORE"
          ],
          [
           "RAJA ZARDA"
          ],
          [
           "RAJANI STORE"
          ],
          [
           "RAJARAJESHWARI KIRAN"
          ],
          [
           "RAJENDRA KIRANAM"
          ],
          [
           "RAJENDRA MEDICAL HALL"
          ],
          [
           "RAJENDRA STORE"
          ],
          [
           "RAJESH DUTTA"
          ],
          [
           "RAJESHWAR GOLI BHAND"
          ],
          [
           "RAJLAXMI BHANDER"
          ],
          [
           "RAJU MEDICAL"
          ],
          [
           "RAKAMARI"
          ],
          [
           "RAKHI MEDICAL"
          ],
          [
           "RAM GUPTA STORE"
          ],
          [
           "RAM PRASAD SARBAT LA"
          ],
          [
           "RAMJAN MEDICAL"
          ],
          [
           "RAMKRISHNA BHANDER"
          ],
          [
           "RAMKRISHNA PHARMACY"
          ],
          [
           "RAMKRISHNA VARIETY~"
          ],
          [
           "RAVI TEJA KIRANAM"
          ],
          [
           "REKHA STORE"
          ],
          [
           "REMADY MEDICAL"
          ],
          [
           "RESHI GEN STORE"
          ],
          [
           "ROUF PROV STORE"
          ],
          [
           "ROY "
          ],
          [
           "ROYAL GENERAL STORE"
          ],
          [
           "RSS MEDICINE SURGI"
          ],
          [
           "RUMA MEDICAL"
          ],
          [
           "RUPANJOLI~"
          ],
          [
           "RUPASHREE"
          ],
          [
           "RUPASI IMITATION"
          ],
          [
           "RUPDAN"
          ],
          [
           "RUPKATHA~"
          ],
          [
           "RUPLAGI"
          ],
          [
           "R~M~S DRUG"
          ],
          [
           "R~N~JADAB"
          ],
          [
           "S P PHARMA"
          ],
          [
           "SAAKSHA"
          ],
          [
           "SABA COLLECTION"
          ],
          [
           "SAHA MEDICAL"
          ],
          [
           "SAI KIRANAM"
          ],
          [
           "SAI NEHAL MEDICAL ST"
          ],
          [
           "SAI POOJITA COOL DRI"
          ],
          [
           "SAI RAM KIRANA GEN"
          ],
          [
           "SAJ GHAR"
          ],
          [
           "SAKUNTALA"
          ],
          [
           "SALIM V~ STORES~"
          ],
          [
           "SAMBHU STORE"
          ],
          [
           "SAME SAME DIFFERENT"
          ],
          [
           "SANANDA"
          ],
          [
           "SANCHAYANI VARITY"
          ],
          [
           "SANJIBINI MEDICAL HALL"
          ],
          [
           "SANJIVANEE DRUG"
          ],
          [
           "SANKAR STORES~"
          ],
          [
           "SARADA BHANDER"
          ],
          [
           "SARADA DEPTERMONTAR"
          ],
          [
           "SARADA STORE"
          ],
          [
           "SARBOMONGOLA BHANDER"
          ],
          [
           "SARTAJ PROV STORE"
          ],
          [
           "SATYANARAYAN STORES~"
          ],
          [
           "SAUKIN"
          ],
          [
           "SAYAM BHANDER"
          ],
          [
           "SHAH ENTERPRISE"
          ],
          [
           "SHAKAR MEDICAL"
          ],
          [
           "SHAKEEL PROV STORE"
          ],
          [
           "SHANKAR AYURVEDA"
          ],
          [
           "SHANKAR MEDICAL"
          ],
          [
           "SHANKAR STORE"
          ],
          [
           "SHARMA DRUGS AND HOUSE"
          ],
          [
           "SHEIKH MEDICAL"
          ],
          [
           "SHIB SAKTI STORE"
          ],
          [
           "SHIB SHANKAR MEDICAL"
          ],
          [
           "SHIBNATH SEN"
          ],
          [
           "SHIFA MEDICAL STORE"
          ],
          [
           "SHILA RANI HALDER"
          ],
          [
           "SHOWKAT PROV STORE"
          ],
          [
           "SHREE MOHABIR BHANDE"
          ],
          [
           "SHREHAN CORNFLECTIONARY"
          ],
          [
           "SHYAMSUNDER KIRANAM"
          ],
          [
           "SINHA ENTERPRISE"
          ],
          [
           "SIVANANDA AYURVED BH"
          ],
          [
           "SK~ SUKUR"
          ],
          [
           "SOFI GEN STORE"
          ],
          [
           "SOFI PROV~ STORE"
          ],
          [
           "SOURA MEDICATE"
          ],
          [
           "SOVA STORES~"
          ],
          [
           "SRI DURGA STORE"
          ],
          [
           "SRI GOPAL STORE"
          ],
          [
           "SRI GURU BHANDER"
          ],
          [
           "SRI HARI STORE"
          ],
          [
           "SRI KRISHANA TRADER"
          ],
          [
           "SRI KRISHNA GENERAL"
          ],
          [
           "SRI KRISNHA MEDICAL"
          ],
          [
           "SRI SAI RAMA MEDICAL"
          ],
          [
           "SRI SAIDEBA"
          ],
          [
           "SRI VIDYA BOKKS GENE"
          ],
          [
           "SRINIKETAN BHANDER"
          ],
          [
           "SRINIVAS KIRANAM"
          ],
          [
           "SRINIVASA BOOK FAN"
          ],
          [
           "SUBAL BHANDER"
          ],
          [
           "SUBHO SHIV STORE"
          ],
          [
           "SUN ENTERPRISE"
          ],
          [
           "S~M~MEDICAL"
          ],
          [
           "TAJ MEDICATE"
          ],
          [
           "TANGUTURI SRINIVASUL"
          ],
          [
           "TAPAS STORE"
          ],
          [
           "TARA MA STORE"
          ],
          [
           "TARAK PAUL"
          ],
          [
           "TARANG COMMUNICATION"
          ],
          [
           "TARIQ GEN~ STORE"
          ],
          [
           "TARIQ MEDICATE"
          ],
          [
           "TAWHEED MEDICAL HALL"
          ],
          [
           "TEA GARDEN~"
          ],
          [
           "TEJRAJ FANCY"
          ],
          [
           "TELI COSMETIC"
          ],
          [
           "THE ASHA MEDICAL"
          ],
          [
           "THE SRIPATI CHARAN SADHU & SON"
          ],
          [
           "TINKU PAN STALL"
          ],
          [
           "TINSUKIA MEDICAL HALL"
          ],
          [
           "TIRUPATI PHARMACY~"
          ],
          [
           "TITLY"
          ],
          [
           "TOP SHOP"
          ],
          [
           "TOWN MEDICAL HALL"
          ],
          [
           "TRINA MEDICAL"
          ],
          [
           "TWO SWEET"
          ],
          [
           "UJJAL STORE"
          ],
          [
           "UMA BHANDER"
          ],
          [
           "UMER ENTERPRISE"
          ],
          [
           "UNIQUE COLLECTION"
          ],
          [
           "UNITED MEDICATE"
          ],
          [
           "UTTAM BHAKAT"
          ],
          [
           "UTTAM DEBNATH"
          ],
          [
           "VENKATASAI KIRAN MED"
          ],
          [
           "VIVEKANANDA PHARMANC"
          ],
          [
           "VOWAL MEDICAL"
          ],
          [
           "VYAVARE KIRANA"
          ],
          [
           "WAHEED KIRANAM"
          ],
          [
           "YAMUNA MEDICAL"
          ],
          [
           "YASVI DAWAKHANA"
          ],
          [
           "YOUNIQUE"
          ],
          [
           "Y~SAMPATH KIRANAM"
          ],
          [
           "ZAKIR KIRANAM"
          ],
          [
           "ZIYA KIRANAM"
          ]
         ],
         "hovertemplate": "CLOSEST_CLUSTER_1=3<br>Average Bucket Value=%{x}<br>Total Sales Value=%{y}<br>Retailer Name=%{customdata[0]}<extra></extra>",
         "legendgroup": "3",
         "marker": {
          "color": "#ab63fa",
          "symbol": "circle"
         },
         "mode": "markers",
         "name": "3",
         "showlegend": true,
         "type": "scattergl",
         "x": [
          1563.49,
          1535.8600000000001,
          2460.728,
          1255.444,
          2004.4850000000001,
          2462.7599999999998,
          2554.06,
          1991.1666666666667,
          1956.9919999999997,
          2115.1085714285714,
          2742.02,
          3909.786666666667,
          1567.573333333333,
          2870.0440000000003,
          2088.7314285714288,
          1381.862857142857,
          3937.9599999999996,
          1652.3466666666668,
          3015.96,
          2106.742857142857,
          3121.66,
          3410.1200000000003,
          1404.9644444444446,
          2916.945,
          1083.3333333333333,
          1100,
          4344.42,
          2474.5733333333333,
          2283.94,
          2648.96,
          62848.31083333333,
          3206.12,
          2077.67,
          1672.8266666666668,
          1429.5066666666664,
          2991.306666666667,
          4457.7,
          825,
          2603.057142857143,
          1816.1799999999998,
          1850.92,
          1513.1200000000001,
          1396.2285714285715,
          4609.92,
          1783.216,
          1324.632,
          2960.714285714286,
          4207.4800000000005,
          1513.34,
          1852.632,
          2906.42,
          3593.54,
          2072.217142857143,
          1800.3822222222223,
          2713.7599999999998,
          1929.8580000000002,
          2953.1771428571424,
          2084.9300000000003,
          1510.208,
          2114.2875,
          1923.5288888888888,
          2766.7675,
          1397.6200000000001,
          13342.28,
          1607.3600000000001,
          1669.1240000000003,
          2962.344,
          2881.08,
          4784.96,
          3615.226666666667,
          2986.77,
          1387.1333333333332,
          8031.5714285714275,
          2987.16,
          2992.06,
          1709.8080000000002,
          1716.0577777777776,
          2989.32,
          2453.568,
          1700.5942857142857,
          1462.4399999999998,
          1894.1485714285714,
          2059.5371428571425,
          3197.6866666666665,
          1933.32,
          2130.875,
          1501.48,
          2078.64,
          2034.345,
          1816.982857142857,
          2128.2799999999997,
          2220.6400000000003,
          2483.86,
          2596.66,
          1823.3200000000002,
          2962.12,
          2460.0342857142855,
          1142.3066666666666,
          1928.5760000000002,
          1472.191111111111,
          2091.54,
          1685.172,
          3001.05,
          2044.5885714285712,
          2022.2428571428572,
          1714.4666666666665,
          1948.1066666666666,
          1430.4,
          2535.3866666666668,
          2390.4666666666662,
          2240.975,
          1737.1,
          2408.64,
          4422.566666666667,
          2882.3,
          3204.736,
          3766.2542857142857,
          771.4,
          1813.1240000000003,
          3354.59,
          4232.691428571428,
          2460.9333333333334,
          1816.7666666666667,
          2967.8,
          1730.46,
          1572.0200000000002,
          2749.986666666666,
          3742.98,
          1229.6666666666667,
          2530.376,
          1641.6499999999999,
          2026.2239999999997,
          1950.768888888889,
          2903.605,
          1526.352,
          2155.576,
          2859.904,
          1690.7240000000002,
          2224.9,
          1755.2581818181818,
          3947.5499999999997,
          2688.08,
          2849.888,
          2854.7466666666664,
          2859.6949999999997,
          3876.497142857143,
          1998.6044444444442,
          2977.866666666667,
          1960.9119999999998,
          1928.1490909090908,
          2782.9066666666663,
          4611.12,
          1893.98,
          1567.2628571428572,
          1884.68,
          888.76,
          2559.53,
          1375.7666666666667,
          1933.91,
          1710.944,
          3869.92,
          1725.7822222222223,
          1887.18,
          1934.9699999999998,
          1801.736,
          3345.7760000000003,
          1967.3955555555558,
          4167.333333333333,
          3286.737777777778,
          1837.7,
          1834.32,
          1192.0466666666666,
          1048.74,
          2771.693333333333,
          2534.04,
          2736.7942857142857,
          1341.48,
          2631.105,
          1559.84,
          2465.865714285714,
          3032.52,
          4086.81,
          1386.376,
          2320.9657142857145,
          3070.5199999999995,
          2936.84,
          2457.9657142857145,
          2083.16,
          1741.1599999999999,
          3328.1949999999997,
          2080.7400000000002,
          1333.52,
          1994.016,
          1432.78,
          2142.01,
          1156.6457142857141,
          2196.6577777777775,
          2432.795,
          2218.64,
          1544.4971428571428,
          1920.7866666666666,
          1658.31,
          4812.12,
          2209.366666666667,
          2993.7444444444445,
          2235.4,
          2246.38,
          1628.24,
          1907.68,
          2147.0628571428574,
          1838.03,
          2555.3657142857146,
          2751.1366666666668,
          877.8266666666667,
          4756,
          1706.0300000000002,
          1476.28,
          5187.12,
          1647.196,
          760,
          2806.2775,
          3130.3866666666668,
          4295.234285714286,
          3272.7,
          4704.36,
          9425.44,
          2279.64,
          2612.628571428572,
          1508.6666666666667,
          1751.6133333333335,
          4846.834285714285,
          1909.2,
          3114.7850000000003,
          1588.782857142857,
          2949.34,
          5024.766666666666,
          2218.64,
          2458.6000000000004,
          2207.736,
          2486.73,
          2981.588571428572,
          4451.245714285715,
          5055.731428571429,
          2968.48,
          2433.23,
          3720.475,
          1205.416,
          4047.662857142857,
          1734.9828571428573,
          1922.7314285714285,
          2216.425,
          2229.33,
          2460.5,
          3647.92,
          4665.62,
          3088.932,
          3404.0533333333333,
          2894.57,
          7957.88,
          2993.376,
          2548.4666666666667,
          3060.1679999999997,
          2472.1066666666666,
          2749.7799999999997,
          1982.9714285714285,
          1988.16,
          1492.6399999999999,
          1372.9142857142856,
          2585.13,
          2755.5085714285715,
          1927.0333333333335,
          1965.7333333333333,
          2237.32,
          2517.3028571428576,
          1653.2466666666667,
          1438,
          2385.6475,
          2700.4644444444443,
          2070.4933333333333,
          1738.765,
          1177.24,
          3871.39,
          4139.469999999999,
          2551.9485714285715,
          1977.312,
          1008.1879999999999,
          1550.0285714285715,
          3211.68,
          1961.024,
          2051.0763636363636,
          2483.866666666667,
          2531.75,
          1692.5375,
          1261.28,
          1187.14,
          3319.64,
          1475.4850000000001,
          1996.1342857142856,
          1477.6960000000001,
          5460.405714285715,
          1425.5149999999999,
          2698.39,
          5216.845714285714,
          3568.55,
          2102.648,
          4712.76,
          1351.6533333333334,
          3486.44,
          1438.3777777777777,
          2119.6133333333332,
          1134.6999999999998,
          2936.84,
          1479.592,
          2185.611428571429,
          3798.8999999999996,
          4248.855,
          1467.7428571428572,
          2346.04,
          1538.27,
          1671.2400000000002,
          3230.7400000000002,
          3513.897777777778,
          545.44,
          4091.5199999999995,
          2868.42,
          1838.536,
          1515.824,
          5161.973333333333,
          1651.3542857142857,
          2887.7885714285717,
          3939.8999999999996,
          2826.0171428571425,
          1978.1885714285713,
          3442.0733333333333,
          3242.45,
          1428.1280000000002,
          3782.1,
          4545.400000000001,
          2731.2799999999997,
          2836.4,
          1415.1866666666667,
          1736.225,
          1837.7022222222222,
          1721.3133333333335,
          2508.12,
          4242.7733333333335,
          3807.408888888889,
          1847.96,
          2435.7200000000003,
          3367.405714285714,
          2983,
          3018.217142857143,
          2276.94,
          2642.2775,
          2659.68,
          1468.72,
          3104.46,
          2378,
          3333.875555555556,
          3533.951111111111,
          5219.599999999999,
          2183.0933333333332,
          1237.7199999999998,
          626.12,
          2276.56,
          2007.23,
          2898.52,
          1232.4228571428573,
          2346.0666666666666,
          4810.868571428572,
          5016.805,
          3847.16,
          2145.8720000000003,
          1834.208888888889,
          2479.6866666666665,
          1578.8,
          2756.36,
          2570.3375,
          2218.64,
          1284.817142857143,
          4957.1,
          4120.38,
          2854.8844444444444,
          1206.06,
          2102.897777777778,
          4436.15,
          1889.5279999999998,
          2020.74,
          2289.5244444444447,
          2040.23,
          3595.055,
          2102,
          1662.16,
          4503.786666666666,
          1984.38,
          2166.6057142857144,
          5166.6125,
          2634.097142857143,
          2219.14,
          3162.871111111111,
          1377.2,
          2240.4449999999997,
          2955.56,
          2868.411428571428,
          1679.2533333333333,
          1968.4,
          3749.013333333334,
          3918.12,
          1092.2533333333333,
          1414.982857142857,
          3083.5919999999996,
          1820.72,
          5425.34,
          2489.7799999999997,
          2305.02,
          1651.6742857142856,
          1118.8133333333333,
          720.04,
          2366.0466666666666,
          1973.4342857142856,
          1974.81,
          1896.08,
          2497.6711111111113,
          3642.94,
          2301.9466666666667,
          2254.3333333333335,
          1540.3,
          1921.1119999999999,
          1671.8066666666666,
          3035.02,
          1946.415,
          4822.206666666666,
          3163.608,
          2109.205,
          1749.3257142857142,
          4744.02,
          2433.2266666666665,
          5302.32,
          1867.551111111111,
          4557.728,
          1527.78,
          2891.9266666666663,
          1671.94,
          2578.796,
          4727.445714285714,
          2222.784,
          4141.986666666667,
          2080.9733333333334,
          2412.4742857142855,
          3039.216,
          1730.79,
          2234.2666666666664,
          1765.9733333333334,
          2788.408,
          2573.565,
          4471.946666666667,
          2782.1279999999997,
          1483.4514285714286,
          4470.826666666667,
          1462.4914285714287,
          1405.1000000000001,
          4601.219999999999,
          1702.6314285714286,
          4763.606666666667,
          1255.0866666666668,
          3841.6400000000003,
          1240.36,
          4358.42,
          1886.3066666666666,
          2509.5333333333333,
          1198.702857142857,
          5646.828571428572,
          1754.7511111111112,
          1895.7133333333334,
          1696.3899999999999,
          1546.165,
          2392.565,
          2946.342857142857,
          1935.9733333333334,
          3076.42,
          2273.25,
          3214.2,
          3364.465,
          2143.2,
          2273.12,
          7432.048571428572,
          2236.591111111111,
          2181.4914285714285,
          3749.36,
          2414.085714285714,
          1931.5314285714287,
          2462.0377777777776,
          1496.8228571428572,
          1938.305,
          1189.8914285714286,
          1613.32,
          1797.0628571428572,
          2730.4514285714286,
          1430.4866666666667,
          1842.615,
          2902.35,
          2304.5885714285714,
          4672.575,
          1426.9066666666668,
          2129.0919999999996,
          2725.2742857142853,
          3987.22,
          3991.8099999999995,
          4755.097142857143
         ],
         "xaxis": "x",
         "y": [
          12507.92,
          3071.7200000000003,
          12303.64,
          12554.44,
          16035.880000000001,
          17239.32,
          15324.359999999999,
          11947,
          19569.92,
          14805.76,
          10968.08,
          23458.72,
          4702.719999999999,
          28700.440000000002,
          14621.12,
          9673.039999999999,
          11813.88,
          14871.12,
          24127.68,
          14747.199999999999,
          18729.96,
          10230.36,
          12644.68,
          23335.56,
          3250,
          1100,
          8688.84,
          14847.44,
          4567.88,
          18542.72,
          1508359.46,
          3206.12,
          8310.68,
          10036.960000000001,
          4288.5199999999995,
          17947.84,
          17830.8,
          825,
          18221.4,
          18161.8,
          3701.84,
          4539.360000000001,
          9773.6,
          32269.44,
          17832.16,
          6623.16,
          20725,
          12622.44,
          3026.68,
          9263.16,
          17438.52,
          7187.08,
          14505.52,
          16203.44,
          13568.8,
          19298.58,
          20672.239999999998,
          16679.440000000002,
          15102.08,
          16914.3,
          17311.76,
          22134.14,
          8385.720000000001,
          13342.28,
          16073.6,
          16691.24,
          29623.440000000002,
          28810.8,
          33494.72,
          10845.68,
          23894.16,
          8322.8,
          56220.99999999999,
          2987.16,
          11968.24,
          8549.04,
          15444.519999999999,
          5978.64,
          12267.84,
          11904.16,
          13161.96,
          13259.039999999999,
          14416.759999999998,
          19186.12,
          1933.32,
          17047,
          10510.36,
          6235.92,
          16274.76,
          12718.88,
          17026.239999999998,
          11103.2,
          19870.88,
          15579.96,
          16409.88,
          2962.12,
          17220.239999999998,
          6853.84,
          19285.760000000002,
          13249.72,
          16732.32,
          16851.72,
          24008.4,
          14312.119999999999,
          14155.7,
          10286.8,
          11688.64,
          1430.4,
          15212.32,
          21514.199999999997,
          17927.8,
          13896.8,
          14451.84,
          26535.4,
          23058.4,
          16023.68,
          26363.78,
          771.4,
          9065.62,
          13418.36,
          29628.84,
          7382.8,
          10900.6,
          2967.8,
          13843.68,
          9432.12,
          16499.92,
          7485.96,
          7378,
          12651.880000000001,
          13133.199999999999,
          20262.239999999998,
          17556.920000000002,
          23228.84,
          7631.76,
          10777.880000000001,
          14299.52,
          16907.24,
          22249,
          19307.84,
          15790.199999999999,
          2688.08,
          14249.44,
          8564.24,
          22877.559999999998,
          27135.48,
          17987.44,
          8933.6,
          19609.12,
          21209.64,
          16697.44,
          32277.84,
          18939.8,
          10970.84,
          13192.76,
          1777.52,
          20476.24,
          8254.6,
          15471.28,
          17109.44,
          7739.84,
          15532.04,
          11323.08,
          7739.879999999999,
          18017.36,
          16728.88,
          17706.56,
          12502,
          29580.64,
          11026.2,
          11005.92,
          7152.28,
          2097.48,
          8315.08,
          17738.28,
          19157.56,
          9390.36,
          21048.84,
          9359.039999999999,
          17261.059999999998,
          24260.16,
          16347.24,
          6931.88,
          16246.76,
          12282.079999999998,
          2936.84,
          17205.760000000002,
          12498.96,
          13929.279999999999,
          26625.559999999998,
          12484.44,
          1333.52,
          19940.16,
          8596.68,
          8568.04,
          8096.5199999999995,
          19769.92,
          19462.36,
          2218.64,
          10811.48,
          5762.36,
          6633.24,
          24060.6,
          19884.3,
          26943.7,
          2235.4,
          26956.56,
          13025.92,
          1907.68,
          15029.44,
          14704.24,
          17887.56,
          16506.82,
          2633.48,
          38048,
          6824.120000000001,
          1476.28,
          5187.12,
          16471.96,
          760,
          22450.22,
          18782.32,
          30066.64,
          6545.4,
          9408.72,
          9425.44,
          20516.76,
          18288.4,
          13578,
          10509.68,
          33927.84,
          13364.4,
          24918.280000000002,
          11121.48,
          23594.72,
          30148.6,
          2218.64,
          19668.800000000003,
          11038.68,
          19893.84,
          20871.120000000003,
          31158.72,
          35390.12,
          2968.48,
          19465.84,
          29763.8,
          6027.08,
          28333.64,
          12144.880000000001,
          13459.119999999999,
          17731.4,
          17834.64,
          4921,
          7295.84,
          9331.24,
          30889.32,
          20424.32,
          23156.56,
          7957.88,
          14966.880000000001,
          22936.2,
          15300.839999999998,
          7416.32,
          10999.119999999999,
          13880.8,
          1988.16,
          1492.6399999999999,
          9610.4,
          20681.04,
          19288.56,
          11562.2,
          11794.4,
          2237.32,
          17621.120000000003,
          9919.48,
          10066,
          19085.18,
          24304.18,
          12422.96,
          13910.12,
          7063.4400000000005,
          15485.56,
          16557.879999999997,
          17863.64,
          9886.56,
          10081.88,
          10850.2,
          12846.72,
          9805.119999999999,
          22561.84,
          14903.2,
          20254,
          13540.3,
          1261.28,
          7122.84,
          13278.56,
          11803.880000000001,
          13972.939999999999,
          7388.4800000000005,
          38222.840000000004,
          11404.119999999999,
          21587.12,
          36517.92,
          28548.4,
          10513.24,
          4712.76,
          8109.92,
          3486.44,
          12945.4,
          19076.52,
          2269.3999999999996,
          2936.84,
          7397.96,
          15299.28,
          7597.799999999999,
          33990.84,
          10274.2,
          16422.28,
          12306.16,
          8356.2,
          19384.440000000002,
          31625.08,
          545.44,
          8183.039999999999,
          11473.68,
          9192.68,
          15158.24,
          15485.92,
          11559.48,
          20214.52,
          7879.799999999999,
          19782.12,
          13847.32,
          20652.44,
          25939.6,
          7140.64,
          7564.2,
          18181.600000000002,
          5462.5599999999995,
          2836.4,
          8491.12,
          13889.8,
          16539.32,
          10327.880000000001,
          30097.44,
          25456.64,
          34266.68,
          3695.92,
          2435.7200000000003,
          23571.84,
          11932,
          21127.52,
          4553.88,
          21138.22,
          15958.08,
          10281.04,
          24835.68,
          7134,
          30004.88,
          31805.559999999998,
          15658.8,
          6549.28,
          8664.039999999999,
          626.12,
          9106.24,
          16057.84,
          8695.56,
          8626.960000000001,
          14076.4,
          33676.08,
          40134.44,
          7694.32,
          10729.36,
          16507.88,
          14878.119999999999,
          12630.4,
          2756.36,
          20562.7,
          2218.64,
          8993.720000000001,
          39656.8,
          16481.52,
          25693.96,
          2412.12,
          18926.08,
          17744.6,
          9447.64,
          12124.44,
          20605.72,
          16321.84,
          28760.44,
          12612,
          6648.64,
          13511.359999999999,
          11906.28,
          15166.24,
          41332.9,
          18438.68,
          13314.84,
          28465.84,
          4131.6,
          17923.559999999998,
          14777.8,
          20078.879999999997,
          20151.04,
          1968.4,
          11247.04,
          15672.48,
          6553.52,
          9904.88,
          15417.96,
          7282.88,
          10850.68,
          24897.8,
          23050.2,
          11561.72,
          3356.4399999999996,
          720.04,
          14196.28,
          13814.039999999999,
          15798.48,
          5688.24,
          22479.04,
          29143.52,
          13811.68,
          13526,
          9241.8,
          9605.56,
          10030.84,
          18210.12,
          15571.32,
          28933.239999999998,
          15818.04,
          16873.64,
          12245.279999999999,
          9488.04,
          14599.359999999999,
          5302.32,
          16807.96,
          22788.64,
          6111.12,
          17351.559999999998,
          3343.88,
          25787.96,
          33092.119999999995,
          11113.92,
          24851.92,
          18728.76,
          16887.32,
          15196.08,
          13846.32,
          6702.799999999999,
          10595.84,
          27884.079999999998,
          20588.52,
          26831.68,
          27821.28,
          10384.16,
          13412.48,
          10237.44,
          8430.6,
          18404.879999999997,
          11918.42,
          28581.64,
          7530.52,
          19208.2,
          4961.44,
          8716.84,
          5658.92,
          15057.2,
          8390.92,
          39527.8,
          15792.76,
          11374.28,
          6785.5599999999995,
          12369.32,
          19140.52,
          20624.4,
          11615.84,
          6152.84,
          18186,
          3214.2,
          26915.72,
          17145.6,
          15911.84,
          52024.340000000004,
          20129.32,
          15270.44,
          29994.88,
          16898.6,
          13520.720000000001,
          22158.34,
          10477.76,
          15506.44,
          8329.24,
          19359.84,
          12579.44,
          19113.16,
          8582.92,
          14740.92,
          11609.4,
          16132.12,
          37380.6,
          8561.44,
          21290.92,
          19076.92,
          23923.32,
          15967.239999999998,
          33285.68
         ],
         "yaxis": "y"
        }
       ],
       "layout": {
        "height": 700,
        "legend": {
         "title": {
          "text": "CLOSEST_CLUSTER_1"
         },
         "tracegroupgap": 0
        },
        "margin": {
         "t": 60
        },
        "template": {
         "data": {
          "bar": [
           {
            "error_x": {
             "color": "#2a3f5f"
            },
            "error_y": {
             "color": "#2a3f5f"
            },
            "marker": {
             "line": {
              "color": "#E5ECF6",
              "width": 0.5
             },
             "pattern": {
              "fillmode": "overlay",
              "size": 10,
              "solidity": 0.2
             }
            },
            "type": "bar"
           }
          ],
          "barpolar": [
           {
            "marker": {
             "line": {
              "color": "#E5ECF6",
              "width": 0.5
             },
             "pattern": {
              "fillmode": "overlay",
              "size": 10,
              "solidity": 0.2
             }
            },
            "type": "barpolar"
           }
          ],
          "carpet": [
           {
            "aaxis": {
             "endlinecolor": "#2a3f5f",
             "gridcolor": "white",
             "linecolor": "white",
             "minorgridcolor": "white",
             "startlinecolor": "#2a3f5f"
            },
            "baxis": {
             "endlinecolor": "#2a3f5f",
             "gridcolor": "white",
             "linecolor": "white",
             "minorgridcolor": "white",
             "startlinecolor": "#2a3f5f"
            },
            "type": "carpet"
           }
          ],
          "choropleth": [
           {
            "colorbar": {
             "outlinewidth": 0,
             "ticks": ""
            },
            "type": "choropleth"
           }
          ],
          "contour": [
           {
            "colorbar": {
             "outlinewidth": 0,
             "ticks": ""
            },
            "colorscale": [
             [
              0,
              "#0d0887"
             ],
             [
              0.1111111111111111,
              "#46039f"
             ],
             [
              0.2222222222222222,
              "#7201a8"
             ],
             [
              0.3333333333333333,
              "#9c179e"
             ],
             [
              0.4444444444444444,
              "#bd3786"
             ],
             [
              0.5555555555555556,
              "#d8576b"
             ],
             [
              0.6666666666666666,
              "#ed7953"
             ],
             [
              0.7777777777777778,
              "#fb9f3a"
             ],
             [
              0.8888888888888888,
              "#fdca26"
             ],
             [
              1,
              "#f0f921"
             ]
            ],
            "type": "contour"
           }
          ],
          "contourcarpet": [
           {
            "colorbar": {
             "outlinewidth": 0,
             "ticks": ""
            },
            "type": "contourcarpet"
           }
          ],
          "heatmap": [
           {
            "colorbar": {
             "outlinewidth": 0,
             "ticks": ""
            },
            "colorscale": [
             [
              0,
              "#0d0887"
             ],
             [
              0.1111111111111111,
              "#46039f"
             ],
             [
              0.2222222222222222,
              "#7201a8"
             ],
             [
              0.3333333333333333,
              "#9c179e"
             ],
             [
              0.4444444444444444,
              "#bd3786"
             ],
             [
              0.5555555555555556,
              "#d8576b"
             ],
             [
              0.6666666666666666,
              "#ed7953"
             ],
             [
              0.7777777777777778,
              "#fb9f3a"
             ],
             [
              0.8888888888888888,
              "#fdca26"
             ],
             [
              1,
              "#f0f921"
             ]
            ],
            "type": "heatmap"
           }
          ],
          "heatmapgl": [
           {
            "colorbar": {
             "outlinewidth": 0,
             "ticks": ""
            },
            "colorscale": [
             [
              0,
              "#0d0887"
             ],
             [
              0.1111111111111111,
              "#46039f"
             ],
             [
              0.2222222222222222,
              "#7201a8"
             ],
             [
              0.3333333333333333,
              "#9c179e"
             ],
             [
              0.4444444444444444,
              "#bd3786"
             ],
             [
              0.5555555555555556,
              "#d8576b"
             ],
             [
              0.6666666666666666,
              "#ed7953"
             ],
             [
              0.7777777777777778,
              "#fb9f3a"
             ],
             [
              0.8888888888888888,
              "#fdca26"
             ],
             [
              1,
              "#f0f921"
             ]
            ],
            "type": "heatmapgl"
           }
          ],
          "histogram": [
           {
            "marker": {
             "pattern": {
              "fillmode": "overlay",
              "size": 10,
              "solidity": 0.2
             }
            },
            "type": "histogram"
           }
          ],
          "histogram2d": [
           {
            "colorbar": {
             "outlinewidth": 0,
             "ticks": ""
            },
            "colorscale": [
             [
              0,
              "#0d0887"
             ],
             [
              0.1111111111111111,
              "#46039f"
             ],
             [
              0.2222222222222222,
              "#7201a8"
             ],
             [
              0.3333333333333333,
              "#9c179e"
             ],
             [
              0.4444444444444444,
              "#bd3786"
             ],
             [
              0.5555555555555556,
              "#d8576b"
             ],
             [
              0.6666666666666666,
              "#ed7953"
             ],
             [
              0.7777777777777778,
              "#fb9f3a"
             ],
             [
              0.8888888888888888,
              "#fdca26"
             ],
             [
              1,
              "#f0f921"
             ]
            ],
            "type": "histogram2d"
           }
          ],
          "histogram2dcontour": [
           {
            "colorbar": {
             "outlinewidth": 0,
             "ticks": ""
            },
            "colorscale": [
             [
              0,
              "#0d0887"
             ],
             [
              0.1111111111111111,
              "#46039f"
             ],
             [
              0.2222222222222222,
              "#7201a8"
             ],
             [
              0.3333333333333333,
              "#9c179e"
             ],
             [
              0.4444444444444444,
              "#bd3786"
             ],
             [
              0.5555555555555556,
              "#d8576b"
             ],
             [
              0.6666666666666666,
              "#ed7953"
             ],
             [
              0.7777777777777778,
              "#fb9f3a"
             ],
             [
              0.8888888888888888,
              "#fdca26"
             ],
             [
              1,
              "#f0f921"
             ]
            ],
            "type": "histogram2dcontour"
           }
          ],
          "mesh3d": [
           {
            "colorbar": {
             "outlinewidth": 0,
             "ticks": ""
            },
            "type": "mesh3d"
           }
          ],
          "parcoords": [
           {
            "line": {
             "colorbar": {
              "outlinewidth": 0,
              "ticks": ""
             }
            },
            "type": "parcoords"
           }
          ],
          "pie": [
           {
            "automargin": true,
            "type": "pie"
           }
          ],
          "scatter": [
           {
            "fillpattern": {
             "fillmode": "overlay",
             "size": 10,
             "solidity": 0.2
            },
            "type": "scatter"
           }
          ],
          "scatter3d": [
           {
            "line": {
             "colorbar": {
              "outlinewidth": 0,
              "ticks": ""
             }
            },
            "marker": {
             "colorbar": {
              "outlinewidth": 0,
              "ticks": ""
             }
            },
            "type": "scatter3d"
           }
          ],
          "scattercarpet": [
           {
            "marker": {
             "colorbar": {
              "outlinewidth": 0,
              "ticks": ""
             }
            },
            "type": "scattercarpet"
           }
          ],
          "scattergeo": [
           {
            "marker": {
             "colorbar": {
              "outlinewidth": 0,
              "ticks": ""
             }
            },
            "type": "scattergeo"
           }
          ],
          "scattergl": [
           {
            "marker": {
             "colorbar": {
              "outlinewidth": 0,
              "ticks": ""
             }
            },
            "type": "scattergl"
           }
          ],
          "scattermapbox": [
           {
            "marker": {
             "colorbar": {
              "outlinewidth": 0,
              "ticks": ""
             }
            },
            "type": "scattermapbox"
           }
          ],
          "scatterpolar": [
           {
            "marker": {
             "colorbar": {
              "outlinewidth": 0,
              "ticks": ""
             }
            },
            "type": "scatterpolar"
           }
          ],
          "scatterpolargl": [
           {
            "marker": {
             "colorbar": {
              "outlinewidth": 0,
              "ticks": ""
             }
            },
            "type": "scatterpolargl"
           }
          ],
          "scatterternary": [
           {
            "marker": {
             "colorbar": {
              "outlinewidth": 0,
              "ticks": ""
             }
            },
            "type": "scatterternary"
           }
          ],
          "surface": [
           {
            "colorbar": {
             "outlinewidth": 0,
             "ticks": ""
            },
            "colorscale": [
             [
              0,
              "#0d0887"
             ],
             [
              0.1111111111111111,
              "#46039f"
             ],
             [
              0.2222222222222222,
              "#7201a8"
             ],
             [
              0.3333333333333333,
              "#9c179e"
             ],
             [
              0.4444444444444444,
              "#bd3786"
             ],
             [
              0.5555555555555556,
              "#d8576b"
             ],
             [
              0.6666666666666666,
              "#ed7953"
             ],
             [
              0.7777777777777778,
              "#fb9f3a"
             ],
             [
              0.8888888888888888,
              "#fdca26"
             ],
             [
              1,
              "#f0f921"
             ]
            ],
            "type": "surface"
           }
          ],
          "table": [
           {
            "cells": {
             "fill": {
              "color": "#EBF0F8"
             },
             "line": {
              "color": "white"
             }
            },
            "header": {
             "fill": {
              "color": "#C8D4E3"
             },
             "line": {
              "color": "white"
             }
            },
            "type": "table"
           }
          ]
         },
         "layout": {
          "annotationdefaults": {
           "arrowcolor": "#2a3f5f",
           "arrowhead": 0,
           "arrowwidth": 1
          },
          "autotypenumbers": "strict",
          "coloraxis": {
           "colorbar": {
            "outlinewidth": 0,
            "ticks": ""
           }
          },
          "colorscale": {
           "diverging": [
            [
             0,
             "#8e0152"
            ],
            [
             0.1,
             "#c51b7d"
            ],
            [
             0.2,
             "#de77ae"
            ],
            [
             0.3,
             "#f1b6da"
            ],
            [
             0.4,
             "#fde0ef"
            ],
            [
             0.5,
             "#f7f7f7"
            ],
            [
             0.6,
             "#e6f5d0"
            ],
            [
             0.7,
             "#b8e186"
            ],
            [
             0.8,
             "#7fbc41"
            ],
            [
             0.9,
             "#4d9221"
            ],
            [
             1,
             "#276419"
            ]
           ],
           "sequential": [
            [
             0,
             "#0d0887"
            ],
            [
             0.1111111111111111,
             "#46039f"
            ],
            [
             0.2222222222222222,
             "#7201a8"
            ],
            [
             0.3333333333333333,
             "#9c179e"
            ],
            [
             0.4444444444444444,
             "#bd3786"
            ],
            [
             0.5555555555555556,
             "#d8576b"
            ],
            [
             0.6666666666666666,
             "#ed7953"
            ],
            [
             0.7777777777777778,
             "#fb9f3a"
            ],
            [
             0.8888888888888888,
             "#fdca26"
            ],
            [
             1,
             "#f0f921"
            ]
           ],
           "sequentialminus": [
            [
             0,
             "#0d0887"
            ],
            [
             0.1111111111111111,
             "#46039f"
            ],
            [
             0.2222222222222222,
             "#7201a8"
            ],
            [
             0.3333333333333333,
             "#9c179e"
            ],
            [
             0.4444444444444444,
             "#bd3786"
            ],
            [
             0.5555555555555556,
             "#d8576b"
            ],
            [
             0.6666666666666666,
             "#ed7953"
            ],
            [
             0.7777777777777778,
             "#fb9f3a"
            ],
            [
             0.8888888888888888,
             "#fdca26"
            ],
            [
             1,
             "#f0f921"
            ]
           ]
          },
          "colorway": [
           "#636efa",
           "#EF553B",
           "#00cc96",
           "#ab63fa",
           "#FFA15A",
           "#19d3f3",
           "#FF6692",
           "#B6E880",
           "#FF97FF",
           "#FECB52"
          ],
          "font": {
           "color": "#2a3f5f"
          },
          "geo": {
           "bgcolor": "white",
           "lakecolor": "white",
           "landcolor": "#E5ECF6",
           "showlakes": true,
           "showland": true,
           "subunitcolor": "white"
          },
          "hoverlabel": {
           "align": "left"
          },
          "hovermode": "closest",
          "mapbox": {
           "style": "light"
          },
          "paper_bgcolor": "white",
          "plot_bgcolor": "#E5ECF6",
          "polar": {
           "angularaxis": {
            "gridcolor": "white",
            "linecolor": "white",
            "ticks": ""
           },
           "bgcolor": "#E5ECF6",
           "radialaxis": {
            "gridcolor": "white",
            "linecolor": "white",
            "ticks": ""
           }
          },
          "scene": {
           "xaxis": {
            "backgroundcolor": "#E5ECF6",
            "gridcolor": "white",
            "gridwidth": 2,
            "linecolor": "white",
            "showbackground": true,
            "ticks": "",
            "zerolinecolor": "white"
           },
           "yaxis": {
            "backgroundcolor": "#E5ECF6",
            "gridcolor": "white",
            "gridwidth": 2,
            "linecolor": "white",
            "showbackground": true,
            "ticks": "",
            "zerolinecolor": "white"
           },
           "zaxis": {
            "backgroundcolor": "#E5ECF6",
            "gridcolor": "white",
            "gridwidth": 2,
            "linecolor": "white",
            "showbackground": true,
            "ticks": "",
            "zerolinecolor": "white"
           }
          },
          "shapedefaults": {
           "line": {
            "color": "#2a3f5f"
           }
          },
          "ternary": {
           "aaxis": {
            "gridcolor": "white",
            "linecolor": "white",
            "ticks": ""
           },
           "baxis": {
            "gridcolor": "white",
            "linecolor": "white",
            "ticks": ""
           },
           "bgcolor": "#E5ECF6",
           "caxis": {
            "gridcolor": "white",
            "linecolor": "white",
            "ticks": ""
           }
          },
          "title": {
           "x": 0.05
          },
          "xaxis": {
           "automargin": true,
           "gridcolor": "white",
           "linecolor": "white",
           "ticks": "",
           "title": {
            "standoff": 15
           },
           "zerolinecolor": "white",
           "zerolinewidth": 2
          },
          "yaxis": {
           "automargin": true,
           "gridcolor": "white",
           "linecolor": "white",
           "ticks": "",
           "title": {
            "standoff": 15
           },
           "zerolinecolor": "white",
           "zerolinewidth": 2
          }
         }
        },
        "width": 1200,
        "xaxis": {
         "anchor": "y",
         "domain": [
          0,
          1
         ],
         "title": {
          "text": "Average Bucket Value"
         }
        },
        "yaxis": {
         "anchor": "x",
         "domain": [
          0,
          1
         ],
         "title": {
          "text": "Total Sales Value"
         }
        }
       }
      },
      "text/html": [
       "<div>                            <div id=\"018a9221-2a08-4e69-9fe6-8f86225f7f08\" class=\"plotly-graph-div\" style=\"height:700px; width:1200px;\"></div>            <script type=\"text/javascript\">                require([\"plotly\"], function(Plotly) {                    window.PLOTLYENV=window.PLOTLYENV || {};                                    if (document.getElementById(\"018a9221-2a08-4e69-9fe6-8f86225f7f08\")) {                    Plotly.newPlot(                        \"018a9221-2a08-4e69-9fe6-8f86225f7f08\",                        [{\"customdata\":[[\"A P KM\"],[\"ADI BANERJEE BHANDAR\"],[\"ADITI ENTERPRISE\"],[\"ALAFA KM\"],[\"ALTAF TRADER\"],[\"AMAR M P S M GENERA\"],[\"ANNAPURNA KIRAN STOR\"],[\"APOLLO CLINIC\"],[\"ARACHANA LADIES EMPO\"],[\"ARNAPURNA MEDICINE STORE\"],[\"ASHISH ENTERPRISER\"],[\"ASHOK LOHANI\"],[\"AYODYA PROVISION\"],[\"A~BHASKAR KIRNA STOR\"],[\"A~JAGADISHWAR KIRANA\"],[\"A~RAJAIAH KIRANA STO\"],[\"BAGHDAD BEAUTIE\"],[\"BAJAJ MEDICAL STORE\"],[\"BALAJI FANCY STORE\"],[\"BALAJI GENERAL STORE\"],[\"BALAJI MH\"],[\"BANERJEE VARITIE\"],[\"BARMAN DRUG\"],[\"BHAGHYA LADIES EMPOR\"],[\"BHAGYA LAXMI KM\"],[\"BHAGYA SRI GENERAL \"],[\"BHAGYALAXMI KIRANA G\"],[\"BHARATHI LADIES EMPO\"],[\"BHARGAVA MEDICAL HAL\"],[\"BHAVANI SHANKAR KIRN\"],[\"BHUVANESHWARI MATHA\"],[\"BISHNUPRIYA MEDICINE STORE\"],[\"BROADWAY PHARMACY AND CLINIC\"],[\"BUDDHODEB STORE\"],[\"BUKKA RAMULU KIRANAM\"],[\"B~PARAMESHWARA KIRNA\"],[\"B~PRASHANTH KIRANA \"],[\"B~R~PHARMA\"],[\"B~SHANKEER KIRNA STO\"],[\"CAPITAL PHARMA\"],[\"CHANDINI FANCY STORE\"],[\"CHANDU KIRANAM\"],[\"CHOWDHURI ENTREPRISE\"],[\"CH~BAKKAIAH KIRANA \"],[\"CH~NAGABHUSHANAM KIR\"],[\"CH~NAGARAJU KIRNA GE\"],[\"CH~VENKASHAM KIRANA\"],[\"CITY PHARMA\"],[\"COLLEGE BEAUTY\"],[\"CRESCENT MEDICAL SHO\"],[\"CURE~N~CARE\"],[\"DAS MEDICAL STORE\"],[\"DELIGHT GENERAL STOR\"],[\"DEVI DRUG\"],[\"DHANA LAXMI KIRANAM\"],[\"DHANA LAXMI MEDICAL\"],[\"DHANUSHYA KIRANA GE\"],[\"DHANVATHARI AURVEDIC\"],[\"DIVYA MEDICAL HALL\"],[\"DURGA FANCY\"],[\"DURGA KIRANA STORE\"],[\"D~LYTE PHARMACY\"],[\"D~NARAAIANA KIRNA ST\"],[\"FASHION TOUCH\"],[\"G SHANKHAR KIRANAM\"],[\"GANAPATHI KIRNA GENE\"],[\"GAYATHRI LADIES EMPO\"],[\"GAYATRI KIRANA GENER\"],[\"GAYATRI MEDICAL HALL\"],[\"GAYATRI MED~ STORE\"],[\"GEETHA CUT MIT GENER\"],[\"GODWIN FANCY\"],[\"GOPAL KRISHNA GENARA\"],[\"GOPALA KRISHNA FANCY\"],[\"GOPI BOOK STALL\"],[\"GOPINATH MEDICAL\"],[\"GOURI AGENCY\"],[\"GOURI KM\"],[\"GOURI SHANKAR KIRANA\"],[\"GOURIPRIYA GENERAL\"],[\"GOWRI SHANKAR FANCY\"],[\"GUPTA MEDICAL\"],[\"GYANA SARASWATHY KIR\"],[\"G~C~ PHARMA\"],[\"G~KISTAIAH KIRNA STO\"],[\"H M IBRAHIM\"],[\"HAMDARD DAWAKHANA\"],[\"HANUMAN KIRANA STORE\"],[\"HARADHAN DUTTA\"],[\"HARI HARA MEDICAL HALL\"],[\"HARI KRUPA MEDICAL H\"],[\"HARI NATHA KM\"],[\"HARISHANKAR KIRANAM\"],[\"HEALTH CARE (J~C)\"],[\"HEALTH CARE MEDICAL\"],[\"H~ CHISHI PHARMACY\"],[\"JAGADAMBHA GENERAL \"],[\"JAGADISH KIRANAM\"],[\"JAGANNATH MED STORE(BAND CHAK)\"],[\"JAI ARBUDA FANCY GEN\"],[\"JAI SANTHOSH KIRANA\"],[\"JAI SANTHOSHMATHA KI\"],[\"JAIMAA MANGALA AYURVEDIC BHANDAR\"],[\"JAVEED KIRANAM\"],[\"JAYASHANKAR KIRAN ST\"],[\"JEANS PHARMACY\"],[\"JOHN'S MEDICAL HALL\"],[\"JYOTHI KIRANA STORE\"],[\"JYOTHI MEDICAL HALL\"],[\"J~K PHARMACY\"],[\"K KRISHNA MURTHI KIR\"],[\"KAILASH MEDICINE STORE\"],[\"KAMAKSHI SUPER MARKE\"],[\"KAMALNATH GENERAL ST\"],[\"KARUNA LADIES EMPORI\"],[\"KENNETH MEDICAL\"],[\"KHAN COSMETIC\"],[\"KHATOOR KIRANAM\"],[\"KRISHNA SAI MEDICAL\"],[\"KUMARASWAMY GENERAL\"],[\"K~ VAIKUNTAM KIRANAM\"],[\"K~GOURAIAH KIRANA GE\"],[\"K~K~TRADER\"],[\"K~RAJESHAM KIRANA GE\"],[\"K~RAVI (J~K) GENERAL\"],[\"K~SRINIVAS K\\u002fM\\u003cRK\\u003e G\"],[\"K~SUDHAKER KIRANA ST\"],[\"K~VERASHAM KABEER KI\"],[\"LABANI STORE\"],[\"LAKSHMI CHENNAKESAWA\"],[\"LALITHA BHAVANI MEDICAL HALL\"],[\"LALITHA BHAVANI MH\"],[\"LALITHA KIRANA GENER\"],[\"LAXMI ANNAPURNA KIRA\"],[\"LAXMI MEDICAL\"],[\"LAXMI MEDICAL\"],[\"LAXMI PRASANNA KIRAN\"],[\"LAXMI VENKATESHWARA\"],[\"LIFE CARE MEDICAL (T~K)\"],[\"LIFE CARE MEDICAL HA\"],[\"LIFE LINE DRUG\"],[\"LIFE LINE PHARMACY\"],[\"LIFE PHARMA (K)\"],[\"LINGA MURTHI KIRANAM\"],[\"LINGAIAH KIRANAM\"],[\"LOHITH KM\"],[\"LUIT MEDICAL\"],[\"L~K~ MEDICO\"],[\"M K MEDICINE STORE\"],[\"MA SHYAMA BHANDER\"],[\"MA SHYAMA STORE\"],[\"MAA DURGA IMITATION AND COSMETIC\"],[\"MAA PUSHPA MEDICAL\"],[\"MAHA LAXMI MEDICAL H\"],[\"MAHA PRABHU BHANDER\"],[\"MAHADAV GENERAL STOR\"],[\"MAHADEV KIRANAM\"],[\"MAHALAXMI MEDICAL ST\"],[\"MAHESHWAR MEDICAL HA\"],[\"MAHESWARI MEDICAL HALL\"],[\"MAJEED KIRANAM\"],[\"MALLI KARJUNA KIRANA\"],[\"MALLIKARJUNA MEDICAL\"],[\"MANAB JYOTI MED STORE\"],[\"MANIKANTA KIRANA GEN\"],[\"MANIKANTA KIRANAM\"],[\"MANJUNATHA FANCY\"],[\"MANJUNATHA MH\"],[\"MANKALA SUNDRAIAH GE\"],[\"MANOJWALA MH\"],[\"MARY MEDICAL (KIPHIRE)\"],[\"MATHA MEDICAL HALL\"],[\"MEDA FANCY GEN STO\"],[\"MEEKOSAM FANCY CON\"],[\"MISHRA PHARMACEUTICAL\"],[\"MITINJOY STORE\"],[\"MITTAL MEDICAL HALL\"],[\"MORR MEDICAL HALL\"],[\"MRITYUNJOY STORE\"],[\"MUVVELA VENKATESWARA\"],[\"NAGENDRA LEDIES EMPO\"],[\"NANDINI FANCY STORE\"],[\"NANDINI MEDICAL HAL\"],[\"NATHMAL KIRANAM\"],[\"NATRAJ KIRANAM GENE\"],[\"NAVA JYOTHI LEDIES E\"],[\"NAVARATHNA LEDIES EM\"],[\"NAVEEN KIRANAM GENRAL\"],[\"NEW GANESH KIRANA GE\"],[\"NEW KAMALA STORE\"],[\"NEW MAA TARA VARITY STORE\"],[\"NEW MALLESH MEDICAL HALL\"],[\"NEW MEDICINE STORE\"],[\"NEW STORES~\"],[\"NEW TEHAR KIRANAM\"],[\"NEW VASAVI KIRANA GE\"],[\"NEW VENKATA SAI MEDI\"],[\"NEW VENKATESHWARA KI\"],[\"NILADRI MEDICINE STORE\"],[\"NIRANJAN KUMAR DEY\"],[\"NIYAMAT MEDICAL HALL\"],[\"N~CHANDHRAIAH LADIE\"],[\"OM~SAI KM\"],[\"PADMA KIRANA GENERRA\"],[\"PADMAVATHI ENTERPISES ( FEELKHANA )\"],[\"PADMAVATHI TRADERS ( INDER BAGH)\"],[\"PARVATHI PARAMESHWAR\"],[\"PAVANA PUTRA KM\"],[\"PAYEL\"],[\"PHARMA STREET\"],[\"POLICE LINE CO OPERA\"],[\"PRABHAKAR KIRANAM\"],[\"PRABHU KIRNA STORE\"],[\"PRAKASH KIRANA STORE\"],[\"PRASURAM SYAMSUNDAR\"],[\"PROSAD CONFECTIONERY\"],[\"P~ VISWANATHAM GENAR\"],[\"P~RAJAIAH KIRANA GEN\"],[\"R S GUPTA\"],[\"RADHA GOBINDA AYURVEDIC\"],[\"RAJ IMITATION\"],[\"RAJ MEDICAL\"],[\"RAJ TRADER\"],[\"RAJA RAJESHWARA KM\"],[\"RAJARAJAASHWARA KIRA\"],[\"RAJESH MEDICAL STORE\"],[\"RAM KRISHNA VAR STOR\"],[\"RAMESH \\u003cVSK\\u003e KIRAN\"],[\"RAMESH KIRANA GENERA\"],[\"RANGA SAI FANCY\"],[\"RANGANAYAKA \\u003cRPL\\u003e M\"],[\"REBA STORE\"],[\"RESHMI IMITATION\"],[\"RIYA BENGAL\"],[\"ROHITH MEDICAL HALL\"],[\"R~D~MURTHY KIRANA ST\"],[\"R~VISHWANATHAM KIRAN\"],[\"S R M KM\"],[\"SABITRI MEDICINE\"],[\"SAI BALAJI KIRANA ST\"],[\"SAI BALAJI MEDICAL H\"],[\"SAI BHAVANI MEDICAL\"],[\"SAI FANCY GENERAL\"],[\"SAI GOURISHANKAR KIR\"],[\"SAI KIRANA GENERAL \"],[\"SAI KRUPA MEDICAL HA\"],[\"SAI LAXMI MED STORE(NANGA MAHAL)\"],[\"SAI RAM GENERAL STOR\"],[\"SAI RAM KIRANA STORE\"],[\"SAI SANTHOSH KIRANA\"],[\"SAI SRINIVASA KIRANA\"],[\"SAI VIJAYA MEDICAL H\"],[\"SANDEEP PAN STALL\"],[\"SANJIVANI MEDICAL HA\"],[\"SANTHOSH \\u003cSRKM\\u003e KIRA\"],[\"SANTHOSH KIRANA GENE\"],[\"SANTHOSH KIRANAM\"],[\"SAPTHAGIRI MEDICAL HALL\"],[\"SATHISH CONFECTIONAR\"],[\"SATHISH KIRANAM\"],[\"SATYA KM\"],[\"SATYA NARAYANA KIRAN\"],[\"SAYONAI\"],[\"SHAKTHI BANGEL\"],[\"SHANKER KIRANA STORE\"],[\"SHANTI MEDICINE STORE\"],[\"SHIVA GANESH MEDICAL HALL\"],[\"SHIVA MEDICAL HALL\"],[\"SHIVA SAI KIRANA GEN\"],[\"SHIVAMALLESHAM KIRAN\"],[\"SHIVANI MEDICAL HALL\"],[\"SHOBARANI KIRANAM\"],[\"SHYAMSUDDIN KIRANAM\"],[\"SIFA MEDICAL STORE\"],[\"SIRI SM\"],[\"SOHYAL DRUG\"],[\"SRAVANTHI KIRANA GEN\"],[\"SREE KIRANAM & GENERAL\"],[\"SREE SANJEEV MEDICAL\"],[\"SRI BALAJI BOOKS GEA\"],[\"SRI HANUMAN GENERAL\"],[\"SRI HARI CLINIC\"],[\"SRI KIRANA GENERAL \"],[\"SRI LAXMI KIRANAM\"],[\"SRI LAXMI KM\"],[\"SRI MAHESHWARI KIRAN\"],[\"SRI RAMA GENERAL STO\"],[\"SRI RAMA KIRANA GENE\"],[\"SRI RAMA SUPER MARKE\"],[\"SRI RINIVASA KM\"],[\"SRI SAI BALAJI KM\"],[\"SRI SAI MEDICAL HALL\"],[\"SRIDHAR FANCY STORE\"],[\"SRIDHAR KIRANAM\"],[\"SRINIDHI MEDICAL HAL\"],[\"SRINIVASA KIRANA STO\"],[\"SRINIVASA KIRNA STOR\"],[\"SRINIVASA KM SRI\"],[\"SUBHAM HEALTH CARE\"],[\"SUNIL TRADER\"],[\"SUPER KIRANA GENERAL\"],[\"SUPRIYA KIRANA GENER\"],[\"SURESH GENERAL STORE\"],[\"SURESH KIRANAM\"],[\"SURYA MH\"],[\"SURYANARAYANA KIRANA\"],[\"S~S MEDICAL HALL\"],[\"S~S~R~MEDICAL HALL\"],[\"S~V~SUPER MARKET\"],[\"TARALA MALLESHAM KIR\"],[\"TARINI MEDICINE STORE\"],[\"THAVAKAL KIRANAM\"],[\"THE DRUG HOUSE\"],[\"THE DRUG\"],[\"THE MEDICINE\"],[\"THIRUMALA GENERAL ST\"],[\"THIRUMALA SAI KIRANA\"],[\"THIRUPATHI LADIS EMPORIUM\"],[\"TIRUPATHI FANCY STOR\"],[\"T~MALLASHAM KIRANA G\"],[\"T~MURALII KIRANA GEN\"],[\"T~SANTHOSH KIRANA GE\"],[\"UJWAL MEDICAL HALL\"],[\"UMA MAHESHWARI KIRAN\"],[\"UMA MAHESWARI KIRANAM\"],[\"UMA MEHESHWAR MEDICA\"],[\"UNIK\"],[\"USHA MEDICAL HALL\"],[\"VAISHNAVI MATHA KIRA\"],[\"VANKATA SAI MEDICAL\"],[\"VANKATESHWARA KIRANA\"],[\"VASAVI KIRANA GENERA\"],[\"VASUNDARA LADIES EMP\"],[\"VEERA BHRADHA KIRANA\"],[\"VEERABHADRA CUT MIT\"],[\"VENKATESHWARA KIRANA\"],[\"VENU KIRANAM\"],[\"VIJATHA MEDICAL HALL\"],[\"VIJAYALAKSHIMI GENER\"],[\"VISHNAVI SM\"],[\"VISHNU FANCY STORE\"],[\"VISHNU GENERAL STORE\"],[\"V~ RAJAIAH KIRANAM\"],[\"V~B~RAMULU MEDICAL \"],[\"V~GALAIAH KIRANA GEN\"],[\"V~KISTAIAH KIRANA GE\"],[\"V~RAJESHAM GENERAL \"],[\"Y~RAMULU KIRANAM\"]],\"hovertemplate\":\"CLOSEST_CLUSTER_1=4\\u003cbr\\u003eAverage Bucket Value=%{x}\\u003cbr\\u003eTotal Sales Value=%{y}\\u003cbr\\u003eRetailer Name=%{customdata[0]}\\u003cextra\\u003e\\u003c\\u002fextra\\u003e\",\"legendgroup\":\"4\",\"marker\":{\"color\":\"#636efa\",\"symbol\":\"circle\"},\"mode\":\"markers\",\"name\":\"4\",\"showlegend\":true,\"x\":[5004.633333333333,4233.1375,35376.82571428571,6046.7555555555555,9095.275555555556,4871.62,6495.657142857142,4214.2080000000005,5037.586666666666,3841.1520000000005,103056.98857142856,3557.645,2846.713333333333,4533.555,4970.406666666667,4964.0599999999995,2950.1133333333332,5578.866666666667,2735.6857142857143,6041.88,6821.965714285715,7727.360000000001,6382.33,5128.425,5076.213333333333,5181.41,5502.102222222222,4642.071111111111,6910.2080000000005,6699.746666666667,5539.94,3293.937142857143,6893.954285714286,7951.679999999999,6400.88,4977.777777777777,5205.01,9605.66,5682.4914285714285,6366.593333333333,4869.488,5228.424999999999,96789.29333333333,5111.955,5833.405,5328.745,5925.06,8579.9,5625.235,6372.784000000001,4352.235,28881.829999999998,7163.6849999999995,3357.5533333333333,5855.9400000000005,6893.89,1828.8685714285714,4405.08,6118.034285714285,5538.2844444444445,6543.331428571429,7089.993333333333,6249.155,5250.92,3956.56,6344.419999999999,5405.39,6842.024,4714.685714285714,3826.5919999999996,11110.808,8776.0,178016.85,3280.0444444444447,6094.51,4810.064,7955.12,6000.568888888889,5176.05,3366.21,2228.7371428571428,4931.26,5287.46,5718.039999999999,5833.095,4133.291428571428,4205.195,6110.455,3127.7999999999997,6180.7733333333335,5449.22,4662.826666666667,6498.3550000000005,7757.3099999999995,5724.928,6287.626666666667,98704.15666666666,5381.41,6310.49,96828.28,5403.288888888888,5263.768888888889,16597.373333333333,5979.530000000001,6417.026666666667,5312.968,6128.66,5462.12,5082.63,5319.52,164438.755,3915.226666666667,7353.5542857142855,5165.851428571428,4843.845714285714,6544.44,13061.945,6322.782857142856,6293.714285714285,4878.2266666666665,65728.376,5368.246666666667,3355.35,4741.422857142857,5765.255999999999,6008.333333333333,4660.926666666667,5176.513333333333,7696.977777777778,2322.937142857143,6792.102857142857,4556.5257142857145,5670.032,5896.845714285714,6822.148571428572,3253.56,6128.406666666667,6673.565714285714,5114.264,5888.472,10719.503999999999,5036.360000000001,7565.0960000000005,6365.666666666667,5164.91,5749.775,8584.599999999999,6345.506666666667,4101.3279999999995,5239.428571428572,9151.422857142858,3269.7428571428572,4919.872,6822.71,2982.605,9202.85,5949.92,5252.371428571429,6687.965,6666.375,5259.946666666667,4284.88,6035.83,3301.1066666666666,6460.4,6541.536,4382.88,5501.373333333333,5039.835,5482.925,5969.8,5298.457777777778,159826.93333333332,2508.16,3214.5066666666667,8230.58285714286,57098.537142857145,5316.8099999999995,9818.56,2009.5714285714287,5282.625,4919.257777777778,6074.46,4558.0,4815.2,4853.31,4761.06,4809.994285714286,6017.435,8414.025000000001,4099.597142857143,5228.155,5975.72,7777.125714285714,5685.32,5120.88,6526.46,5499.548,3539.2000000000003,3235.715,9686.8,5104.63,4924.804444444444,4417.022857142857,184344.84000000003,146476.06285714285,5133.308,6121.688888888889,5383.902222222223,9183.274285714286,14522.1,6543.228571428571,5008.217142857143,4722.125,7055.053333333333,3880.4875,105147.90400000001,6161.4514285714295,5058.76,115749.15333333334,3869.68,124094.6,15716.78,5322.393333333333,5570.76,4387.023999999999,3071.0950000000003,4473.265,6552.63,7625.78,6240.64,3515.34,4553.280000000001,16460.896,4819.9,5775.135,6031.125,5578.594285714286,3969.528,5337.771428571429,6556.13,5260.325714285714,2366.7885714285717,5328.79,4811.055,5748.331428571429,4302.496,4386.535,5677.76,4781.28,5730.005,6938.668,4932.4400000000005,5208.771428571429,5339.199999999999,5330.015,6003.382857142858,5477.415,6552.400000000001,5596.71,4465.095,5531.262222222223,7641.042857142857,1816.4285714285713,4890.3822222222225,3592.468571428571,5225.95,5621.908571428571,4992.084,4521.55,6383.32,4461.92,5377.74,3813.4466666666667,6079.88,6718.129999999999,4782.6720000000005,4485.093333333334,6177.764444444444,7280.693333333333,5758.84,3931.066666666667,5084.028571428571,5994.96,5376.553333333333,6458.375,4039.505,5112.11,7641.856,6052.428571428572,4571.01,5675.177142857143,1829.965714285714,5386.262857142857,4932.245714285715,6284.984,4818.33,4620.754285714285,3202.2666666666664,77426.82,5608.291428571429,5406.0199999999995,5516.919999999999,5913.1900000000005,5037.028571428571,4246.18,6378.754285714285,6459.68,7221.714285714285,5627.8,3864.696,4603.4800000000005,7037.92,3578.04,3397.306666666667,104672.2,5073.93,4707.76,5143.313333333333,5147.145,5240.765714285714,4936.5142857142855,5483.068571428571,6470.62,5015.573333333333,5932.42,4345.98,3545.4666666666667,4637.67,5783.137142857143,5204.028571428571,4503.891428571428,5350.937142857144,5534.52,20618.85714285714,7068.985,5572.41,6928.192,3937.0,11152.015,8526.102222222222,5583.274285714286,6895.286666666667,5607.866666666667,6323.7266666666665,4097.548571428571,6645.193333333334,7721.920000000001],\"xaxis\":\"x\",\"y\":[30027.8,33865.1,247637.78,54420.8,81857.48,38972.96,45469.6,21071.04,45338.28,19205.760000000002,721398.9199999999,28461.16,17080.28,36268.44,29822.44,39712.479999999996,17700.68,50209.8,19149.8,54376.92,47753.76,23182.08,25529.32,41027.4,45685.92,41451.28,49518.92,41778.64,34551.04,40198.48,33239.64,23057.56,48257.68,15903.359999999999,32004.4,44800.0,41640.08,57633.96,39777.44,38199.56,24347.440000000002,41827.399999999994,871103.64,40895.64,46667.24,42629.96,35550.36,51479.4,45001.88,31863.920000000002,34817.88,115527.31999999999,57309.479999999996,20145.32,46847.520000000004,55151.12,12802.08,26430.48,42826.24,49844.56,45803.32,42539.96,49993.24,31505.52,27695.92,38066.52,43243.12,34210.12,33002.8,19132.96,55554.04,61432.0,2136202.2,29520.4,24378.04,24050.32,47730.72,54005.12,41408.4,26929.68,15601.16,19725.04,52874.6,28590.199999999997,46664.76,28933.039999999997,33641.56,48883.64,18766.8,55626.96,43593.76,27976.96,51986.840000000004,62058.479999999996,28624.64,37725.76,1184449.88,21525.64,25241.96,677797.96,48629.6,47373.92,99584.23999999999,47836.240000000005,57753.24,26564.84,36771.96,38234.84,40661.04,21278.08,1315510.04,23491.36,51474.88,36160.96,33906.92,39266.64,104495.56,44259.479999999996,44056.0,43904.04,328641.88,32209.48,26842.8,33189.96,28826.28,18025.0,27965.56,31059.08,69272.8,16260.560000000001,47544.72,31895.68,56700.32,41277.92,47755.04,3253.56,36770.44,46714.96,25571.32,29442.36,53597.52,20145.440000000002,37825.48,19097.0,20659.64,45998.2,17169.199999999997,19036.52,20506.64,36676.0,64059.96000000001,22888.2,24599.36,54581.68,23860.84,73622.8,41649.44,36766.6,53503.72,53331.0,31559.68,29994.16,48286.64,19806.64,51683.2,32707.68,35063.04,33008.24,40318.68,43863.4,23879.2,47686.12,1917923.2,20065.28,19287.04,57614.08000000001,399689.76,42534.479999999996,78548.48,14067.0,42261.0,44273.32,48595.68,22790.0,38521.6,38826.48,38088.48,33669.96,48139.48,67312.20000000001,28697.18,41825.24,29878.600000000002,54439.88,17055.96,25604.4,52211.68,54995.479999999996,21235.2,25885.72,19373.6,40837.04,44323.24,30919.16,1290413.8800000001,1025332.44,51333.08,55095.2,48455.12,64282.92,58088.4,45802.6,35057.52,37777.0,21165.16,31043.9,525739.52,43130.16,35411.32,694494.92,30957.44,620473.0,31433.56,31934.36,27853.800000000003,21935.12,24568.760000000002,35786.12,52421.04,61006.24,49925.12,28122.72,40979.520000000004,164608.96,38559.2,46201.08,48249.0,39050.16,19847.64,37364.4,52449.04,36822.28,16567.52,42630.32,38488.44,40238.32,21512.48,35092.28,39744.32,33468.96,45840.04,69386.68,34527.08,36461.4,37374.399999999994,42640.12,42023.68,43819.32,39314.4,44773.68,35720.76,49781.36,53487.3,12715.0,44013.44,25147.28,41807.6,39353.36,49920.84,36172.4,38299.92,22309.6,43021.92,22880.68,36479.28,26872.519999999997,23913.36,40365.840000000004,55599.88,21842.079999999998,23035.36,23586.4,35588.2,35969.76,32259.32,51667.0,32316.04,40896.88,38209.28,42367.0,36568.08,39726.24,12809.759999999998,37703.84,34525.72,62849.840000000004,38546.64,32345.28,19213.6,619414.56,39258.04,43248.159999999996,33101.52,47305.520000000004,35259.2,33969.44,44651.28,45217.76,50552.0,45022.4,19323.48,23017.4,14075.84,25046.28,20383.84,628033.2,40591.44,37662.08,30859.879999999997,41177.16,36685.36,34555.6,38381.479999999996,38823.72,45140.159999999996,47459.36,34767.84,21272.8,37101.36,40481.96,36428.2,31527.239999999998,37456.560000000005,44276.16,144332.0,56551.88,22289.64,34640.96,35433.0,89216.12,76734.92,39082.92,41371.72,50470.8,37942.36,28682.84,39871.16,23165.760000000002],\"yaxis\":\"y\",\"type\":\"scattergl\"},{\"customdata\":[[\"AADINATH COSMETIC\"],[\"AAKASH ENTERPRISE\"],[\"AB TRADER\"],[\"ABDUL MAJEED SHAH\"],[\"ABHISEK MEDICAL HALL\"],[\"ABILASH MEDICAL HALL\"],[\"ACHUTA MEDICAL~\"],[\"AGRA KIRANAM\"],[\"AKIF ZEHGEER\"],[\"AKMALIA TRADER\"],[\"AKRAM KIRANAM\"],[\"AL BARAHAQ\"],[\"ALTAF PROV STORE\"],[\"AMAR KIRANA\"],[\"AMBE ENTERPRISE\"],[\"AMBICA DISTRIBUTOR\"],[\"AMBICA TRADER\"],[\"AMIN CO\"],[\"ANAND GENERAL STORE\"],[\"ANAND MEDICAL\"],[\"ARATI STORE\"],[\"ARATI STORE\"],[\"ARIHANT DISTRIBUTOR\"],[\"ARPAN SUPPLIER\"],[\"ARUNAPROL STORE\"],[\"AYURVEDA MEDICINE CENTRE\"],[\"AZZEEZIA MEDICAL\"],[\"B M HOSIERY\"],[\"BABUL DA\"],[\"BADRI MEDICAL HALL\"],[\"BAJEPROTAPPUR MEDICAL (UNIT=2)\"],[\"BALAJI COSMETIC\"],[\"BALAJI KIRANA STORE\"],[\"BALAJI KIRANAM\"],[\"BANERJEE SUPERMARKET PRIVATE LIMITED\"],[\"BANU GENERAL STORE\"],[\"BARDHAMAN THANA CO~O\"],[\"BEAUTY 2\"],[\"BEIGH PROV STORE\"],[\"BHAGYA LAXMI GENERAL\"],[\"BHARATH TRADER\"],[\"BHAT GEN STORE\"],[\"BHAVANI ENTERPRISE\"],[\"BHAVANI KIRANAM\"],[\"BHOKARE GOLI BHANDAR\"],[\"BIJAY KUMAR SAH\"],[\"BILAL AHMAD AHANGER\"],[\"BILAL AHMAD MIR\"],[\"BILAL AHMED BEIGH\"],[\"BINAPANI MEDICAL HAL\"],[\"BURDWAN SURGICAL HOUSE\"],[\"B~ SREENIVASULU GENE\"],[\"B~RAMESH\"],[\"CARE PLUS PHARMA\"],[\"CHAMANA KIRANAM\"],[\"CHANDA MEDICAL HALL\"],[\"CHANDRASEKHAR GENERA\"],[\"CHOUDHRY GENERAL STO\"],[\"CHOUDHURY GROUP\"],[\"CITY TOP\"],[\"DANISH MEDICATE\"],[\"DARA SHOPING MALL\"],[\"DASH PHARMACEUTICAL AGENCIE\"],[\"DAVI GENERAL STORE\"],[\"DEY'S DRUG DISTRIBUTOR\"],[\"DEY'S MEDICAL STORE\"],[\"DHANALAKSHMI PROVISI\"],[\"DHANALASHMI GENERAL\"],[\"DULAL PAKRASI\"],[\"DURGA GENERAL STORE\"],[\"DWARAKANATH GENERAL\"],[\"ESHWAR COMPANY\"],[\"FAROOQ ENTERPRISE\"],[\"FASHION SECRET\"],[\"FUTURE WIZ ADVERTISING PVT LTD\"],[\"G S MART\"],[\"GANESH MEDICAL HALL\"],[\"GANESH TRADE\"],[\"GAWANDE KIRANA\"],[\"GIRIJA KIRANA GENERA\"],[\"GODAWARI MEDICAL\"],[\"GOEL TARADER\"],[\"GOKUL GENERAL\"],[\"GOODHELTH MEDICAL\"],[\"GOODLUCK AGENCIE\"],[\"GOPAL MARKETING\"],[\"GOUR GOPAL BHANDER\"],[\"GRAND FASHION\"],[\"GUJRAT GENERAL STORE\"],[\"GULL ADIL\"],[\"GUPTA AGENCY\"],[\"G~HANUMANTHAIAH GENE\"],[\"HAMPESWARA GENERAL \"],[\"HANUMAN AGENCIE\"],[\"HANUMAN KIRANA\"],[\"HANUMAN PROVISION\"],[\"HARI BANSA\"],[\"HARI HARA KM\"],[\"HARI HARA STORE\"],[\"HARIBANSA DUTTA & SON\"],[\"HARIBANSHA\"],[\"HARIBANSHA DUTTA & SON\"],[\"HARIBANSHA DUTTA \"],[\"HARSIL DRUG\"],[\"HASHAM SON\"],[\"HYDERABAD BEAUTY CEN\"],[\"IQBAL GEN STORE\"],[\"IRSHAD MEDICATE\"],[\"JALARAM KIRANAM\"],[\"JAYA SRI SUPER MARKET\"],[\"JAYALAKSHMI FANCY ST\"],[\"JHUM GROCERY\"],[\"JULLAWAR KIRANA\"],[\"JYOTHI GENERAL STORE\"],[\"KAMALA PHARMACY\"],[\"KANAILAL SHAW\"],[\"KANAKARAJU GENERAL \"],[\"KGN MEDICAL\"],[\"KIRTI EMPORIYAM\"],[\"KRISHNA MEDICAL HALL\"],[\"KRISHNA SAI (KSKM) K\"],[\"KRUPAKAR MEDICAL\"],[\"KULDEVI MARKETING\"],[\"K~ RANGANAYA KULU GE\"],[\"K~ SUDHAKAR GENERAL\"],[\"K~G~N~PAN GENERAL ST\"],[\"LAKSHMIRANGA GENERAL\"],[\"LAXMI SUGAND CENTER\"],[\"LINGESHWARA KIRANAM\"],[\"LOKENATH PHARMACUTICAL\"],[\"LOKNATH BHANDER\"],[\"LOKNATH DRUG\"],[\"M M SHEIKH PROV STOR\"],[\"M ZONE SUPER MARKET\"],[\"M\\u002fS NAYEK DRUG AGENCY\"],[\"M\\u002fS PAUL SURGICAL\"],[\"MA SARADA PHARMACY\"],[\"MA SARADA STORE\"],[\"MAA MEDICAL\"],[\"MAA MEDICAL HALL\"],[\"MAA PODUMONI PHARMA\"],[\"MAA TARA DRUG\"],[\"MADHURI FANCY\"],[\"MAFUZA PHARMACEUTICAL\"],[\"MAHANANDA ENTERPRISE\"],[\"MAHESH MEDICAL HALL\"],[\"MAHESHPROL GENERAL \"],[\"MALANCHA\"],[\"MANAI\"],[\"MANIKANTA GENERAL ST\"],[\"MANIKANTA MEDICAL HA\"],[\"MANJU DRUG\"],[\"MANUJUNATHA MEDICAL\"],[\"MARUTHI GENERAL STOR\"],[\"MARUTHI MEDICAL\"],[\"MATHA TRADER\"],[\"MATRI BHANDER\"],[\"MATRIKAS CORPORATION\"],[\"MEE CARE PHARMACY\"],[\"MOHAN COSMETIC\"],[\"MUKHERJEE GENERAL STORE\"],[\"MURALI MEDICAL HALL\"],[\"MURALIDHAR KIRANAM\"],[\"MUSHTAQ BEAUTY\"],[\"M~D~PRASAD\"],[\"M~KONDAIAH GENERAL \"],[\"M~PREMRAJ GENERAL ST\"],[\"N CH SUBBARAO GENERA\"],[\"NAGARI PANDUSA STORE\"],[\"NAGARI RAJANSA STORE\"],[\"NARAYAN BHANDER\"],[\"NEW ASHIRBAD DRUG HOUSE\"],[\"NEW AZAD MEDICAL\"],[\"NEW MALIKARJUNA KIRA\"],[\"NEW MATRI STORE\"],[\"NEW RAKAMARI STORE\"],[\"NEW ROY BROTHER\"],[\"NIGAR MEDICAL HALL\"],[\"NIZAM MEDICAL HALL\"],[\"NONIGOPAL MEDICAL\"],[\"NSR FANCY\"],[\"OM PRAKASH KIRANAM\"],[\"OM SHIVA GENREAL STO\"],[\"PADMA AGENCIE\"],[\"PADMAVATHI GENERAL \"],[\"PADMAVATHI TRADER\"],[\"PANKAJ COSMETIC\"],[\"PARAMESHWARCOSMETIC\"],[\"PARAMESHWARE GENERAL\"],[\"PAREEK ENTERPRISE\"],[\"PARIS PERFUME WORLD\"],[\"PAUL PHARMACY\"],[\"PAVAN ENTERPRISE\"],[\"PAVAN GENERAL STORE\"],[\"PAVAN LADIES CORNER\"],[\"PAVAN SWEET\"],[\"PINKI PATANJALI\"],[\"POOJA COSMETIC\"],[\"POOJA FANCY STORE\"],[\"PRABHA MEDICAL\"],[\"PRAGATI ENTERPRISE\"],[\"PRAHALLAD PRASAD\"],[\"PRAKASH AGENCIE\"],[\"PRAKASH STORE\"],[\"PRATHIK COSMITIC\"],[\"PREETAM COSMETIC\"],[\"PREM AGENCY\"],[\"PRINCE MEDICATE\"],[\"PRIYANKA COSMETIC\"],[\"PROTIMA STORE\"],[\"P~ DUTTA~\"],[\"P~ NAGABHUISHANAM GE\"],[\"P~JOGAL KISHORE KIRA\"],[\"QUICK CARE\"],[\"RADHAKRISHNA GENERAL\"],[\"RADIKA DRUGS N DISTRIBUTER\"],[\"RAGAVENDRA SWAMY GEN\"],[\"RAGHAVENDRA FANCY ST\"],[\"RAGHU TRADE\"],[\"RAJ & RAJ SURGICAL HOUSE\"],[\"RAJ GENERAL\"],[\"RAJARAM KIRANA\"],[\"RAJASTAN CUTLURY MAR\"],[\"RAKESH AND COMPANY\"],[\"RAMA KRISHNA GENERAL\"],[\"RAMANA GENERAL STORE\"],[\"RAMESH TRADER\"],[\"RAMKRISHNA MEDICO\"],[\"RANGA RAO KIRANAM\"],[\"RANGAPAN GENERAL STO\"],[\"RANGHAR DRUG\"],[\"RATNARAJ TRADING\"],[\"RAYEES ENTERPRISE\"],[\"REKHA ENTERPRISE\"],[\"RELIEF SURGICAL ONE\"],[\"RIMA MEDICAL\"],[\"ROHITH COSMETIC\"],[\"ROSHAN KIRANAM\"],[\"ROYAL MEDICAL STORE\"],[\"RUKMANI\"],[\"RUSHAB AGENCIE\"],[\"R~BHANDARI\"],[\"R~M~GENERAL STORE\"],[\"R~M~S~ DRUG\"],[\"R~NARAYANASETTY GENE\"],[\"R~N~BHANDER\"],[\"R~S~ENTERPRISE\"],[\"R~S~PHARMACEUTICAL\"],[\"SADHANA AUSHADHALAYA\"],[\"SAHEB MART\"],[\"SAI RAM MEDICAL\"],[\"SAI SRINIVASA MEDICA\"],[\"SAIKRISHNA MEDICAL H\"],[\"SALEEM KIRANAM\"],[\"SAMIR DUTTA~\"],[\"SANDEEP TRADER\"],[\"SANGEETHA MEDICAL ST\"],[\"SANJAY KIRANA\"],[\"SANJAY KIRANA STORE\"],[\"SANTOSH GENERAL STOR\"],[\"SARADA PHARMACY~\"],[\"SASHI MEDICAL\"],[\"SATGURU MEDICAL\"],[\"SATYA NARAYAN STORE\"],[\"SATYA SAI MEDICAL\"],[\"SATYANARAYAN MEDICAL\"],[\"SATYASA MEDICAL HALL\"],[\"SHAHI MEDICAL HALL\"],[\"SHAIK BABU KIRANAM\"],[\"SHANMUGA GENERAL STO\"],[\"SHASHI MEDICAL HALL\"],[\"SHIKA TRADER\"],[\"SHIKWAL COSMETIC\"],[\"SHIVAJI DRUG\"],[\"SHIVASHANKAR GENERAL\"],[\"SHREE GANESH ENTERPRISE\"],[\"SHREE GANESH MEDICAL HALL\"],[\"SHREE STORE\"],[\"SHRIDI SAI GENERAL \"],[\"SINHA DRUG ENTERPRISE\"],[\"SIVA MEDICAL HALL\"],[\"SOVA STORE\"],[\"SREE BALAJI GENERAL\"],[\"SREE MAHADEV G S (FE\"],[\"SREENIDHI LADIES COR\"],[\"SREENIVASA GENERAL \"],[\"SREESAILA MEDICAL HA\"],[\"SREEVENKATESWARA PRO\"],[\"SRI KRISHAN MEDICAL\"],[\"SRI MARUTHI PROVISIO\"],[\"SRI PADMAVATHI MEDIC\"],[\"SRI RAMA TRADER\"],[\"SRI SAROJ AGENCY\"],[\"SRI SHIVASANKAR MEDI\"],[\"SRI SHYAM GENERAL STORE\"],[\"SRI VENKATARAGHAVEND\"],[\"SRI VENKATESWARA GEN\"],[\"SRIKANTH FANCY GEN\"],[\"SUDHA MEDICAL HALL\"],[\"SUHAIL AHMED\"],[\"SUKANTA SUPPLIER\"],[\"SUMAN DRUG\"],[\"SURENDER AGENCIE\"],[\"SURESH MEDICAL HALL\"],[\"SURESH NILAWAR KIRAN\"],[\"SUVIDHA SUPER MARKET\"],[\"SWASTIVIVA\"],[\"SWEFT DEPT~ STORE\"],[\"S~ HANUMATHAIAH GENE\"],[\"S~L~V~ENTERPRISES GE\"],[\"S~V~S LADIES CORNER\"],[\"TABINDA GEN STORE\"],[\"THE MEDICINE HOUSE\"],[\"THE UNITED MEDICINE & SURGICAL\"],[\"THIRUMALA MEDICAL ST\"],[\"TIRUMALA MEDICAL\"],[\"TRI NATH DRUG\"],[\"TRINATH AYURVEDIC AUSHADHALAYA\"],[\"TRUSTED MEDICATE\"],[\"UMA GENERAL STORE\"],[\"UMA MEDICAL\"],[\"VAIKUNTHA PHARMA\"],[\"VAISHNAVI GENERAL ST\"],[\"VARASIDDIVINAYAKA GE\"],[\"VARDHAMAN BEAUTY COL\"],[\"VASVAVI GENERAL STOR\"],[\"VAYNKATESH MEDICAL\"],[\"VEERABHADRA GENERAL\"],[\"VENKAT RAJAM KIRANAM\"],[\"VENKATA SAI KIRANAM\"],[\"VENKATESHWAR KIRANAM\"],[\"VENKATESWARLU GENERA\"],[\"VENU KIRANA\"],[\"VENUGOPAL MEDICAL HA\"],[\"VIJAYALAKSHMI FANCY\"],[\"VIJAYESWARI FANCY\"],[\"VIJAYESWARI GENERAL\"],[\"VINAYAKA TRADER\"],[\"VISWANATH PROVISION\"],[\"VITAL PRASANNA KIRAN\"],[\"V~B RAVIKUMAR KIRANA\"],[\"V~B~R GENERAL STORE\"],[\"V~B~R SONS KIRANAM\"],[\"YAIM KIRANAM\"],[\"YOUSUF MEDICATE\"]],\"hovertemplate\":\"CLOSEST_CLUSTER_1=1\\u003cbr\\u003eAverage Bucket Value=%{x}\\u003cbr\\u003eTotal Sales Value=%{y}\\u003cbr\\u003eRetailer Name=%{customdata[0]}\\u003cextra\\u003e\\u003c\\u002fextra\\u003e\",\"legendgroup\":\"1\",\"marker\":{\"color\":\"#EF553B\",\"symbol\":\"circle\"},\"mode\":\"markers\",\"name\":\"1\",\"showlegend\":true,\"x\":[205491.85176470588,99600.004,83102.36,12818.029999999999,21708.48,3229.4775,5705.837777777778,5223.144,20965.967500000002,24784.866666666665,4918.888888888889,2416.266666666667,4114.496666666667,7089.207058823529,195880.13333333333,213667.18,166208.61466666666,6551.34,3939.341333333333,5288.0650000000005,2648.96,62848.31083333333,48916.44,18976.503999999997,4488.609333333333,12026.744,12020.006153846152,12344.370666666666,3860.1085714285714,6237.804210526316,2977.2676923076924,167390.7808695652,6557.418461538462,5448.608,3224.3450000000003,3447.83,3378.9485714285715,5713.444444444445,14808.863999999998,282156.51684210525,138817.6,2772.0400000000004,272647.3626666667,4893.768571428572,3436.9538461538464,16933.48,15771.7,12862.99,4414.523999999999,9363.182,17601.494545454545,3625.3766666666666,4146.163076923077,7320.32,5781.903333333333,3413.816,3784.205,338460.7387096774,7190.496190476191,4100.8953846153845,6215.104,11054.501818181818,36143.380000000005,176440.14105263157,28527.800000000003,46402.96,3266.1936,3392.855,3384.661666666667,3321.5051851851854,3628.9733333333334,446058.55727272725,25032.325,3387.6186666666667,18531.74,3692.308,5390.343703703704,3608.7615384615387,4439.005714285714,11573.04,3307.6228571428574,259521.2325925926,5653.441333333333,8975.266666666666,14979.05666666667,149678.756,6750.373333333333,7920.452,217791.872,22014.88923076923,66228.33263157895,3637.555,8328.492307692308,145403.7288888889,23318.44,3805.7433333333333,4457.478260869565,5426.07,215178.368,3545.472222222222,8080.397551020408,3375.961111111111,7301.4592,17289.719999999998,287219.1213333334,104760.23999999999,4722.077142857143,3668.773333333333,5974.071111111111,30990.088,19658.053333333333,8325.376363636364,193172.72727272726,165498.24857142856,3899.156,4433.164444444444,3367.0917647058823,3402.6685714285713,3628.425,8846.683333333332,24268.38,4143.428888888889,77823.37,3683.8706666666667,3740.9111111111106,3890.7742857142853,3315.4188235294114,3636.9033333333336,5749.577777777778,8395.864444444444,2518.248,31631.28,4791.776,10121.762666666667,7472.516363636364,4333.502222222222,12639.37,2855.7927272727275,8640.14,3607.816666666666,9772.448,69141.38666666667,3973.936,93424.31999999999,33498.86666666667,4267.2519999999995,3589.0533333333333,4373.828888888889,161201.0553846154,3520.434285714285,4416.04,4992.4,5242.090666666667,3523.8278787878785,8271.966153846153,5448.351578947368,3336.9013333333337,451235.286,8516.084444444445,274278.9914285714,2616.2571428571428,4747.995,6124.606666666667,3884.0166666666664,5473.280000000001,3807.5946666666664,3693.74,188347.62933333332,146194.79157894736,258719.16444444444,4159.84,3884.156,7751.586666666666,4729.9800000000005,5735.721818181818,16684.916666666668,5531.876363636364,3259.3529411764707,3791.5075,4520.448888888889,18528.182857142856,5993.244000000001,187495.45,129324.57142857143,3847.0266666666666,110992.91733333333,218181.3633333333,294548.51333333337,3452.3777777777777,11752.380606060606,152289.664,8585.848,326530.61677419354,2781.2983783783784,5272.327272727272,197533.49538461538,39989.24,617249.4068965517,5580.37,6239.872,96122.90181818181,8389.493333333334,375269.7485714286,12228.916,160722.356,370615.89023255813,162600.00666666668,3702.7927272727275,398544.66285714286,15581.52411764706,13425.210000000001,24193.299999999996,5172.276666666667,4744.6213333333335,3913.5542857142855,30706.72,3153.908888888889,6826.516666666666,45940.36,9994.675294117647,233108.30307692307,23803.5,123354.31333333332,193045.15652173912,3738.4314285714286,3613.8942857142856,472725.772,6562.454117647059,4976.388,3664.6933333333336,41022.64,162705.19,3676.8399999999997,168980.74285714285,21289.513333333332,6114.49,140655.03999999998,5021.044,5228.031111111111,31071.4,152068.676,105057.29333333333,248922.07515151514,11892.800000000001,4023.4599999999996,4468.783333333334,231347.93904761903,111951.90000000001,31431.071999999996,12937.583999999999,5591.536,3569.9873684210525,4715.567741935484,5130.693333333334,4734.2699999999995,142465.70133333333,5443.916666666667,3792.458181818182,18967.221818181817,121811.59999999999,55473.32666666667,3471.5226666666663,6029.178181818183,3514.22,3756.728695652174,5293.299999999999,3704.0492307692307,5360.794,6225.952,3706.5685714285714,5491.477647058823,264178.4061538461,88922.70000000001,60545.759999999995,3666.7599999999998,4870.148,8562.039999999999,502088.2967441861,3286.5133333333333,6910.938666666667,8555.806153846155,9239.886666666667,3788.8981818181815,211468.9546666667,10535.743333333334,3608.7952,3653.8914285714286,3717.3226666666665,3706.6471428571426,3286.4075,3511.02,3685.194285714286,187610.1417142857,4117.268571428572,163325.0511111111,3805.3971428571426,3761.74,89397.10181818182,4606.504615384615,32390.424,46289.48666666667,6968.61,147171.94476190474,6072.1578947368425,3436.1057142857144,21421.821333333333,34885.68,5695.377777777778,3464.6657142857143,24186.78,3369.1636363636367,4554.837894736842,2254.12,4053.2533333333336,6465.885714285714,27175.626666666667,5510.29,25099.739999999998,2910.2038095238095,199759.96615384615,3549.4466666666667,36604.520000000004,3897.015,4843.881333333334,99753.512,3663.8484210526312,5166.79,3601.0457142857144,5598.1466666666665,6378.59,5425.056,4144.046666666666,5265.104,5437.568888888888,12447.627692307693,3844.949090909091,3521.1093333333333,269677.2182857143,3534.071111111111,5204.435555555556,6103.16,6295.3099999999995,5255.826666666667,5177.18,4280.400000000001],\"xaxis\":\"x\",\"y\":[3493361.48,996000.04,249307.08000000002,153816.36,43416.96,51671.64,102705.08,52231.44,335455.48000000004,371773.0,44270.0,36244.0,148121.88,120516.52,2938202.0,427334.36,2493129.2199999997,26205.36,59090.119999999995,84609.04000000001,18542.72,1508359.46,48916.44,94882.51999999999,134658.28,180401.16,156260.08,185165.56,54041.52,118518.28,38704.48,3849987.96,170492.88,54486.08,64486.9,55165.28,47305.28,51421.00000000001,148088.63999999998,10721947.64,1943446.4,60984.880000000005,4089710.44,68512.76000000001,44680.4,33866.96,63086.8,51451.96,44145.24,187263.64,193616.44,43504.52,53900.119999999995,117125.12,69382.84,34138.159999999996,60547.28,10492282.9,302000.84,53311.64,93226.56,121599.52,72286.76000000001,3352362.68,28527.800000000003,139208.88,81654.84,54285.68,40615.94,89680.64,43547.68,19626576.52,400517.2,50814.28,37063.48,36923.08,145539.28,93827.8,62146.08,46292.16,46306.72,7007073.28,169603.24,26925.8,179748.68000000002,2993575.1199999996,60753.36,79204.52,3266878.08,286193.56,1258338.32,58200.88,108270.4,1308633.56,46636.88,45668.92,102522.0,65112.84,3227675.52,63818.5,395939.48,60767.3,182536.48,51869.159999999996,8616573.64,628561.44,66109.08,55031.6,53766.64,619801.76,353844.96,91579.14,2124900.0,2316975.48,38991.56,39898.479999999996,57240.56,47637.36,58054.8,106160.2,48536.76,74581.72,933880.44,110516.12,67336.4,54470.84,56362.119999999995,43642.840000000004,51746.2,151125.56,37773.72,126525.12,47917.759999999995,151826.44,82197.68000000001,39001.520000000004,75836.22,31413.72,17280.28,43293.799999999996,48862.240000000005,207424.16,59609.04,186848.63999999998,100496.6,42672.52,43068.64,78728.92,2095613.7200000002,49286.079999999994,75072.68,49924.0,78631.36,116286.31999999999,107535.56,103518.68,100107.04000000001,18049411.44,153289.52,7679811.76,36627.6,113951.88,73495.28,46608.2,54732.8,57113.92,66487.31999999999,2825214.44,2777701.04,4656944.96,45758.24,38841.56,23254.76,47299.8,63092.939999999995,200219.0,60850.64,55409.0,60664.12,40684.04,259394.56,59932.44,3749909.0,1810544.0,46164.32,1664893.76,5236352.72,7069164.32,62142.799999999996,387828.56,3807241.6,42929.24,10122449.12,102908.04,57995.6,2567935.44,359903.16,35800465.6,66964.44,31199.36,1057351.92,25168.480000000003,15761329.44,122289.15999999999,2410835.34,15936483.28,975600.04,40730.72,16738875.84,529771.8200000001,53700.840000000004,48386.59999999999,62067.32,71169.32,54789.759999999995,61413.44,56770.36,81918.2,45940.36,169909.48,6060815.88,47607.0,1850314.7,4440038.6,52338.04,50594.52,14181773.16,111561.72,49763.88,54970.4,82045.28,1952462.28,33091.56,2365730.4,383211.24,24457.96,2953755.84,50210.44,47052.28,31071.4,2281030.14,630343.76,8214428.4799999995,202177.6,48281.52,53625.4,4858306.72,223903.80000000002,314310.72,258751.68,27957.68,67829.76,146182.6,46176.240000000005,47342.7,2136985.52,65327.0,41717.04,208639.44,1705362.4,665679.92,52072.84,66320.96,35142.2,86404.76,95279.4,48152.64,107215.88,31129.760000000002,51891.96,93355.12,6868638.56,355690.80000000005,121091.51999999999,55001.399999999994,48701.48,77058.35999999999,21589796.76,59157.24,103664.08,111225.48000000001,110878.64,41677.88,3172034.3200000003,126428.92,90219.88,51154.48,55759.84,103786.12,52582.52,56176.32,51592.72,6566354.96,57641.76,1469925.46,53275.56,45140.88,983368.12,59884.56,161952.12,138868.46000000002,27874.44,3090610.84,115371.0,48105.48,321327.32,34885.68,51258.4,48505.32,48373.56,74121.6,86541.92,31557.68,48639.04,90522.4,407634.4,22041.16,50199.479999999996,61114.28,5193759.12,42593.36,36604.520000000004,62352.24,145316.44,1496302.68,69613.12,82668.64,50414.64,50383.32,25514.36,54250.56,49728.56,52651.04,97876.23999999999,161819.16,42294.44,52816.64,9438702.64,63613.28,46839.92,24412.64,25181.239999999998,63069.92,51771.8,51364.8],\"yaxis\":\"y\",\"type\":\"scattergl\"},{\"customdata\":[[\"AADITYA KIRANA\"],[\"AAINATH PROVISION\"],[\"ABBAS BROTHER\"],[\"ABRAR PHARMACY\"],[\"AB~ AHAD SON\"],[\"ADITHYA MEDICAL\"],[\"AITHA SUBBAIAH GENER\"],[\"AL~AMIN UNANI AYURVE\"],[\"AL~HAMZA DEPT~STORE\"],[\"AL~SHABIR MEDICATE\"],[\"AMAN DRUG HOUSE\"],[\"AMBICA FANCY\"],[\"AMBICA KIRANA GENERA\"],[\"AMBIKA PROVISION\"],[\"AMOL TRADER\"],[\"AMULYA KIRANAM\"],[\"ANANDAMOYEE ENTERPRISE\"],[\"ANANTHA SAI MEDICAL\"],[\"ANIL MEDICAL\"],[\"ANJALI MEDICAL\"],[\"ANKULE PROVISION\"],[\"ANNA VENKATESWAR KIR\"],[\"ANNAPURNA MEDICAL STORE\"],[\"ANNAPURNA MEDICINE STORE\"],[\"ANNAPURNA STORES~\"],[\"ANOL KIRANA\"],[\"ANU MEDICALSTORE\"],[\"ANUSUYA PHARMACEUTICAL\"],[\"APPASWAMI MEDICAL\"],[\"ARATI DISTRIBUTOR\"],[\"AROGYA MEDICAL STORE\"],[\"ARSHI NEVER END\"],[\"ARVIND MEDICAL STORE\"],[\"ASBA ASSOCIATE\"],[\"ASHIRBAD MEDICINE STORE\"],[\"ASHIRWAD PROVISION\"],[\"ASHOK KIRANA\"],[\"ASLAM KIRANAM\"],[\"AVINASH KIRANA\"],[\"AYEMI MEDICAL\"],[\"BAJARANGI PHARMACEUTICAL AGENCY\"],[\"BALAJI KIRANA GEN\"],[\"BALAJI MEDICAL\"],[\"BALAJI PROVISION STO\"],[\"BALALJI KIRANA\"],[\"BALUNKESWAR MEDICAL STORE\"],[\"BARE KIRANA\"],[\"BARSHA MEDICAL STORE\"],[\"BASANTI MEDICINE STORE\"],[\"BASHIR AHMED BALLA\"],[\"BASHIR PROV STORE\"],[\"BEAUTY STORE\"],[\"BENGAL MEDICAL HALL\"],[\"BHANDARI KIRANA\"],[\"BHARABI MEDICLA STORE\"],[\"BHAT PROV~ STORE I\"],[\"BHAT TRADITIONAL\"],[\"BHURAJI MEDICAL\"],[\"BHUSAN BARMAN\"],[\"BILAL COSMATIC\"],[\"BILAL GEN STORE\"],[\"BIVASH MEDICAL\"],[\"BOMBAY FANCY STORE\"],[\"BOOMERANG DEPT~STORE\"],[\"BRAMARAMBIKA MEDICAL\"],[\"CH RAMBABU FANCY G\"],[\"CH SRINIVASA KIRANA\"],[\"CHAKA RAMA LINGAIAH\"],[\"CHAKADOLA MED~ STORE\"],[\"CHANDOLU MALLIKARJUN\"],[\"CHANDRA MOULI KIRANA\"],[\"CHANDU MEDICAL STORE\"],[\"CHINAR PROV STORE\"],[\"CHINTAMANI MEDICAL STORE\"],[\"CHOUDHRY MEDICAL STORE\"],[\"CHUMKI PHARMACY\"],[\"CUTE KEMP\"],[\"D V MOHANA RAO KIRAN\"],[\"DARZI PROV STORE\"],[\"DATTA FANCY GENERA\"],[\"DEBAMATA MEDICAL & GEN STORE\"],[\"DEBNATH MEDICAL\"],[\"DEEPA FANCY STORE\"],[\"DEEPAK MEDICAL\"],[\"DHARA SUPER MART\"],[\"DILEEP KIRANAM\"],[\"DIVYA MEDICAL\"],[\"DOGIPARTHI SURYANARA\"],[\"DURGA KIRANA\"],[\"DUTTA BROTHER\"],[\"ELAHI BHANDER\"],[\"FAZILI MEDICATE\"],[\"FIROZ KIRANA\"],[\"G VENKATESWARLU KIRA\"],[\"GAJANAN MEDICAL\"],[\"GAJANAND PROVISION\"],[\"GANGAPRASAD KIRANA\"],[\"GAURI GENRAL\"],[\"GAYATHRI MEDICAL\"],[\"GELLI RAVI GENERAL\"],[\"GIRISH PROVISION\"],[\"GIRISH TRADER\"],[\"GOOD HEALTH MEDICAL\"],[\"GOPI GENERAL STORE\"],[\"GOPIKRISHNA GENERAL\"],[\"GOURIPRASAD MEDICAL STORE\"],[\"GOVINDRAJ TRADER\"],[\"GRACE MEDICO\"],[\"GRANDI SILA VENKATE\"],[\"GUDU MEDICAL STORE\"],[\"GUPTA STORE\"],[\"GURUKRUPA MEDECAL\"],[\"HANUMAN FANCY STORE\"],[\"HANUMAN KIRANA GEN\"],[\"HANUMAN MEDICAL\"],[\"HARI MEDICAL\"],[\"HARIOM MEDICAL STORE\"],[\"HEMA MEDICAL\"],[\"HIRANMAYEE MEDICO\"],[\"HMV MEDICAL\"],[\"IMRAN ENTERPRISE\"],[\"ISLAM MEDICAL\"],[\"I~H~GHANI\"],[\"JAGA KALIA MEDICAL & GEN STORE\"],[\"JAGADAMBA MEDICAL AGENCIE\"],[\"JAGADAMBA MEDICAL\"],[\"JAGANNATH MEDICAL & GENERAL STORE\"],[\"JAHANGIR MEDICAL\"],[\"JAIN MEDICO\"],[\"JANANI MEDICAL STORE\"],[\"JANATA MEDICAL STORE\"],[\"JAY GURU MEDICAL STORE\"],[\"JAY JIVAN MEDICAL\"],[\"JAY SRI KRISHNA MEDICAL STORE\"],[\"JAYANTHI KISTAIAH G\"],[\"JEEVAN JYOTI MEDICAL & GEN STORE\"],[\"JENA MEDCINE\"],[\"JIBAN BHANDER\"],[\"JK MEDICO\"],[\"JOLOJOG\"],[\"JOY MAA TARA VARITY STORE\"],[\"JOY VARATIES STORE\"],[\"J~ N~ DAR (KHAYAM)\"],[\"K KAASIPATHI KIRANA\"],[\"KALANGI VENKATESWARL\"],[\"KALANJALI FANCY STOR\"],[\"KANAKA DURGA KIRANA\"],[\"KANDE SUBBARAO GEN \"],[\"KAPIL BOOK STALL\"],[\"KARTHIKEYA FANCY\"],[\"KASHANI ENTERPRISE\"],[\"KHAN KIRANA\"],[\"KHAN PROVISION STORE\"],[\"KMC NOVELTIE\"],[\"KOPPARAPU SATHYANARA\"],[\"KOUNDOO BROTHER\"],[\"KRISHNA MEDICAL\"],[\"KRISHNA VENI KIRNA\"],[\"K~ SESHACHALAPATHI G\"],[\"K~ VINOD KIRANAM\"],[\"K~RAMBABU GENERAL\"],[\"LADY CHOICE\"],[\"LAKSHMI GANAPATHI\"],[\"LAKSHMI MEDICAL\"],[\"LAKSHMI SAI FANCY\"],[\"LAKSHMI SAI MEDICAL\"],[\"LAKSHMIDEVI GENERAL\"],[\"LAL KHAN PROVISION \"],[\"LALIT KIRANA\"],[\"LALITH FANCY STORE\"],[\"LAXMI EMPORIYAM\"],[\"LAXMI MEDICAL\"],[\"LAXMI MEDICAL\"],[\"LAXMI PROVISION\"],[\"LEPAKSHI MEDICAL\"],[\"LIFE GARD MEDICAL\"],[\"LIFELINE MEDICO\"],[\"LILA PHARMACY~\"],[\"LISA MEDICARE\"],[\"L~N~ MEDICO\"],[\"M RAMARAO KIRANA G\"],[\"M SRINIVASULU KIRANA\"],[\"MA KALI BHANDER\"],[\"MAA BANJARUNI MEDICAL STORE\"],[\"MAA BANKESWARI MEDICO\"],[\"MAA CONFECTIONARY\"],[\"MAA MANGALA PHARMACEUTICAL\"],[\"MAA SARASWOTI MEDICINE STORE\"],[\"MADEENA MEDICAL\"],[\"MADINA MEDICO\"],[\"MAHADEVA MEDECAL\"],[\"MAHAJAN TRADER\"],[\"MAHESH FANCY GENER\"],[\"MAHVEER MEDICAL\"],[\"MAKROO SPICE\"],[\"MANASA MEDICAL STORE\"],[\"MANIKANTA MEDICAL\"],[\"MANJU GENERAL STORE\"],[\"MANZOOR PROV STORE\"],[\"MASCOT MEDICAL\"],[\"MASTER BEAUTY (SAFAK\"],[\"MAULI KIRANA\"],[\"MAULI MEDICAL\"],[\"MAULI PROVISION\"],[\"MD HALEE KIRANA GE\"],[\"MD WAHEED KIRANAM\"],[\"MEDI SCIENCE\"],[\"MIR MEDICATE\"],[\"MIR PROV STORE\"],[\"MODALA SUBBARAO GENE\"],[\"MOHANSAI MEDICAL\"],[\"MOHAVEER MEDICINE STORE(COLLEGE SQRE)\"],[\"MONDAL TRADER\"],[\"MUKHERJEE MEDICIN CENTER\"],[\"MURTHY BOOK FANCY\"],[\"MURTHYTRADER\"],[\"MUSKAN FANCY STORE\"],[\"MUSKAN GENRAL\"],[\"M~A~PROV STORE\"],[\"M~K~ MEDICAL\"],[\"M~S GUPTA MEDICAL ST\"],[\"M~S~PROVISION STORE\"],[\"N CH CHENNIAH KIRANA\"],[\"NAGNATH LINGPAA\"],[\"NANDI MEDICINE STORE\"],[\"NANDI VARIETY STORE\"],[\"NARENDER MEDICAL STO\"],[\"NARGISH MEDICINE STORE\"],[\"NATIONAL MEDICAL HALL\"],[\"NATUKULA VEERAIAH\"],[\"NEELADRI MEDICAL STORE\"],[\"NEELAKSHI FANCY\"],[\"NEELAKSHMI FANCY G\"],[\"NEW BHAT PROVISION \"],[\"NEW MAMTA GENRAL\"],[\"NEW MEDICAL STORE\"],[\"NEW PAENSHANWAE GENR\"],[\"NIDHA PROVISION\"],[\"NOOR DRUG\"],[\"NRUSIHA KIRANA\"],[\"N~K~ BANDAIAH GENERA\"],[\"N~K~ DRUG DISTRIBUTOR\"],[\"OM GENRAL\"],[\"OM PRASAD MEDICAL STORE\"],[\"OM SAI MEDICINE\"],[\"OMKAR MEDICAL\"],[\"OSIA\"],[\"OSMI\"],[\"P KOTESWARARAO GENER\"],[\"PACK MORE DEP STORE\"],[\"PADMAVATHI MEDICAL\"],[\"PAIDIMARRI VENKATESW\"],[\"PANDA MEDICAL\"],[\"PANDHURANG MEDICAL\"],[\"PARVIN MEDICAL\"],[\"PATEL KIRANA\"],[\"PATRO MEDICAL STORE\"],[\"PAWAN MEDICAL\"],[\"PAYAL\"],[\"PENSHANWAR KIRANA\"],[\"PRABHA MEDICAL & GEN STORE\"],[\"PRABHAT MEDICAL\"],[\"PRAKESH MEDICAL\"],[\"PRAKESH PROVISION\"],[\"PRATAP GENERAL STORE\"],[\"PRITY GENRAL\"],[\"RAJA RAJESWARI MEDIC\"],[\"RAJDEEP FANCY\"],[\"RAJESTAN FANCY STORE\"],[\"RAMESWAR PHARMACEUTICAL(RAHANDIA)\"],[\"RATNITRADE N AGENCY'\"],[\"RAZA PROVISION\"],[\"RENUKA MEDICAL\"],[\"RITIKA MEDICAL\"],[\"RIYAZ ENTERPRISE\"],[\"ROHINI MEDICAL\"],[\"ROOP SINGAR FANCY\"],[\"RUPMA IMITATION\"],[\"R~GOPAL KRISHNA GENE\"],[\"R~LAKSHMI DEVAMMA GE\"],[\"S KAASI REDDY FANCY\"],[\"S M ENTERPRISE\"],[\"SAGAR GENRAL\"],[\"SAHITHI KIRANAM\"],[\"SAI DURGA FANCY GE\"],[\"SAI KRISHNA FANCY\"],[\"SAI KRISHNA MEDICAL\"],[\"SAI MEDICAL\"],[\"SAI SRADHA MEDICINE STORE\"],[\"SAI SRI MEDICAL\"],[\"SAI SRINIVASA DEPART\"],[\"SAIDATTA GENERAL STO\"],[\"SAJAD MEDICATE\"],[\"SAMPATH KIRANAM\"],[\"SANAA MEDICAL\"],[\"SANJOY M~HALL\"],[\"SANNIDI SOMASEKHAR\"],[\"SATGURU PROVISION\"],[\"SATTYADIP\"],[\"SAWBHAGYA GENRAL\"],[\"SEN MEDICAL\"],[\"SHAH MEDICATE\"],[\"SHAH PROV STORE\"],[\"SHARDA GENRAL\"],[\"SHIVAM MEDICAL\"],[\"SHIVAM MEDICAL HALL\"],[\"SHIVKRUPA PROVISION\"],[\"SHOPAN GEN STORE\"],[\"SHREE MEDICAL\"],[\"SHRI NARAYAN BHANDER\"],[\"SINGH MEDICAL\"],[\"SLN PROVISION\"],[\"SMART GARMENT\"],[\"SOWMIKA MEDICAL\"],[\"SREENIVASA MEDICAL H\"],[\"SRI AKHANDALAMNI MEDICINE STORE\"],[\"SRI GANESH GENERAL \"],[\"SRI HANUMAN KIRANAM\"],[\"SRI LAKSHMI NARASIMH\"],[\"SRI LAKSMI GENERAL \"],[\"SRI LAXMIMATHA KIRAN\"],[\"SRI RAMA MEDICAL F\"],[\"SRI SAI KIRANAM\"],[\"SRI SAI VENKATA LAKSHMI TRADER\"],[\"SRINIVAS MEDICAL STO\"],[\"SRINIVASA TRADING\"],[\"SRIYA PHARMA\"],[\"SSS MEDICAL\"],[\"SUMAN PHARMACEUTICAL\"],[\"SUN GLOW GENTAL\"],[\"SURE CHANDRAIAH FANC\"],[\"SURENDRA KIRANA\"],[\"SURESH MEDICAL\"],[\"SURYA MEDICAL\"],[\"SWATHISUPERMARKET\"],[\"S~K~DEY\"],[\"S~V~G TRADER\"],[\"TAJ MAJEED\"],[\"TANGUTURI SUBBARAO\"],[\"TANTRAY PROVISION ST\"],[\"TARINI MEDICINE STORE(RAHANDIA)\"],[\"THAHAR KIRANAM\"],[\"THAKUR PROV STORE\"],[\"THE LIFE MEDICINE\"],[\"TIRUMALLA TRADER\"],[\"UMA STORE\"],[\"UMER CUTE COLLECTION\"],[\"UPAKAR NOVELTIE\"],[\"VAIBHAV KIRANA\"],[\"VARITIES STORE\"],[\"VEMULASURENDRANATH G\"],[\"VENKATA SAI FANCY\"],[\"VENKATA SOUMYA KIRAN\"],[\"VENKATARAMANA FANCY\"],[\"VENKATASAI FANCY G\"],[\"VENKATASAI MEDICAL\"],[\"VENKATESWARA GENERAL\"],[\"VENKI FANCY LADIE\"],[\"VIMAL TRADE\"],[\"VISHNU SAI MEDICAL\"],[\"VISION MEDICATE\"],[\"V~P RAMAN\"],[\"V~RAMASESHU GUPTA GE\"],[\"WADA PROV STORE\"],[\"WANI PROV STORE\"],[\"ZAHOOR PROV STORE\"]],\"hovertemplate\":\"CLOSEST_CLUSTER_1=2\\u003cbr\\u003eAverage Bucket Value=%{x}\\u003cbr\\u003eTotal Sales Value=%{y}\\u003cbr\\u003eRetailer Name=%{customdata[0]}\\u003cextra\\u003e\\u003c\\u002fextra\\u003e\",\"legendgroup\":\"2\",\"marker\":{\"color\":\"#00cc96\",\"symbol\":\"circle\"},\"mode\":\"markers\",\"name\":\"2\",\"showlegend\":true,\"x\":[2048.9714285714285,2490.442666666667,3100.38,2369.2213333333334,1941.8222222222223,1495.6879999999999,1809.056,2740.406666666667,2479.9476923076923,2762.6030769230765,3663.96,3162.13,3390.369230769231,2210.4061538461538,2668.706666666667,5132.860000000001,6267.046666666666,1644.0600000000002,2605.7866666666664,8228.96,2248.7457142857143,1785.314285714286,3082.16,2278.5200000000004,3352.3355555555554,2380.688888888889,3614.24,4033.2200000000003,2860.1240000000003,3626.6800000000003,2980.368,3209.4061538461538,3041.73,1928.54,2384.86,2053.8888888888887,2494.8778947368423,5625.53,2483.2,6569.68,8256.12,1716.48,2532.4525,3340.9630769230766,2522.8153846153846,2709.04,2542.5066666666667,4372.26,3613.496,2755.0355555555557,2654.592727272727,1987.3999999999999,2420.109090909091,2650.1753846153847,3619.9300000000003,1590.3854545454544,2930.9911111111114,2862.1292307692306,5102.639999999999,2275.369230769231,2199.96,4031.84,5304.88,1568.776,1672.5633333333335,1578.5466666666669,1717.5933333333332,1643.94,3674.1000000000004,2005.968,5517.51,2758.2533333333336,1828.2857142857142,3221.56,2823.62,6266.46,2162.2618181818184,1465.66,2612.1040000000003,1593.5199999999998,2889.16,9608.519999999999,2507.68,4501.013333333333,6198.163636363636,5645.706666666666,5211.02,1376.936,2754.4423529411765,2890.345,3853.306666666667,2128.566153846154,2748.7415384615383,1668.36,2451.8475,2632.66,2446.193333333333,2442.6675,1745.444,1367.1680000000001,2360.362666666667,2674.248,3910.96,3842.58,3524.5833333333335,3925.69,3533.8123076923075,4698.4,1269.1533333333334,4077.3,2802.4133333333334,2771.92,5314.34,1797.7388235294115,1453.4866666666667,1580.9933333333336,2752.7599999999998,1664.4436363636364,2688.4933333333333,3434.6133333333332,1924.1709090909092,3977.76,1915.2945454545452,3925.2000000000003,4455.34,1458.96,3273.82,5244.36,4438.66,4221.57,5486.506666666667,3761.17,2419.6646153846154,2611.88,3361.141818181818,3729.0266666666666,3781.54,2805.8280000000004,4080.71,4522.0,2352.5272727272727,4037.94,2328.014285714286,1578.99,1806.632,1825.6266666666668,1354.2466666666667,1843.9094736842105,4329.696,1692.9066666666668,2406.9927272727273,2405.4117647058824,3096.2000000000003,3238.432727272727,1236.8,2140.4666666666667,2293.8327272727274,1302.368,3188.9866666666667,4345.6900000000005,3382.293333333333,2138.76,1811.525,1494.685,1978.1777777777777,1612.91,3714.924,2805.6763636363635,2293.33,5425.7733333333335,2292.746666666667,6822.148571428572,3253.56,2238.7253333333333,1541.775,6084.96,3622.36,3968.1672727272726,5580.52,4547.280000000001,1554.72,1561.515294117647,1869.6285714285714,3998.2,4028.13,4890.62,3896.3,3043.6879999999996,1600.1133333333335,3181.1400000000003,2193.5692307692307,2705.248,1904.8533333333332,2733.989090909091,2306.942222222222,3853.8133333333335,2251.5733333333333,3461.264,1713.764705882353,5008.1866666666665,3055.593333333333,2253.308,2267.686666666667,2576.833846153846,1705.148,4735.128,2298.6457142857143,2210.095,1759.05,1126.68,1470.532,3694.2160000000003,3423.124444444444,2127.423076923077,1529.7266666666667,3676.457777777777,4199.78,2229.5741176470588,1673.6233333333332,5107.24,2706.2263636363637,2092.656,1717.7485714285715,2595.2066666666665,3627.2479999999996,2132.245454545455,4029.01,3128.7400000000002,3927.5199999999995,1373.944,3673.064,1550.493333333333,2045.46,2568.024,2744.32,4407.06,2273.7400000000002,2852.7576470588233,5558.848,2322.162857142857,3088.349333333333,5811.280000000001,2317.2213333333334,3495.1200000000003,4391.4800000000005,2569.086153846154,66086.54000000001,1540.84,1981.0199999999998,1837.9781818181816,1826.86,1246.4199999999998,2912.46,2942.409230769231,4288.786666666667,2409.1857142857143,2852.12,2648.109090909091,2150.7905882352943,2951.3199999999997,3261.656,4516.8,2609.1306666666665,2541.9925,2993.1138461538458,2666.802857142857,3020.0533333333333,2037.58,5492.92,3604.5333333333333,4492.368,2305.0866666666666,2424.936,3503.3333333333335,2314.168888888889,1732.5733333333335,1841.94,2924.4466666666667,3592.7555555555555,3123.7644444444445,1747.08,2194.17,2660.8933333333334,4693.84,1682.6666666666667,1869.136,1427.9399999999998,1646.4066666666668,4136.74,1402.8,1479.6866666666665,3235.3454545454547,2502.032,5756.6,1687.24,2055.4084210526316,3719.789090909091,2430.911111111111,4527.955555555555,2347.4625,3675.5600000000004,1916.4145454545455,1745.7835294117647,2521.2968421052633,2463.7272727272725,4635.72,2657.9661538461537,2450.4533333333334,2455.52,2849.4300000000003,1379.72,3836.0545454545454,1779.0545454545454,1810.0361904761905,3219.6861538461535,3842.03,3833.309090909091,5155.911999999999,3345.5533333333333,3482.9127272727274,4005.77,1806.0761904761905,5316.904,1468.22,4154.306666666666,8757.8,3888.8,1460.6466666666668,3684.0559999999996,2445.9546666666665,1667.696,2648.7975,1528.8866666666665,2235.076,7883.042352941176,3024.3906666666667,4579.372,1897.5946666666669,1479.4133333333332,2636.5866666666666,3751.8959999999997,4717.2266666666665,2610.0246153846156,3138.9600000000005,4606.9353846153845,2394.8945454545456,2104.0564705882352,3657.4109090909087,2422.8106666666667,5293.02,3752.344,2207.0699999999997,1785.3466666666666,2060.5333333333333,2213.29,1307.1699999999998,5273.22,1545.6866666666667,3762.4218181818183,1304.5200000000002,2246.3766666666666,1495.2105263157894,3954.0,1529.530909090909,2270.610909090909,1920.1527272727274],\"xaxis\":\"x\",\"y\":[28685.600000000002,37356.64,31003.8,35538.32,17476.4,14956.88,18090.56,32884.880000000005,32239.32,35913.84,3663.96,12648.52,44074.8,28735.28,24018.36,30797.160000000003,75204.56,32881.200000000004,31269.44,8228.96,31482.440000000002,24994.4,9246.48,4557.040000000001,30171.02,42852.4,14456.96,8066.4400000000005,28601.24,18133.4,14901.84,41722.28,12166.92,11571.24,4769.72,36970.0,47402.68,22502.12,39731.2,6569.68,8256.12,36046.08,40519.24,43432.52,32796.6,10836.16,38137.6,17489.04,18067.48,24795.32,29200.52,27823.6,26621.2,34452.28,14479.720000000001,17494.239999999998,26378.920000000002,37207.68,10205.279999999999,29579.8,19799.64,4031.84,10609.76,7843.88,20070.760000000002,9471.28,10305.56,13151.52,14696.400000000001,40119.36,22070.04,8274.76,25596.0,12886.24,11294.48,12532.92,23784.88,5862.64,26121.04,9561.119999999999,11556.64,9608.519999999999,12538.4,13503.04,68179.8,33874.24,10422.04,6884.679999999999,46825.520000000004,46245.52,34679.76,27671.36,35733.64,5005.08,39229.56,31591.92,29354.32,39082.68,17454.44,6835.84,35405.44,26742.48,3910.96,15370.32,42295.0,15702.76,45939.56,18793.6,7614.92,8154.6,33628.96,41578.8,31886.04,30561.559999999998,8720.92,9485.960000000001,11011.039999999999,18308.88,8065.48,41215.36,21165.88,3977.76,21068.239999999998,3925.2000000000003,8910.68,11671.68,13095.28,15733.08,8877.32,16886.28,16459.52,15044.68,31455.64,7835.64,36972.56,11187.08,15126.16,28058.280000000002,16322.84,4522.0,25877.8,16151.76,32592.2,6315.96,9033.16,10953.76,8125.48,35034.28,21648.48,10157.44,26476.920000000002,40892.0,43346.8,35622.759999999995,6184.0,12842.8,25232.16,6511.84,28700.88,17382.760000000002,40587.52,23526.36,14492.2,11957.48,17803.6,12903.28,37149.24,30862.44,36693.28,16277.32,20634.72,47755.04,3253.56,33580.88,12334.2,12169.92,10867.08,43649.84,16741.56,9094.560000000001,9328.32,26545.76,26174.8,7996.4,16112.52,19562.48,15585.2,15218.439999999999,9600.68,6362.280000000001,28516.4,40578.72,11429.119999999999,30073.88,20762.48,11561.44,27018.879999999997,34612.64,29134.0,15024.56,36667.119999999995,45066.159999999996,27212.24,33498.84,17051.48,23675.64,32181.04,17680.76,21108.6,6760.08,14705.32,18471.08,30808.12,27656.5,9178.36,33088.119999999995,16799.12,37902.76,20083.48,10214.48,59536.979999999996,20926.559999999998,12024.24,15571.24,18136.239999999998,23454.7,16116.04,12514.960000000001,3927.5199999999995,6869.72,18365.32,9302.96,12272.76,25680.239999999998,38420.48,17628.24,13642.44,48496.88,27794.239999999998,32510.28,46325.24,5811.280000000001,34758.32,13980.480000000001,13174.44,33398.12,528692.3200000001,7704.2,11886.119999999999,20217.76,7307.44,7478.5199999999995,11649.84,38251.32,12866.36,33728.6,11408.48,29129.2,36563.44,35415.84,16308.28,9033.6,39136.96,40671.88,38910.479999999996,37335.24,36240.64,8150.32,5492.92,10813.6,22461.84,27661.04,36374.04,10510.0,20827.52,10395.44,18419.4,35093.36,32334.8,28113.88,10482.48,26330.04,31930.72,4693.84,10096.0,18691.36,8567.64,9878.44,16546.96,4208.4,8878.119999999999,35588.8,25020.32,5756.6,35432.04,39052.76,81835.36,21878.2,40751.6,37559.4,3675.5600000000004,21080.56,29678.32,47904.64,27101.0,13907.16,34553.56,14702.72,22099.68,34193.16,16556.64,42196.6,19569.6,38010.76,41855.92,15368.12,42166.4,25779.559999999998,40146.64,38312.04,16023.08,37927.6,26584.52,5872.88,12462.919999999998,8757.8,15555.2,8763.880000000001,18420.28,36689.32,8338.48,42380.76,9173.32,22350.760000000002,134011.72,45365.86,45793.72,28463.920000000002,8876.48,23729.28,18759.48,14151.68,33930.32,9416.880000000001,59890.16,26343.84,35768.96,40231.52,36342.16,21172.08,37523.44,8828.279999999999,10712.08,12363.2,17706.32,15686.039999999999,21092.88,9274.12,41386.64,3913.5600000000004,26956.52,28409.0,39540.0,16824.84,24976.72,21121.68],\"yaxis\":\"y\",\"type\":\"scattergl\"},{\"customdata\":[[\"ACME STATIONERY GI\"],[\"AGARWAL FARMA\"],[\"AHANGAR ENTERPRISE\"],[\"AISHA HEALTH CARE\"],[\"AJAZ PROV STORE\"],[\"ALANKAR\"],[\"ALBA RETAIL\"],[\"ALI STORE\"],[\"ALMASS DEPT~STORE\"],[\"ALOK DA\"],[\"ALOM MEDICAL\"],[\"AMBIKA KIRANAM\"],[\"AMIT PAN STALL\"],[\"AMRITA CONFECTIONERY\"],[\"AMRUTHA FANCY\"],[\"ANAMIKA\"],[\"ANANDA MEDICAL HALL\"],[\"ANCHAL COSMETIC\"],[\"ANDRABI PROVISION ST\"],[\"ANIMA STORE\"],[\"ANNAPURNA BHANDER\"],[\"ANNAPURNA MEDICAL\"],[\"ANSAB MEDICATE\"],[\"APARUPA\"],[\"APOLO MEDICAL\"],[\"APPELO DRUG\"],[\"ARAGAYA AYURVEDIC\"],[\"ARATI MEDICAL\"],[\"ARATI MEDICAL STORE\"],[\"ARATI STORE\"],[\"ARATI STORE\"],[\"ARNAPURNA MEDICO\"],[\"ARNAV MEDICO\"],[\"AROGYA\"],[\"ARPAN\"],[\"ARPITA\"],[\"ARUN KIRANAM\"],[\"ASHA MEDICO\"],[\"ASHES V~ STORES~\"],[\"ASHFAR MEDICAL HALL\"],[\"ASHIMA VARITIES STOR\"],[\"ASHIRVAD MEDICAL HALL\"],[\"ASHOK KIRANA GENER\"],[\"ASHOK KIRANAM\"],[\"ASIF IQBAL PROV STOR\"],[\"ASIM DA\"],[\"ASSAM MEDICAL\"],[\"ASSAM PHARMACEUTICAL\"],[\"AYAZ FANCY STORE\"],[\"AYURBED BHANDER\"],[\"A~ R~ ETERPRISE\"],[\"A~K~ MEDICAL\"],[\"BABA NATIONAL DRUG \"],[\"BABLU DUTTA\"],[\"BAJARANGI MEDICARE\"],[\"BANERJEE STORE (GOUTAM BNAERJEE)\"],[\"BANGO JANNI\"],[\"BAPI SHAW\"],[\"BARI BROTHER\"],[\"BARSHA COSMETIC\"],[\"BASANTA SHAW\"],[\"BASANTI MATA MEDICAL\"],[\"BEAUTY BUZZ\"],[\"BEAUTY COLLECTION\"],[\"BEIGH GEN STORE\"],[\"BEIGH MEDICATE\"],[\"BELA STORE\"],[\"BENERJEE\"],[\"BENGAL STATIONERS~\"],[\"BEST CHOICE\"],[\"BHAGABATI BHANDER\"],[\"BHAI BHAI IMITATION\"],[\"BHOLANATH STORE\"],[\"BIMAL MEDICAL\"],[\"BIN TARIQ BUSINE\"],[\"BINOD BHAKAT\"],[\"BISMILLAH PROV STORE\"],[\"BISWADEV AGENCIE\"],[\"BOROMA VARIETY STORE\"],[\"BUDDHA STORE\"],[\"BURHAN BEAUTY\"],[\"BURMAN STORE\"],[\"B~N~BHAKAT\"],[\"CAMELIA\"],[\"CENTRAL PHARMACY\"],[\"CHALOO PROV STORE\"],[\"CHAND PAN STALL\"],[\"CHANDA PHAMACY\"],[\"CHANDNI\"],[\"CHATTERJEE MEDICAL H\"],[\"CHAYAN BHANDER\"],[\"CHEDI SHOW\"],[\"CHITTARANJAN BANERJE\"],[\"CHOPAN GEN STORE\"],[\"COOL POINT\"],[\"CURE ALL MEDICAL\"],[\"CURE WELL MEDICATE\"],[\"D SRINIVASULU FANCY\"],[\"DAR PROV~ STORE\"],[\"DAS ENTERPRISE\"],[\"DASTGEER PROV STORE\"],[\"DAWOOD MEDICAL STORE\"],[\"DAYAMYE STORE\"],[\"DEB STORE\"],[\"DEBASIS DEY\"],[\"DEBASIS DUTTA\"],[\"DEBLINA\"],[\"DEEPAK MEDICAL HALL\"],[\"DELIGHTFUL (SAFA KAD\"],[\"DESI DAWAKHANA\"],[\"DEV MEDICAL STORE\"],[\"DEWAN MEDICAL HALL\"],[\"DEYS VARITIE\"],[\"DHANANJENEYA KIRANAM\"],[\"DIL BAHAR PAN STALL\"],[\"DILIP SHAW\"],[\"DIPALI\"],[\"DIWANJEE MEDICAL\"],[\"DOLI STORE\"],[\"DOLPHIN\"],[\"DURGA BHAKAT\"],[\"DURGAMATA STORES~\"],[\"DUTTA BHANDER\"],[\"DUTTA MEDICAL\"],[\"DUTTA MEDICINE\"],[\"DUTTA VARIETY\"],[\"DUTTA VARITIE\"],[\"DY'S MEDICAL\"],[\"ECONOMIC TRADER\"],[\"ESWARI MEDICAL\"],[\"FAROOQ MEDICATE\"],[\"FAROOQ PROV STORE\"],[\"FASHION BEAUTIE\"],[\"FASHION JEWALLARY\"],[\"FASHION JEWELLERY\"],[\"FASHION PLAZA\"],[\"FAYAZ ATTACHI HOUSE\"],[\"FIZA GEN STORE\"],[\"GAGROO PROV STORE\"],[\"GANESH BHANDER~\"],[\"GANGADHAR KIRANAM\"],[\"GAURI MEDICAL HALL\"],[\"GH AHMAD ZEHGEER\"],[\"GHULAM NABI SHAH\"],[\"GIFT HOUSE\"],[\"GOPAL BROTHER\"],[\"GOPAL STORE\"],[\"GOURANGA STORE\"],[\"GOUSIA KHANYAR\"],[\"GRAND DEPT STORE\"],[\"GUPTA M~HALL\"],[\"G~ KRISHNA KIRANAM\"],[\"G~N~PROV STORE\"],[\"HAMDARD GEN~ STORE\"],[\"HANKY PANKY BEAUTIE\"],[\"HANSA STORE\"],[\"HARALAL DAS SON\"],[\"HEMAMBIKA MEDICAL\"],[\"HOQUE STORE\"],[\"IBNI SANA\"],[\"IDEAL CHEMIST\"],[\"IMRAN GENERAL STORE\"],[\"INAYAT MEDICATE\"],[\"INDU PHARMECY\"],[\"I~A~PROV STORE\"],[\"JAGANNATH MED STORE(NEW)\"],[\"JAN PROV STORE\"],[\"JANATA PHARMACEUTICAL\"],[\"JANNAT LAKE COSMETIC\"],[\"JAVVAJI KRISHNAIAH\"],[\"JAYA VARITIE\"],[\"JAYASRI\"],[\"JHARNA MEDICAL\"],[\"JIBAN JYOTI MEDICAL\"],[\"JITEN MISRA\"],[\"JOY DURGA CHANDI BHA\"],[\"JOY GURU BHANDER~\"],[\"JOY TEA STALL\"],[\"JOY VARIETY STORE\"],[\"JOYA STORE\"],[\"JOYANTA STORE\"],[\"JYOTI MEDICAL\"],[\"K KRISHNAIAH KIRANA\"],[\"KACHROO PROV~ STORE\"],[\"KAIM ENTERPRISE\"],[\"KAINATH AYURVEDIC AUSHADHALAYA\"],[\"KAKOTI MEDICAL\"],[\"KALI MATA STORES~\"],[\"KALI STORE\"],[\"KALIMATA STORE\"],[\"KALU PAN STALL\"],[\"KALYANI\"],[\"KAMDAR MEDICAL\"],[\"KAPIL STORE\"],[\"KASINATH NAG\"],[\"KESHOB SHAW\"],[\"KHAN UTILITY\"],[\"KHURSHEED MEDICAL HA\"],[\"KHUSHI MEDICAL\"],[\"KING KINGDOM\"],[\"KIRAN MEDICAL HALL\"],[\"KISHOLOY\"],[\"KOHINOOR GENERAL STO\"],[\"KUNDU TRADER\"],[\"KUNDU TREDAS (RAHUL BABA)\"],[\"K~ PADMANABAIAH GENA\"],[\"LADY HUT\"],[\"LAHA VERITY\"],[\"LAKSHMI PHARMA\"],[\"LAXMI AYURVEDIC CENTRE\"],[\"LAXMI BHANDER\"],[\"LAXMI NARAYAN BHANDE\"],[\"LAXMI NARAYAN STORE\"],[\"LAXMI PHARMA\"],[\"LAXMI STORE\"],[\"LIFE CARE DRUG\"],[\"LIFE GUARD MEDICO\"],[\"LIFE LINE MEDICAL\"],[\"LIFE STYLE\"],[\"LIFETIME~ MEDICAL HALL\"],[\"LILA PHARMACY\"],[\"LOKENATH BHANDER\"],[\"LOTUS ENTERPRISE\"],[\"LOYA MEDICAL\"],[\"LOYA MEDICAL STORE\"],[\"M\\u002fS KANAK AGENCY\"],[\"MA JASADA\"],[\"MA KAMALA STORE\"],[\"MA LAXMI BEAUTI STOR\"],[\"MA MANASA BHANDER\"],[\"MA MEDICAL\"],[\"MA MEDICAL HALL\"],[\"MA SHAYAMA BHANDER\"],[\"MA TARA BHANDER\"],[\"MA TARA STORE\"],[\"MAA MALI MEDICAL\"],[\"MAA SARADA DRUG DISTRIBUTOR\"],[\"MAA SITALA SANKHA BH\"],[\"MAALAXMI DRUG\"],[\"MADHEV KIRANA\"],[\"MAHA RANI TOBACO SHO\"],[\"MAHAVEER KIRANAM\"],[\"MAHAVEER PRSAD ASAWA\"],[\"MAJANI MEDICAL\"],[\"MAJEED GARMENT\"],[\"MANIK SUR\"],[\"MANIKANTA COOL DRINK\"],[\"MANJU STORE\"],[\"MANTU DUTTA\"],[\"MANZOOR PROVISIONI \"],[\"MAQBOOL PROVISION ST\"],[\"MAQBOOL SHOP\"],[\"MARAMI MEDICAL\"],[\"MARY MEDICAL\"],[\"MATESHWARI KIRANAM\"],[\"MATHURA DEBNATH\"],[\"MATRI STORE\"],[\"MATRI STORES~\"],[\"MAUSAM MEDICO\"],[\"MAYA DRUG DISTRIBUTOR\"],[\"MAYA IMITATION\"],[\"MAZUMDER MEDICAL\"],[\"MAZUMDER MEDICAL STORE\"],[\"MEDI LIFE\"],[\"MEDICARE\"],[\"MEDICINE CENTRE\"],[\"MEDICINE HOUSE\"],[\"MEHJOOR BEAUTY STORE\"],[\"MINAKSHI STORE\"],[\"MINATI STORE\"],[\"MIR COLD DRINK\"],[\"MIR PROVISION STORE\"],[\"MITRA DRUG\"],[\"MOHD YOUSF MALLA\"],[\"MOHINI\"],[\"MOLOY DUTTA\"],[\"MONDAL ENTERPRISE\"],[\"MONDAL TEA\"],[\"MONDAL VARITYA STORE\"],[\"MOON LIGHT\"],[\"MOUSUMI BHANDER\"],[\"MRIGAYA COSMETIC\"],[\"MRITYUNJAY MAJI\"],[\"MUNNA MOBILE\"],[\"MUSHTAQ PROV STORE\"],[\"MUSHTAQ SON\"],[\"MUZAFFER PROV STORE\"],[\"M~STORE\"],[\"M~S~CO\"],[\"NABAGRAHA BHANDER\"],[\"NABARUPA~\"],[\"NAI KI CHAI KI STORE\"],[\"NANDY VARITY STORE\"],[\"NANI COOL DRINK\"],[\"NANI STORES~\"],[\"NARAYAN MEDICAL\"],[\"NARAYANI STORE\"],[\"NATHINADA BHANDER\"],[\"NAZIR PROVISION STOR\"],[\"NEHA KIRANAM\"],[\"NEW ANAMIKA\"],[\"NEW APSARA\"],[\"NEW BANARASI JARDA~\"],[\"NEW CHANDRA STORE\"],[\"NEW CHOICE\"],[\"NEW GUHA MEDICAL AND\"],[\"NEW KALI MATA STORE\"],[\"NEW KALPANA MEDICAL\"],[\"NEW LIFE LINE PHARMA\"],[\"NEW NABARUPA\"],[\"NEW NETAJI DISTRIBUT\"],[\"NEW PURNIMA MEDICAL\"],[\"NEW RAJ LAXMI STORE\"],[\"NEW REBA STORES~\"],[\"NEW SHOVANA MEDICAL HALL\"],[\"NEW TUHINA DISTRIBUT\"],[\"NEW URBASHI\"],[\"NIBEDAN\"],[\"NICE GIRLS POINT\"],[\"NIHAR MEDICAL\"],[\"NIRMALA MEDICINE\"],[\"NISA V~ STORES~\"],[\"NISHIKANTA MADICAL H\"],[\"NOBLE MEDICAL HALL\"],[\"NOBORUPA\"],[\"NOORI BEAUTIE\"],[\"NOORI HAMDARD\"],[\"NOVA MEDICAL STORE\"],[\"NO~1 MADINA\"],[\"NUR VARIETY STORE\"],[\"OM NAMAH SHIVAY ENTERPRISE\"],[\"OM SAI RAM\"],[\"P RATHNAMAIAH FANCY\"],[\"PADMAWATI PHARMA\"],[\"PAL BROTHER\"],[\"PARAMA COSMETIC\"],[\"PARBATI V~STORE\"],[\"PATANJALI\"],[\"PATANJALI CENTRE\"],[\"PAUL MEDICINE\"],[\"PAVAN SAI MEDICAL\"],[\"PHARMACY HEALTH CARE\"],[\"PHARMACY LIFE CARE\"],[\"PHARMACY MANKIND\"],[\"PHARMACY VISION\"],[\"POOJA MEDICAL\"],[\"POPULAR PHARMACY\"],[\"PRASAD MEDICAL\"],[\"PRAVEEN ENTERPRISE\"],[\"PRIYANATH CHATTERJEE\"],[\"PRIYANKA MEDICAL\"],[\"PROKASH STORES~\"],[\"PRONIT KUMAR KUNDU\"],[\"PROSAD STORE\"],[\"PROVISION STREAM\"],[\"PROYJONY\"],[\"P~P~ DRUG\"],[\"R K ENTERPRISE\"],[\"RADHA KRISHNA STORE\"],[\"RAGHUNATH SAH\"],[\"RAHMAN DRUG\"],[\"RAI S~RAI\"],[\"RAINBOW PROV~ STORE\"],[\"RAJ GUPTA AYURVEDA\"],[\"RAJ KUMAR SHAW\"],[\"RAJ LAXMI BHANDER\"],[\"RAJ LAXMI STORE\"],[\"RAJA ZARDA\"],[\"RAJANI STORE\"],[\"RAJARAJESHWARI KIRAN\"],[\"RAJENDRA KIRANAM\"],[\"RAJENDRA MEDICAL HALL\"],[\"RAJENDRA STORE\"],[\"RAJESH DUTTA\"],[\"RAJESHWAR GOLI BHAND\"],[\"RAJLAXMI BHANDER\"],[\"RAJU MEDICAL\"],[\"RAKAMARI\"],[\"RAKHI MEDICAL\"],[\"RAM GUPTA STORE\"],[\"RAM PRASAD SARBAT LA\"],[\"RAMJAN MEDICAL\"],[\"RAMKRISHNA BHANDER\"],[\"RAMKRISHNA PHARMACY\"],[\"RAMKRISHNA VARIETY~\"],[\"RAVI TEJA KIRANAM\"],[\"REKHA STORE\"],[\"REMADY MEDICAL\"],[\"RESHI GEN STORE\"],[\"ROUF PROV STORE\"],[\"ROY \"],[\"ROYAL GENERAL STORE\"],[\"RSS MEDICINE SURGI\"],[\"RUMA MEDICAL\"],[\"RUPANJOLI~\"],[\"RUPASHREE\"],[\"RUPASI IMITATION\"],[\"RUPDAN\"],[\"RUPKATHA~\"],[\"RUPLAGI\"],[\"R~M~S DRUG\"],[\"R~N~JADAB\"],[\"S P PHARMA\"],[\"SAAKSHA\"],[\"SABA COLLECTION\"],[\"SAHA MEDICAL\"],[\"SAI KIRANAM\"],[\"SAI NEHAL MEDICAL ST\"],[\"SAI POOJITA COOL DRI\"],[\"SAI RAM KIRANA GEN\"],[\"SAJ GHAR\"],[\"SAKUNTALA\"],[\"SALIM V~ STORES~\"],[\"SAMBHU STORE\"],[\"SAME SAME DIFFERENT\"],[\"SANANDA\"],[\"SANCHAYANI VARITY\"],[\"SANJIBINI MEDICAL HALL\"],[\"SANJIVANEE DRUG\"],[\"SANKAR STORES~\"],[\"SARADA BHANDER\"],[\"SARADA DEPTERMONTAR\"],[\"SARADA STORE\"],[\"SARBOMONGOLA BHANDER\"],[\"SARTAJ PROV STORE\"],[\"SATYANARAYAN STORES~\"],[\"SAUKIN\"],[\"SAYAM BHANDER\"],[\"SHAH ENTERPRISE\"],[\"SHAKAR MEDICAL\"],[\"SHAKEEL PROV STORE\"],[\"SHANKAR AYURVEDA\"],[\"SHANKAR MEDICAL\"],[\"SHANKAR STORE\"],[\"SHARMA DRUGS AND HOUSE\"],[\"SHEIKH MEDICAL\"],[\"SHIB SAKTI STORE\"],[\"SHIB SHANKAR MEDICAL\"],[\"SHIBNATH SEN\"],[\"SHIFA MEDICAL STORE\"],[\"SHILA RANI HALDER\"],[\"SHOWKAT PROV STORE\"],[\"SHREE MOHABIR BHANDE\"],[\"SHREHAN CORNFLECTIONARY\"],[\"SHYAMSUNDER KIRANAM\"],[\"SINHA ENTERPRISE\"],[\"SIVANANDA AYURVED BH\"],[\"SK~ SUKUR\"],[\"SOFI GEN STORE\"],[\"SOFI PROV~ STORE\"],[\"SOURA MEDICATE\"],[\"SOVA STORES~\"],[\"SRI DURGA STORE\"],[\"SRI GOPAL STORE\"],[\"SRI GURU BHANDER\"],[\"SRI HARI STORE\"],[\"SRI KRISHANA TRADER\"],[\"SRI KRISHNA GENERAL\"],[\"SRI KRISNHA MEDICAL\"],[\"SRI SAI RAMA MEDICAL\"],[\"SRI SAIDEBA\"],[\"SRI VIDYA BOKKS GENE\"],[\"SRINIKETAN BHANDER\"],[\"SRINIVAS KIRANAM\"],[\"SRINIVASA BOOK FAN\"],[\"SUBAL BHANDER\"],[\"SUBHO SHIV STORE\"],[\"SUN ENTERPRISE\"],[\"S~M~MEDICAL\"],[\"TAJ MEDICATE\"],[\"TANGUTURI SRINIVASUL\"],[\"TAPAS STORE\"],[\"TARA MA STORE\"],[\"TARAK PAUL\"],[\"TARANG COMMUNICATION\"],[\"TARIQ GEN~ STORE\"],[\"TARIQ MEDICATE\"],[\"TAWHEED MEDICAL HALL\"],[\"TEA GARDEN~\"],[\"TEJRAJ FANCY\"],[\"TELI COSMETIC\"],[\"THE ASHA MEDICAL\"],[\"THE SRIPATI CHARAN SADHU & SON\"],[\"TINKU PAN STALL\"],[\"TINSUKIA MEDICAL HALL\"],[\"TIRUPATI PHARMACY~\"],[\"TITLY\"],[\"TOP SHOP\"],[\"TOWN MEDICAL HALL\"],[\"TRINA MEDICAL\"],[\"TWO SWEET\"],[\"UJJAL STORE\"],[\"UMA BHANDER\"],[\"UMER ENTERPRISE\"],[\"UNIQUE COLLECTION\"],[\"UNITED MEDICATE\"],[\"UTTAM BHAKAT\"],[\"UTTAM DEBNATH\"],[\"VENKATASAI KIRAN MED\"],[\"VIVEKANANDA PHARMANC\"],[\"VOWAL MEDICAL\"],[\"VYAVARE KIRANA\"],[\"WAHEED KIRANAM\"],[\"YAMUNA MEDICAL\"],[\"YASVI DAWAKHANA\"],[\"YOUNIQUE\"],[\"Y~SAMPATH KIRANAM\"],[\"ZAKIR KIRANAM\"],[\"ZIYA KIRANAM\"]],\"hovertemplate\":\"CLOSEST_CLUSTER_1=3\\u003cbr\\u003eAverage Bucket Value=%{x}\\u003cbr\\u003eTotal Sales Value=%{y}\\u003cbr\\u003eRetailer Name=%{customdata[0]}\\u003cextra\\u003e\\u003c\\u002fextra\\u003e\",\"legendgroup\":\"3\",\"marker\":{\"color\":\"#ab63fa\",\"symbol\":\"circle\"},\"mode\":\"markers\",\"name\":\"3\",\"showlegend\":true,\"x\":[1563.49,1535.8600000000001,2460.728,1255.444,2004.4850000000001,2462.7599999999998,2554.06,1991.1666666666667,1956.9919999999997,2115.1085714285714,2742.02,3909.786666666667,1567.573333333333,2870.0440000000003,2088.7314285714288,1381.862857142857,3937.9599999999996,1652.3466666666668,3015.96,2106.742857142857,3121.66,3410.1200000000003,1404.9644444444446,2916.945,1083.3333333333333,1100.0,4344.42,2474.5733333333333,2283.94,2648.96,62848.31083333333,3206.12,2077.67,1672.8266666666668,1429.5066666666664,2991.306666666667,4457.7,825.0,2603.057142857143,1816.1799999999998,1850.92,1513.1200000000001,1396.2285714285715,4609.92,1783.216,1324.632,2960.714285714286,4207.4800000000005,1513.34,1852.632,2906.42,3593.54,2072.217142857143,1800.3822222222223,2713.7599999999998,1929.8580000000002,2953.1771428571424,2084.9300000000003,1510.208,2114.2875,1923.5288888888888,2766.7675,1397.6200000000001,13342.28,1607.3600000000001,1669.1240000000003,2962.344,2881.08,4784.96,3615.226666666667,2986.77,1387.1333333333332,8031.5714285714275,2987.16,2992.06,1709.8080000000002,1716.0577777777776,2989.32,2453.568,1700.5942857142857,1462.4399999999998,1894.1485714285714,2059.5371428571425,3197.6866666666665,1933.32,2130.875,1501.48,2078.64,2034.345,1816.982857142857,2128.2799999999997,2220.6400000000003,2483.86,2596.66,1823.3200000000002,2962.12,2460.0342857142855,1142.3066666666666,1928.5760000000002,1472.191111111111,2091.54,1685.172,3001.05,2044.5885714285712,2022.2428571428572,1714.4666666666665,1948.1066666666666,1430.4,2535.3866666666668,2390.4666666666662,2240.975,1737.1,2408.64,4422.566666666667,2882.3,3204.736,3766.2542857142857,771.4,1813.1240000000003,3354.59,4232.691428571428,2460.9333333333334,1816.7666666666667,2967.8,1730.46,1572.0200000000002,2749.986666666666,3742.98,1229.6666666666667,2530.376,1641.6499999999999,2026.2239999999997,1950.768888888889,2903.605,1526.352,2155.576,2859.904,1690.7240000000002,2224.9,1755.2581818181818,3947.5499999999997,2688.08,2849.888,2854.7466666666664,2859.6949999999997,3876.497142857143,1998.6044444444442,2977.866666666667,1960.9119999999998,1928.1490909090908,2782.9066666666663,4611.12,1893.98,1567.2628571428572,1884.68,888.76,2559.53,1375.7666666666667,1933.91,1710.944,3869.92,1725.7822222222223,1887.18,1934.9699999999998,1801.736,3345.7760000000003,1967.3955555555558,4167.333333333333,3286.737777777778,1837.7,1834.32,1192.0466666666666,1048.74,2771.693333333333,2534.04,2736.7942857142857,1341.48,2631.105,1559.84,2465.865714285714,3032.52,4086.81,1386.376,2320.9657142857145,3070.5199999999995,2936.84,2457.9657142857145,2083.16,1741.1599999999999,3328.1949999999997,2080.7400000000002,1333.52,1994.016,1432.78,2142.01,1156.6457142857141,2196.6577777777775,2432.795,2218.64,1544.4971428571428,1920.7866666666666,1658.31,4812.12,2209.366666666667,2993.7444444444445,2235.4,2246.38,1628.24,1907.68,2147.0628571428574,1838.03,2555.3657142857146,2751.1366666666668,877.8266666666667,4756.0,1706.0300000000002,1476.28,5187.12,1647.196,760.0,2806.2775,3130.3866666666668,4295.234285714286,3272.7,4704.36,9425.44,2279.64,2612.628571428572,1508.6666666666667,1751.6133333333335,4846.834285714285,1909.2,3114.7850000000003,1588.782857142857,2949.34,5024.766666666666,2218.64,2458.6000000000004,2207.736,2486.73,2981.588571428572,4451.245714285715,5055.731428571429,2968.48,2433.23,3720.475,1205.416,4047.662857142857,1734.9828571428573,1922.7314285714285,2216.425,2229.33,2460.5,3647.92,4665.62,3088.932,3404.0533333333333,2894.57,7957.88,2993.376,2548.4666666666667,3060.1679999999997,2472.1066666666666,2749.7799999999997,1982.9714285714285,1988.16,1492.6399999999999,1372.9142857142856,2585.13,2755.5085714285715,1927.0333333333335,1965.7333333333333,2237.32,2517.3028571428576,1653.2466666666667,1438.0,2385.6475,2700.4644444444443,2070.4933333333333,1738.765,1177.24,3871.39,4139.469999999999,2551.9485714285715,1977.312,1008.1879999999999,1550.0285714285715,3211.68,1961.024,2051.0763636363636,2483.866666666667,2531.75,1692.5375,1261.28,1187.14,3319.64,1475.4850000000001,1996.1342857142856,1477.6960000000001,5460.405714285715,1425.5149999999999,2698.39,5216.845714285714,3568.55,2102.648,4712.76,1351.6533333333334,3486.44,1438.3777777777777,2119.6133333333332,1134.6999999999998,2936.84,1479.592,2185.611428571429,3798.8999999999996,4248.855,1467.7428571428572,2346.04,1538.27,1671.2400000000002,3230.7400000000002,3513.897777777778,545.44,4091.5199999999995,2868.42,1838.536,1515.824,5161.973333333333,1651.3542857142857,2887.7885714285717,3939.8999999999996,2826.0171428571425,1978.1885714285713,3442.0733333333333,3242.45,1428.1280000000002,3782.1,4545.400000000001,2731.2799999999997,2836.4,1415.1866666666667,1736.225,1837.7022222222222,1721.3133333333335,2508.12,4242.7733333333335,3807.408888888889,1847.96,2435.7200000000003,3367.405714285714,2983.0,3018.217142857143,2276.94,2642.2775,2659.68,1468.72,3104.46,2378.0,3333.875555555556,3533.951111111111,5219.599999999999,2183.0933333333332,1237.7199999999998,626.12,2276.56,2007.23,2898.52,1232.4228571428573,2346.0666666666666,4810.868571428572,5016.805,3847.16,2145.8720000000003,1834.208888888889,2479.6866666666665,1578.8,2756.36,2570.3375,2218.64,1284.817142857143,4957.1,4120.38,2854.8844444444444,1206.06,2102.897777777778,4436.15,1889.5279999999998,2020.74,2289.5244444444447,2040.23,3595.055,2102.0,1662.16,4503.786666666666,1984.38,2166.6057142857144,5166.6125,2634.097142857143,2219.14,3162.871111111111,1377.2,2240.4449999999997,2955.56,2868.411428571428,1679.2533333333333,1968.4,3749.013333333334,3918.12,1092.2533333333333,1414.982857142857,3083.5919999999996,1820.72,5425.34,2489.7799999999997,2305.02,1651.6742857142856,1118.8133333333333,720.04,2366.0466666666666,1973.4342857142856,1974.81,1896.08,2497.6711111111113,3642.94,2301.9466666666667,2254.3333333333335,1540.3,1921.1119999999999,1671.8066666666666,3035.02,1946.415,4822.206666666666,3163.608,2109.205,1749.3257142857142,4744.02,2433.2266666666665,5302.32,1867.551111111111,4557.728,1527.78,2891.9266666666663,1671.94,2578.796,4727.445714285714,2222.784,4141.986666666667,2080.9733333333334,2412.4742857142855,3039.216,1730.79,2234.2666666666664,1765.9733333333334,2788.408,2573.565,4471.946666666667,2782.1279999999997,1483.4514285714286,4470.826666666667,1462.4914285714287,1405.1000000000001,4601.219999999999,1702.6314285714286,4763.606666666667,1255.0866666666668,3841.6400000000003,1240.36,4358.42,1886.3066666666666,2509.5333333333333,1198.702857142857,5646.828571428572,1754.7511111111112,1895.7133333333334,1696.3899999999999,1546.165,2392.565,2946.342857142857,1935.9733333333334,3076.42,2273.25,3214.2,3364.465,2143.2,2273.12,7432.048571428572,2236.591111111111,2181.4914285714285,3749.36,2414.085714285714,1931.5314285714287,2462.0377777777776,1496.8228571428572,1938.305,1189.8914285714286,1613.32,1797.0628571428572,2730.4514285714286,1430.4866666666667,1842.615,2902.35,2304.5885714285714,4672.575,1426.9066666666668,2129.0919999999996,2725.2742857142853,3987.22,3991.8099999999995,4755.097142857143],\"xaxis\":\"x\",\"y\":[12507.92,3071.7200000000003,12303.64,12554.44,16035.880000000001,17239.32,15324.359999999999,11947.0,19569.92,14805.76,10968.08,23458.72,4702.719999999999,28700.440000000002,14621.12,9673.039999999999,11813.88,14871.12,24127.68,14747.199999999999,18729.96,10230.36,12644.68,23335.56,3250.0,1100.0,8688.84,14847.44,4567.88,18542.72,1508359.46,3206.12,8310.68,10036.960000000001,4288.5199999999995,17947.84,17830.8,825.0,18221.4,18161.8,3701.84,4539.360000000001,9773.6,32269.44,17832.16,6623.16,20725.0,12622.44,3026.68,9263.16,17438.52,7187.08,14505.52,16203.44,13568.8,19298.58,20672.239999999998,16679.440000000002,15102.08,16914.3,17311.76,22134.14,8385.720000000001,13342.28,16073.6,16691.24,29623.440000000002,28810.8,33494.72,10845.68,23894.16,8322.8,56220.99999999999,2987.16,11968.24,8549.04,15444.519999999999,5978.64,12267.84,11904.16,13161.96,13259.039999999999,14416.759999999998,19186.12,1933.32,17047.0,10510.36,6235.92,16274.76,12718.88,17026.239999999998,11103.2,19870.88,15579.96,16409.88,2962.12,17220.239999999998,6853.84,19285.760000000002,13249.72,16732.32,16851.72,24008.4,14312.119999999999,14155.7,10286.8,11688.64,1430.4,15212.32,21514.199999999997,17927.8,13896.8,14451.84,26535.4,23058.4,16023.68,26363.78,771.4,9065.62,13418.36,29628.84,7382.8,10900.6,2967.8,13843.68,9432.12,16499.92,7485.96,7378.0,12651.880000000001,13133.199999999999,20262.239999999998,17556.920000000002,23228.84,7631.76,10777.880000000001,14299.52,16907.24,22249.0,19307.84,15790.199999999999,2688.08,14249.44,8564.24,22877.559999999998,27135.48,17987.44,8933.6,19609.12,21209.64,16697.44,32277.84,18939.8,10970.84,13192.76,1777.52,20476.24,8254.6,15471.28,17109.44,7739.84,15532.04,11323.08,7739.879999999999,18017.36,16728.88,17706.56,12502.0,29580.64,11026.2,11005.92,7152.28,2097.48,8315.08,17738.28,19157.56,9390.36,21048.84,9359.039999999999,17261.059999999998,24260.16,16347.24,6931.88,16246.76,12282.079999999998,2936.84,17205.760000000002,12498.96,13929.279999999999,26625.559999999998,12484.44,1333.52,19940.16,8596.68,8568.04,8096.5199999999995,19769.92,19462.36,2218.64,10811.48,5762.36,6633.24,24060.6,19884.3,26943.7,2235.4,26956.56,13025.92,1907.68,15029.44,14704.24,17887.56,16506.82,2633.48,38048.0,6824.120000000001,1476.28,5187.12,16471.96,760.0,22450.22,18782.32,30066.64,6545.4,9408.72,9425.44,20516.76,18288.4,13578.0,10509.68,33927.84,13364.4,24918.280000000002,11121.48,23594.72,30148.6,2218.64,19668.800000000003,11038.68,19893.84,20871.120000000003,31158.72,35390.12,2968.48,19465.84,29763.8,6027.08,28333.64,12144.880000000001,13459.119999999999,17731.4,17834.64,4921.0,7295.84,9331.24,30889.32,20424.32,23156.56,7957.88,14966.880000000001,22936.2,15300.839999999998,7416.32,10999.119999999999,13880.8,1988.16,1492.6399999999999,9610.4,20681.04,19288.56,11562.2,11794.4,2237.32,17621.120000000003,9919.48,10066.0,19085.18,24304.18,12422.96,13910.12,7063.4400000000005,15485.56,16557.879999999997,17863.64,9886.56,10081.88,10850.2,12846.72,9805.119999999999,22561.84,14903.2,20254.0,13540.3,1261.28,7122.84,13278.56,11803.880000000001,13972.939999999999,7388.4800000000005,38222.840000000004,11404.119999999999,21587.12,36517.92,28548.4,10513.24,4712.76,8109.92,3486.44,12945.4,19076.52,2269.3999999999996,2936.84,7397.96,15299.28,7597.799999999999,33990.84,10274.2,16422.28,12306.16,8356.2,19384.440000000002,31625.08,545.44,8183.039999999999,11473.68,9192.68,15158.24,15485.92,11559.48,20214.52,7879.799999999999,19782.12,13847.32,20652.44,25939.6,7140.64,7564.2,18181.600000000002,5462.5599999999995,2836.4,8491.12,13889.8,16539.32,10327.880000000001,30097.44,25456.64,34266.68,3695.92,2435.7200000000003,23571.84,11932.0,21127.52,4553.88,21138.22,15958.08,10281.04,24835.68,7134.0,30004.88,31805.559999999998,15658.8,6549.28,8664.039999999999,626.12,9106.24,16057.84,8695.56,8626.960000000001,14076.4,33676.08,40134.44,7694.32,10729.36,16507.88,14878.119999999999,12630.4,2756.36,20562.7,2218.64,8993.720000000001,39656.8,16481.52,25693.96,2412.12,18926.08,17744.6,9447.64,12124.44,20605.72,16321.84,28760.44,12612.0,6648.64,13511.359999999999,11906.28,15166.24,41332.9,18438.68,13314.84,28465.84,4131.6,17923.559999999998,14777.8,20078.879999999997,20151.04,1968.4,11247.04,15672.48,6553.52,9904.88,15417.96,7282.88,10850.68,24897.8,23050.2,11561.72,3356.4399999999996,720.04,14196.28,13814.039999999999,15798.48,5688.24,22479.04,29143.52,13811.68,13526.0,9241.8,9605.56,10030.84,18210.12,15571.32,28933.239999999998,15818.04,16873.64,12245.279999999999,9488.04,14599.359999999999,5302.32,16807.96,22788.64,6111.12,17351.559999999998,3343.88,25787.96,33092.119999999995,11113.92,24851.92,18728.76,16887.32,15196.08,13846.32,6702.799999999999,10595.84,27884.079999999998,20588.52,26831.68,27821.28,10384.16,13412.48,10237.44,8430.6,18404.879999999997,11918.42,28581.64,7530.52,19208.2,4961.44,8716.84,5658.92,15057.2,8390.92,39527.8,15792.76,11374.28,6785.5599999999995,12369.32,19140.52,20624.4,11615.84,6152.84,18186.0,3214.2,26915.72,17145.6,15911.84,52024.340000000004,20129.32,15270.44,29994.88,16898.6,13520.720000000001,22158.34,10477.76,15506.44,8329.24,19359.84,12579.44,19113.16,8582.92,14740.92,11609.4,16132.12,37380.6,8561.44,21290.92,19076.92,23923.32,15967.239999999998,33285.68],\"yaxis\":\"y\",\"type\":\"scattergl\"}],                        {\"template\":{\"data\":{\"histogram2dcontour\":[{\"type\":\"histogram2dcontour\",\"colorbar\":{\"outlinewidth\":0,\"ticks\":\"\"},\"colorscale\":[[0.0,\"#0d0887\"],[0.1111111111111111,\"#46039f\"],[0.2222222222222222,\"#7201a8\"],[0.3333333333333333,\"#9c179e\"],[0.4444444444444444,\"#bd3786\"],[0.5555555555555556,\"#d8576b\"],[0.6666666666666666,\"#ed7953\"],[0.7777777777777778,\"#fb9f3a\"],[0.8888888888888888,\"#fdca26\"],[1.0,\"#f0f921\"]]}],\"choropleth\":[{\"type\":\"choropleth\",\"colorbar\":{\"outlinewidth\":0,\"ticks\":\"\"}}],\"histogram2d\":[{\"type\":\"histogram2d\",\"colorbar\":{\"outlinewidth\":0,\"ticks\":\"\"},\"colorscale\":[[0.0,\"#0d0887\"],[0.1111111111111111,\"#46039f\"],[0.2222222222222222,\"#7201a8\"],[0.3333333333333333,\"#9c179e\"],[0.4444444444444444,\"#bd3786\"],[0.5555555555555556,\"#d8576b\"],[0.6666666666666666,\"#ed7953\"],[0.7777777777777778,\"#fb9f3a\"],[0.8888888888888888,\"#fdca26\"],[1.0,\"#f0f921\"]]}],\"heatmap\":[{\"type\":\"heatmap\",\"colorbar\":{\"outlinewidth\":0,\"ticks\":\"\"},\"colorscale\":[[0.0,\"#0d0887\"],[0.1111111111111111,\"#46039f\"],[0.2222222222222222,\"#7201a8\"],[0.3333333333333333,\"#9c179e\"],[0.4444444444444444,\"#bd3786\"],[0.5555555555555556,\"#d8576b\"],[0.6666666666666666,\"#ed7953\"],[0.7777777777777778,\"#fb9f3a\"],[0.8888888888888888,\"#fdca26\"],[1.0,\"#f0f921\"]]}],\"heatmapgl\":[{\"type\":\"heatmapgl\",\"colorbar\":{\"outlinewidth\":0,\"ticks\":\"\"},\"colorscale\":[[0.0,\"#0d0887\"],[0.1111111111111111,\"#46039f\"],[0.2222222222222222,\"#7201a8\"],[0.3333333333333333,\"#9c179e\"],[0.4444444444444444,\"#bd3786\"],[0.5555555555555556,\"#d8576b\"],[0.6666666666666666,\"#ed7953\"],[0.7777777777777778,\"#fb9f3a\"],[0.8888888888888888,\"#fdca26\"],[1.0,\"#f0f921\"]]}],\"contourcarpet\":[{\"type\":\"contourcarpet\",\"colorbar\":{\"outlinewidth\":0,\"ticks\":\"\"}}],\"contour\":[{\"type\":\"contour\",\"colorbar\":{\"outlinewidth\":0,\"ticks\":\"\"},\"colorscale\":[[0.0,\"#0d0887\"],[0.1111111111111111,\"#46039f\"],[0.2222222222222222,\"#7201a8\"],[0.3333333333333333,\"#9c179e\"],[0.4444444444444444,\"#bd3786\"],[0.5555555555555556,\"#d8576b\"],[0.6666666666666666,\"#ed7953\"],[0.7777777777777778,\"#fb9f3a\"],[0.8888888888888888,\"#fdca26\"],[1.0,\"#f0f921\"]]}],\"surface\":[{\"type\":\"surface\",\"colorbar\":{\"outlinewidth\":0,\"ticks\":\"\"},\"colorscale\":[[0.0,\"#0d0887\"],[0.1111111111111111,\"#46039f\"],[0.2222222222222222,\"#7201a8\"],[0.3333333333333333,\"#9c179e\"],[0.4444444444444444,\"#bd3786\"],[0.5555555555555556,\"#d8576b\"],[0.6666666666666666,\"#ed7953\"],[0.7777777777777778,\"#fb9f3a\"],[0.8888888888888888,\"#fdca26\"],[1.0,\"#f0f921\"]]}],\"mesh3d\":[{\"type\":\"mesh3d\",\"colorbar\":{\"outlinewidth\":0,\"ticks\":\"\"}}],\"scatter\":[{\"fillpattern\":{\"fillmode\":\"overlay\",\"size\":10,\"solidity\":0.2},\"type\":\"scatter\"}],\"parcoords\":[{\"type\":\"parcoords\",\"line\":{\"colorbar\":{\"outlinewidth\":0,\"ticks\":\"\"}}}],\"scatterpolargl\":[{\"type\":\"scatterpolargl\",\"marker\":{\"colorbar\":{\"outlinewidth\":0,\"ticks\":\"\"}}}],\"bar\":[{\"error_x\":{\"color\":\"#2a3f5f\"},\"error_y\":{\"color\":\"#2a3f5f\"},\"marker\":{\"line\":{\"color\":\"#E5ECF6\",\"width\":0.5},\"pattern\":{\"fillmode\":\"overlay\",\"size\":10,\"solidity\":0.2}},\"type\":\"bar\"}],\"scattergeo\":[{\"type\":\"scattergeo\",\"marker\":{\"colorbar\":{\"outlinewidth\":0,\"ticks\":\"\"}}}],\"scatterpolar\":[{\"type\":\"scatterpolar\",\"marker\":{\"colorbar\":{\"outlinewidth\":0,\"ticks\":\"\"}}}],\"histogram\":[{\"marker\":{\"pattern\":{\"fillmode\":\"overlay\",\"size\":10,\"solidity\":0.2}},\"type\":\"histogram\"}],\"scattergl\":[{\"type\":\"scattergl\",\"marker\":{\"colorbar\":{\"outlinewidth\":0,\"ticks\":\"\"}}}],\"scatter3d\":[{\"type\":\"scatter3d\",\"line\":{\"colorbar\":{\"outlinewidth\":0,\"ticks\":\"\"}},\"marker\":{\"colorbar\":{\"outlinewidth\":0,\"ticks\":\"\"}}}],\"scattermapbox\":[{\"type\":\"scattermapbox\",\"marker\":{\"colorbar\":{\"outlinewidth\":0,\"ticks\":\"\"}}}],\"scatterternary\":[{\"type\":\"scatterternary\",\"marker\":{\"colorbar\":{\"outlinewidth\":0,\"ticks\":\"\"}}}],\"scattercarpet\":[{\"type\":\"scattercarpet\",\"marker\":{\"colorbar\":{\"outlinewidth\":0,\"ticks\":\"\"}}}],\"carpet\":[{\"aaxis\":{\"endlinecolor\":\"#2a3f5f\",\"gridcolor\":\"white\",\"linecolor\":\"white\",\"minorgridcolor\":\"white\",\"startlinecolor\":\"#2a3f5f\"},\"baxis\":{\"endlinecolor\":\"#2a3f5f\",\"gridcolor\":\"white\",\"linecolor\":\"white\",\"minorgridcolor\":\"white\",\"startlinecolor\":\"#2a3f5f\"},\"type\":\"carpet\"}],\"table\":[{\"cells\":{\"fill\":{\"color\":\"#EBF0F8\"},\"line\":{\"color\":\"white\"}},\"header\":{\"fill\":{\"color\":\"#C8D4E3\"},\"line\":{\"color\":\"white\"}},\"type\":\"table\"}],\"barpolar\":[{\"marker\":{\"line\":{\"color\":\"#E5ECF6\",\"width\":0.5},\"pattern\":{\"fillmode\":\"overlay\",\"size\":10,\"solidity\":0.2}},\"type\":\"barpolar\"}],\"pie\":[{\"automargin\":true,\"type\":\"pie\"}]},\"layout\":{\"autotypenumbers\":\"strict\",\"colorway\":[\"#636efa\",\"#EF553B\",\"#00cc96\",\"#ab63fa\",\"#FFA15A\",\"#19d3f3\",\"#FF6692\",\"#B6E880\",\"#FF97FF\",\"#FECB52\"],\"font\":{\"color\":\"#2a3f5f\"},\"hovermode\":\"closest\",\"hoverlabel\":{\"align\":\"left\"},\"paper_bgcolor\":\"white\",\"plot_bgcolor\":\"#E5ECF6\",\"polar\":{\"bgcolor\":\"#E5ECF6\",\"angularaxis\":{\"gridcolor\":\"white\",\"linecolor\":\"white\",\"ticks\":\"\"},\"radialaxis\":{\"gridcolor\":\"white\",\"linecolor\":\"white\",\"ticks\":\"\"}},\"ternary\":{\"bgcolor\":\"#E5ECF6\",\"aaxis\":{\"gridcolor\":\"white\",\"linecolor\":\"white\",\"ticks\":\"\"},\"baxis\":{\"gridcolor\":\"white\",\"linecolor\":\"white\",\"ticks\":\"\"},\"caxis\":{\"gridcolor\":\"white\",\"linecolor\":\"white\",\"ticks\":\"\"}},\"coloraxis\":{\"colorbar\":{\"outlinewidth\":0,\"ticks\":\"\"}},\"colorscale\":{\"sequential\":[[0.0,\"#0d0887\"],[0.1111111111111111,\"#46039f\"],[0.2222222222222222,\"#7201a8\"],[0.3333333333333333,\"#9c179e\"],[0.4444444444444444,\"#bd3786\"],[0.5555555555555556,\"#d8576b\"],[0.6666666666666666,\"#ed7953\"],[0.7777777777777778,\"#fb9f3a\"],[0.8888888888888888,\"#fdca26\"],[1.0,\"#f0f921\"]],\"sequentialminus\":[[0.0,\"#0d0887\"],[0.1111111111111111,\"#46039f\"],[0.2222222222222222,\"#7201a8\"],[0.3333333333333333,\"#9c179e\"],[0.4444444444444444,\"#bd3786\"],[0.5555555555555556,\"#d8576b\"],[0.6666666666666666,\"#ed7953\"],[0.7777777777777778,\"#fb9f3a\"],[0.8888888888888888,\"#fdca26\"],[1.0,\"#f0f921\"]],\"diverging\":[[0,\"#8e0152\"],[0.1,\"#c51b7d\"],[0.2,\"#de77ae\"],[0.3,\"#f1b6da\"],[0.4,\"#fde0ef\"],[0.5,\"#f7f7f7\"],[0.6,\"#e6f5d0\"],[0.7,\"#b8e186\"],[0.8,\"#7fbc41\"],[0.9,\"#4d9221\"],[1,\"#276419\"]]},\"xaxis\":{\"gridcolor\":\"white\",\"linecolor\":\"white\",\"ticks\":\"\",\"title\":{\"standoff\":15},\"zerolinecolor\":\"white\",\"automargin\":true,\"zerolinewidth\":2},\"yaxis\":{\"gridcolor\":\"white\",\"linecolor\":\"white\",\"ticks\":\"\",\"title\":{\"standoff\":15},\"zerolinecolor\":\"white\",\"automargin\":true,\"zerolinewidth\":2},\"scene\":{\"xaxis\":{\"backgroundcolor\":\"#E5ECF6\",\"gridcolor\":\"white\",\"linecolor\":\"white\",\"showbackground\":true,\"ticks\":\"\",\"zerolinecolor\":\"white\",\"gridwidth\":2},\"yaxis\":{\"backgroundcolor\":\"#E5ECF6\",\"gridcolor\":\"white\",\"linecolor\":\"white\",\"showbackground\":true,\"ticks\":\"\",\"zerolinecolor\":\"white\",\"gridwidth\":2},\"zaxis\":{\"backgroundcolor\":\"#E5ECF6\",\"gridcolor\":\"white\",\"linecolor\":\"white\",\"showbackground\":true,\"ticks\":\"\",\"zerolinecolor\":\"white\",\"gridwidth\":2}},\"shapedefaults\":{\"line\":{\"color\":\"#2a3f5f\"}},\"annotationdefaults\":{\"arrowcolor\":\"#2a3f5f\",\"arrowhead\":0,\"arrowwidth\":1},\"geo\":{\"bgcolor\":\"white\",\"landcolor\":\"#E5ECF6\",\"subunitcolor\":\"white\",\"showland\":true,\"showlakes\":true,\"lakecolor\":\"white\"},\"title\":{\"x\":0.05},\"mapbox\":{\"style\":\"light\"}}},\"xaxis\":{\"anchor\":\"y\",\"domain\":[0.0,1.0],\"title\":{\"text\":\"Average Bucket Value\"}},\"yaxis\":{\"anchor\":\"x\",\"domain\":[0.0,1.0],\"title\":{\"text\":\"Total Sales Value\"}},\"legend\":{\"title\":{\"text\":\"CLOSEST_CLUSTER_1\"},\"tracegroupgap\":0},\"margin\":{\"t\":60},\"height\":700,\"width\":1200},                        {\"responsive\": true}                    ).then(function(){\n",
       "                            \n",
       "var gd = document.getElementById('018a9221-2a08-4e69-9fe6-8f86225f7f08');\n",
       "var x = new MutationObserver(function (mutations, observer) {{\n",
       "        var display = window.getComputedStyle(gd).display;\n",
       "        if (!display || display === 'none') {{\n",
       "            console.log([gd, 'removed!']);\n",
       "            Plotly.purge(gd);\n",
       "            observer.disconnect();\n",
       "        }}\n",
       "}});\n",
       "\n",
       "// Listen for the removal of the full notebook cells\n",
       "var notebookContainer = gd.closest('#notebook-container');\n",
       "if (notebookContainer) {{\n",
       "    x.observe(notebookContainer, {childList: true});\n",
       "}}\n",
       "\n",
       "// Listen for the clearing of the current output cell\n",
       "var outputEl = gd.closest('.output');\n",
       "if (outputEl) {{\n",
       "    x.observe(outputEl, {childList: true});\n",
       "}}\n",
       "\n",
       "                        })                };                });            </script>        </div>"
      ]
     },
     "metadata": {},
     "output_type": "display_data"
    }
   ],
   "source": [
    "import plotly.express as px\n",
    "\n",
    "px.scatter(final_df, x = 'Average Bucket Value', y = 'Total Sales Value', color = 'CLOSEST_CLUSTER_1',\n",
    "           height = 700, width = 1200, hover_data = 'Retailer Name', )"
   ]
  },
  {
   "cell_type": "code",
   "execution_count": 151,
   "id": "4a8dc3aa-8a14-4142-b951-4659333d55c1",
   "metadata": {},
   "outputs": [],
   "source": [
    "# import plotly.express as px\n",
    "# # df = px.data.iris()\n",
    "# fig = px.scatter_3d(final_df, x='Average Bucket Value', y='Apperance', z='Total Sales Value',\n",
    "#               color = 'CLOSEST_CLUSTER_1',height = 700, width = 1200, hover_data = 'Retailer Name')\n",
    "# fig.show()"
   ]
  },
  {
   "cell_type": "code",
   "execution_count": 152,
   "id": "6abb89a0-0055-4c8b-8cb7-6092247129f8",
   "metadata": {},
   "outputs": [
    {
     "data": {
      "text/html": [
       "<div>\n",
       "<style scoped>\n",
       "    .dataframe tbody tr th:only-of-type {\n",
       "        vertical-align: middle;\n",
       "    }\n",
       "\n",
       "    .dataframe tbody tr th {\n",
       "        vertical-align: top;\n",
       "    }\n",
       "\n",
       "    .dataframe thead th {\n",
       "        text-align: right;\n",
       "    }\n",
       "</style>\n",
       "<table border=\"1\" class=\"dataframe\">\n",
       "  <thead>\n",
       "    <tr style=\"text-align: right;\">\n",
       "      <th></th>\n",
       "      <th>Retailer Name</th>\n",
       "      <th>CLOSEST_CLUSTER_1</th>\n",
       "      <th>DISTANCE_TO_CLOSEST_CENTROID_1</th>\n",
       "      <th>Total Sales Value</th>\n",
       "      <th>Average Bucket Value</th>\n",
       "      <th>Average Product Count</th>\n",
       "      <th>Apperance</th>\n",
       "      <th>Plant</th>\n",
       "      <th>Distributor Code</th>\n",
       "      <th>CP Group1</th>\n",
       "      <th>ZRT_CT1</th>\n",
       "      <th>RETAILER CATEGORY 2</th>\n",
       "      <th>ZRT_SCH</th>\n",
       "    </tr>\n",
       "  </thead>\n",
       "  <tbody>\n",
       "    <tr>\n",
       "      <th>0</th>\n",
       "      <td>A P KM</td>\n",
       "      <td>4</td>\n",
       "      <td>0.379448</td>\n",
       "      <td>30027.80</td>\n",
       "      <td>5004.633333</td>\n",
       "      <td>10.666667</td>\n",
       "      <td>6</td>\n",
       "      <td>DP10</td>\n",
       "      <td>1056</td>\n",
       "      <td>None</td>\n",
       "      <td>Retail</td>\n",
       "      <td>Grocery</td>\n",
       "      <td>Rural Marketing</td>\n",
       "    </tr>\n",
       "    <tr>\n",
       "      <th>1</th>\n",
       "      <td>AADINATH COSMETIC</td>\n",
       "      <td>1</td>\n",
       "      <td>0.820639</td>\n",
       "      <td>3493361.48</td>\n",
       "      <td>205491.851765</td>\n",
       "      <td>3.294118</td>\n",
       "      <td>17</td>\n",
       "      <td>DP10</td>\n",
       "      <td>1073</td>\n",
       "      <td>None</td>\n",
       "      <td>Wholesale</td>\n",
       "      <td>WS</td>\n",
       "      <td>General Trade</td>\n",
       "    </tr>\n",
       "    <tr>\n",
       "      <th>2</th>\n",
       "      <td>AADITYA KIRANA</td>\n",
       "      <td>2</td>\n",
       "      <td>0.469642</td>\n",
       "      <td>28685.60</td>\n",
       "      <td>2048.971429</td>\n",
       "      <td>6.428571</td>\n",
       "      <td>14</td>\n",
       "      <td>DP17</td>\n",
       "      <td>10143</td>\n",
       "      <td>None</td>\n",
       "      <td>Retail</td>\n",
       "      <td>Grocery</td>\n",
       "      <td>General Trade</td>\n",
       "    </tr>\n",
       "    <tr>\n",
       "      <th>3</th>\n",
       "      <td>AAINATH PROVISION</td>\n",
       "      <td>2</td>\n",
       "      <td>0.421180</td>\n",
       "      <td>37356.64</td>\n",
       "      <td>2490.442667</td>\n",
       "      <td>8.000000</td>\n",
       "      <td>15</td>\n",
       "      <td>DP17</td>\n",
       "      <td>10143</td>\n",
       "      <td>None</td>\n",
       "      <td>Retail</td>\n",
       "      <td>Grocery</td>\n",
       "      <td>General Trade</td>\n",
       "    </tr>\n",
       "    <tr>\n",
       "      <th>4</th>\n",
       "      <td>AAKASH ENTERPRISE</td>\n",
       "      <td>1</td>\n",
       "      <td>0.808117</td>\n",
       "      <td>996000.04</td>\n",
       "      <td>99600.004000</td>\n",
       "      <td>3.400000</td>\n",
       "      <td>10</td>\n",
       "      <td>DP10</td>\n",
       "      <td>1073</td>\n",
       "      <td>None</td>\n",
       "      <td>Wholesale Loyalty</td>\n",
       "      <td>Wholesale Loyalty</td>\n",
       "      <td>General Trade</td>\n",
       "    </tr>\n",
       "    <tr>\n",
       "      <th>...</th>\n",
       "      <td>...</td>\n",
       "      <td>...</td>\n",
       "      <td>...</td>\n",
       "      <td>...</td>\n",
       "      <td>...</td>\n",
       "      <td>...</td>\n",
       "      <td>...</td>\n",
       "      <td>...</td>\n",
       "      <td>...</td>\n",
       "      <td>...</td>\n",
       "      <td>...</td>\n",
       "      <td>...</td>\n",
       "      <td>...</td>\n",
       "    </tr>\n",
       "    <tr>\n",
       "      <th>1563</th>\n",
       "      <td>Y~RAMULU KIRANAM</td>\n",
       "      <td>4</td>\n",
       "      <td>0.765742</td>\n",
       "      <td>23165.76</td>\n",
       "      <td>7721.920000</td>\n",
       "      <td>6.666667</td>\n",
       "      <td>3</td>\n",
       "      <td>DP10</td>\n",
       "      <td>1030</td>\n",
       "      <td>None</td>\n",
       "      <td>Retail</td>\n",
       "      <td>Grocery</td>\n",
       "      <td>General Trade</td>\n",
       "    </tr>\n",
       "    <tr>\n",
       "      <th>1564</th>\n",
       "      <td>Y~SAMPATH KIRANAM</td>\n",
       "      <td>3</td>\n",
       "      <td>0.545126</td>\n",
       "      <td>23923.32</td>\n",
       "      <td>3987.220000</td>\n",
       "      <td>5.666667</td>\n",
       "      <td>6</td>\n",
       "      <td>DP10</td>\n",
       "      <td>1030</td>\n",
       "      <td>None</td>\n",
       "      <td>Retail</td>\n",
       "      <td>Grocery</td>\n",
       "      <td>General Trade</td>\n",
       "    </tr>\n",
       "    <tr>\n",
       "      <th>1565</th>\n",
       "      <td>ZAHOOR PROV STORE</td>\n",
       "      <td>2</td>\n",
       "      <td>0.807152</td>\n",
       "      <td>21121.68</td>\n",
       "      <td>1920.152727</td>\n",
       "      <td>5.272727</td>\n",
       "      <td>11</td>\n",
       "      <td>DP02</td>\n",
       "      <td>10176</td>\n",
       "      <td>None</td>\n",
       "      <td>Retail</td>\n",
       "      <td>General Store</td>\n",
       "      <td>General Trade</td>\n",
       "    </tr>\n",
       "    <tr>\n",
       "      <th>1566</th>\n",
       "      <td>ZAKIR KIRANAM</td>\n",
       "      <td>3</td>\n",
       "      <td>0.546228</td>\n",
       "      <td>15967.24</td>\n",
       "      <td>3991.810000</td>\n",
       "      <td>5.500000</td>\n",
       "      <td>4</td>\n",
       "      <td>DP10</td>\n",
       "      <td>1030</td>\n",
       "      <td>None</td>\n",
       "      <td>Retail</td>\n",
       "      <td>Grocery</td>\n",
       "      <td>General Trade</td>\n",
       "    </tr>\n",
       "    <tr>\n",
       "      <th>1567</th>\n",
       "      <td>ZIYA KIRANAM</td>\n",
       "      <td>3</td>\n",
       "      <td>0.732718</td>\n",
       "      <td>33285.68</td>\n",
       "      <td>4755.097143</td>\n",
       "      <td>5.714286</td>\n",
       "      <td>7</td>\n",
       "      <td>DP10</td>\n",
       "      <td>1030</td>\n",
       "      <td>None</td>\n",
       "      <td>Retail</td>\n",
       "      <td>Grocery</td>\n",
       "      <td>General Trade</td>\n",
       "    </tr>\n",
       "  </tbody>\n",
       "</table>\n",
       "<p>1568 rows × 13 columns</p>\n",
       "</div>"
      ],
      "text/plain": [
       "          Retailer Name  CLOSEST_CLUSTER_1  DISTANCE_TO_CLOSEST_CENTROID_1  \\\n",
       "0                A P KM                  4                        0.379448   \n",
       "1     AADINATH COSMETIC                  1                        0.820639   \n",
       "2        AADITYA KIRANA                  2                        0.469642   \n",
       "3     AAINATH PROVISION                  2                        0.421180   \n",
       "4     AAKASH ENTERPRISE                  1                        0.808117   \n",
       "...                 ...                ...                             ...   \n",
       "1563   Y~RAMULU KIRANAM                  4                        0.765742   \n",
       "1564  Y~SAMPATH KIRANAM                  3                        0.545126   \n",
       "1565  ZAHOOR PROV STORE                  2                        0.807152   \n",
       "1566      ZAKIR KIRANAM                  3                        0.546228   \n",
       "1567       ZIYA KIRANAM                  3                        0.732718   \n",
       "\n",
       "      Total Sales Value  Average Bucket Value  Average Product Count  \\\n",
       "0              30027.80           5004.633333              10.666667   \n",
       "1            3493361.48         205491.851765               3.294118   \n",
       "2              28685.60           2048.971429               6.428571   \n",
       "3              37356.64           2490.442667               8.000000   \n",
       "4             996000.04          99600.004000               3.400000   \n",
       "...                 ...                   ...                    ...   \n",
       "1563           23165.76           7721.920000               6.666667   \n",
       "1564           23923.32           3987.220000               5.666667   \n",
       "1565           21121.68           1920.152727               5.272727   \n",
       "1566           15967.24           3991.810000               5.500000   \n",
       "1567           33285.68           4755.097143               5.714286   \n",
       "\n",
       "     Apperance Plant Distributor Code CP Group1            ZRT_CT1  \\\n",
       "0            6  DP10             1056      None             Retail   \n",
       "1           17  DP10             1073      None          Wholesale   \n",
       "2           14  DP17            10143      None             Retail   \n",
       "3           15  DP17            10143      None             Retail   \n",
       "4           10  DP10             1073      None  Wholesale Loyalty   \n",
       "...        ...   ...              ...       ...                ...   \n",
       "1563         3  DP10             1030      None             Retail   \n",
       "1564         6  DP10             1030      None             Retail   \n",
       "1565        11  DP02            10176      None             Retail   \n",
       "1566         4  DP10             1030      None             Retail   \n",
       "1567         7  DP10             1030      None             Retail   \n",
       "\n",
       "     RETAILER CATEGORY 2          ZRT_SCH  \n",
       "0                Grocery  Rural Marketing  \n",
       "1                     WS    General Trade  \n",
       "2                Grocery    General Trade  \n",
       "3                Grocery    General Trade  \n",
       "4      Wholesale Loyalty    General Trade  \n",
       "...                  ...              ...  \n",
       "1563             Grocery    General Trade  \n",
       "1564             Grocery    General Trade  \n",
       "1565       General Store    General Trade  \n",
       "1566             Grocery    General Trade  \n",
       "1567             Grocery    General Trade  \n",
       "\n",
       "[1568 rows x 13 columns]"
      ]
     },
     "execution_count": 152,
     "metadata": {},
     "output_type": "execute_result"
    }
   ],
   "source": [
    "save_df"
   ]
  },
  {
   "cell_type": "code",
   "execution_count": 153,
   "id": "41e33386-93fe-4d62-bea7-f264c0f2b07e",
   "metadata": {},
   "outputs": [
    {
     "name": "stderr",
     "output_type": "stream",
     "text": [
      "100%|████████████████████████████████████████████████████████████████████████████████████| 1/1 [00:00<00:00,  1.71it/s]\n"
     ]
    },
    {
     "data": {
      "text/plain": [
       "<hana_ml.dataframe.DataFrame at 0x20ffb2592b0>"
      ]
     },
     "execution_count": 153,
     "metadata": {},
     "output_type": "execute_result"
    }
   ],
   "source": [
    "create_dataframe_from_pandas(\n",
    "        CONN,\n",
    "        save_df,\n",
    "        \"RETAILER_CLUSTERED_TABLE1\",\n",
    "        \"EMAMI_DS_POC#DBUSER\",\n",
    "        force=True,\n",
    "        replace=True,\n",
    "        drop_exist_tab=False\n",
    "    )"
   ]
  },
  {
   "cell_type": "code",
   "execution_count": 366,
   "id": "f6742e87-f4a4-431d-8b3e-2f8e0bfc67d9",
   "metadata": {},
   "outputs": [
    {
     "data": {
      "text/plain": [
       "Retailer Name                      object\n",
       "CLOSEST_CLUSTER_1                   int64\n",
       "DISTANCE_TO_CLOSEST_CENTROID_1    float64\n",
       "Total Sales Value                 float64\n",
       "Average Bucket Value              float64\n",
       "Average Product Count             float64\n",
       "Apperance                         float64\n",
       "Plant                              object\n",
       "Distributor Code                   object\n",
       "CP Group1                          object\n",
       "ZRT_CT1                            object\n",
       "RETAILER CATEGORY 2                object\n",
       "ZRT_SCH                            object\n",
       "dtype: object"
      ]
     },
     "execution_count": 366,
     "metadata": {},
     "output_type": "execute_result"
    }
   ],
   "source": [
    "# DataFrame(CONN, 'select * from EMAMI_DS_POC#DBUSER.RETAILER_CLUSTERED_TABLE').collect().dtypes"
   ]
  },
  {
   "cell_type": "code",
   "execution_count": 231,
   "id": "c0dbf221-0601-4337-9bd1-cb23b74a23bd",
   "metadata": {},
   "outputs": [],
   "source": [
    "# model.export_apply_code('JSON')"
   ]
  },
  {
   "cell_type": "code",
   "execution_count": null,
   "id": "f6e1534d-ca45-4152-8771-e1f271dff667",
   "metadata": {},
   "outputs": [],
   "source": [
    "\n"
   ]
  },
  {
   "cell_type": "code",
   "execution_count": null,
   "id": "81f01f34-4e69-4651-95d8-f3c37ecfcd40",
   "metadata": {},
   "outputs": [],
   "source": []
  },
  {
   "cell_type": "code",
   "execution_count": null,
   "id": "a736be10-de85-431c-a703-959b63300adf",
   "metadata": {},
   "outputs": [],
   "source": []
  },
  {
   "cell_type": "code",
   "execution_count": null,
   "id": "2ec9a92c-76f6-471c-9185-4d8103e8da16",
   "metadata": {},
   "outputs": [],
   "source": []
  },
  {
   "cell_type": "code",
   "execution_count": null,
   "id": "bbdc9aca-4e6a-4fa5-becf-8f39585c7b78",
   "metadata": {},
   "outputs": [],
   "source": []
  },
  {
   "cell_type": "code",
   "execution_count": null,
   "id": "432fa582-8340-4c3b-ae2c-1672776e8629",
   "metadata": {},
   "outputs": [],
   "source": []
  },
  {
   "cell_type": "code",
   "execution_count": null,
   "id": "f7eb92ae-d764-4183-90fb-8ff884012485",
   "metadata": {},
   "outputs": [],
   "source": []
  },
  {
   "cell_type": "code",
   "execution_count": null,
   "id": "f7235fc1-5e34-4827-b151-ee7f489e28b3",
   "metadata": {},
   "outputs": [],
   "source": []
  },
  {
   "cell_type": "code",
   "execution_count": null,
   "id": "5a106b2d-5c3a-4b5b-8680-d178692bf797",
   "metadata": {},
   "outputs": [],
   "source": []
  }
 ],
 "metadata": {
  "kernelspec": {
   "display_name": "Python 3 (ipykernel)",
   "language": "python",
   "name": "python3"
  },
  "language_info": {
   "codemirror_mode": {
    "name": "ipython",
    "version": 3
   },
   "file_extension": ".py",
   "mimetype": "text/x-python",
   "name": "python",
   "nbconvert_exporter": "python",
   "pygments_lexer": "ipython3",
   "version": "3.12.8"
  }
 },
 "nbformat": 4,
 "nbformat_minor": 5
}
